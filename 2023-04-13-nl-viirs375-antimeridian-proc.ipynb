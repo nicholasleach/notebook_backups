{
 "cells": [
  {
   "cell_type": "code",
   "execution_count": 1,
   "id": "d8615543-ab69-4363-a9b8-8f947c38d9bd",
   "metadata": {
    "tags": []
   },
   "outputs": [],
   "source": [
    "%load_ext autoreload\n",
    "%autoreload 2"
   ]
  },
  {
   "cell_type": "code",
   "execution_count": 2,
   "id": "18f973d8-06a6-4fc5-8b84-d8024aa95ceb",
   "metadata": {
    "tags": []
   },
   "outputs": [],
   "source": [
    "import sys\n",
    "sys.path.append(\"/home/nick/C2S-Python-API/\")\n",
    "import os\n",
    "import numpy as np\n",
    "import matplotlib.pyplot as plt\n",
    "\n",
    "from c2s.external.batch.sensor_batch import SensorBatch\n",
    "from c2s.external.stac.viirs_class import ViirsCMR\n",
    "from c2s.external.stac.viirs_375_toa_processor import ViirsProcessor375\n",
    "\n",
    "import shapely\n",
    "from shapely.ops import transform\n",
    "\n",
    "import rasterio\n",
    "import rasterio.windows\n",
    "from rasterio.warp import calculate_default_transform\n",
    "\n",
    "import affine"
   ]
  },
  {
   "cell_type": "code",
   "execution_count": 3,
   "id": "439fe634-5b51-43d1-a578-878e3d53f24d",
   "metadata": {
    "tags": []
   },
   "outputs": [],
   "source": [
    "# example of an image near the equator + anitmeridian that ends up wayyy to big\n",
    "tile_dict = {'tile_id': 'VNP02.A2023001.0048.002',\n",
    "   'urls': {'idata': 'https://ladsweb.modaps.eosdis.nasa.gov/archive/allData/5200/VNP02IMG/2023/001/VNP02IMG.A2023001.0048.002.2023001101151.nc',\n",
    "    'igeo': 'https://ladsweb.modaps.eosdis.nasa.gov/archive/allData/5200/VNP03IMG/2023/001/VNP03IMG.A2023001.0048.002.2023001094356.nc',\n",
    "    'mdata': 'https://ladsweb.modaps.eosdis.nasa.gov/archive/allData/5200/VNP02MOD/2023/001/VNP02MOD.A2023001.0048.002.2023001101151.nc',\n",
    "    'mgeo': 'https://ladsweb.modaps.eosdis.nasa.gov/archive/allData/5200/VNP03MOD/2023/001/VNP03MOD.A2023001.0048.002.2023001094356.nc',\n",
    "    'cmdata': 'https://ladsweb.modaps.eosdis.nasa.gov/archive/allData/5110/CLDMSK_L2_VIIRS_SNPP/2023/001/CLDMSK_L2_VIIRS_SNPP.A2023001.0048.001.2023001131937.nc'}}"
   ]
  },
  {
   "cell_type": "code",
   "execution_count": 4,
   "id": "3d329ee7-64e7-44b6-91ad-966459086905",
   "metadata": {
    "tags": []
   },
   "outputs": [],
   "source": [
    "# download (set your download dir)\n",
    "# download_dir = \"./test_data\"\n",
    "# os.makedirs(download_dir, exist_ok=True)\n",
    "\n",
    "# vclass.download_image(\n",
    "#     tile_dict,\n",
    "#     base_dir=download_dir\n",
    "# )"
   ]
  },
  {
   "cell_type": "code",
   "execution_count": 5,
   "id": "e9aa20f6-f729-4311-b391-6dee61249e61",
   "metadata": {
    "tags": []
   },
   "outputs": [
    {
     "name": "stdout",
     "output_type": "stream",
     "text": [
      "2023-04-24 23:40:50,172 c2s.external.stac.viirs_375_toa_processor viirs_375_toa_processor.py:69 DEBUG: id: VNP02.A2023001.0048.002\n",
      "2023-04-24 23:40:50,172 c2s.external.stac.viirs_375_toa_processor viirs_375_toa_processor.py:69 DEBUG: id: VNP02.A2023001.0048.002\n",
      "2023-04-24 23:40:50,173 c2s.external.stac.viirs_375_toa_processor viirs_375_toa_processor.py:72 DEBUG: save_folder: ./test_data/VNP02.A2023001.0048.002_test/VNP02.A2023001.0048.002\n",
      "2023-04-24 23:40:50,173 c2s.external.stac.viirs_375_toa_processor viirs_375_toa_processor.py:72 DEBUG: save_folder: ./test_data/VNP02.A2023001.0048.002_test/VNP02.A2023001.0048.002\n",
      "2023-04-24 23:40:50,480 c2s.external.stac.viirs_375_toa_processor viirs_375_toa_processor.py:83 WARNING: Data cross antimeridian, requires two-step warping\n",
      "2023-04-24 23:40:50,480 c2s.external.stac.viirs_375_toa_processor viirs_375_toa_processor.py:83 WARNING: Data cross antimeridian, requires two-step warping\n"
     ]
    }
   ],
   "source": [
    "# processor\n",
    "download_dir = \"./test_data\"\n",
    "proc = ViirsProcessor375(\n",
    "    f\"{download_dir}/{tile_dict['tile_id']}\",\n",
    "    f\"{download_dir}/{tile_dict['tile_id']}_test\",\n",
    ")"
   ]
  },
  {
   "cell_type": "code",
   "execution_count": 6,
   "id": "b9127ab9-1b7d-45e8-80de-337d654096f0",
   "metadata": {
    "tags": []
   },
   "outputs": [
    {
     "data": {
      "text/plain": [
       "{'platform': 'Suomi-NPP',\n",
       " 'instrument': 'VIIRS',\n",
       " 'production_datetime': '2023-01-01T05:12:15Z',\n",
       " 'acquisition_datetime': '2023-01-01 00:48:00.000',\n",
       " 'west': 175.46957,\n",
       " 'north': -5.4363089,\n",
       " 'east': -150.28033,\n",
       " 'south': -30.389168,\n",
       " 'width_375': 6400,\n",
       " 'height_375': 6464,\n",
       " 'width_750': 3200,\n",
       " 'height_750': 3232}"
      ]
     },
     "execution_count": 6,
     "metadata": {},
     "output_type": "execute_result"
    }
   ],
   "source": [
    "proc.metadata"
   ]
  },
  {
   "cell_type": "code",
   "execution_count": 7,
   "id": "5ef55a6d-0084-4ce7-a538-39a13e6c1f6b",
   "metadata": {
    "tags": []
   },
   "outputs": [
    {
     "data": {
      "text/plain": [
       "[-4.5304299999999955,\n",
       " 0.005351578125000001,\n",
       " 0,\n",
       " -5.4363089,\n",
       " 0,\n",
       " -0.0038602814201732674]"
      ]
     },
     "execution_count": 7,
     "metadata": {},
     "output_type": "execute_result"
    }
   ],
   "source": [
    "proc.transform375"
   ]
  },
  {
   "cell_type": "code",
   "execution_count": 8,
   "id": "db536daa-0ed1-4eb2-991a-48d4f9c08f81",
   "metadata": {
    "tags": []
   },
   "outputs": [
    {
     "data": {
      "text/plain": [
       "(-4.530000000000001, -30.3892, 29.72, -5.4363098)"
      ]
     },
     "execution_count": 8,
     "metadata": {},
     "output_type": "execute_result"
    }
   ],
   "source": [
    "proc.input_bounds"
   ]
  },
  {
   "cell_type": "code",
   "execution_count": 9,
   "id": "aa91537d-a6a4-4ecf-aa35-b9592ba62844",
   "metadata": {
    "tags": []
   },
   "outputs": [
    {
     "data": {
      "image/svg+xml": [
       "<svg xmlns=\"http://www.w3.org/2000/svg\" xmlns:xlink=\"http://www.w3.org/1999/xlink\" width=\"100.0\" height=\"100.0\" viewBox=\"-5.900000000000001 -31.7592 36.99 27.6928902\" preserveAspectRatio=\"xMinYMin meet\"><g transform=\"matrix(1,0,0,-1,0,-35.8255098)\"><path fill-rule=\"evenodd\" fill=\"#66cc99\" stroke=\"#555555\" stroke-width=\"0.7398\" opacity=\"0.6\" d=\"M -4.530000000000001,-9.6127596 L 23.001010000000008,-5.4363098 L 29.72,-25.655001 L -1.5039999999999907,-30.3892 L -4.530000000000001,-9.6127596 z\" /></g></svg>"
      ],
      "text/plain": [
       "<POLYGON ((-4.53 -9.613, 23.001 -5.436, 29.72 -25.655, -1.504 -30.389, -4.53...>"
      ]
     },
     "execution_count": 9,
     "metadata": {},
     "output_type": "execute_result"
    }
   ],
   "source": [
    "proc.gring"
   ]
  },
  {
   "cell_type": "code",
   "execution_count": 10,
   "id": "34cd575f-4533-4050-87c0-1bc46726ba85",
   "metadata": {
    "tags": []
   },
   "outputs": [
    {
     "name": "stdout",
     "output_type": "stream",
     "text": [
      "POLYGON ((-4.530000000000001 -9.6127596, 23.001010000000008 -5.4363098, 29.72 -25.655001, -1.5039999999999907 -30.3892, -4.530000000000001 -9.6127596))\n"
     ]
    }
   ],
   "source": [
    "print(proc.gring)"
   ]
  },
  {
   "cell_type": "code",
   "execution_count": 11,
   "id": "ec110ff6-1536-4b5e-b9e1-af8a0c01130c",
   "metadata": {
    "tags": []
   },
   "outputs": [
    {
     "data": {
      "text/plain": [
       "(-4.530000000000001, -30.3892, 29.72, -5.4363098)"
      ]
     },
     "execution_count": 11,
     "metadata": {},
     "output_type": "execute_result"
    }
   ],
   "source": [
    "proc.input_bounds"
   ]
  },
  {
   "cell_type": "code",
   "execution_count": 12,
   "id": "3a54cad2-d4aa-48ac-a665-0a0e7cc3e922",
   "metadata": {
    "tags": []
   },
   "outputs": [
    {
     "data": {
      "text/plain": [
       "(17154814.425448257,\n",
       " -3363258.4483524435,\n",
       " 22497002.125075568,\n",
       " -601134.1009826321)"
      ]
     },
     "execution_count": 12,
     "metadata": {},
     "output_type": "execute_result"
    }
   ],
   "source": [
    "proc.output_bounds"
   ]
  },
  {
   "cell_type": "code",
   "execution_count": 17,
   "id": "ad355cec-ccaa-48a4-9cca-dd25e51f022e",
   "metadata": {
    "collapsed": true,
    "jupyter": {
     "outputs_hidden": true
    },
    "tags": []
   },
   "outputs": [
    {
     "name": "stdout",
     "output_type": "stream",
     "text": [
      "2023-04-25 00:05:45,754 c2s.external.stac.viirs_375_toa_processor viirs_375_toa_processor.py:461 DEBUG: Processing Cloud_Mask to tif.\n",
      "2023-04-25 00:05:45,754 c2s.external.stac.viirs_375_toa_processor viirs_375_toa_processor.py:461 DEBUG: Processing Cloud_Mask to tif.\n",
      "2023-04-25 00:05:45,762 c2s.external.stac.viirs_375_toa_processor viirs_375_toa_processor.py:530 DEBUG: meta_dict={'X_DATASET': './test_data/VNP02.A2023001.0048.002_test/VNP02.A2023001.0048.002/VNP02.A2023001.0048.002_lon_750.vrt', 'X_BAND': '1', 'Y_DATASET': './test_data/VNP02.A2023001.0048.002_test/VNP02.A2023001.0048.002/VNP02.A2023001.0048.002_lat_750.vrt', 'Y_BAND': '1', 'PIXEL_OFFSET': '0', 'LINE_OFFSET': '0', 'PIXEL_STEP': '1', 'LINE_STEP': '1'}\n",
      "2023-04-25 00:05:45,762 c2s.external.stac.viirs_375_toa_processor viirs_375_toa_processor.py:530 DEBUG: meta_dict={'X_DATASET': './test_data/VNP02.A2023001.0048.002_test/VNP02.A2023001.0048.002/VNP02.A2023001.0048.002_lon_750.vrt', 'X_BAND': '1', 'Y_DATASET': './test_data/VNP02.A2023001.0048.002_test/VNP02.A2023001.0048.002/VNP02.A2023001.0048.002_lat_750.vrt', 'Y_BAND': '1', 'PIXEL_OFFSET': '0', 'LINE_OFFSET': '0', 'PIXEL_STEP': '1', 'LINE_STEP': '1'}\n",
      "2023-04-25 00:05:45,764 c2s.external.stac.viirs_375_toa_processor viirs_375_toa_processor.py:544 DEBUG: starting warp Cloud_Mask\n",
      "2023-04-25 00:05:45,764 c2s.external.stac.viirs_375_toa_processor viirs_375_toa_processor.py:544 DEBUG: starting warp Cloud_Mask\n",
      "2023-04-25 00:06:08,477 c2s.external.stac.viirs_375_toa_processor viirs_375_toa_processor.py:636 DEBUG: | 0.01, 0.00, 175.47|\n",
      "| 0.00,-0.01,-5.44|\n",
      "| 0.00, 0.00, 1.00|\n",
      "2023-04-25 00:06:08,477 c2s.external.stac.viirs_375_toa_processor viirs_375_toa_processor.py:636 DEBUG: | 0.01, 0.00, 175.47|\n",
      "| 0.00,-0.01,-5.44|\n",
      "| 0.00, 0.00, 1.00|\n",
      "2023-04-25 00:06:08,479 c2s.external.stac.viirs_375_toa_processor viirs_375_toa_processor.py:637 DEBUG: | 750.00, 0.00, 16863992.96|\n",
      "| 0.00,-750.00,-601134.10|\n",
      "| 0.00, 0.00, 1.00|\n",
      "2023-04-25 00:06:08,479 c2s.external.stac.viirs_375_toa_processor viirs_375_toa_processor.py:637 DEBUG: | 750.00, 0.00, 16863992.96|\n",
      "| 0.00,-750.00,-601134.10|\n",
      "| 0.00, 0.00, 1.00|\n",
      "2023-04-25 00:06:10,319 c2s.external.stac.viirs_375_toa_processor viirs_375_toa_processor.py:658 DEBUG: VNP02.A2023001.0048.002: cropping nodata from ./test_data/VNP02.A2023001.0048.002_test/VNP02.A2023001.0048.002/Cloud_Mask_750_positive.tif...\n",
      "2023-04-25 00:06:10,319 c2s.external.stac.viirs_375_toa_processor viirs_375_toa_processor.py:658 DEBUG: VNP02.A2023001.0048.002: cropping nodata from ./test_data/VNP02.A2023001.0048.002_test/VNP02.A2023001.0048.002/Cloud_Mask_750_positive.tif...\n",
      "2023-04-25 00:06:11,302 c2s.external.stac.viirs_375_toa_processor viirs_375_toa_processor.py:663 DEBUG: VNP02.A2023001.0048.002: Finished cropping nodata from ./test_data/VNP02.A2023001.0048.002_test/VNP02.A2023001.0048.002/Cloud_Mask_750_positive.tif\n",
      "2023-04-25 00:06:11,302 c2s.external.stac.viirs_375_toa_processor viirs_375_toa_processor.py:663 DEBUG: VNP02.A2023001.0048.002: Finished cropping nodata from ./test_data/VNP02.A2023001.0048.002_test/VNP02.A2023001.0048.002/Cloud_Mask_750_positive.tif\n",
      "2023-04-25 00:06:11,304 c2s.external.stac.viirs_375_toa_processor viirs_375_toa_processor.py:666 DEBUG: Regridding ./test_data/VNP02.A2023001.0048.002_test/VNP02.A2023001.0048.002/Cloud_Mask_750_positive.tif\n",
      "2023-04-25 00:06:11,304 c2s.external.stac.viirs_375_toa_processor viirs_375_toa_processor.py:666 DEBUG: Regridding ./test_data/VNP02.A2023001.0048.002_test/VNP02.A2023001.0048.002/Cloud_Mask_750_positive.tif\n",
      "2023-04-25 00:06:14,535 c2s.external.stac.viirs_375_toa_processor viirs_375_toa_processor.py:636 DEBUG: | 0.01, 0.00,-180.00|\n",
      "| 0.00,-0.01,-5.44|\n",
      "| 0.00, 0.00, 1.00|\n",
      "2023-04-25 00:06:14,535 c2s.external.stac.viirs_375_toa_processor viirs_375_toa_processor.py:636 DEBUG: | 0.01, 0.00,-180.00|\n",
      "| 0.00,-0.01,-5.44|\n",
      "| 0.00, 0.00, 1.00|\n",
      "2023-04-25 00:06:14,536 c2s.external.stac.viirs_375_toa_processor viirs_375_toa_processor.py:637 DEBUG: | 750.00, 0.00,-19947980.35|\n",
      "| 0.00,-750.00,-601134.10|\n",
      "| 0.00, 0.00, 1.00|\n",
      "2023-04-25 00:06:14,536 c2s.external.stac.viirs_375_toa_processor viirs_375_toa_processor.py:637 DEBUG: | 750.00, 0.00,-19947980.35|\n",
      "| 0.00,-750.00,-601134.10|\n",
      "| 0.00, 0.00, 1.00|\n",
      "2023-04-25 00:06:19,927 c2s.external.stac.viirs_375_toa_processor viirs_375_toa_processor.py:658 DEBUG: VNP02.A2023001.0048.002: cropping nodata from ./test_data/VNP02.A2023001.0048.002_test/VNP02.A2023001.0048.002/Cloud_Mask_750_negative.tif...\n",
      "2023-04-25 00:06:19,927 c2s.external.stac.viirs_375_toa_processor viirs_375_toa_processor.py:658 DEBUG: VNP02.A2023001.0048.002: cropping nodata from ./test_data/VNP02.A2023001.0048.002_test/VNP02.A2023001.0048.002/Cloud_Mask_750_negative.tif...\n",
      "2023-04-25 00:06:23,188 c2s.external.stac.viirs_375_toa_processor viirs_375_toa_processor.py:663 DEBUG: VNP02.A2023001.0048.002: Finished cropping nodata from ./test_data/VNP02.A2023001.0048.002_test/VNP02.A2023001.0048.002/Cloud_Mask_750_negative.tif\n",
      "2023-04-25 00:06:23,188 c2s.external.stac.viirs_375_toa_processor viirs_375_toa_processor.py:663 DEBUG: VNP02.A2023001.0048.002: Finished cropping nodata from ./test_data/VNP02.A2023001.0048.002_test/VNP02.A2023001.0048.002/Cloud_Mask_750_negative.tif\n",
      "2023-04-25 00:06:23,190 c2s.external.stac.viirs_375_toa_processor viirs_375_toa_processor.py:666 DEBUG: Regridding ./test_data/VNP02.A2023001.0048.002_test/VNP02.A2023001.0048.002/Cloud_Mask_750_negative.tif\n",
      "2023-04-25 00:06:23,190 c2s.external.stac.viirs_375_toa_processor viirs_375_toa_processor.py:666 DEBUG: Regridding ./test_data/VNP02.A2023001.0048.002_test/VNP02.A2023001.0048.002/Cloud_Mask_750_negative.tif\n",
      "2023-04-25 00:06:33,115 c2s.external.stac.viirs_375_toa_processor viirs_375_toa_processor.py:672 DEBUG: finish warp: Cloud_Mask\n",
      "2023-04-25 00:06:33,115 c2s.external.stac.viirs_375_toa_processor viirs_375_toa_processor.py:672 DEBUG: finish warp: Cloud_Mask\n",
      "2023-04-25 00:06:33,118 c2s.external.stac.viirs_375_toa_processor viirs_375_toa_processor.py:461 DEBUG: Processing I01 to tif.\n",
      "2023-04-25 00:06:33,118 c2s.external.stac.viirs_375_toa_processor viirs_375_toa_processor.py:461 DEBUG: Processing I01 to tif.\n",
      "2023-04-25 00:06:33,121 c2s.external.stac.viirs_375_toa_processor viirs_375_toa_processor.py:530 DEBUG: meta_dict={'X_DATASET': './test_data/VNP02.A2023001.0048.002_test/VNP02.A2023001.0048.002/VNP02.A2023001.0048.002_lon_375.vrt', 'X_BAND': '1', 'Y_DATASET': './test_data/VNP02.A2023001.0048.002_test/VNP02.A2023001.0048.002/VNP02.A2023001.0048.002_lat_375.vrt', 'Y_BAND': '1', 'PIXEL_OFFSET': '0', 'LINE_OFFSET': '0', 'PIXEL_STEP': '1', 'LINE_STEP': '1'}\n",
      "2023-04-25 00:06:33,121 c2s.external.stac.viirs_375_toa_processor viirs_375_toa_processor.py:530 DEBUG: meta_dict={'X_DATASET': './test_data/VNP02.A2023001.0048.002_test/VNP02.A2023001.0048.002/VNP02.A2023001.0048.002_lon_375.vrt', 'X_BAND': '1', 'Y_DATASET': './test_data/VNP02.A2023001.0048.002_test/VNP02.A2023001.0048.002/VNP02.A2023001.0048.002_lat_375.vrt', 'Y_BAND': '1', 'PIXEL_OFFSET': '0', 'LINE_OFFSET': '0', 'PIXEL_STEP': '1', 'LINE_STEP': '1'}\n",
      "2023-04-25 00:06:33,123 c2s.external.stac.viirs_375_toa_processor viirs_375_toa_processor.py:544 DEBUG: starting warp I01\n",
      "2023-04-25 00:06:33,123 c2s.external.stac.viirs_375_toa_processor viirs_375_toa_processor.py:544 DEBUG: starting warp I01\n",
      "2023-04-25 00:09:28,220 c2s.external.stac.viirs_375_toa_processor viirs_375_toa_processor.py:636 DEBUG: | 0.00, 0.00, 175.47|\n",
      "| 0.00,-0.00,-5.44|\n",
      "| 0.00, 0.00, 1.00|\n",
      "2023-04-25 00:09:28,220 c2s.external.stac.viirs_375_toa_processor viirs_375_toa_processor.py:636 DEBUG: | 0.00, 0.00, 175.47|\n",
      "| 0.00,-0.00,-5.44|\n",
      "| 0.00, 0.00, 1.00|\n",
      "2023-04-25 00:09:28,222 c2s.external.stac.viirs_375_toa_processor viirs_375_toa_processor.py:637 DEBUG: | 375.00, 0.00, 16863992.96|\n",
      "| 0.00,-375.00,-601134.10|\n",
      "| 0.00, 0.00, 1.00|\n",
      "2023-04-25 00:09:28,222 c2s.external.stac.viirs_375_toa_processor viirs_375_toa_processor.py:637 DEBUG: | 375.00, 0.00, 16863992.96|\n",
      "| 0.00,-375.00,-601134.10|\n",
      "| 0.00, 0.00, 1.00|\n",
      "2023-04-25 00:09:30,428 c2s.external.stac.viirs_375_toa_processor viirs_375_toa_processor.py:658 DEBUG: VNP02.A2023001.0048.002: cropping nodata from ./test_data/VNP02.A2023001.0048.002_test/VNP02.A2023001.0048.002/I01_positive.tif...\n",
      "2023-04-25 00:09:30,428 c2s.external.stac.viirs_375_toa_processor viirs_375_toa_processor.py:658 DEBUG: VNP02.A2023001.0048.002: cropping nodata from ./test_data/VNP02.A2023001.0048.002_test/VNP02.A2023001.0048.002/I01_positive.tif...\n",
      "2023-04-25 00:09:31,781 c2s.external.stac.viirs_375_toa_processor viirs_375_toa_processor.py:663 DEBUG: VNP02.A2023001.0048.002: Finished cropping nodata from ./test_data/VNP02.A2023001.0048.002_test/VNP02.A2023001.0048.002/I01_positive.tif\n",
      "2023-04-25 00:09:31,781 c2s.external.stac.viirs_375_toa_processor viirs_375_toa_processor.py:663 DEBUG: VNP02.A2023001.0048.002: Finished cropping nodata from ./test_data/VNP02.A2023001.0048.002_test/VNP02.A2023001.0048.002/I01_positive.tif\n",
      "2023-04-25 00:09:31,783 c2s.external.stac.viirs_375_toa_processor viirs_375_toa_processor.py:666 DEBUG: Regridding ./test_data/VNP02.A2023001.0048.002_test/VNP02.A2023001.0048.002/I01_positive.tif\n",
      "2023-04-25 00:09:31,783 c2s.external.stac.viirs_375_toa_processor viirs_375_toa_processor.py:666 DEBUG: Regridding ./test_data/VNP02.A2023001.0048.002_test/VNP02.A2023001.0048.002/I01_positive.tif\n",
      "2023-04-25 00:09:33,392 c2s.external.stac.viirs_375_toa_processor viirs_375_toa_processor.py:636 DEBUG: | 0.00, 0.00,-180.00|\n",
      "| 0.00,-0.00,-5.44|\n",
      "| 0.00, 0.00, 1.00|\n",
      "2023-04-25 00:09:33,392 c2s.external.stac.viirs_375_toa_processor viirs_375_toa_processor.py:636 DEBUG: | 0.00, 0.00,-180.00|\n",
      "| 0.00,-0.00,-5.44|\n",
      "| 0.00, 0.00, 1.00|\n",
      "2023-04-25 00:09:33,394 c2s.external.stac.viirs_375_toa_processor viirs_375_toa_processor.py:637 DEBUG: | 375.00, 0.00,-19947980.35|\n",
      "| 0.00,-375.00,-601134.10|\n",
      "| 0.00, 0.00, 1.00|\n",
      "2023-04-25 00:09:33,394 c2s.external.stac.viirs_375_toa_processor viirs_375_toa_processor.py:637 DEBUG: | 375.00, 0.00,-19947980.35|\n",
      "| 0.00,-375.00,-601134.10|\n",
      "| 0.00, 0.00, 1.00|\n",
      "2023-04-25 00:09:40,749 c2s.external.stac.viirs_375_toa_processor viirs_375_toa_processor.py:658 DEBUG: VNP02.A2023001.0048.002: cropping nodata from ./test_data/VNP02.A2023001.0048.002_test/VNP02.A2023001.0048.002/I01_negative.tif...\n",
      "2023-04-25 00:09:40,749 c2s.external.stac.viirs_375_toa_processor viirs_375_toa_processor.py:658 DEBUG: VNP02.A2023001.0048.002: cropping nodata from ./test_data/VNP02.A2023001.0048.002_test/VNP02.A2023001.0048.002/I01_negative.tif...\n",
      "2023-04-25 00:09:45,857 c2s.external.stac.viirs_375_toa_processor viirs_375_toa_processor.py:663 DEBUG: VNP02.A2023001.0048.002: Finished cropping nodata from ./test_data/VNP02.A2023001.0048.002_test/VNP02.A2023001.0048.002/I01_negative.tif\n",
      "2023-04-25 00:09:45,857 c2s.external.stac.viirs_375_toa_processor viirs_375_toa_processor.py:663 DEBUG: VNP02.A2023001.0048.002: Finished cropping nodata from ./test_data/VNP02.A2023001.0048.002_test/VNP02.A2023001.0048.002/I01_negative.tif\n",
      "2023-04-25 00:09:45,859 c2s.external.stac.viirs_375_toa_processor viirs_375_toa_processor.py:666 DEBUG: Regridding ./test_data/VNP02.A2023001.0048.002_test/VNP02.A2023001.0048.002/I01_negative.tif\n",
      "2023-04-25 00:09:45,859 c2s.external.stac.viirs_375_toa_processor viirs_375_toa_processor.py:666 DEBUG: Regridding ./test_data/VNP02.A2023001.0048.002_test/VNP02.A2023001.0048.002/I01_negative.tif\n",
      "2023-04-25 00:09:53,187 c2s.external.stac.viirs_375_toa_processor viirs_375_toa_processor.py:672 DEBUG: finish warp: I01\n",
      "2023-04-25 00:09:53,187 c2s.external.stac.viirs_375_toa_processor viirs_375_toa_processor.py:672 DEBUG: finish warp: I01\n",
      "2023-04-25 00:09:53,190 c2s.external.stac.viirs_375_toa_processor viirs_375_toa_processor.py:461 DEBUG: Processing I02 to tif.\n",
      "2023-04-25 00:09:53,190 c2s.external.stac.viirs_375_toa_processor viirs_375_toa_processor.py:461 DEBUG: Processing I02 to tif.\n",
      "2023-04-25 00:09:53,193 c2s.external.stac.viirs_375_toa_processor viirs_375_toa_processor.py:530 DEBUG: meta_dict={'X_DATASET': './test_data/VNP02.A2023001.0048.002_test/VNP02.A2023001.0048.002/VNP02.A2023001.0048.002_lon_375.vrt', 'X_BAND': '1', 'Y_DATASET': './test_data/VNP02.A2023001.0048.002_test/VNP02.A2023001.0048.002/VNP02.A2023001.0048.002_lat_375.vrt', 'Y_BAND': '1', 'PIXEL_OFFSET': '0', 'LINE_OFFSET': '0', 'PIXEL_STEP': '1', 'LINE_STEP': '1'}\n",
      "2023-04-25 00:09:53,193 c2s.external.stac.viirs_375_toa_processor viirs_375_toa_processor.py:530 DEBUG: meta_dict={'X_DATASET': './test_data/VNP02.A2023001.0048.002_test/VNP02.A2023001.0048.002/VNP02.A2023001.0048.002_lon_375.vrt', 'X_BAND': '1', 'Y_DATASET': './test_data/VNP02.A2023001.0048.002_test/VNP02.A2023001.0048.002/VNP02.A2023001.0048.002_lat_375.vrt', 'Y_BAND': '1', 'PIXEL_OFFSET': '0', 'LINE_OFFSET': '0', 'PIXEL_STEP': '1', 'LINE_STEP': '1'}\n",
      "2023-04-25 00:09:53,195 c2s.external.stac.viirs_375_toa_processor viirs_375_toa_processor.py:544 DEBUG: starting warp I02\n",
      "2023-04-25 00:09:53,195 c2s.external.stac.viirs_375_toa_processor viirs_375_toa_processor.py:544 DEBUG: starting warp I02\n",
      "2023-04-25 00:12:48,222 c2s.external.stac.viirs_375_toa_processor viirs_375_toa_processor.py:636 DEBUG: | 0.00, 0.00, 175.47|\n",
      "| 0.00,-0.00,-5.44|\n",
      "| 0.00, 0.00, 1.00|\n",
      "2023-04-25 00:12:48,222 c2s.external.stac.viirs_375_toa_processor viirs_375_toa_processor.py:636 DEBUG: | 0.00, 0.00, 175.47|\n",
      "| 0.00,-0.00,-5.44|\n",
      "| 0.00, 0.00, 1.00|\n",
      "2023-04-25 00:12:48,224 c2s.external.stac.viirs_375_toa_processor viirs_375_toa_processor.py:637 DEBUG: | 375.00, 0.00, 16863992.96|\n",
      "| 0.00,-375.00,-601134.10|\n",
      "| 0.00, 0.00, 1.00|\n",
      "2023-04-25 00:12:48,224 c2s.external.stac.viirs_375_toa_processor viirs_375_toa_processor.py:637 DEBUG: | 375.00, 0.00, 16863992.96|\n",
      "| 0.00,-375.00,-601134.10|\n",
      "| 0.00, 0.00, 1.00|\n",
      "2023-04-25 00:12:50,421 c2s.external.stac.viirs_375_toa_processor viirs_375_toa_processor.py:658 DEBUG: VNP02.A2023001.0048.002: cropping nodata from ./test_data/VNP02.A2023001.0048.002_test/VNP02.A2023001.0048.002/I02_positive.tif...\n",
      "2023-04-25 00:12:50,421 c2s.external.stac.viirs_375_toa_processor viirs_375_toa_processor.py:658 DEBUG: VNP02.A2023001.0048.002: cropping nodata from ./test_data/VNP02.A2023001.0048.002_test/VNP02.A2023001.0048.002/I02_positive.tif...\n",
      "2023-04-25 00:12:51,782 c2s.external.stac.viirs_375_toa_processor viirs_375_toa_processor.py:663 DEBUG: VNP02.A2023001.0048.002: Finished cropping nodata from ./test_data/VNP02.A2023001.0048.002_test/VNP02.A2023001.0048.002/I02_positive.tif\n",
      "2023-04-25 00:12:51,782 c2s.external.stac.viirs_375_toa_processor viirs_375_toa_processor.py:663 DEBUG: VNP02.A2023001.0048.002: Finished cropping nodata from ./test_data/VNP02.A2023001.0048.002_test/VNP02.A2023001.0048.002/I02_positive.tif\n",
      "2023-04-25 00:12:51,784 c2s.external.stac.viirs_375_toa_processor viirs_375_toa_processor.py:666 DEBUG: Regridding ./test_data/VNP02.A2023001.0048.002_test/VNP02.A2023001.0048.002/I02_positive.tif\n",
      "2023-04-25 00:12:51,784 c2s.external.stac.viirs_375_toa_processor viirs_375_toa_processor.py:666 DEBUG: Regridding ./test_data/VNP02.A2023001.0048.002_test/VNP02.A2023001.0048.002/I02_positive.tif\n",
      "2023-04-25 00:12:53,393 c2s.external.stac.viirs_375_toa_processor viirs_375_toa_processor.py:636 DEBUG: | 0.00, 0.00,-180.00|\n",
      "| 0.00,-0.00,-5.44|\n",
      "| 0.00, 0.00, 1.00|\n",
      "2023-04-25 00:12:53,393 c2s.external.stac.viirs_375_toa_processor viirs_375_toa_processor.py:636 DEBUG: | 0.00, 0.00,-180.00|\n",
      "| 0.00,-0.00,-5.44|\n",
      "| 0.00, 0.00, 1.00|\n",
      "2023-04-25 00:12:53,395 c2s.external.stac.viirs_375_toa_processor viirs_375_toa_processor.py:637 DEBUG: | 375.00, 0.00,-19947980.35|\n",
      "| 0.00,-375.00,-601134.10|\n",
      "| 0.00, 0.00, 1.00|\n",
      "2023-04-25 00:12:53,395 c2s.external.stac.viirs_375_toa_processor viirs_375_toa_processor.py:637 DEBUG: | 375.00, 0.00,-19947980.35|\n",
      "| 0.00,-375.00,-601134.10|\n",
      "| 0.00, 0.00, 1.00|\n",
      "2023-04-25 00:13:00,659 c2s.external.stac.viirs_375_toa_processor viirs_375_toa_processor.py:658 DEBUG: VNP02.A2023001.0048.002: cropping nodata from ./test_data/VNP02.A2023001.0048.002_test/VNP02.A2023001.0048.002/I02_negative.tif...\n",
      "2023-04-25 00:13:00,659 c2s.external.stac.viirs_375_toa_processor viirs_375_toa_processor.py:658 DEBUG: VNP02.A2023001.0048.002: cropping nodata from ./test_data/VNP02.A2023001.0048.002_test/VNP02.A2023001.0048.002/I02_negative.tif...\n",
      "2023-04-25 00:13:05,679 c2s.external.stac.viirs_375_toa_processor viirs_375_toa_processor.py:663 DEBUG: VNP02.A2023001.0048.002: Finished cropping nodata from ./test_data/VNP02.A2023001.0048.002_test/VNP02.A2023001.0048.002/I02_negative.tif\n",
      "2023-04-25 00:13:05,679 c2s.external.stac.viirs_375_toa_processor viirs_375_toa_processor.py:663 DEBUG: VNP02.A2023001.0048.002: Finished cropping nodata from ./test_data/VNP02.A2023001.0048.002_test/VNP02.A2023001.0048.002/I02_negative.tif\n",
      "2023-04-25 00:13:05,680 c2s.external.stac.viirs_375_toa_processor viirs_375_toa_processor.py:666 DEBUG: Regridding ./test_data/VNP02.A2023001.0048.002_test/VNP02.A2023001.0048.002/I02_negative.tif\n",
      "2023-04-25 00:13:05,680 c2s.external.stac.viirs_375_toa_processor viirs_375_toa_processor.py:666 DEBUG: Regridding ./test_data/VNP02.A2023001.0048.002_test/VNP02.A2023001.0048.002/I02_negative.tif\n",
      "2023-04-25 00:13:12,992 c2s.external.stac.viirs_375_toa_processor viirs_375_toa_processor.py:672 DEBUG: finish warp: I02\n",
      "2023-04-25 00:13:12,992 c2s.external.stac.viirs_375_toa_processor viirs_375_toa_processor.py:672 DEBUG: finish warp: I02\n",
      "2023-04-25 00:13:12,994 c2s.external.stac.viirs_375_toa_processor viirs_375_toa_processor.py:461 DEBUG: Processing I03 to tif.\n",
      "2023-04-25 00:13:12,994 c2s.external.stac.viirs_375_toa_processor viirs_375_toa_processor.py:461 DEBUG: Processing I03 to tif.\n",
      "2023-04-25 00:13:12,996 c2s.external.stac.viirs_375_toa_processor viirs_375_toa_processor.py:530 DEBUG: meta_dict={'X_DATASET': './test_data/VNP02.A2023001.0048.002_test/VNP02.A2023001.0048.002/VNP02.A2023001.0048.002_lon_375.vrt', 'X_BAND': '1', 'Y_DATASET': './test_data/VNP02.A2023001.0048.002_test/VNP02.A2023001.0048.002/VNP02.A2023001.0048.002_lat_375.vrt', 'Y_BAND': '1', 'PIXEL_OFFSET': '0', 'LINE_OFFSET': '0', 'PIXEL_STEP': '1', 'LINE_STEP': '1'}\n",
      "2023-04-25 00:13:12,996 c2s.external.stac.viirs_375_toa_processor viirs_375_toa_processor.py:530 DEBUG: meta_dict={'X_DATASET': './test_data/VNP02.A2023001.0048.002_test/VNP02.A2023001.0048.002/VNP02.A2023001.0048.002_lon_375.vrt', 'X_BAND': '1', 'Y_DATASET': './test_data/VNP02.A2023001.0048.002_test/VNP02.A2023001.0048.002/VNP02.A2023001.0048.002_lat_375.vrt', 'Y_BAND': '1', 'PIXEL_OFFSET': '0', 'LINE_OFFSET': '0', 'PIXEL_STEP': '1', 'LINE_STEP': '1'}\n",
      "2023-04-25 00:13:12,998 c2s.external.stac.viirs_375_toa_processor viirs_375_toa_processor.py:544 DEBUG: starting warp I03\n",
      "2023-04-25 00:13:12,998 c2s.external.stac.viirs_375_toa_processor viirs_375_toa_processor.py:544 DEBUG: starting warp I03\n",
      "2023-04-25 00:16:07,899 c2s.external.stac.viirs_375_toa_processor viirs_375_toa_processor.py:636 DEBUG: | 0.00, 0.00, 175.47|\n",
      "| 0.00,-0.00,-5.44|\n",
      "| 0.00, 0.00, 1.00|\n",
      "2023-04-25 00:16:07,899 c2s.external.stac.viirs_375_toa_processor viirs_375_toa_processor.py:636 DEBUG: | 0.00, 0.00, 175.47|\n",
      "| 0.00,-0.00,-5.44|\n",
      "| 0.00, 0.00, 1.00|\n",
      "2023-04-25 00:16:07,900 c2s.external.stac.viirs_375_toa_processor viirs_375_toa_processor.py:637 DEBUG: | 375.00, 0.00, 16863992.96|\n",
      "| 0.00,-375.00,-601134.10|\n",
      "| 0.00, 0.00, 1.00|\n",
      "2023-04-25 00:16:07,900 c2s.external.stac.viirs_375_toa_processor viirs_375_toa_processor.py:637 DEBUG: | 375.00, 0.00, 16863992.96|\n",
      "| 0.00,-375.00,-601134.10|\n",
      "| 0.00, 0.00, 1.00|\n",
      "2023-04-25 00:16:10,088 c2s.external.stac.viirs_375_toa_processor viirs_375_toa_processor.py:658 DEBUG: VNP02.A2023001.0048.002: cropping nodata from ./test_data/VNP02.A2023001.0048.002_test/VNP02.A2023001.0048.002/I03_positive.tif...\n",
      "2023-04-25 00:16:10,088 c2s.external.stac.viirs_375_toa_processor viirs_375_toa_processor.py:658 DEBUG: VNP02.A2023001.0048.002: cropping nodata from ./test_data/VNP02.A2023001.0048.002_test/VNP02.A2023001.0048.002/I03_positive.tif...\n",
      "2023-04-25 00:16:11,446 c2s.external.stac.viirs_375_toa_processor viirs_375_toa_processor.py:663 DEBUG: VNP02.A2023001.0048.002: Finished cropping nodata from ./test_data/VNP02.A2023001.0048.002_test/VNP02.A2023001.0048.002/I03_positive.tif\n",
      "2023-04-25 00:16:11,446 c2s.external.stac.viirs_375_toa_processor viirs_375_toa_processor.py:663 DEBUG: VNP02.A2023001.0048.002: Finished cropping nodata from ./test_data/VNP02.A2023001.0048.002_test/VNP02.A2023001.0048.002/I03_positive.tif\n",
      "2023-04-25 00:16:11,447 c2s.external.stac.viirs_375_toa_processor viirs_375_toa_processor.py:666 DEBUG: Regridding ./test_data/VNP02.A2023001.0048.002_test/VNP02.A2023001.0048.002/I03_positive.tif\n",
      "2023-04-25 00:16:11,447 c2s.external.stac.viirs_375_toa_processor viirs_375_toa_processor.py:666 DEBUG: Regridding ./test_data/VNP02.A2023001.0048.002_test/VNP02.A2023001.0048.002/I03_positive.tif\n",
      "2023-04-25 00:16:13,053 c2s.external.stac.viirs_375_toa_processor viirs_375_toa_processor.py:636 DEBUG: | 0.00, 0.00,-180.00|\n",
      "| 0.00,-0.00,-5.44|\n",
      "| 0.00, 0.00, 1.00|\n",
      "2023-04-25 00:16:13,053 c2s.external.stac.viirs_375_toa_processor viirs_375_toa_processor.py:636 DEBUG: | 0.00, 0.00,-180.00|\n",
      "| 0.00,-0.00,-5.44|\n",
      "| 0.00, 0.00, 1.00|\n",
      "2023-04-25 00:16:13,054 c2s.external.stac.viirs_375_toa_processor viirs_375_toa_processor.py:637 DEBUG: | 375.00, 0.00,-19947980.35|\n",
      "| 0.00,-375.00,-601134.10|\n",
      "| 0.00, 0.00, 1.00|\n",
      "2023-04-25 00:16:13,054 c2s.external.stac.viirs_375_toa_processor viirs_375_toa_processor.py:637 DEBUG: | 375.00, 0.00,-19947980.35|\n",
      "| 0.00,-375.00,-601134.10|\n",
      "| 0.00, 0.00, 1.00|\n",
      "2023-04-25 00:16:20,582 c2s.external.stac.viirs_375_toa_processor viirs_375_toa_processor.py:658 DEBUG: VNP02.A2023001.0048.002: cropping nodata from ./test_data/VNP02.A2023001.0048.002_test/VNP02.A2023001.0048.002/I03_negative.tif...\n",
      "2023-04-25 00:16:20,582 c2s.external.stac.viirs_375_toa_processor viirs_375_toa_processor.py:658 DEBUG: VNP02.A2023001.0048.002: cropping nodata from ./test_data/VNP02.A2023001.0048.002_test/VNP02.A2023001.0048.002/I03_negative.tif...\n",
      "2023-04-25 00:16:25,817 c2s.external.stac.viirs_375_toa_processor viirs_375_toa_processor.py:663 DEBUG: VNP02.A2023001.0048.002: Finished cropping nodata from ./test_data/VNP02.A2023001.0048.002_test/VNP02.A2023001.0048.002/I03_negative.tif\n",
      "2023-04-25 00:16:25,817 c2s.external.stac.viirs_375_toa_processor viirs_375_toa_processor.py:663 DEBUG: VNP02.A2023001.0048.002: Finished cropping nodata from ./test_data/VNP02.A2023001.0048.002_test/VNP02.A2023001.0048.002/I03_negative.tif\n",
      "2023-04-25 00:16:25,818 c2s.external.stac.viirs_375_toa_processor viirs_375_toa_processor.py:666 DEBUG: Regridding ./test_data/VNP02.A2023001.0048.002_test/VNP02.A2023001.0048.002/I03_negative.tif\n",
      "2023-04-25 00:16:25,818 c2s.external.stac.viirs_375_toa_processor viirs_375_toa_processor.py:666 DEBUG: Regridding ./test_data/VNP02.A2023001.0048.002_test/VNP02.A2023001.0048.002/I03_negative.tif\n",
      "2023-04-25 00:16:33,263 c2s.external.stac.viirs_375_toa_processor viirs_375_toa_processor.py:672 DEBUG: finish warp: I03\n",
      "2023-04-25 00:16:33,263 c2s.external.stac.viirs_375_toa_processor viirs_375_toa_processor.py:672 DEBUG: finish warp: I03\n",
      "2023-04-25 00:16:33,265 c2s.external.stac.viirs_375_toa_processor viirs_375_toa_processor.py:461 DEBUG: Processing M03 to tif.\n",
      "2023-04-25 00:16:33,265 c2s.external.stac.viirs_375_toa_processor viirs_375_toa_processor.py:461 DEBUG: Processing M03 to tif.\n",
      "2023-04-25 00:16:33,268 c2s.external.stac.viirs_375_toa_processor viirs_375_toa_processor.py:530 DEBUG: meta_dict={'X_DATASET': './test_data/VNP02.A2023001.0048.002_test/VNP02.A2023001.0048.002/VNP02.A2023001.0048.002_lon_750.vrt', 'X_BAND': '1', 'Y_DATASET': './test_data/VNP02.A2023001.0048.002_test/VNP02.A2023001.0048.002/VNP02.A2023001.0048.002_lat_750.vrt', 'Y_BAND': '1', 'PIXEL_OFFSET': '0', 'LINE_OFFSET': '0', 'PIXEL_STEP': '1', 'LINE_STEP': '1'}\n",
      "2023-04-25 00:16:33,268 c2s.external.stac.viirs_375_toa_processor viirs_375_toa_processor.py:530 DEBUG: meta_dict={'X_DATASET': './test_data/VNP02.A2023001.0048.002_test/VNP02.A2023001.0048.002/VNP02.A2023001.0048.002_lon_750.vrt', 'X_BAND': '1', 'Y_DATASET': './test_data/VNP02.A2023001.0048.002_test/VNP02.A2023001.0048.002/VNP02.A2023001.0048.002_lat_750.vrt', 'Y_BAND': '1', 'PIXEL_OFFSET': '0', 'LINE_OFFSET': '0', 'PIXEL_STEP': '1', 'LINE_STEP': '1'}\n",
      "2023-04-25 00:16:33,269 c2s.external.stac.viirs_375_toa_processor viirs_375_toa_processor.py:544 DEBUG: starting warp M03\n",
      "2023-04-25 00:16:33,269 c2s.external.stac.viirs_375_toa_processor viirs_375_toa_processor.py:544 DEBUG: starting warp M03\n",
      "2023-04-25 00:16:49,454 c2s.external.stac.viirs_375_toa_processor viirs_375_toa_processor.py:636 DEBUG: | 0.01, 0.00, 175.47|\n",
      "| 0.00,-0.01,-5.44|\n",
      "| 0.00, 0.00, 1.00|\n",
      "2023-04-25 00:16:49,454 c2s.external.stac.viirs_375_toa_processor viirs_375_toa_processor.py:636 DEBUG: | 0.01, 0.00, 175.47|\n",
      "| 0.00,-0.01,-5.44|\n",
      "| 0.00, 0.00, 1.00|\n",
      "2023-04-25 00:16:49,455 c2s.external.stac.viirs_375_toa_processor viirs_375_toa_processor.py:637 DEBUG: | 750.00, 0.00, 16863992.96|\n",
      "| 0.00,-750.00,-601134.10|\n",
      "| 0.00, 0.00, 1.00|\n",
      "2023-04-25 00:16:49,455 c2s.external.stac.viirs_375_toa_processor viirs_375_toa_processor.py:637 DEBUG: | 750.00, 0.00, 16863992.96|\n",
      "| 0.00,-750.00,-601134.10|\n",
      "| 0.00, 0.00, 1.00|\n",
      "2023-04-25 00:16:50,039 c2s.external.stac.viirs_375_toa_processor viirs_375_toa_processor.py:658 DEBUG: VNP02.A2023001.0048.002: cropping nodata from ./test_data/VNP02.A2023001.0048.002_test/VNP02.A2023001.0048.002/M03_750_positive.tif...\n",
      "2023-04-25 00:16:50,039 c2s.external.stac.viirs_375_toa_processor viirs_375_toa_processor.py:658 DEBUG: VNP02.A2023001.0048.002: cropping nodata from ./test_data/VNP02.A2023001.0048.002_test/VNP02.A2023001.0048.002/M03_750_positive.tif...\n",
      "2023-04-25 00:16:50,391 c2s.external.stac.viirs_375_toa_processor viirs_375_toa_processor.py:663 DEBUG: VNP02.A2023001.0048.002: Finished cropping nodata from ./test_data/VNP02.A2023001.0048.002_test/VNP02.A2023001.0048.002/M03_750_positive.tif\n",
      "2023-04-25 00:16:50,391 c2s.external.stac.viirs_375_toa_processor viirs_375_toa_processor.py:663 DEBUG: VNP02.A2023001.0048.002: Finished cropping nodata from ./test_data/VNP02.A2023001.0048.002_test/VNP02.A2023001.0048.002/M03_750_positive.tif\n",
      "2023-04-25 00:16:50,392 c2s.external.stac.viirs_375_toa_processor viirs_375_toa_processor.py:666 DEBUG: Regridding ./test_data/VNP02.A2023001.0048.002_test/VNP02.A2023001.0048.002/M03_750_positive.tif\n",
      "2023-04-25 00:16:50,392 c2s.external.stac.viirs_375_toa_processor viirs_375_toa_processor.py:666 DEBUG: Regridding ./test_data/VNP02.A2023001.0048.002_test/VNP02.A2023001.0048.002/M03_750_positive.tif\n",
      "2023-04-25 00:16:51,803 c2s.external.stac.viirs_375_toa_processor viirs_375_toa_processor.py:636 DEBUG: | 0.01, 0.00,-180.00|\n",
      "| 0.00,-0.01,-5.44|\n",
      "| 0.00, 0.00, 1.00|\n",
      "2023-04-25 00:16:51,803 c2s.external.stac.viirs_375_toa_processor viirs_375_toa_processor.py:636 DEBUG: | 0.01, 0.00,-180.00|\n",
      "| 0.00,-0.01,-5.44|\n",
      "| 0.00, 0.00, 1.00|\n",
      "2023-04-25 00:16:51,804 c2s.external.stac.viirs_375_toa_processor viirs_375_toa_processor.py:637 DEBUG: | 750.00, 0.00,-19947980.35|\n",
      "| 0.00,-750.00,-601134.10|\n",
      "| 0.00, 0.00, 1.00|\n",
      "2023-04-25 00:16:51,804 c2s.external.stac.viirs_375_toa_processor viirs_375_toa_processor.py:637 DEBUG: | 750.00, 0.00,-19947980.35|\n",
      "| 0.00,-750.00,-601134.10|\n",
      "| 0.00, 0.00, 1.00|\n",
      "2023-04-25 00:16:53,658 c2s.external.stac.viirs_375_toa_processor viirs_375_toa_processor.py:658 DEBUG: VNP02.A2023001.0048.002: cropping nodata from ./test_data/VNP02.A2023001.0048.002_test/VNP02.A2023001.0048.002/M03_750_negative.tif...\n",
      "2023-04-25 00:16:53,658 c2s.external.stac.viirs_375_toa_processor viirs_375_toa_processor.py:658 DEBUG: VNP02.A2023001.0048.002: cropping nodata from ./test_data/VNP02.A2023001.0048.002_test/VNP02.A2023001.0048.002/M03_750_negative.tif...\n",
      "2023-04-25 00:16:54,911 c2s.external.stac.viirs_375_toa_processor viirs_375_toa_processor.py:663 DEBUG: VNP02.A2023001.0048.002: Finished cropping nodata from ./test_data/VNP02.A2023001.0048.002_test/VNP02.A2023001.0048.002/M03_750_negative.tif\n",
      "2023-04-25 00:16:54,911 c2s.external.stac.viirs_375_toa_processor viirs_375_toa_processor.py:663 DEBUG: VNP02.A2023001.0048.002: Finished cropping nodata from ./test_data/VNP02.A2023001.0048.002_test/VNP02.A2023001.0048.002/M03_750_negative.tif\n",
      "2023-04-25 00:16:54,912 c2s.external.stac.viirs_375_toa_processor viirs_375_toa_processor.py:666 DEBUG: Regridding ./test_data/VNP02.A2023001.0048.002_test/VNP02.A2023001.0048.002/M03_750_negative.tif\n",
      "2023-04-25 00:16:54,912 c2s.external.stac.viirs_375_toa_processor viirs_375_toa_processor.py:666 DEBUG: Regridding ./test_data/VNP02.A2023001.0048.002_test/VNP02.A2023001.0048.002/M03_750_negative.tif\n",
      "2023-04-25 00:17:01,518 c2s.external.stac.viirs_375_toa_processor viirs_375_toa_processor.py:672 DEBUG: finish warp: M03\n",
      "2023-04-25 00:17:01,518 c2s.external.stac.viirs_375_toa_processor viirs_375_toa_processor.py:672 DEBUG: finish warp: M03\n",
      "2023-04-25 00:17:01,520 c2s.external.stac.viirs_375_toa_processor viirs_375_toa_processor.py:461 DEBUG: Processing M04 to tif.\n",
      "2023-04-25 00:17:01,520 c2s.external.stac.viirs_375_toa_processor viirs_375_toa_processor.py:461 DEBUG: Processing M04 to tif.\n",
      "2023-04-25 00:17:01,522 c2s.external.stac.viirs_375_toa_processor viirs_375_toa_processor.py:530 DEBUG: meta_dict={'X_DATASET': './test_data/VNP02.A2023001.0048.002_test/VNP02.A2023001.0048.002/VNP02.A2023001.0048.002_lon_750.vrt', 'X_BAND': '1', 'Y_DATASET': './test_data/VNP02.A2023001.0048.002_test/VNP02.A2023001.0048.002/VNP02.A2023001.0048.002_lat_750.vrt', 'Y_BAND': '1', 'PIXEL_OFFSET': '0', 'LINE_OFFSET': '0', 'PIXEL_STEP': '1', 'LINE_STEP': '1'}\n",
      "2023-04-25 00:17:01,522 c2s.external.stac.viirs_375_toa_processor viirs_375_toa_processor.py:530 DEBUG: meta_dict={'X_DATASET': './test_data/VNP02.A2023001.0048.002_test/VNP02.A2023001.0048.002/VNP02.A2023001.0048.002_lon_750.vrt', 'X_BAND': '1', 'Y_DATASET': './test_data/VNP02.A2023001.0048.002_test/VNP02.A2023001.0048.002/VNP02.A2023001.0048.002_lat_750.vrt', 'Y_BAND': '1', 'PIXEL_OFFSET': '0', 'LINE_OFFSET': '0', 'PIXEL_STEP': '1', 'LINE_STEP': '1'}\n",
      "2023-04-25 00:17:01,524 c2s.external.stac.viirs_375_toa_processor viirs_375_toa_processor.py:544 DEBUG: starting warp M04\n",
      "2023-04-25 00:17:01,524 c2s.external.stac.viirs_375_toa_processor viirs_375_toa_processor.py:544 DEBUG: starting warp M04\n",
      "2023-04-25 00:17:17,714 c2s.external.stac.viirs_375_toa_processor viirs_375_toa_processor.py:636 DEBUG: | 0.01, 0.00, 175.47|\n",
      "| 0.00,-0.01,-5.44|\n",
      "| 0.00, 0.00, 1.00|\n",
      "2023-04-25 00:17:17,714 c2s.external.stac.viirs_375_toa_processor viirs_375_toa_processor.py:636 DEBUG: | 0.01, 0.00, 175.47|\n",
      "| 0.00,-0.01,-5.44|\n",
      "| 0.00, 0.00, 1.00|\n",
      "2023-04-25 00:17:17,715 c2s.external.stac.viirs_375_toa_processor viirs_375_toa_processor.py:637 DEBUG: | 750.00, 0.00, 16863992.96|\n",
      "| 0.00,-750.00,-601134.10|\n",
      "| 0.00, 0.00, 1.00|\n",
      "2023-04-25 00:17:17,715 c2s.external.stac.viirs_375_toa_processor viirs_375_toa_processor.py:637 DEBUG: | 750.00, 0.00, 16863992.96|\n",
      "| 0.00,-750.00,-601134.10|\n",
      "| 0.00, 0.00, 1.00|\n",
      "2023-04-25 00:17:18,298 c2s.external.stac.viirs_375_toa_processor viirs_375_toa_processor.py:658 DEBUG: VNP02.A2023001.0048.002: cropping nodata from ./test_data/VNP02.A2023001.0048.002_test/VNP02.A2023001.0048.002/M04_750_positive.tif...\n",
      "2023-04-25 00:17:18,298 c2s.external.stac.viirs_375_toa_processor viirs_375_toa_processor.py:658 DEBUG: VNP02.A2023001.0048.002: cropping nodata from ./test_data/VNP02.A2023001.0048.002_test/VNP02.A2023001.0048.002/M04_750_positive.tif...\n",
      "2023-04-25 00:17:18,649 c2s.external.stac.viirs_375_toa_processor viirs_375_toa_processor.py:663 DEBUG: VNP02.A2023001.0048.002: Finished cropping nodata from ./test_data/VNP02.A2023001.0048.002_test/VNP02.A2023001.0048.002/M04_750_positive.tif\n",
      "2023-04-25 00:17:18,649 c2s.external.stac.viirs_375_toa_processor viirs_375_toa_processor.py:663 DEBUG: VNP02.A2023001.0048.002: Finished cropping nodata from ./test_data/VNP02.A2023001.0048.002_test/VNP02.A2023001.0048.002/M04_750_positive.tif\n",
      "2023-04-25 00:17:18,650 c2s.external.stac.viirs_375_toa_processor viirs_375_toa_processor.py:666 DEBUG: Regridding ./test_data/VNP02.A2023001.0048.002_test/VNP02.A2023001.0048.002/M04_750_positive.tif\n",
      "2023-04-25 00:17:18,650 c2s.external.stac.viirs_375_toa_processor viirs_375_toa_processor.py:666 DEBUG: Regridding ./test_data/VNP02.A2023001.0048.002_test/VNP02.A2023001.0048.002/M04_750_positive.tif\n",
      "2023-04-25 00:17:20,064 c2s.external.stac.viirs_375_toa_processor viirs_375_toa_processor.py:636 DEBUG: | 0.01, 0.00,-180.00|\n",
      "| 0.00,-0.01,-5.44|\n",
      "| 0.00, 0.00, 1.00|\n",
      "2023-04-25 00:17:20,064 c2s.external.stac.viirs_375_toa_processor viirs_375_toa_processor.py:636 DEBUG: | 0.01, 0.00,-180.00|\n",
      "| 0.00,-0.01,-5.44|\n",
      "| 0.00, 0.00, 1.00|\n",
      "2023-04-25 00:17:20,065 c2s.external.stac.viirs_375_toa_processor viirs_375_toa_processor.py:637 DEBUG: | 750.00, 0.00,-19947980.35|\n",
      "| 0.00,-750.00,-601134.10|\n",
      "| 0.00, 0.00, 1.00|\n",
      "2023-04-25 00:17:20,065 c2s.external.stac.viirs_375_toa_processor viirs_375_toa_processor.py:637 DEBUG: | 750.00, 0.00,-19947980.35|\n",
      "| 0.00,-750.00,-601134.10|\n",
      "| 0.00, 0.00, 1.00|\n",
      "2023-04-25 00:17:21,912 c2s.external.stac.viirs_375_toa_processor viirs_375_toa_processor.py:658 DEBUG: VNP02.A2023001.0048.002: cropping nodata from ./test_data/VNP02.A2023001.0048.002_test/VNP02.A2023001.0048.002/M04_750_negative.tif...\n",
      "2023-04-25 00:17:21,912 c2s.external.stac.viirs_375_toa_processor viirs_375_toa_processor.py:658 DEBUG: VNP02.A2023001.0048.002: cropping nodata from ./test_data/VNP02.A2023001.0048.002_test/VNP02.A2023001.0048.002/M04_750_negative.tif...\n",
      "2023-04-25 00:17:23,143 c2s.external.stac.viirs_375_toa_processor viirs_375_toa_processor.py:663 DEBUG: VNP02.A2023001.0048.002: Finished cropping nodata from ./test_data/VNP02.A2023001.0048.002_test/VNP02.A2023001.0048.002/M04_750_negative.tif\n",
      "2023-04-25 00:17:23,143 c2s.external.stac.viirs_375_toa_processor viirs_375_toa_processor.py:663 DEBUG: VNP02.A2023001.0048.002: Finished cropping nodata from ./test_data/VNP02.A2023001.0048.002_test/VNP02.A2023001.0048.002/M04_750_negative.tif\n",
      "2023-04-25 00:17:23,144 c2s.external.stac.viirs_375_toa_processor viirs_375_toa_processor.py:666 DEBUG: Regridding ./test_data/VNP02.A2023001.0048.002_test/VNP02.A2023001.0048.002/M04_750_negative.tif\n",
      "2023-04-25 00:17:23,144 c2s.external.stac.viirs_375_toa_processor viirs_375_toa_processor.py:666 DEBUG: Regridding ./test_data/VNP02.A2023001.0048.002_test/VNP02.A2023001.0048.002/M04_750_negative.tif\n",
      "2023-04-25 00:17:29,761 c2s.external.stac.viirs_375_toa_processor viirs_375_toa_processor.py:672 DEBUG: finish warp: M04\n",
      "2023-04-25 00:17:29,761 c2s.external.stac.viirs_375_toa_processor viirs_375_toa_processor.py:672 DEBUG: finish warp: M04\n",
      "2023-04-25 00:17:29,764 c2s.external.stac.viirs_375_toa_processor viirs_375_toa_processor.py:461 DEBUG: Processing M08 to tif.\n",
      "2023-04-25 00:17:29,764 c2s.external.stac.viirs_375_toa_processor viirs_375_toa_processor.py:461 DEBUG: Processing M08 to tif.\n",
      "2023-04-25 00:17:29,768 c2s.external.stac.viirs_375_toa_processor viirs_375_toa_processor.py:530 DEBUG: meta_dict={'X_DATASET': './test_data/VNP02.A2023001.0048.002_test/VNP02.A2023001.0048.002/VNP02.A2023001.0048.002_lon_750.vrt', 'X_BAND': '1', 'Y_DATASET': './test_data/VNP02.A2023001.0048.002_test/VNP02.A2023001.0048.002/VNP02.A2023001.0048.002_lat_750.vrt', 'Y_BAND': '1', 'PIXEL_OFFSET': '0', 'LINE_OFFSET': '0', 'PIXEL_STEP': '1', 'LINE_STEP': '1'}\n",
      "2023-04-25 00:17:29,768 c2s.external.stac.viirs_375_toa_processor viirs_375_toa_processor.py:530 DEBUG: meta_dict={'X_DATASET': './test_data/VNP02.A2023001.0048.002_test/VNP02.A2023001.0048.002/VNP02.A2023001.0048.002_lon_750.vrt', 'X_BAND': '1', 'Y_DATASET': './test_data/VNP02.A2023001.0048.002_test/VNP02.A2023001.0048.002/VNP02.A2023001.0048.002_lat_750.vrt', 'Y_BAND': '1', 'PIXEL_OFFSET': '0', 'LINE_OFFSET': '0', 'PIXEL_STEP': '1', 'LINE_STEP': '1'}\n",
      "2023-04-25 00:17:29,771 c2s.external.stac.viirs_375_toa_processor viirs_375_toa_processor.py:544 DEBUG: starting warp M08\n",
      "2023-04-25 00:17:29,771 c2s.external.stac.viirs_375_toa_processor viirs_375_toa_processor.py:544 DEBUG: starting warp M08\n",
      "2023-04-25 00:17:45,921 c2s.external.stac.viirs_375_toa_processor viirs_375_toa_processor.py:636 DEBUG: | 0.01, 0.00, 175.47|\n",
      "| 0.00,-0.01,-5.44|\n",
      "| 0.00, 0.00, 1.00|\n",
      "2023-04-25 00:17:45,921 c2s.external.stac.viirs_375_toa_processor viirs_375_toa_processor.py:636 DEBUG: | 0.01, 0.00, 175.47|\n",
      "| 0.00,-0.01,-5.44|\n",
      "| 0.00, 0.00, 1.00|\n",
      "2023-04-25 00:17:45,922 c2s.external.stac.viirs_375_toa_processor viirs_375_toa_processor.py:637 DEBUG: | 750.00, 0.00, 16863992.96|\n",
      "| 0.00,-750.00,-601134.10|\n",
      "| 0.00, 0.00, 1.00|\n",
      "2023-04-25 00:17:45,922 c2s.external.stac.viirs_375_toa_processor viirs_375_toa_processor.py:637 DEBUG: | 750.00, 0.00, 16863992.96|\n",
      "| 0.00,-750.00,-601134.10|\n",
      "| 0.00, 0.00, 1.00|\n",
      "2023-04-25 00:17:46,518 c2s.external.stac.viirs_375_toa_processor viirs_375_toa_processor.py:658 DEBUG: VNP02.A2023001.0048.002: cropping nodata from ./test_data/VNP02.A2023001.0048.002_test/VNP02.A2023001.0048.002/M08_750_positive.tif...\n",
      "2023-04-25 00:17:46,518 c2s.external.stac.viirs_375_toa_processor viirs_375_toa_processor.py:658 DEBUG: VNP02.A2023001.0048.002: cropping nodata from ./test_data/VNP02.A2023001.0048.002_test/VNP02.A2023001.0048.002/M08_750_positive.tif...\n",
      "2023-04-25 00:17:46,870 c2s.external.stac.viirs_375_toa_processor viirs_375_toa_processor.py:663 DEBUG: VNP02.A2023001.0048.002: Finished cropping nodata from ./test_data/VNP02.A2023001.0048.002_test/VNP02.A2023001.0048.002/M08_750_positive.tif\n",
      "2023-04-25 00:17:46,870 c2s.external.stac.viirs_375_toa_processor viirs_375_toa_processor.py:663 DEBUG: VNP02.A2023001.0048.002: Finished cropping nodata from ./test_data/VNP02.A2023001.0048.002_test/VNP02.A2023001.0048.002/M08_750_positive.tif\n",
      "2023-04-25 00:17:46,871 c2s.external.stac.viirs_375_toa_processor viirs_375_toa_processor.py:666 DEBUG: Regridding ./test_data/VNP02.A2023001.0048.002_test/VNP02.A2023001.0048.002/M08_750_positive.tif\n",
      "2023-04-25 00:17:46,871 c2s.external.stac.viirs_375_toa_processor viirs_375_toa_processor.py:666 DEBUG: Regridding ./test_data/VNP02.A2023001.0048.002_test/VNP02.A2023001.0048.002/M08_750_positive.tif\n",
      "2023-04-25 00:17:48,280 c2s.external.stac.viirs_375_toa_processor viirs_375_toa_processor.py:636 DEBUG: | 0.01, 0.00,-180.00|\n",
      "| 0.00,-0.01,-5.44|\n",
      "| 0.00, 0.00, 1.00|\n",
      "2023-04-25 00:17:48,280 c2s.external.stac.viirs_375_toa_processor viirs_375_toa_processor.py:636 DEBUG: | 0.01, 0.00,-180.00|\n",
      "| 0.00,-0.01,-5.44|\n",
      "| 0.00, 0.00, 1.00|\n",
      "2023-04-25 00:17:48,281 c2s.external.stac.viirs_375_toa_processor viirs_375_toa_processor.py:637 DEBUG: | 750.00, 0.00,-19947980.35|\n",
      "| 0.00,-750.00,-601134.10|\n",
      "| 0.00, 0.00, 1.00|\n",
      "2023-04-25 00:17:48,281 c2s.external.stac.viirs_375_toa_processor viirs_375_toa_processor.py:637 DEBUG: | 750.00, 0.00,-19947980.35|\n",
      "| 0.00,-750.00,-601134.10|\n",
      "| 0.00, 0.00, 1.00|\n",
      "2023-04-25 00:17:50,128 c2s.external.stac.viirs_375_toa_processor viirs_375_toa_processor.py:658 DEBUG: VNP02.A2023001.0048.002: cropping nodata from ./test_data/VNP02.A2023001.0048.002_test/VNP02.A2023001.0048.002/M08_750_negative.tif...\n",
      "2023-04-25 00:17:50,128 c2s.external.stac.viirs_375_toa_processor viirs_375_toa_processor.py:658 DEBUG: VNP02.A2023001.0048.002: cropping nodata from ./test_data/VNP02.A2023001.0048.002_test/VNP02.A2023001.0048.002/M08_750_negative.tif...\n",
      "2023-04-25 00:17:51,363 c2s.external.stac.viirs_375_toa_processor viirs_375_toa_processor.py:663 DEBUG: VNP02.A2023001.0048.002: Finished cropping nodata from ./test_data/VNP02.A2023001.0048.002_test/VNP02.A2023001.0048.002/M08_750_negative.tif\n",
      "2023-04-25 00:17:51,363 c2s.external.stac.viirs_375_toa_processor viirs_375_toa_processor.py:663 DEBUG: VNP02.A2023001.0048.002: Finished cropping nodata from ./test_data/VNP02.A2023001.0048.002_test/VNP02.A2023001.0048.002/M08_750_negative.tif\n",
      "2023-04-25 00:17:51,364 c2s.external.stac.viirs_375_toa_processor viirs_375_toa_processor.py:666 DEBUG: Regridding ./test_data/VNP02.A2023001.0048.002_test/VNP02.A2023001.0048.002/M08_750_negative.tif\n",
      "2023-04-25 00:17:51,364 c2s.external.stac.viirs_375_toa_processor viirs_375_toa_processor.py:666 DEBUG: Regridding ./test_data/VNP02.A2023001.0048.002_test/VNP02.A2023001.0048.002/M08_750_negative.tif\n",
      "2023-04-25 00:17:57,966 c2s.external.stac.viirs_375_toa_processor viirs_375_toa_processor.py:672 DEBUG: finish warp: M08\n",
      "2023-04-25 00:17:57,966 c2s.external.stac.viirs_375_toa_processor viirs_375_toa_processor.py:672 DEBUG: finish warp: M08\n",
      "2023-04-25 00:17:57,969 c2s.external.stac.viirs_375_toa_processor viirs_375_toa_processor.py:461 DEBUG: Processing M11 to tif.\n",
      "2023-04-25 00:17:57,969 c2s.external.stac.viirs_375_toa_processor viirs_375_toa_processor.py:461 DEBUG: Processing M11 to tif.\n",
      "2023-04-25 00:17:57,973 c2s.external.stac.viirs_375_toa_processor viirs_375_toa_processor.py:530 DEBUG: meta_dict={'X_DATASET': './test_data/VNP02.A2023001.0048.002_test/VNP02.A2023001.0048.002/VNP02.A2023001.0048.002_lon_750.vrt', 'X_BAND': '1', 'Y_DATASET': './test_data/VNP02.A2023001.0048.002_test/VNP02.A2023001.0048.002/VNP02.A2023001.0048.002_lat_750.vrt', 'Y_BAND': '1', 'PIXEL_OFFSET': '0', 'LINE_OFFSET': '0', 'PIXEL_STEP': '1', 'LINE_STEP': '1'}\n",
      "2023-04-25 00:17:57,973 c2s.external.stac.viirs_375_toa_processor viirs_375_toa_processor.py:530 DEBUG: meta_dict={'X_DATASET': './test_data/VNP02.A2023001.0048.002_test/VNP02.A2023001.0048.002/VNP02.A2023001.0048.002_lon_750.vrt', 'X_BAND': '1', 'Y_DATASET': './test_data/VNP02.A2023001.0048.002_test/VNP02.A2023001.0048.002/VNP02.A2023001.0048.002_lat_750.vrt', 'Y_BAND': '1', 'PIXEL_OFFSET': '0', 'LINE_OFFSET': '0', 'PIXEL_STEP': '1', 'LINE_STEP': '1'}\n",
      "2023-04-25 00:17:57,976 c2s.external.stac.viirs_375_toa_processor viirs_375_toa_processor.py:544 DEBUG: starting warp M11\n",
      "2023-04-25 00:17:57,976 c2s.external.stac.viirs_375_toa_processor viirs_375_toa_processor.py:544 DEBUG: starting warp M11\n",
      "2023-04-25 00:18:14,248 c2s.external.stac.viirs_375_toa_processor viirs_375_toa_processor.py:636 DEBUG: | 0.01, 0.00, 175.47|\n",
      "| 0.00,-0.01,-5.44|\n",
      "| 0.00, 0.00, 1.00|\n",
      "2023-04-25 00:18:14,248 c2s.external.stac.viirs_375_toa_processor viirs_375_toa_processor.py:636 DEBUG: | 0.01, 0.00, 175.47|\n",
      "| 0.00,-0.01,-5.44|\n",
      "| 0.00, 0.00, 1.00|\n",
      "2023-04-25 00:18:14,250 c2s.external.stac.viirs_375_toa_processor viirs_375_toa_processor.py:637 DEBUG: | 750.00, 0.00, 16863992.96|\n",
      "| 0.00,-750.00,-601134.10|\n",
      "| 0.00, 0.00, 1.00|\n",
      "2023-04-25 00:18:14,250 c2s.external.stac.viirs_375_toa_processor viirs_375_toa_processor.py:637 DEBUG: | 750.00, 0.00, 16863992.96|\n",
      "| 0.00,-750.00,-601134.10|\n",
      "| 0.00, 0.00, 1.00|\n",
      "2023-04-25 00:18:14,832 c2s.external.stac.viirs_375_toa_processor viirs_375_toa_processor.py:658 DEBUG: VNP02.A2023001.0048.002: cropping nodata from ./test_data/VNP02.A2023001.0048.002_test/VNP02.A2023001.0048.002/M11_750_positive.tif...\n",
      "2023-04-25 00:18:14,832 c2s.external.stac.viirs_375_toa_processor viirs_375_toa_processor.py:658 DEBUG: VNP02.A2023001.0048.002: cropping nodata from ./test_data/VNP02.A2023001.0048.002_test/VNP02.A2023001.0048.002/M11_750_positive.tif...\n",
      "2023-04-25 00:18:15,184 c2s.external.stac.viirs_375_toa_processor viirs_375_toa_processor.py:663 DEBUG: VNP02.A2023001.0048.002: Finished cropping nodata from ./test_data/VNP02.A2023001.0048.002_test/VNP02.A2023001.0048.002/M11_750_positive.tif\n",
      "2023-04-25 00:18:15,184 c2s.external.stac.viirs_375_toa_processor viirs_375_toa_processor.py:663 DEBUG: VNP02.A2023001.0048.002: Finished cropping nodata from ./test_data/VNP02.A2023001.0048.002_test/VNP02.A2023001.0048.002/M11_750_positive.tif\n",
      "2023-04-25 00:18:15,185 c2s.external.stac.viirs_375_toa_processor viirs_375_toa_processor.py:666 DEBUG: Regridding ./test_data/VNP02.A2023001.0048.002_test/VNP02.A2023001.0048.002/M11_750_positive.tif\n",
      "2023-04-25 00:18:15,185 c2s.external.stac.viirs_375_toa_processor viirs_375_toa_processor.py:666 DEBUG: Regridding ./test_data/VNP02.A2023001.0048.002_test/VNP02.A2023001.0048.002/M11_750_positive.tif\n",
      "2023-04-25 00:18:16,616 c2s.external.stac.viirs_375_toa_processor viirs_375_toa_processor.py:636 DEBUG: | 0.01, 0.00,-180.00|\n",
      "| 0.00,-0.01,-5.44|\n",
      "| 0.00, 0.00, 1.00|\n",
      "2023-04-25 00:18:16,616 c2s.external.stac.viirs_375_toa_processor viirs_375_toa_processor.py:636 DEBUG: | 0.01, 0.00,-180.00|\n",
      "| 0.00,-0.01,-5.44|\n",
      "| 0.00, 0.00, 1.00|\n",
      "2023-04-25 00:18:16,617 c2s.external.stac.viirs_375_toa_processor viirs_375_toa_processor.py:637 DEBUG: | 750.00, 0.00,-19947980.35|\n",
      "| 0.00,-750.00,-601134.10|\n",
      "| 0.00, 0.00, 1.00|\n",
      "2023-04-25 00:18:16,617 c2s.external.stac.viirs_375_toa_processor viirs_375_toa_processor.py:637 DEBUG: | 750.00, 0.00,-19947980.35|\n",
      "| 0.00,-750.00,-601134.10|\n",
      "| 0.00, 0.00, 1.00|\n",
      "2023-04-25 00:18:18,509 c2s.external.stac.viirs_375_toa_processor viirs_375_toa_processor.py:658 DEBUG: VNP02.A2023001.0048.002: cropping nodata from ./test_data/VNP02.A2023001.0048.002_test/VNP02.A2023001.0048.002/M11_750_negative.tif...\n",
      "2023-04-25 00:18:18,509 c2s.external.stac.viirs_375_toa_processor viirs_375_toa_processor.py:658 DEBUG: VNP02.A2023001.0048.002: cropping nodata from ./test_data/VNP02.A2023001.0048.002_test/VNP02.A2023001.0048.002/M11_750_negative.tif...\n",
      "2023-04-25 00:18:19,780 c2s.external.stac.viirs_375_toa_processor viirs_375_toa_processor.py:663 DEBUG: VNP02.A2023001.0048.002: Finished cropping nodata from ./test_data/VNP02.A2023001.0048.002_test/VNP02.A2023001.0048.002/M11_750_negative.tif\n",
      "2023-04-25 00:18:19,780 c2s.external.stac.viirs_375_toa_processor viirs_375_toa_processor.py:663 DEBUG: VNP02.A2023001.0048.002: Finished cropping nodata from ./test_data/VNP02.A2023001.0048.002_test/VNP02.A2023001.0048.002/M11_750_negative.tif\n",
      "2023-04-25 00:18:19,781 c2s.external.stac.viirs_375_toa_processor viirs_375_toa_processor.py:666 DEBUG: Regridding ./test_data/VNP02.A2023001.0048.002_test/VNP02.A2023001.0048.002/M11_750_negative.tif\n",
      "2023-04-25 00:18:19,781 c2s.external.stac.viirs_375_toa_processor viirs_375_toa_processor.py:666 DEBUG: Regridding ./test_data/VNP02.A2023001.0048.002_test/VNP02.A2023001.0048.002/M11_750_negative.tif\n",
      "2023-04-25 00:18:26,521 c2s.external.stac.viirs_375_toa_processor viirs_375_toa_processor.py:672 DEBUG: finish warp: M11\n",
      "2023-04-25 00:18:26,521 c2s.external.stac.viirs_375_toa_processor viirs_375_toa_processor.py:672 DEBUG: finish warp: M11\n",
      "2023-04-25 00:18:26,523 c2s.external.stac.viirs_375_toa_processor viirs_375_toa_processor.py:675 INFO: resampling 750-m bands to 375-m\n",
      "2023-04-25 00:18:26,523 c2s.external.stac.viirs_375_toa_processor viirs_375_toa_processor.py:675 INFO: resampling 750-m bands to 375-m\n",
      "2023-04-25 00:19:11,248 c2s.external.stac.viirs_375_toa_processor viirs_375_toa_processor.py:677 DEBUG: VNP02.A2023001.0048.002: regridding all bands\n",
      "2023-04-25 00:19:11,248 c2s.external.stac.viirs_375_toa_processor viirs_375_toa_processor.py:677 DEBUG: VNP02.A2023001.0048.002: regridding all bands\n"
     ]
    },
    {
     "data": {
      "text/plain": [
       "'./test_data/VNP02.A2023001.0048.002_test/VNP02.A2023001.0048.002'"
      ]
     },
     "execution_count": 17,
     "metadata": {},
     "output_type": "execute_result"
    }
   ],
   "source": [
    "# make geotiff\n",
    "proc.make_tiff()"
   ]
  },
  {
   "cell_type": "code",
   "execution_count": 70,
   "id": "6511272c-df2f-4617-9a10-50aae5f7d6f6",
   "metadata": {
    "tags": []
   },
   "outputs": [
    {
     "name": "stdout",
     "output_type": "stream",
     "text": [
      "2023-04-19 23:13:08,886 c2s.external.stac.viirs_375_toa_processor viirs_375_toa_processor.py:724 INFO: VNP02.A2023001.0048.002: Building two STAC items (one for positive lons, one for negative lons)\n",
      "2023-04-19 23:13:08,886 c2s.external.stac.viirs_375_toa_processor viirs_375_toa_processor.py:724 INFO: VNP02.A2023001.0048.002: Building two STAC items (one for positive lons, one for negative lons)\n"
     ]
    },
    {
     "data": {
      "text/plain": [
       "[<Item id=VNP02.A2023001.0048.002_positive>,\n",
       " <Item id=VNP02.A2023001.0048.002_negative>]"
      ]
     },
     "execution_count": 70,
     "metadata": {},
     "output_type": "execute_result"
    }
   ],
   "source": [
    "# test the STAC item builder\n",
    "proc.build_item()"
   ]
  },
  {
   "cell_type": "code",
   "execution_count": 71,
   "id": "39139035-fd1a-4a8e-9720-6aeb5f636aac",
   "metadata": {},
   "outputs": [
    {
     "name": "stdout",
     "output_type": "stream",
     "text": [
      "2023-04-19 23:13:15,891 c2s.external.stac.base_processor base_processor.py:234 DEBUG: self.id='VNP02.A2023001.0048.002'\n",
      "2023-04-19 23:13:15,891 c2s.external.stac.base_processor base_processor.py:234 DEBUG: self.id='VNP02.A2023001.0048.002'\n",
      "2023-04-19 23:13:15,893 c2s.external.stac.base_processor base_processor.py:234 DEBUG: self.id='VNP02.A2023001.0048.002_positive'\n",
      "2023-04-19 23:13:15,893 c2s.external.stac.base_processor base_processor.py:234 DEBUG: self.id='VNP02.A2023001.0048.002_positive'\n",
      "2023-04-19 23:13:37,287 c2s.external.stac.base_processor base_processor.py:323 DEBUG: VNP02.A2023001.0048.002_positive: gcs stac item: viirs375_data/imagery/0048/2023001/VNP02/VNP02.A2023001.0048.002_positive.geojson\n",
      "2023-04-19 23:13:37,287 c2s.external.stac.base_processor base_processor.py:323 DEBUG: VNP02.A2023001.0048.002_positive: gcs stac item: viirs375_data/imagery/0048/2023001/VNP02/VNP02.A2023001.0048.002_positive.geojson\n",
      "2023-04-19 23:13:37,372 c2s.web.stac_api stac_api.py:373 INFO: putting (create or update) to stac server at url: https://stac.cloudtostreet.info/collections/viirs375_data/items\n",
      "2023-04-19 23:13:37,626 c2s.external.stac.base_processor base_processor.py:333 DEBUG: VNP02.A2023001.0048.002_positive: Success code returned from stac server!\n",
      "2023-04-19 23:13:37,626 c2s.external.stac.base_processor base_processor.py:333 DEBUG: VNP02.A2023001.0048.002_positive: Success code returned from stac server!\n",
      "2023-04-19 23:13:37,628 c2s.external.stac.base_processor base_processor.py:234 DEBUG: self.id='VNP02.A2023001.0048.002_negative'\n",
      "2023-04-19 23:13:37,628 c2s.external.stac.base_processor base_processor.py:234 DEBUG: self.id='VNP02.A2023001.0048.002_negative'\n",
      "2023-04-19 23:13:59,816 c2s.external.stac.base_processor base_processor.py:323 DEBUG: VNP02.A2023001.0048.002_negative: gcs stac item: viirs375_data/imagery/0048/2023001/VNP02/VNP02.A2023001.0048.002_negative.geojson\n",
      "2023-04-19 23:13:59,816 c2s.external.stac.base_processor base_processor.py:323 DEBUG: VNP02.A2023001.0048.002_negative: gcs stac item: viirs375_data/imagery/0048/2023001/VNP02/VNP02.A2023001.0048.002_negative.geojson\n",
      "2023-04-19 23:13:59,901 c2s.web.stac_api stac_api.py:373 INFO: putting (create or update) to stac server at url: https://stac.cloudtostreet.info/collections/viirs375_data/items\n",
      "2023-04-19 23:13:59,963 c2s.external.stac.base_processor base_processor.py:333 DEBUG: VNP02.A2023001.0048.002_negative: Success code returned from stac server!\n",
      "2023-04-19 23:13:59,963 c2s.external.stac.base_processor base_processor.py:333 DEBUG: VNP02.A2023001.0048.002_negative: Success code returned from stac server!\n"
     ]
    },
    {
     "data": {
      "text/plain": [
       "['./test_data/VNP02.A2023001.0048.002_test/VNP02.A2023001.0048.002',\n",
       " './test_data/VNP02.A2023001.0048.002_test/VNP02.A2023001.0048.002']"
      ]
     },
     "execution_count": 71,
     "metadata": {},
     "output_type": "execute_result"
    }
   ],
   "source": [
    "# test the stac uploader\n",
    "proc.upload_to_c2s_stac()"
   ]
  },
  {
   "cell_type": "code",
   "execution_count": 58,
   "id": "8ab487ca-5654-4d8e-81da-c07bbe283112",
   "metadata": {
    "tags": []
   },
   "outputs": [
    {
     "data": {
      "text/plain": [
       "'VNP02.A2023001.0048.002'"
      ]
     },
     "execution_count": 58,
     "metadata": {},
     "output_type": "execute_result"
    }
   ],
   "source": [
    "proc.id"
   ]
  },
  {
   "cell_type": "code",
   "execution_count": 59,
   "id": "7fd7a902-89e1-42f8-abda-9889429c7ad4",
   "metadata": {
    "tags": []
   },
   "outputs": [],
   "source": [
    "proc.id = \"VNP02.A2023001.0048.002\""
   ]
  },
  {
   "cell_type": "code",
   "execution_count": 77,
   "id": "76589526-160f-4be3-bdc9-351a717a8043",
   "metadata": {
    "collapsed": true,
    "jupyter": {
     "outputs_hidden": true
    },
    "tags": []
   },
   "outputs": [
    {
     "name": "stdout",
     "output_type": "stream",
     "text": [
      "2023-04-20 17:34:54,205 c2s.external.batch.download.preprocess.process_sensor_data process_sensor_data.py:52 DEBUG: Processor instantiated with download_path ./test_data/VNP02.A2023001.0048.002\n",
      "2023-04-20 17:34:54,205 c2s.external.batch.download.preprocess.process_sensor_data process_sensor_data.py:52 DEBUG: Processor instantiated with download_path ./test_data/VNP02.A2023001.0048.002\n",
      "2023-04-20 17:34:54,206 c2s.external.stac.viirs_375_toa_processor viirs_375_toa_processor.py:68 DEBUG: id: VNP02.A2023001.0048.002\n",
      "2023-04-20 17:34:54,206 c2s.external.stac.viirs_375_toa_processor viirs_375_toa_processor.py:68 DEBUG: id: VNP02.A2023001.0048.002\n",
      "2023-04-20 17:34:54,207 c2s.external.stac.viirs_375_toa_processor viirs_375_toa_processor.py:71 DEBUG: save_folder: stac/VNP02.A2023001.0048.002\n",
      "2023-04-20 17:34:54,207 c2s.external.stac.viirs_375_toa_processor viirs_375_toa_processor.py:71 DEBUG: save_folder: stac/VNP02.A2023001.0048.002\n",
      "2023-04-20 17:34:54,516 c2s.external.stac.viirs_375_toa_processor viirs_375_toa_processor.py:79 WARNING: Data cross antimeridian, requires two-step warping\n",
      "2023-04-20 17:34:54,516 c2s.external.stac.viirs_375_toa_processor viirs_375_toa_processor.py:79 WARNING: Data cross antimeridian, requires two-step warping\n",
      "2023-04-20 17:34:54,806 c2s.external.batch.download.preprocess.process_sensor_data process_sensor_data.py:72 INFO: VNP02.A2023001.0048.002: Beginning to process_to_stac()\n",
      "2023-04-20 17:34:54,806 c2s.external.batch.download.preprocess.process_sensor_data process_sensor_data.py:72 INFO: VNP02.A2023001.0048.002: Beginning to process_to_stac()\n",
      "2023-04-20 17:34:54,811 c2s.external.stac.viirs_375_toa_processor viirs_375_toa_processor.py:432 DEBUG: Processing Cloud_Mask to tif.\n",
      "2023-04-20 17:34:54,811 c2s.external.stac.viirs_375_toa_processor viirs_375_toa_processor.py:432 DEBUG: Processing Cloud_Mask to tif.\n",
      "2023-04-20 17:34:54,817 c2s.external.stac.viirs_375_toa_processor viirs_375_toa_processor.py:501 DEBUG: meta_dict={'X_DATASET': 'stac/VNP02.A2023001.0048.002/VNP02.A2023001.0048.002_lon_750.vrt', 'X_BAND': '1', 'Y_DATASET': 'stac/VNP02.A2023001.0048.002/VNP02.A2023001.0048.002_lat_750.vrt', 'Y_BAND': '1', 'PIXEL_OFFSET': '0', 'LINE_OFFSET': '0', 'PIXEL_STEP': '1', 'LINE_STEP': '1'}\n",
      "2023-04-20 17:34:54,817 c2s.external.stac.viirs_375_toa_processor viirs_375_toa_processor.py:501 DEBUG: meta_dict={'X_DATASET': 'stac/VNP02.A2023001.0048.002/VNP02.A2023001.0048.002_lon_750.vrt', 'X_BAND': '1', 'Y_DATASET': 'stac/VNP02.A2023001.0048.002/VNP02.A2023001.0048.002_lat_750.vrt', 'Y_BAND': '1', 'PIXEL_OFFSET': '0', 'LINE_OFFSET': '0', 'PIXEL_STEP': '1', 'LINE_STEP': '1'}\n",
      "2023-04-20 17:34:54,819 c2s.external.stac.viirs_375_toa_processor viirs_375_toa_processor.py:515 DEBUG: starting warp Cloud_Mask\n",
      "2023-04-20 17:34:54,819 c2s.external.stac.viirs_375_toa_processor viirs_375_toa_processor.py:515 DEBUG: starting warp Cloud_Mask\n",
      "2023-04-20 17:35:28,806 c2s.external.stac.viirs_375_toa_processor viirs_375_toa_processor.py:668 DEBUG: finish warp: Cloud_Mask\n",
      "2023-04-20 17:35:28,806 c2s.external.stac.viirs_375_toa_processor viirs_375_toa_processor.py:668 DEBUG: finish warp: Cloud_Mask\n",
      "2023-04-20 17:35:28,807 c2s.external.stac.viirs_375_toa_processor viirs_375_toa_processor.py:432 DEBUG: Processing I01 to tif.\n",
      "2023-04-20 17:35:28,807 c2s.external.stac.viirs_375_toa_processor viirs_375_toa_processor.py:432 DEBUG: Processing I01 to tif.\n",
      "2023-04-20 17:35:28,810 c2s.external.stac.viirs_375_toa_processor viirs_375_toa_processor.py:501 DEBUG: meta_dict={'X_DATASET': 'stac/VNP02.A2023001.0048.002/VNP02.A2023001.0048.002_lon_375.vrt', 'X_BAND': '1', 'Y_DATASET': 'stac/VNP02.A2023001.0048.002/VNP02.A2023001.0048.002_lat_375.vrt', 'Y_BAND': '1', 'PIXEL_OFFSET': '0', 'LINE_OFFSET': '0', 'PIXEL_STEP': '1', 'LINE_STEP': '1'}\n",
      "2023-04-20 17:35:28,810 c2s.external.stac.viirs_375_toa_processor viirs_375_toa_processor.py:501 DEBUG: meta_dict={'X_DATASET': 'stac/VNP02.A2023001.0048.002/VNP02.A2023001.0048.002_lon_375.vrt', 'X_BAND': '1', 'Y_DATASET': 'stac/VNP02.A2023001.0048.002/VNP02.A2023001.0048.002_lat_375.vrt', 'Y_BAND': '1', 'PIXEL_OFFSET': '0', 'LINE_OFFSET': '0', 'PIXEL_STEP': '1', 'LINE_STEP': '1'}\n",
      "2023-04-20 17:35:28,811 c2s.external.stac.viirs_375_toa_processor viirs_375_toa_processor.py:515 DEBUG: starting warp I01\n",
      "2023-04-20 17:35:28,811 c2s.external.stac.viirs_375_toa_processor viirs_375_toa_processor.py:515 DEBUG: starting warp I01\n",
      "2023-04-20 17:38:39,047 c2s.external.stac.viirs_375_toa_processor viirs_375_toa_processor.py:668 DEBUG: finish warp: I01\n",
      "2023-04-20 17:38:39,047 c2s.external.stac.viirs_375_toa_processor viirs_375_toa_processor.py:668 DEBUG: finish warp: I01\n",
      "2023-04-20 17:38:39,050 c2s.external.stac.viirs_375_toa_processor viirs_375_toa_processor.py:432 DEBUG: Processing I02 to tif.\n",
      "2023-04-20 17:38:39,050 c2s.external.stac.viirs_375_toa_processor viirs_375_toa_processor.py:432 DEBUG: Processing I02 to tif.\n",
      "2023-04-20 17:38:39,054 c2s.external.stac.viirs_375_toa_processor viirs_375_toa_processor.py:501 DEBUG: meta_dict={'X_DATASET': 'stac/VNP02.A2023001.0048.002/VNP02.A2023001.0048.002_lon_375.vrt', 'X_BAND': '1', 'Y_DATASET': 'stac/VNP02.A2023001.0048.002/VNP02.A2023001.0048.002_lat_375.vrt', 'Y_BAND': '1', 'PIXEL_OFFSET': '0', 'LINE_OFFSET': '0', 'PIXEL_STEP': '1', 'LINE_STEP': '1'}\n",
      "2023-04-20 17:38:39,054 c2s.external.stac.viirs_375_toa_processor viirs_375_toa_processor.py:501 DEBUG: meta_dict={'X_DATASET': 'stac/VNP02.A2023001.0048.002/VNP02.A2023001.0048.002_lon_375.vrt', 'X_BAND': '1', 'Y_DATASET': 'stac/VNP02.A2023001.0048.002/VNP02.A2023001.0048.002_lat_375.vrt', 'Y_BAND': '1', 'PIXEL_OFFSET': '0', 'LINE_OFFSET': '0', 'PIXEL_STEP': '1', 'LINE_STEP': '1'}\n",
      "2023-04-20 17:38:39,057 c2s.external.stac.viirs_375_toa_processor viirs_375_toa_processor.py:515 DEBUG: starting warp I02\n",
      "2023-04-20 17:38:39,057 c2s.external.stac.viirs_375_toa_processor viirs_375_toa_processor.py:515 DEBUG: starting warp I02\n",
      "2023-04-20 17:41:48,213 c2s.external.stac.viirs_375_toa_processor viirs_375_toa_processor.py:668 DEBUG: finish warp: I02\n",
      "2023-04-20 17:41:48,213 c2s.external.stac.viirs_375_toa_processor viirs_375_toa_processor.py:668 DEBUG: finish warp: I02\n",
      "2023-04-20 17:41:48,216 c2s.external.stac.viirs_375_toa_processor viirs_375_toa_processor.py:432 DEBUG: Processing I03 to tif.\n",
      "2023-04-20 17:41:48,216 c2s.external.stac.viirs_375_toa_processor viirs_375_toa_processor.py:432 DEBUG: Processing I03 to tif.\n",
      "2023-04-20 17:41:48,220 c2s.external.stac.viirs_375_toa_processor viirs_375_toa_processor.py:501 DEBUG: meta_dict={'X_DATASET': 'stac/VNP02.A2023001.0048.002/VNP02.A2023001.0048.002_lon_375.vrt', 'X_BAND': '1', 'Y_DATASET': 'stac/VNP02.A2023001.0048.002/VNP02.A2023001.0048.002_lat_375.vrt', 'Y_BAND': '1', 'PIXEL_OFFSET': '0', 'LINE_OFFSET': '0', 'PIXEL_STEP': '1', 'LINE_STEP': '1'}\n",
      "2023-04-20 17:41:48,220 c2s.external.stac.viirs_375_toa_processor viirs_375_toa_processor.py:501 DEBUG: meta_dict={'X_DATASET': 'stac/VNP02.A2023001.0048.002/VNP02.A2023001.0048.002_lon_375.vrt', 'X_BAND': '1', 'Y_DATASET': 'stac/VNP02.A2023001.0048.002/VNP02.A2023001.0048.002_lat_375.vrt', 'Y_BAND': '1', 'PIXEL_OFFSET': '0', 'LINE_OFFSET': '0', 'PIXEL_STEP': '1', 'LINE_STEP': '1'}\n",
      "2023-04-20 17:41:48,222 c2s.external.stac.viirs_375_toa_processor viirs_375_toa_processor.py:515 DEBUG: starting warp I03\n",
      "2023-04-20 17:41:48,222 c2s.external.stac.viirs_375_toa_processor viirs_375_toa_processor.py:515 DEBUG: starting warp I03\n",
      "2023-04-20 17:44:58,551 c2s.external.stac.viirs_375_toa_processor viirs_375_toa_processor.py:668 DEBUG: finish warp: I03\n",
      "2023-04-20 17:44:58,551 c2s.external.stac.viirs_375_toa_processor viirs_375_toa_processor.py:668 DEBUG: finish warp: I03\n",
      "2023-04-20 17:44:58,553 c2s.external.stac.viirs_375_toa_processor viirs_375_toa_processor.py:432 DEBUG: Processing M03 to tif.\n",
      "2023-04-20 17:44:58,553 c2s.external.stac.viirs_375_toa_processor viirs_375_toa_processor.py:432 DEBUG: Processing M03 to tif.\n",
      "2023-04-20 17:44:58,558 c2s.external.stac.viirs_375_toa_processor viirs_375_toa_processor.py:501 DEBUG: meta_dict={'X_DATASET': 'stac/VNP02.A2023001.0048.002/VNP02.A2023001.0048.002_lon_750.vrt', 'X_BAND': '1', 'Y_DATASET': 'stac/VNP02.A2023001.0048.002/VNP02.A2023001.0048.002_lat_750.vrt', 'Y_BAND': '1', 'PIXEL_OFFSET': '0', 'LINE_OFFSET': '0', 'PIXEL_STEP': '1', 'LINE_STEP': '1'}\n",
      "2023-04-20 17:44:58,558 c2s.external.stac.viirs_375_toa_processor viirs_375_toa_processor.py:501 DEBUG: meta_dict={'X_DATASET': 'stac/VNP02.A2023001.0048.002/VNP02.A2023001.0048.002_lon_750.vrt', 'X_BAND': '1', 'Y_DATASET': 'stac/VNP02.A2023001.0048.002/VNP02.A2023001.0048.002_lat_750.vrt', 'Y_BAND': '1', 'PIXEL_OFFSET': '0', 'LINE_OFFSET': '0', 'PIXEL_STEP': '1', 'LINE_STEP': '1'}\n",
      "2023-04-20 17:44:58,560 c2s.external.stac.viirs_375_toa_processor viirs_375_toa_processor.py:515 DEBUG: starting warp M03\n",
      "2023-04-20 17:44:58,560 c2s.external.stac.viirs_375_toa_processor viirs_375_toa_processor.py:515 DEBUG: starting warp M03\n",
      "2023-04-20 17:45:18,731 c2s.external.stac.viirs_375_toa_processor viirs_375_toa_processor.py:668 DEBUG: finish warp: M03\n",
      "2023-04-20 17:45:18,731 c2s.external.stac.viirs_375_toa_processor viirs_375_toa_processor.py:668 DEBUG: finish warp: M03\n",
      "2023-04-20 17:45:18,733 c2s.external.stac.viirs_375_toa_processor viirs_375_toa_processor.py:432 DEBUG: Processing M04 to tif.\n",
      "2023-04-20 17:45:18,733 c2s.external.stac.viirs_375_toa_processor viirs_375_toa_processor.py:432 DEBUG: Processing M04 to tif.\n",
      "2023-04-20 17:45:18,737 c2s.external.stac.viirs_375_toa_processor viirs_375_toa_processor.py:501 DEBUG: meta_dict={'X_DATASET': 'stac/VNP02.A2023001.0048.002/VNP02.A2023001.0048.002_lon_750.vrt', 'X_BAND': '1', 'Y_DATASET': 'stac/VNP02.A2023001.0048.002/VNP02.A2023001.0048.002_lat_750.vrt', 'Y_BAND': '1', 'PIXEL_OFFSET': '0', 'LINE_OFFSET': '0', 'PIXEL_STEP': '1', 'LINE_STEP': '1'}\n",
      "2023-04-20 17:45:18,737 c2s.external.stac.viirs_375_toa_processor viirs_375_toa_processor.py:501 DEBUG: meta_dict={'X_DATASET': 'stac/VNP02.A2023001.0048.002/VNP02.A2023001.0048.002_lon_750.vrt', 'X_BAND': '1', 'Y_DATASET': 'stac/VNP02.A2023001.0048.002/VNP02.A2023001.0048.002_lat_750.vrt', 'Y_BAND': '1', 'PIXEL_OFFSET': '0', 'LINE_OFFSET': '0', 'PIXEL_STEP': '1', 'LINE_STEP': '1'}\n",
      "2023-04-20 17:45:18,739 c2s.external.stac.viirs_375_toa_processor viirs_375_toa_processor.py:515 DEBUG: starting warp M04\n",
      "2023-04-20 17:45:18,739 c2s.external.stac.viirs_375_toa_processor viirs_375_toa_processor.py:515 DEBUG: starting warp M04\n",
      "2023-04-20 17:45:39,141 c2s.external.stac.viirs_375_toa_processor viirs_375_toa_processor.py:668 DEBUG: finish warp: M04\n",
      "2023-04-20 17:45:39,141 c2s.external.stac.viirs_375_toa_processor viirs_375_toa_processor.py:668 DEBUG: finish warp: M04\n",
      "2023-04-20 17:45:39,144 c2s.external.stac.viirs_375_toa_processor viirs_375_toa_processor.py:432 DEBUG: Processing M08 to tif.\n",
      "2023-04-20 17:45:39,144 c2s.external.stac.viirs_375_toa_processor viirs_375_toa_processor.py:432 DEBUG: Processing M08 to tif.\n",
      "2023-04-20 17:45:39,148 c2s.external.stac.viirs_375_toa_processor viirs_375_toa_processor.py:501 DEBUG: meta_dict={'X_DATASET': 'stac/VNP02.A2023001.0048.002/VNP02.A2023001.0048.002_lon_750.vrt', 'X_BAND': '1', 'Y_DATASET': 'stac/VNP02.A2023001.0048.002/VNP02.A2023001.0048.002_lat_750.vrt', 'Y_BAND': '1', 'PIXEL_OFFSET': '0', 'LINE_OFFSET': '0', 'PIXEL_STEP': '1', 'LINE_STEP': '1'}\n",
      "2023-04-20 17:45:39,148 c2s.external.stac.viirs_375_toa_processor viirs_375_toa_processor.py:501 DEBUG: meta_dict={'X_DATASET': 'stac/VNP02.A2023001.0048.002/VNP02.A2023001.0048.002_lon_750.vrt', 'X_BAND': '1', 'Y_DATASET': 'stac/VNP02.A2023001.0048.002/VNP02.A2023001.0048.002_lat_750.vrt', 'Y_BAND': '1', 'PIXEL_OFFSET': '0', 'LINE_OFFSET': '0', 'PIXEL_STEP': '1', 'LINE_STEP': '1'}\n",
      "2023-04-20 17:45:39,151 c2s.external.stac.viirs_375_toa_processor viirs_375_toa_processor.py:515 DEBUG: starting warp M08\n",
      "2023-04-20 17:45:39,151 c2s.external.stac.viirs_375_toa_processor viirs_375_toa_processor.py:515 DEBUG: starting warp M08\n",
      "2023-04-20 17:45:59,425 c2s.external.stac.viirs_375_toa_processor viirs_375_toa_processor.py:668 DEBUG: finish warp: M08\n",
      "2023-04-20 17:45:59,425 c2s.external.stac.viirs_375_toa_processor viirs_375_toa_processor.py:668 DEBUG: finish warp: M08\n",
      "2023-04-20 17:45:59,428 c2s.external.stac.viirs_375_toa_processor viirs_375_toa_processor.py:432 DEBUG: Processing M11 to tif.\n",
      "2023-04-20 17:45:59,428 c2s.external.stac.viirs_375_toa_processor viirs_375_toa_processor.py:432 DEBUG: Processing M11 to tif.\n",
      "2023-04-20 17:45:59,432 c2s.external.stac.viirs_375_toa_processor viirs_375_toa_processor.py:501 DEBUG: meta_dict={'X_DATASET': 'stac/VNP02.A2023001.0048.002/VNP02.A2023001.0048.002_lon_750.vrt', 'X_BAND': '1', 'Y_DATASET': 'stac/VNP02.A2023001.0048.002/VNP02.A2023001.0048.002_lat_750.vrt', 'Y_BAND': '1', 'PIXEL_OFFSET': '0', 'LINE_OFFSET': '0', 'PIXEL_STEP': '1', 'LINE_STEP': '1'}\n",
      "2023-04-20 17:45:59,432 c2s.external.stac.viirs_375_toa_processor viirs_375_toa_processor.py:501 DEBUG: meta_dict={'X_DATASET': 'stac/VNP02.A2023001.0048.002/VNP02.A2023001.0048.002_lon_750.vrt', 'X_BAND': '1', 'Y_DATASET': 'stac/VNP02.A2023001.0048.002/VNP02.A2023001.0048.002_lat_750.vrt', 'Y_BAND': '1', 'PIXEL_OFFSET': '0', 'LINE_OFFSET': '0', 'PIXEL_STEP': '1', 'LINE_STEP': '1'}\n",
      "2023-04-20 17:45:59,434 c2s.external.stac.viirs_375_toa_processor viirs_375_toa_processor.py:515 DEBUG: starting warp M11\n",
      "2023-04-20 17:45:59,434 c2s.external.stac.viirs_375_toa_processor viirs_375_toa_processor.py:515 DEBUG: starting warp M11\n",
      "2023-04-20 17:46:19,753 c2s.external.stac.viirs_375_toa_processor viirs_375_toa_processor.py:668 DEBUG: finish warp: M11\n",
      "2023-04-20 17:46:19,753 c2s.external.stac.viirs_375_toa_processor viirs_375_toa_processor.py:668 DEBUG: finish warp: M11\n",
      "2023-04-20 17:46:19,755 c2s.external.stac.viirs_375_toa_processor viirs_375_toa_processor.py:671 INFO: resampling 750-m bands to 375-m\n",
      "2023-04-20 17:46:19,755 c2s.external.stac.viirs_375_toa_processor viirs_375_toa_processor.py:671 INFO: resampling 750-m bands to 375-m\n",
      "2023-04-20 17:46:43,094 c2s.web.fix_cogs fix_cogs.py:143 DEBUG: Checking overviews and validating 'stac/VNP02.A2023001.0048.002/I02_negative.tif'.\n",
      "2023-04-20 17:46:43,097 c2s.web.fix_cogs fix_cogs.py:153 DEBUG: The COG needs to be updated.\n",
      "2023-04-20 17:46:43,098 c2s.web.fix_cogs fix_cogs.py:157 DEBUG: Running rio_cogeo.cog_translate...\n",
      "2023-04-20 17:46:46,981 c2s.web.fix_cogs fix_cogs.py:165 DEBUG: Finished updating COG.\n",
      "2023-04-20 17:46:47,075 c2s.web.fix_cogs fix_cogs.py:143 DEBUG: Checking overviews and validating 'stac/VNP02.A2023001.0048.002/M08_negative.tif'.\n",
      "2023-04-20 17:46:47,078 c2s.web.fix_cogs fix_cogs.py:153 DEBUG: The COG needs to be updated.\n",
      "2023-04-20 17:46:47,078 c2s.web.fix_cogs fix_cogs.py:157 DEBUG: Running rio_cogeo.cog_translate...\n",
      "2023-04-20 17:46:50,718 c2s.web.fix_cogs fix_cogs.py:165 DEBUG: Finished updating COG.\n",
      "2023-04-20 17:46:50,812 c2s.web.fix_cogs fix_cogs.py:143 DEBUG: Checking overviews and validating 'stac/VNP02.A2023001.0048.002/M04_positive.tif'.\n",
      "2023-04-20 17:46:50,815 c2s.web.fix_cogs fix_cogs.py:153 DEBUG: The COG needs to be updated.\n",
      "2023-04-20 17:46:50,816 c2s.web.fix_cogs fix_cogs.py:157 DEBUG: Running rio_cogeo.cog_translate...\n",
      "2023-04-20 17:46:52,057 c2s.web.fix_cogs fix_cogs.py:165 DEBUG: Finished updating COG.\n",
      "2023-04-20 17:46:52,066 c2s.web.fix_cogs fix_cogs.py:143 DEBUG: Checking overviews and validating 'stac/VNP02.A2023001.0048.002/M11_negative.tif'.\n",
      "2023-04-20 17:46:52,069 c2s.web.fix_cogs fix_cogs.py:153 DEBUG: The COG needs to be updated.\n",
      "2023-04-20 17:46:52,070 c2s.web.fix_cogs fix_cogs.py:157 DEBUG: Running rio_cogeo.cog_translate...\n",
      "2023-04-20 17:46:56,263 c2s.web.fix_cogs fix_cogs.py:165 DEBUG: Finished updating COG.\n",
      "2023-04-20 17:46:56,358 c2s.web.fix_cogs fix_cogs.py:143 DEBUG: Checking overviews and validating 'stac/VNP02.A2023001.0048.002/Cloud_Mask_positive.tif'.\n",
      "2023-04-20 17:46:56,361 c2s.web.fix_cogs fix_cogs.py:153 DEBUG: The COG needs to be updated.\n",
      "2023-04-20 17:46:56,362 c2s.web.fix_cogs fix_cogs.py:157 DEBUG: Running rio_cogeo.cog_translate...\n",
      "2023-04-20 17:46:59,639 c2s.web.fix_cogs fix_cogs.py:165 DEBUG: Finished updating COG.\n",
      "2023-04-20 17:46:59,643 c2s.web.fix_cogs fix_cogs.py:143 DEBUG: Checking overviews and validating 'stac/VNP02.A2023001.0048.002/I03_negative.tif'.\n",
      "2023-04-20 17:46:59,646 c2s.web.fix_cogs fix_cogs.py:153 DEBUG: The COG needs to be updated.\n",
      "2023-04-20 17:46:59,646 c2s.web.fix_cogs fix_cogs.py:157 DEBUG: Running rio_cogeo.cog_translate...\n",
      "2023-04-20 17:47:04,283 c2s.web.fix_cogs fix_cogs.py:165 DEBUG: Finished updating COG.\n",
      "2023-04-20 17:47:04,369 c2s.web.fix_cogs fix_cogs.py:143 DEBUG: Checking overviews and validating 'stac/VNP02.A2023001.0048.002/I01_positive.tif'.\n",
      "2023-04-20 17:47:04,372 c2s.web.fix_cogs fix_cogs.py:153 DEBUG: The COG needs to be updated.\n",
      "2023-04-20 17:47:04,373 c2s.web.fix_cogs fix_cogs.py:157 DEBUG: Running rio_cogeo.cog_translate...\n",
      "2023-04-20 17:47:05,273 c2s.web.fix_cogs fix_cogs.py:165 DEBUG: Finished updating COG.\n",
      "2023-04-20 17:47:05,280 c2s.web.fix_cogs fix_cogs.py:143 DEBUG: Checking overviews and validating 'stac/VNP02.A2023001.0048.002/M11_positive.tif'.\n",
      "2023-04-20 17:47:05,283 c2s.web.fix_cogs fix_cogs.py:153 DEBUG: The COG needs to be updated.\n",
      "2023-04-20 17:47:05,284 c2s.web.fix_cogs fix_cogs.py:157 DEBUG: Running rio_cogeo.cog_translate...\n",
      "2023-04-20 17:47:06,499 c2s.web.fix_cogs fix_cogs.py:165 DEBUG: Finished updating COG.\n",
      "2023-04-20 17:47:06,508 c2s.web.fix_cogs fix_cogs.py:143 DEBUG: Checking overviews and validating 'stac/VNP02.A2023001.0048.002/M03_positive.tif'.\n",
      "2023-04-20 17:47:06,511 c2s.web.fix_cogs fix_cogs.py:153 DEBUG: The COG needs to be updated.\n",
      "2023-04-20 17:47:06,511 c2s.web.fix_cogs fix_cogs.py:157 DEBUG: Running rio_cogeo.cog_translate...\n",
      "2023-04-20 17:47:07,814 c2s.web.fix_cogs fix_cogs.py:165 DEBUG: Finished updating COG.\n",
      "2023-04-20 17:47:07,823 c2s.web.fix_cogs fix_cogs.py:143 DEBUG: Checking overviews and validating 'stac/VNP02.A2023001.0048.002/M04_negative.tif'.\n",
      "2023-04-20 17:47:07,826 c2s.web.fix_cogs fix_cogs.py:153 DEBUG: The COG needs to be updated.\n",
      "2023-04-20 17:47:07,827 c2s.web.fix_cogs fix_cogs.py:157 DEBUG: Running rio_cogeo.cog_translate...\n",
      "2023-04-20 17:47:12,092 c2s.web.fix_cogs fix_cogs.py:165 DEBUG: Finished updating COG.\n",
      "2023-04-20 17:47:12,191 c2s.web.fix_cogs fix_cogs.py:143 DEBUG: Checking overviews and validating 'stac/VNP02.A2023001.0048.002/M08_positive.tif'.\n",
      "2023-04-20 17:47:12,194 c2s.web.fix_cogs fix_cogs.py:153 DEBUG: The COG needs to be updated.\n",
      "2023-04-20 17:47:12,195 c2s.web.fix_cogs fix_cogs.py:157 DEBUG: Running rio_cogeo.cog_translate...\n",
      "2023-04-20 17:47:13,170 c2s.web.fix_cogs fix_cogs.py:165 DEBUG: Finished updating COG.\n",
      "2023-04-20 17:47:13,180 c2s.web.fix_cogs fix_cogs.py:143 DEBUG: Checking overviews and validating 'stac/VNP02.A2023001.0048.002/Cloud_Mask_negative.tif'.\n",
      "2023-04-20 17:47:13,184 c2s.web.fix_cogs fix_cogs.py:153 DEBUG: The COG needs to be updated.\n",
      "2023-04-20 17:47:13,184 c2s.web.fix_cogs fix_cogs.py:157 DEBUG: Running rio_cogeo.cog_translate...\n",
      "2023-04-20 17:47:29,204 c2s.web.fix_cogs fix_cogs.py:165 DEBUG: Finished updating COG.\n",
      "2023-04-20 17:47:29,232 c2s.web.fix_cogs fix_cogs.py:143 DEBUG: Checking overviews and validating 'stac/VNP02.A2023001.0048.002/I01_negative.tif'.\n",
      "2023-04-20 17:47:29,235 c2s.web.fix_cogs fix_cogs.py:153 DEBUG: The COG needs to be updated.\n",
      "2023-04-20 17:47:29,236 c2s.web.fix_cogs fix_cogs.py:157 DEBUG: Running rio_cogeo.cog_translate...\n",
      "2023-04-20 17:47:32,415 c2s.web.fix_cogs fix_cogs.py:165 DEBUG: Finished updating COG.\n",
      "2023-04-20 17:47:32,514 c2s.web.fix_cogs fix_cogs.py:143 DEBUG: Checking overviews and validating 'stac/VNP02.A2023001.0048.002/I03_positive.tif'.\n",
      "2023-04-20 17:47:32,518 c2s.web.fix_cogs fix_cogs.py:153 DEBUG: The COG needs to be updated.\n",
      "2023-04-20 17:47:32,519 c2s.web.fix_cogs fix_cogs.py:157 DEBUG: Running rio_cogeo.cog_translate...\n",
      "2023-04-20 17:47:33,851 c2s.web.fix_cogs fix_cogs.py:165 DEBUG: Finished updating COG.\n",
      "2023-04-20 17:47:33,858 c2s.web.fix_cogs fix_cogs.py:143 DEBUG: Checking overviews and validating 'stac/VNP02.A2023001.0048.002/M03_negative.tif'.\n",
      "2023-04-20 17:47:33,862 c2s.web.fix_cogs fix_cogs.py:153 DEBUG: The COG needs to be updated.\n",
      "2023-04-20 17:47:33,862 c2s.web.fix_cogs fix_cogs.py:157 DEBUG: Running rio_cogeo.cog_translate...\n",
      "2023-04-20 17:47:38,097 c2s.web.fix_cogs fix_cogs.py:165 DEBUG: Finished updating COG.\n",
      "2023-04-20 17:47:38,197 c2s.web.fix_cogs fix_cogs.py:143 DEBUG: Checking overviews and validating 'stac/VNP02.A2023001.0048.002/I02_positive.tif'.\n",
      "2023-04-20 17:47:38,200 c2s.web.fix_cogs fix_cogs.py:153 DEBUG: The COG needs to be updated.\n",
      "2023-04-20 17:47:38,200 c2s.web.fix_cogs fix_cogs.py:157 DEBUG: Running rio_cogeo.cog_translate...\n",
      "2023-04-20 17:47:39,094 c2s.web.fix_cogs fix_cogs.py:165 DEBUG: Finished updating COG.\n",
      "2023-04-20 17:47:39,102 c2s.external.stac.viirs_375_toa_processor viirs_375_toa_processor.py:722 INFO: VNP02.A2023001.0048.002: Building two STAC items (one for positive lons, one for negative lons)\n",
      "2023-04-20 17:47:39,102 c2s.external.stac.viirs_375_toa_processor viirs_375_toa_processor.py:722 INFO: VNP02.A2023001.0048.002: Building two STAC items (one for positive lons, one for negative lons)\n",
      "2023-04-20 17:47:39,142 c2s.external.batch.download.preprocess.process_sensor_data process_sensor_data.py:76 INFO: VNP02.A2023001.0048.002: process_to_stac() took 764.3s\n",
      "2023-04-20 17:47:39,142 c2s.external.batch.download.preprocess.process_sensor_data process_sensor_data.py:76 INFO: VNP02.A2023001.0048.002: process_to_stac() took 764.3s\n",
      "2023-04-20 17:47:39,143 c2s.external.batch.download.preprocess.process_sensor_data process_sensor_data.py:79 INFO: VNP02.A2023001.0048.002: Beginning to generate_static()\n",
      "2023-04-20 17:47:39,143 c2s.external.batch.download.preprocess.process_sensor_data process_sensor_data.py:79 INFO: VNP02.A2023001.0048.002: Beginning to generate_static()\n",
      "2023-04-20 17:47:39,145 c2s.external.stac.viirs_375_toa_processor viirs_375_toa_processor.py:843 DEBUG: VNP02.A2023001.0048.002: gsw_destination='stac/VNP02.A2023001.0048.002/GSW_positive.tif'\n",
      "2023-04-20 17:47:39,145 c2s.external.stac.viirs_375_toa_processor viirs_375_toa_processor.py:843 DEBUG: VNP02.A2023001.0048.002: gsw_destination='stac/VNP02.A2023001.0048.002/GSW_positive.tif'\n"
     ]
    },
    {
     "name": "stderr",
     "output_type": "stream",
     "text": [
      "/usr/local/lib/python3.8/site-packages/rio_tiler/io/cogeo.py:139: NoOverviewWarning: The dataset has no Overviews. rio-tiler performances might be impacted.\n",
      "  warnings.warn(\n"
     ]
    },
    {
     "name": "stdout",
     "output_type": "stream",
     "text": [
      "2023-04-20 17:47:55,150 c2s.external.stac.viirs_375_toa_processor viirs_375_toa_processor.py:843 DEBUG: VNP02.A2023001.0048.002: gsw_destination='stac/VNP02.A2023001.0048.002/GSW_negative.tif'\n",
      "2023-04-20 17:47:55,150 c2s.external.stac.viirs_375_toa_processor viirs_375_toa_processor.py:843 DEBUG: VNP02.A2023001.0048.002: gsw_destination='stac/VNP02.A2023001.0048.002/GSW_negative.tif'\n"
     ]
    },
    {
     "name": "stderr",
     "output_type": "stream",
     "text": [
      "/usr/local/lib/python3.8/site-packages/rio_tiler/io/cogeo.py:139: NoOverviewWarning: The dataset has no Overviews. rio-tiler performances might be impacted.\n",
      "  warnings.warn(\n"
     ]
    },
    {
     "name": "stdout",
     "output_type": "stream",
     "text": [
      "2023-04-20 17:48:39,034 c2s.external.batch.download.preprocess.process_sensor_data process_sensor_data.py:83 INFO: VNP02.A2023001.0048.002: generate_static() took 59.9s\n",
      "2023-04-20 17:48:39,034 c2s.external.batch.download.preprocess.process_sensor_data process_sensor_data.py:83 INFO: VNP02.A2023001.0048.002: generate_static() took 59.9s\n",
      "2023-04-20 17:48:39,035 c2s.external.batch.download.preprocess.process_sensor_data process_sensor_data.py:92 INFO: VNP02.A2023001.0048.002: Beginning to upload_to_c2s_stac()\n",
      "2023-04-20 17:48:39,035 c2s.external.batch.download.preprocess.process_sensor_data process_sensor_data.py:92 INFO: VNP02.A2023001.0048.002: Beginning to upload_to_c2s_stac()\n",
      "2023-04-20 17:48:39,036 c2s.external.stac.base_processor base_processor.py:234 DEBUG: self.id='VNP02.A2023001.0048.002'\n",
      "2023-04-20 17:48:39,036 c2s.external.stac.base_processor base_processor.py:234 DEBUG: self.id='VNP02.A2023001.0048.002'\n",
      "2023-04-20 17:48:39,039 c2s.external.stac.base_processor base_processor.py:234 DEBUG: self.id='VNP02.A2023001.0048.002_positive'\n",
      "2023-04-20 17:48:39,039 c2s.external.stac.base_processor base_processor.py:234 DEBUG: self.id='VNP02.A2023001.0048.002_positive'\n",
      "2023-04-20 17:49:02,625 c2s.external.stac.base_processor base_processor.py:323 DEBUG: VNP02.A2023001.0048.002_positive: gcs stac item: viirs375_data/imagery/0048/2023001/VNP02/VNP02.A2023001.0048.002_positive.geojson\n",
      "2023-04-20 17:49:02,625 c2s.external.stac.base_processor base_processor.py:323 DEBUG: VNP02.A2023001.0048.002_positive: gcs stac item: viirs375_data/imagery/0048/2023001/VNP02/VNP02.A2023001.0048.002_positive.geojson\n",
      "2023-04-20 17:49:02,778 c2s.web.stac_api stac_api.py:373 INFO: putting (create or update) to stac server at url: https://stac.cloudtostreet.info/collections/viirs375_data/items\n",
      "2023-04-20 17:49:03,021 c2s.external.stac.base_processor base_processor.py:333 DEBUG: VNP02.A2023001.0048.002_positive: Success code returned from stac server!\n",
      "2023-04-20 17:49:03,021 c2s.external.stac.base_processor base_processor.py:333 DEBUG: VNP02.A2023001.0048.002_positive: Success code returned from stac server!\n",
      "2023-04-20 17:49:03,023 c2s.external.stac.base_processor base_processor.py:234 DEBUG: self.id='VNP02.A2023001.0048.002_negative'\n",
      "2023-04-20 17:49:03,023 c2s.external.stac.base_processor base_processor.py:234 DEBUG: self.id='VNP02.A2023001.0048.002_negative'\n",
      "2023-04-20 17:49:26,803 c2s.external.stac.base_processor base_processor.py:323 DEBUG: VNP02.A2023001.0048.002_negative: gcs stac item: viirs375_data/imagery/0048/2023001/VNP02/VNP02.A2023001.0048.002_negative.geojson\n",
      "2023-04-20 17:49:26,803 c2s.external.stac.base_processor base_processor.py:323 DEBUG: VNP02.A2023001.0048.002_negative: gcs stac item: viirs375_data/imagery/0048/2023001/VNP02/VNP02.A2023001.0048.002_negative.geojson\n",
      "2023-04-20 17:49:26,904 c2s.web.stac_api stac_api.py:373 INFO: putting (create or update) to stac server at url: https://stac.cloudtostreet.info/collections/viirs375_data/items\n",
      "2023-04-20 17:49:26,979 c2s.external.stac.base_processor base_processor.py:333 DEBUG: VNP02.A2023001.0048.002_negative: Success code returned from stac server!\n",
      "2023-04-20 17:49:26,979 c2s.external.stac.base_processor base_processor.py:333 DEBUG: VNP02.A2023001.0048.002_negative: Success code returned from stac server!\n",
      "2023-04-20 17:49:26,981 c2s.external.batch.download.preprocess.process_sensor_data process_sensor_data.py:97 INFO: VNP02.A2023001.0048.002: upload_to_c2s_stac() took 47.9s\n",
      "2023-04-20 17:49:26,981 c2s.external.batch.download.preprocess.process_sensor_data process_sensor_data.py:97 INFO: VNP02.A2023001.0048.002: upload_to_c2s_stac() took 47.9s\n",
      "2023-04-20 17:49:26,982 c2s.external.batch.download.preprocess.process_sensor_data process_sensor_data.py:98 INFO: VNP02.A2023001.0048.002: Ingestion completed in 872.2s\n",
      "2023-04-20 17:49:26,982 c2s.external.batch.download.preprocess.process_sensor_data process_sensor_data.py:98 INFO: VNP02.A2023001.0048.002: Ingestion completed in 872.2s\n",
      "2023-04-20 17:49:26,986 c2s.external.batch.download.preprocess.process_sensor_data process_sensor_data.py:177 DEBUG: ./test_data/VNP02.A2023001.0048.002: Cleaning up paths in stac/: ['stac/VNP02.A2023001.0048.002', 'stac/VNP02.A2023001.0048.002/GSW_positive.tif', 'stac/VNP02.A2023001.0048.002/I02_negative.tif', 'stac/VNP02.A2023001.0048.002/M08_negative.tif', 'stac/VNP02.A2023001.0048.002/M04_positive.tif', 'stac/VNP02.A2023001.0048.002/M11_negative.tif', 'stac/VNP02.A2023001.0048.002/Cloud_Mask_positive.tif', 'stac/VNP02.A2023001.0048.002/I03_negative.tif', 'stac/VNP02.A2023001.0048.002/VNP02.A2023001.0048.002_negative.geojson', 'stac/VNP02.A2023001.0048.002/I01_positive.tif', 'stac/VNP02.A2023001.0048.002/VNP02.A2023001.0048.002_positive.geojson', 'stac/VNP02.A2023001.0048.002/M11_positive.tif', 'stac/VNP02.A2023001.0048.002/M03_positive.tif', 'stac/VNP02.A2023001.0048.002/M04_negative.tif', 'stac/VNP02.A2023001.0048.002/M08_positive.tif', 'stac/VNP02.A2023001.0048.002/Cloud_Mask_negative.tif', 'stac/VNP02.A2023001.0048.002/I01_negative.tif', 'stac/VNP02.A2023001.0048.002/I03_positive.tif', 'stac/VNP02.A2023001.0048.002/M03_negative.tif', 'stac/VNP02.A2023001.0048.002/GSW_negative.tif', 'stac/VNP02.A2023001.0048.002/I02_positive.tif']\n",
      "2023-04-20 17:49:26,986 c2s.external.batch.download.preprocess.process_sensor_data process_sensor_data.py:177 DEBUG: ./test_data/VNP02.A2023001.0048.002: Cleaning up paths in stac/: ['stac/VNP02.A2023001.0048.002', 'stac/VNP02.A2023001.0048.002/GSW_positive.tif', 'stac/VNP02.A2023001.0048.002/I02_negative.tif', 'stac/VNP02.A2023001.0048.002/M08_negative.tif', 'stac/VNP02.A2023001.0048.002/M04_positive.tif', 'stac/VNP02.A2023001.0048.002/M11_negative.tif', 'stac/VNP02.A2023001.0048.002/Cloud_Mask_positive.tif', 'stac/VNP02.A2023001.0048.002/I03_negative.tif', 'stac/VNP02.A2023001.0048.002/VNP02.A2023001.0048.002_negative.geojson', 'stac/VNP02.A2023001.0048.002/I01_positive.tif', 'stac/VNP02.A2023001.0048.002/VNP02.A2023001.0048.002_positive.geojson', 'stac/VNP02.A2023001.0048.002/M11_positive.tif', 'stac/VNP02.A2023001.0048.002/M03_positive.tif', 'stac/VNP02.A2023001.0048.002/M04_negative.tif', 'stac/VNP02.A2023001.0048.002/M08_positive.tif', 'stac/VNP02.A2023001.0048.002/Cloud_Mask_negative.tif', 'stac/VNP02.A2023001.0048.002/I01_negative.tif', 'stac/VNP02.A2023001.0048.002/I03_positive.tif', 'stac/VNP02.A2023001.0048.002/M03_negative.tif', 'stac/VNP02.A2023001.0048.002/GSW_negative.tif', 'stac/VNP02.A2023001.0048.002/I02_positive.tif']\n"
     ]
    },
    {
     "data": {
      "text/plain": [
       "True"
      ]
     },
     "execution_count": 77,
     "metadata": {},
     "output_type": "execute_result"
    }
   ],
   "source": [
    "# can we run processing from beginning to end like we will in dataflow??\n",
    "from c2s.external.batch.download.preprocess.process_sensor_data import preprocess\n",
    "\n",
    "\n",
    "# processor\n",
    "download_dir = \"./test_data\"\n",
    "\n",
    "preprocess(\n",
    "    download_path=f\"{download_dir}/{tile_dict['tile_id']}\",\n",
    "    tile_json=\"gs://viirs375_data/ingest_tile_logs/viirs375_process_20230412-211121.json\",\n",
    "    sensor=\"viirs375\",\n",
    ")"
   ]
  },
  {
   "cell_type": "code",
   "execution_count": 65,
   "id": "bb2e0c98-c1ab-464e-97e7-12f37e5c0c35",
   "metadata": {
    "tags": []
   },
   "outputs": [
    {
     "name": "stdout",
     "output_type": "stream",
     "text": [
      "done\n"
     ]
    }
   ],
   "source": [
    "print(\"done\")"
   ]
  },
  {
   "cell_type": "markdown",
   "id": "de6f3eb9-bf8b-4610-979a-1be5c0fcfb61",
   "metadata": {},
   "source": [
    "## Testing Dataflow with updated processor"
   ]
  },
  {
   "cell_type": "markdown",
   "id": "0609d07b-bcf3-4ac4-83a2-e9bdb93b4868",
   "metadata": {},
   "source": [
    "### Crossing antimeridian"
   ]
  },
  {
   "cell_type": "code",
   "execution_count": 4,
   "id": "043836a0-b36f-4ab0-8abe-38c2f2ea1668",
   "metadata": {
    "tags": []
   },
   "outputs": [],
   "source": [
    "batch = SensorBatch(\n",
    "    sensor=\"viirs375\",\n",
    "    tile_list=[tile_dict],\n",
    ")"
   ]
  },
  {
   "cell_type": "code",
   "execution_count": 5,
   "id": "f0275b74-b38c-4b85-86ed-c0ad7944c753",
   "metadata": {
    "collapsed": true,
    "jupyter": {
     "outputs_hidden": true
    },
    "tags": []
   },
   "outputs": [
    {
     "name": "stderr",
     "output_type": "stream",
     "text": [
      "/home/nick/C2S-Python-API/c2s/external/stac/planet_api_class.py:11: ClientV1DeprecationWarning: The planet.api module is deprecated and will be removed in version 2.0.0. For more details please see the discussion at https://github.com/planetlabs/planet-client-python/discussions.\n",
      "  from planet import api\n",
      "Searching the STAC server for items in collections ['viirs375_data']: 100%|█████████████████████████████████████████████████████| 1/1 [00:00<00:00,  6.90queries/s]"
     ]
    },
    {
     "name": "stdout",
     "output_type": "stream",
     "text": [
      "2023-04-20 18:42:05,434 c2s.external.batch.sensor_batch sensor_batch.py:834 INFO: ====================================================================================================\n",
      "2023-04-20 18:42:05,434 c2s.external.batch.sensor_batch sensor_batch.py:834 INFO: ====================================================================================================\n",
      "2023-04-20 18:42:05,434 c2s.external.batch.sensor_batch sensor_batch.py:835 INFO: 1/1 tiles are not already in the stac server\n",
      "2023-04-20 18:42:05,434 c2s.external.batch.sensor_batch sensor_batch.py:835 INFO: 1/1 tiles are not already in the stac server\n",
      "2023-04-20 18:42:05,435 c2s.external.batch.sensor_batch sensor_batch.py:838 INFO: ====================================================================================================\n",
      "2023-04-20 18:42:05,435 c2s.external.batch.sensor_batch sensor_batch.py:838 INFO: ====================================================================================================\n",
      "2023-04-20 18:42:05,436 c2s.external.batch.sensor_batch sensor_batch.py:893 INFO: No input tiles are already in the stac server. Downloading all of them.\n",
      "2023-04-20 18:42:05,436 c2s.external.batch.sensor_batch sensor_batch.py:893 INFO: No input tiles are already in the stac server. Downloading all of them.\n",
      "2023-04-20 18:42:05,437 c2s.external.batch.sensor_batch sensor_batch.py:901 INFO: ====================================================================================================\n",
      "2023-04-20 18:42:05,437 c2s.external.batch.sensor_batch sensor_batch.py:901 INFO: ====================================================================================================\n"
     ]
    },
    {
     "name": "stderr",
     "output_type": "stream",
     "text": [
      "\n"
     ]
    },
    {
     "name": "stdout",
     "output_type": "stream",
     "text": [
      "2023-04-20 18:42:07,177 c2s.external.batch.download.preprocess.deploy_data_processing deploy_data_processing.py:354 INFO: Dataflow job will be running with the following image and tag: data-downlaod:latest\n",
      "2023-04-20 18:42:07,177 c2s.external.batch.download.preprocess.deploy_data_processing deploy_data_processing.py:354 INFO: Dataflow job will be running with the following image and tag: data-downlaod:latest\n",
      "2023-04-20 18:42:07,221 c2s.external.batch __init__.py:158 INFO: Dataflow labels for current job: ['--label', 'git-useremail=nick-at-cloudtostreet-dot-info', '--label', 'git-username=nick_leach', '--label', 'hostname=edf429c6f781']\n"
     ]
    },
    {
     "name": "stderr",
     "output_type": "stream",
     "text": [
      "WARNING:apache_beam.options.pipeline_options_validator:Setting sdk_container_image to value of legacy flag worker_harness_container_image.\n"
     ]
    },
    {
     "name": "stdout",
     "output_type": "stream",
     "text": [
      "Using flags: ['--job_name', 'unknown-region-nrt-ingest-viirs375-1tiles-20230420-184205', '--temp_location', 'gs://viirs375_data/tmp', '--staging_location', 'gs://viirs375_data/staging', '--machine_type', 'n2-highmem-4', '--disk_size_gb', '100', '--project', 'cloudtostreet', '--region', 'us-central1', '--runner', 'DataflowRunner', '--experiment', 'use_runner_v2', '--setup_file', '/home/nick/C2S-Python-API/setup.py', '--worker_harness_container_image', 'gcr.io/cloudtostreet/data-download:latest', '--max_num_workers', '1', '--number_of_worker_harness_threads', '1', '--label', 'git-useremail=nick-at-cloudtostreet-dot-info', '--label', 'git-username=nick_leach', '--label', 'hostname=edf429c6f781', '--label', 'tag=latest', '--save_main_session']\n",
      "2023-04-20 18:42:07,245 c2s.external.batch.download.preprocess.deploy_data_processing deploy_data_processing.py:264 INFO: sensor: viirs375 \n",
      " tiles: [{'tile_id': 'VNP02.A2023001.0048.002', 'urls': {'idata': 'https://ladsweb.modaps.eosdis.nasa.gov/archive/allData/5200/VNP02IMG/2023/001/VNP02IMG.A2023001.0048.002.2023001101151.nc', 'igeo': 'https://ladsweb.modaps.eosdis.nasa.gov/archive/allData/5200/VNP03IMG/2023/001/VNP03IMG.A2023001.0048.002.2023001094356.nc', 'mdata': 'https://ladsweb.modaps.eosdis.nasa.gov/archive/allData/5200/VNP02MOD/2023/001/VNP02MOD.A2023001.0048.002.2023001101151.nc', 'mgeo': 'https://ladsweb.modaps.eosdis.nasa.gov/archive/allData/5200/VNP03MOD/2023/001/VNP03MOD.A2023001.0048.002.2023001094356.nc', 'cmdata': 'https://ladsweb.modaps.eosdis.nasa.gov/archive/allData/5110/CLDMSK_L2_VIIRS_SNPP/2023/001/CLDMSK_L2_VIIRS_SNPP.A2023001.0048.001.2023001131937.nc'}}]\n",
      "2023-04-20 18:42:07,245 c2s.external.batch.download.preprocess.deploy_data_processing deploy_data_processing.py:264 INFO: sensor: viirs375 \n",
      " tiles: [{'tile_id': 'VNP02.A2023001.0048.002', 'urls': {'idata': 'https://ladsweb.modaps.eosdis.nasa.gov/archive/allData/5200/VNP02IMG/2023/001/VNP02IMG.A2023001.0048.002.2023001101151.nc', 'igeo': 'https://ladsweb.modaps.eosdis.nasa.gov/archive/allData/5200/VNP03IMG/2023/001/VNP03IMG.A2023001.0048.002.2023001094356.nc', 'mdata': 'https://ladsweb.modaps.eosdis.nasa.gov/archive/allData/5200/VNP02MOD/2023/001/VNP02MOD.A2023001.0048.002.2023001101151.nc', 'mgeo': 'https://ladsweb.modaps.eosdis.nasa.gov/archive/allData/5200/VNP03MOD/2023/001/VNP03MOD.A2023001.0048.002.2023001094356.nc', 'cmdata': 'https://ladsweb.modaps.eosdis.nasa.gov/archive/allData/5110/CLDMSK_L2_VIIRS_SNPP/2023/001/CLDMSK_L2_VIIRS_SNPP.A2023001.0048.001.2023001131937.nc'}}]\n"
     ]
    },
    {
     "name": "stderr",
     "output_type": "stream",
     "text": [
      "INFO:c2s.external.batch.download.preprocess.deploy_data_processing:sensor: viirs375 \n",
      " tiles: [{'tile_id': 'VNP02.A2023001.0048.002', 'urls': {'idata': 'https://ladsweb.modaps.eosdis.nasa.gov/archive/allData/5200/VNP02IMG/2023/001/VNP02IMG.A2023001.0048.002.2023001101151.nc', 'igeo': 'https://ladsweb.modaps.eosdis.nasa.gov/archive/allData/5200/VNP03IMG/2023/001/VNP03IMG.A2023001.0048.002.2023001094356.nc', 'mdata': 'https://ladsweb.modaps.eosdis.nasa.gov/archive/allData/5200/VNP02MOD/2023/001/VNP02MOD.A2023001.0048.002.2023001101151.nc', 'mgeo': 'https://ladsweb.modaps.eosdis.nasa.gov/archive/allData/5200/VNP03MOD/2023/001/VNP03MOD.A2023001.0048.002.2023001094356.nc', 'cmdata': 'https://ladsweb.modaps.eosdis.nasa.gov/archive/allData/5110/CLDMSK_L2_VIIRS_SNPP/2023/001/CLDMSK_L2_VIIRS_SNPP.A2023001.0048.001.2023001131937.nc'}}]\n"
     ]
    },
    {
     "name": "stdout",
     "output_type": "stream",
     "text": [
      "2023-04-20 18:42:07,245 c2s.external.batch.download.preprocess.deploy_data_processing deploy_data_processing.py:270 INFO: entered run job\n",
      "2023-04-20 18:42:07,245 c2s.external.batch.download.preprocess.deploy_data_processing deploy_data_processing.py:270 INFO: entered run job\n"
     ]
    },
    {
     "name": "stderr",
     "output_type": "stream",
     "text": [
      "INFO:c2s.external.batch.download.preprocess.deploy_data_processing:entered run job\n",
      "WARNING:apache_beam.runners.interactive.interactive_environment:Dependencies required for Interactive Beam PCollection visualization are not available, please use: `pip install apache-beam[interactive]` to install necessary dependencies to enable all data visualization features.\n"
     ]
    },
    {
     "data": {
      "application/javascript": [
       "\n",
       "        if (typeof window.interactive_beam_jquery == 'undefined') {\n",
       "          var jqueryScript = document.createElement('script');\n",
       "          jqueryScript.src = 'https://code.jquery.com/jquery-3.4.1.slim.min.js';\n",
       "          jqueryScript.type = 'text/javascript';\n",
       "          jqueryScript.onload = function() {\n",
       "            var datatableScript = document.createElement('script');\n",
       "            datatableScript.src = 'https://cdn.datatables.net/1.10.20/js/jquery.dataTables.min.js';\n",
       "            datatableScript.type = 'text/javascript';\n",
       "            datatableScript.onload = function() {\n",
       "              window.interactive_beam_jquery = jQuery.noConflict(true);\n",
       "              window.interactive_beam_jquery(document).ready(function($){\n",
       "                \n",
       "              });\n",
       "            }\n",
       "            document.head.appendChild(datatableScript);\n",
       "          };\n",
       "          document.head.appendChild(jqueryScript);\n",
       "        } else {\n",
       "          window.interactive_beam_jquery(document).ready(function($){\n",
       "            \n",
       "          });\n",
       "        }"
      ]
     },
     "metadata": {},
     "output_type": "display_data"
    },
    {
     "name": "stdout",
     "output_type": "stream",
     "text": [
      "Starting Beam job.\n"
     ]
    },
    {
     "name": "stderr",
     "output_type": "stream",
     "text": [
      "warning: check: missing required meta-data: url\n",
      "\n",
      "warning: check: missing meta-data: either (author and author_email) or (maintainer and maintainer_email) must be supplied\n",
      "\n",
      "\n",
      "[notice] A new release of pip is available: 23.0.1 -> 23.1\n",
      "[notice] To update, run: pip install --upgrade pip\n",
      "\n",
      "[notice] A new release of pip is available: 23.0.1 -> 23.1\n",
      "[notice] To update, run: pip install --upgrade pip\n"
     ]
    },
    {
     "name": "stdout",
     "output_type": "stream",
     "text": [
      "Running.View progress in your browser at:\n",
      "\thttps://console.cloud.google.com/dataflow/jobs/us-central1/2023-04-20_11_42_13-17838631378318934762?project=cloudtostreet\n"
     ]
    },
    {
     "data": {
      "text/plain": [
       "[<DataflowPipelineResult <Job\n",
       "  clientRequestId: '20230420184209883846-3572'\n",
       "  createTime: '2023-04-20T18:42:15.227278Z'\n",
       "  currentStateTime: '1970-01-01T00:00:00Z'\n",
       "  id: '2023-04-20_11_42_13-17838631378318934762'\n",
       "  location: 'us-central1'\n",
       "  name: 'unknown-region-nrt-ingest-viirs375-1tiles-20230420-184205'\n",
       "  projectId: 'cloudtostreet'\n",
       "  stageStates: []\n",
       "  startTime: '2023-04-20T18:42:15.227278Z'\n",
       "  steps: []\n",
       "  tempFiles: []\n",
       "  type: TypeValueValuesEnum(JOB_TYPE_BATCH, 1)> at 0x7f45b19747f0>]"
      ]
     },
     "execution_count": 5,
     "metadata": {},
     "output_type": "execute_result"
    }
   ],
   "source": [
    "os.environ[\"DATAFLOW_IMAGE_TAG\"] = \"latest\"\n",
    "batch.download(download_again=True)"
   ]
  },
  {
   "cell_type": "code",
   "execution_count": 6,
   "id": "8d63c142-85fb-4f7c-91af-3132e65538e1",
   "metadata": {
    "collapsed": true,
    "jupyter": {
     "outputs_hidden": true
    },
    "tags": []
   },
   "outputs": [
    {
     "data": {
      "text/plain": [
       "{'type': 'Feature',\n",
       " 'stac_version': '1.0.0',\n",
       " 'id': 'VNP02.A2023001.0048.002_negative',\n",
       " 'properties': {'gsd': 750.0,\n",
       "  'instruments': ['VIIRS'],\n",
       "  'platform': 'Suomi-NPP',\n",
       "  'constellation': 'Suomi-NPP',\n",
       "  'proj:epsg': None,\n",
       "  'proj:wkt2': 'PROJCS[\"MODIS Sinusoidal\",GEOGCS[\"WGS 84\",DATUM[\"WGS_1984\",SPHEROID[\"WGS 84\",6378137,298.257223563,AUTHORITY[\"EPSG\",\"7030\"]],AUTHORITY[\"EPSG\",\"6326\"]],PRIMEM[\"Greenwich\",0,AUTHORITY[\"EPSG\",\"8901\"]],UNIT[\"degree\",0.01745329251994328,AUTHORITY[\"EPSG\",\"9122\"]],AUTHORITY[\"EPSG\",\"4326\"]],PROJECTION[\"Sinusoidal\"],PARAMETER[\"false_easting\",0.0],PARAMETER[\"false_northing\",0.0],PARAMETER[\"central_meridian\",0.0],PARAMETER[\"semi_major\",6371007.181],PARAMETER[\"semi_minor\",6371007.181],UNIT[\"m\",1.0]]',\n",
       "  'datetime': '2023-01-01T00:48:00Z',\n",
       "  'biome_name': 'Tropical & Subtropical Moist Broadleaf Forests',\n",
       "  'continent_name': 'South America',\n",
       "  'country_name': 'Brazil',\n",
       "  'SMOD_percent': {'0': 81.9,\n",
       "   '11': 17.7,\n",
       "   '12': 0.2,\n",
       "   '13': 0.0,\n",
       "   '21': 0.0,\n",
       "   '22': 0.0,\n",
       "   '23': 0.0,\n",
       "   '30': 0.0},\n",
       "  'SMOD_majority_id': 0,\n",
       "  'SMOD_majority_name': 'Water grid',\n",
       "  'SMOD_Urban_percent': 0.0,\n",
       "  'SMOD_Suburban_percent': 0.0},\n",
       " 'geometry': {'type': 'Polygon',\n",
       "  'coordinates': [[[0.0, -30.389168],\n",
       "    [0.0, -5.436309],\n",
       "    [-180.0, -5.436309],\n",
       "    [-180.0, -30.389168],\n",
       "    [0.0, -30.389168]]]},\n",
       " 'links': [{'rel': 'collection',\n",
       "   'href': 'https://stac.cloudtostreet.info/collections/viirs375_data'},\n",
       "  {'rel': 'self',\n",
       "   'href': '/stac/VNP02.A2023001.0048.002/VNP02.A2023001.0048.002_negative.geojson',\n",
       "   'type': 'application/json'}],\n",
       " 'assets': {'I01': {'href': 'https://storage.googleapis.com/viirs375_data/imagery/0048/2023001/VNP02/I01_negative.tif',\n",
       "   'type': 'image/tiff; application=geotiff; profile=cloud-optimized',\n",
       "   'eo:bands': [{'name': 'I01', 'common_name': 'red'}]},\n",
       "  'I02': {'href': 'https://storage.googleapis.com/viirs375_data/imagery/0048/2023001/VNP02/I02_negative.tif',\n",
       "   'type': 'image/tiff; application=geotiff; profile=cloud-optimized',\n",
       "   'eo:bands': [{'name': 'I02', 'common_name': 'nir'}]},\n",
       "  'I03': {'href': 'https://storage.googleapis.com/viirs375_data/imagery/0048/2023001/VNP02/I03_negative.tif',\n",
       "   'type': 'image/tiff; application=geotiff; profile=cloud-optimized',\n",
       "   'eo:bands': [{'name': 'I03', 'common_name': 'swir16'}]},\n",
       "  'M03': {'href': 'https://storage.googleapis.com/viirs375_data/imagery/0048/2023001/VNP02/M03_negative.tif',\n",
       "   'type': 'image/tiff; application=geotiff; profile=cloud-optimized',\n",
       "   'eo:bands': [{'name': 'M03', 'common_name': 'blue'}]},\n",
       "  'M04': {'href': 'https://storage.googleapis.com/viirs375_data/imagery/0048/2023001/VNP02/M04_negative.tif',\n",
       "   'type': 'image/tiff; application=geotiff; profile=cloud-optimized',\n",
       "   'eo:bands': [{'name': 'M04', 'common_name': 'green'}]},\n",
       "  'M08': {'href': 'https://storage.googleapis.com/viirs375_data/imagery/0048/2023001/VNP02/M08_negative.tif',\n",
       "   'type': 'image/tiff; application=geotiff; profile=cloud-optimized',\n",
       "   'eo:bands': [{'name': 'M08'}]},\n",
       "  'M11': {'href': 'https://storage.googleapis.com/viirs375_data/imagery/0048/2023001/VNP02/M11_negative.tif',\n",
       "   'type': 'image/tiff; application=geotiff; profile=cloud-optimized',\n",
       "   'eo:bands': [{'name': 'M11', 'common_name': 'swir22'}]},\n",
       "  'Cloud_Mask': {'href': 'https://storage.googleapis.com/viirs375_data/imagery/0048/2023001/VNP02/Cloud_Mask_negative.tif',\n",
       "   'type': 'image/tiff; application=geotiff; profile=cloud-optimized',\n",
       "   'title': 'Cloud Mask',\n",
       "   'roles': ['data']},\n",
       "  'GSW': {'href': 'https://storage.googleapis.com/viirs375_data/imagery/0048/2023001/VNP02/GSW_negative.tif',\n",
       "   'type': 'image/tiff; application=geotiff; profile=cloud-optimized'}},\n",
       " 'bbox': [-180, -30.389168, 0, -5.4363089],\n",
       " 'stac_extensions': ['https://stac-extensions.github.io/eo/v1.0.0/schema.json',\n",
       "  'https://stac-extensions.github.io/projection/v1.0.0/schema.json'],\n",
       " 'collection': 'viirs375_data'}"
      ]
     },
     "execution_count": 6,
     "metadata": {},
     "output_type": "execute_result"
    }
   ],
   "source": [
    "import gcsfs\n",
    "import json\n",
    "\n",
    "fs = gcsfs.GCSFileSystem()\n",
    "\n",
    "with fs.open(\"gs://viirs375_data/imagery/0048/2023001/VNP02/VNP02.A2023001.0048.002_negative.geojson\") as f:\n",
    "    out = json.load(f)\n",
    "    \n",
    "out"
   ]
  },
  {
   "cell_type": "code",
   "execution_count": 7,
   "id": "07f7fc1b-8043-4cea-8eda-7de2dc084eac",
   "metadata": {
    "tags": []
   },
   "outputs": [
    {
     "data": {
      "text/plain": [
       "<Item id=VNP02.A2023001.0048.002_negative>"
      ]
     },
     "execution_count": 7,
     "metadata": {},
     "output_type": "execute_result"
    }
   ],
   "source": [
    "import pystac\n",
    "\n",
    "item = pystac.Item.from_dict(out)\n",
    "item"
   ]
  },
  {
   "cell_type": "code",
   "execution_count": 9,
   "id": "145d7479-2f6d-4954-b018-74a926b5e746",
   "metadata": {
    "tags": []
   },
   "outputs": [],
   "source": [
    "item.properties[\"crosses_antimeridian\"] = True"
   ]
  },
  {
   "cell_type": "code",
   "execution_count": 10,
   "id": "7a13ae4d-ae59-4ca6-9d39-1a604ef3cb5f",
   "metadata": {
    "tags": []
   },
   "outputs": [
    {
     "data": {
      "text/plain": [
       "{'gsd': 750.0,\n",
       " 'instruments': ['VIIRS'],\n",
       " 'platform': 'Suomi-NPP',\n",
       " 'constellation': 'Suomi-NPP',\n",
       " 'proj:epsg': None,\n",
       " 'proj:wkt2': 'PROJCS[\"MODIS Sinusoidal\",GEOGCS[\"WGS 84\",DATUM[\"WGS_1984\",SPHEROID[\"WGS 84\",6378137,298.257223563,AUTHORITY[\"EPSG\",\"7030\"]],AUTHORITY[\"EPSG\",\"6326\"]],PRIMEM[\"Greenwich\",0,AUTHORITY[\"EPSG\",\"8901\"]],UNIT[\"degree\",0.01745329251994328,AUTHORITY[\"EPSG\",\"9122\"]],AUTHORITY[\"EPSG\",\"4326\"]],PROJECTION[\"Sinusoidal\"],PARAMETER[\"false_easting\",0.0],PARAMETER[\"false_northing\",0.0],PARAMETER[\"central_meridian\",0.0],PARAMETER[\"semi_major\",6371007.181],PARAMETER[\"semi_minor\",6371007.181],UNIT[\"m\",1.0]]',\n",
       " 'datetime': '2023-01-01T00:48:00Z',\n",
       " 'biome_name': 'Tropical & Subtropical Moist Broadleaf Forests',\n",
       " 'continent_name': 'South America',\n",
       " 'country_name': 'Brazil',\n",
       " 'SMOD_percent': {'0': 81.9,\n",
       "  '11': 17.7,\n",
       "  '12': 0.2,\n",
       "  '13': 0.0,\n",
       "  '21': 0.0,\n",
       "  '22': 0.0,\n",
       "  '23': 0.0,\n",
       "  '30': 0.0},\n",
       " 'SMOD_majority_id': 0,\n",
       " 'SMOD_majority_name': 'Water grid',\n",
       " 'SMOD_Urban_percent': 0.0,\n",
       " 'SMOD_Suburban_percent': 0.0,\n",
       " 'crosses_antimeridian': True}"
      ]
     },
     "execution_count": 10,
     "metadata": {},
     "output_type": "execute_result"
    }
   ],
   "source": [
    "item.properties"
   ]
  },
  {
   "cell_type": "code",
   "execution_count": 11,
   "id": "1d96c001-dcd2-4099-b445-b13c1696a32d",
   "metadata": {
    "tags": []
   },
   "outputs": [
    {
     "data": {
      "text/plain": [
       "'VNP02.A2023001.0048.002_negative'"
      ]
     },
     "execution_count": 11,
     "metadata": {},
     "output_type": "execute_result"
    }
   ],
   "source": [
    "item.id"
   ]
  },
  {
   "cell_type": "code",
   "execution_count": 18,
   "id": "7fd3d02a-d899-45e2-be36-685d225c002f",
   "metadata": {
    "tags": []
   },
   "outputs": [
    {
     "data": {
      "text/plain": [
       "'VNP02.A2023001.0048.002_positive'"
      ]
     },
     "execution_count": 18,
     "metadata": {},
     "output_type": "execute_result"
    }
   ],
   "source": [
    "mapper = {\"positive\": \"negative\", \"negative\": \"positive\"}\n",
    "for k, v in mapper.items():\n",
    "    item.id = item.id.replace(k, v)\n",
    "    \n",
    "item.id"
   ]
  },
  {
   "cell_type": "markdown",
   "id": "a39f4c84-62fd-411f-b8f1-db5d89ddba89",
   "metadata": {},
   "source": [
    "### Making sure we didn't break anything if it DOESN'T cross antimeridian"
   ]
  },
  {
   "cell_type": "code",
   "execution_count": 6,
   "id": "765f9f07-0f1f-43bb-a264-df66d2b1250a",
   "metadata": {
    "tags": []
   },
   "outputs": [
    {
     "name": "stdout",
     "output_type": "stream",
     "text": [
      "2023-04-20 18:53:59,220 c2s.external.stac.viirs_class viirs_class.py:439 DEBUG: 0 dates missing: []\n",
      "2023-04-20 18:53:59,220 c2s.external.stac.viirs_class viirs_class.py:439 DEBUG: 0 dates missing: []\n"
     ]
    },
    {
     "name": "stderr",
     "output_type": "stream",
     "text": [
      "DEBUG:c2s.external.stac.viirs_class:0 dates missing: []\n"
     ]
    },
    {
     "name": "stdout",
     "output_type": "stream",
     "text": [
      "2023-04-20 18:53:59,223 c2s.external.stac.viirs_class viirs_class.py:440 DEBUG: 0 tiles without 5 urls: []\n",
      "2023-04-20 18:53:59,223 c2s.external.stac.viirs_class viirs_class.py:440 DEBUG: 0 tiles without 5 urls: []\n"
     ]
    },
    {
     "name": "stderr",
     "output_type": "stream",
     "text": [
      "DEBUG:c2s.external.stac.viirs_class:0 tiles without 5 urls: []\n"
     ]
    }
   ],
   "source": [
    "congo_geom = {\"type\":\"Polygon\",\"coordinates\":[[[14.545912658064708,2.894919331751849],[14.545912658064708,-6.777925416519486],[25.246596251814708,-6.777925416519486],[25.246596251814708,2.894919331751849], [14.545912658064708,2.894919331751849]]]}\n",
    "\n",
    "start_date = \"2021-07-26\"\n",
    "end_date = \"2021-08-03\"\n",
    "\n",
    "v = ViirsCMR()\n",
    "\n",
    "results, _ = v.query_viirs_375_imagery(\n",
    "    start_date=start_date,\n",
    "    end_date=end_date,\n",
    "    roi=congo_geom\n",
    ")"
   ]
  },
  {
   "cell_type": "code",
   "execution_count": 7,
   "id": "ba2de636-5e1a-4a90-b974-c65f64e8aa9a",
   "metadata": {
    "tags": []
   },
   "outputs": [
    {
     "data": {
      "text/plain": [
       "{'tile_id': 'VNP02.A2021207.1124.002',\n",
       " 'urls': {'idata': 'https://ladsweb.modaps.eosdis.nasa.gov/archive/allData/5200/VNP02IMG/2021/207/VNP02IMG.A2021207.1124.002.2022266150536.nc',\n",
       "  'igeo': 'https://ladsweb.modaps.eosdis.nasa.gov/archive/allData/5200/VNP03IMG/2021/207/VNP03IMG.A2021207.1124.002.2021207185411.nc',\n",
       "  'mdata': 'https://ladsweb.modaps.eosdis.nasa.gov/archive/allData/5200/VNP02MOD/2021/207/VNP02MOD.A2021207.1124.002.2022266150536.nc',\n",
       "  'mgeo': 'https://ladsweb.modaps.eosdis.nasa.gov/archive/allData/5200/VNP03MOD/2021/207/VNP03MOD.A2021207.1124.002.2021207185411.nc',\n",
       "  'cmdata': 'https://ladsweb.modaps.eosdis.nasa.gov/archive/allData/5110/CLDMSK_L2_VIIRS_SNPP/2021/207/CLDMSK_L2_VIIRS_SNPP.A2021207.1124.001.2021207194400.nc'}}"
      ]
     },
     "execution_count": 7,
     "metadata": {},
     "output_type": "execute_result"
    }
   ],
   "source": [
    "results[0]"
   ]
  },
  {
   "cell_type": "code",
   "execution_count": 4,
   "id": "c3ad4fa5-7da0-4458-8dea-5ede47433e4c",
   "metadata": {
    "tags": []
   },
   "outputs": [],
   "source": [
    "tile_dict = {'tile_id': 'VNP02.A2021207.1124.002',\n",
    " 'urls': {'idata': 'https://ladsweb.modaps.eosdis.nasa.gov/archive/allData/5200/VNP02IMG/2021/207/VNP02IMG.A2021207.1124.002.2022266150536.nc',\n",
    "  'igeo': 'https://ladsweb.modaps.eosdis.nasa.gov/archive/allData/5200/VNP03IMG/2021/207/VNP03IMG.A2021207.1124.002.2021207185411.nc',\n",
    "  'mdata': 'https://ladsweb.modaps.eosdis.nasa.gov/archive/allData/5200/VNP02MOD/2021/207/VNP02MOD.A2021207.1124.002.2022266150536.nc',\n",
    "  'mgeo': 'https://ladsweb.modaps.eosdis.nasa.gov/archive/allData/5200/VNP03MOD/2021/207/VNP03MOD.A2021207.1124.002.2021207185411.nc',\n",
    "  'cmdata': 'https://ladsweb.modaps.eosdis.nasa.gov/archive/allData/5110/CLDMSK_L2_VIIRS_SNPP/2021/207/CLDMSK_L2_VIIRS_SNPP.A2021207.1124.001.2021207194400.nc'}}"
   ]
  },
  {
   "cell_type": "code",
   "execution_count": 5,
   "id": "49e521b3-f479-4878-a810-8d996719cdfd",
   "metadata": {
    "collapsed": true,
    "jupyter": {
     "outputs_hidden": true
    },
    "tags": []
   },
   "outputs": [
    {
     "name": "stderr",
     "output_type": "stream",
     "text": [
      "/home/nick/C2S-Python-API/c2s/external/stac/planet_api_class.py:11: ClientV1DeprecationWarning: The planet.api module is deprecated and will be removed in version 2.0.0. For more details please see the discussion at https://github.com/planetlabs/planet-client-python/discussions.\n",
      "  from planet import api\n",
      "Searching the STAC server for items in collections ['viirs375_data']: 100%|█████████████████████████████████████████████████████| 1/1 [00:00<00:00,  4.16queries/s]"
     ]
    },
    {
     "name": "stdout",
     "output_type": "stream",
     "text": [
      "2023-04-20 18:55:04,804 c2s.external.batch.sensor_batch sensor_batch.py:834 INFO: ====================================================================================================\n",
      "2023-04-20 18:55:04,804 c2s.external.batch.sensor_batch sensor_batch.py:834 INFO: ====================================================================================================\n",
      "2023-04-20 18:55:04,805 c2s.external.batch.sensor_batch sensor_batch.py:835 INFO: 1/1 tiles are not already in the stac server\n",
      "2023-04-20 18:55:04,805 c2s.external.batch.sensor_batch sensor_batch.py:835 INFO: 1/1 tiles are not already in the stac server\n",
      "2023-04-20 18:55:04,805 c2s.external.batch.sensor_batch sensor_batch.py:838 INFO: ====================================================================================================\n",
      "2023-04-20 18:55:04,805 c2s.external.batch.sensor_batch sensor_batch.py:838 INFO: ====================================================================================================\n",
      "2023-04-20 18:55:04,806 c2s.external.batch.sensor_batch sensor_batch.py:893 INFO: No input tiles are already in the stac server. Downloading all of them.\n",
      "2023-04-20 18:55:04,806 c2s.external.batch.sensor_batch sensor_batch.py:893 INFO: No input tiles are already in the stac server. Downloading all of them.\n",
      "2023-04-20 18:55:04,807 c2s.external.batch.sensor_batch sensor_batch.py:901 INFO: ====================================================================================================\n",
      "2023-04-20 18:55:04,807 c2s.external.batch.sensor_batch sensor_batch.py:901 INFO: ====================================================================================================\n"
     ]
    },
    {
     "name": "stderr",
     "output_type": "stream",
     "text": [
      "\n"
     ]
    },
    {
     "name": "stdout",
     "output_type": "stream",
     "text": [
      "2023-04-20 18:55:06,582 c2s.external.batch.download.preprocess.deploy_data_processing deploy_data_processing.py:354 INFO: Dataflow job will be running with the following image and tag: data-downlaod:latest\n",
      "2023-04-20 18:55:06,582 c2s.external.batch.download.preprocess.deploy_data_processing deploy_data_processing.py:354 INFO: Dataflow job will be running with the following image and tag: data-downlaod:latest\n",
      "2023-04-20 18:55:06,618 c2s.external.batch __init__.py:158 INFO: Dataflow labels for current job: ['--label', 'git-useremail=nick-at-cloudtostreet-dot-info', '--label', 'git-username=nick_leach', '--label', 'hostname=edf429c6f781']\n"
     ]
    },
    {
     "name": "stderr",
     "output_type": "stream",
     "text": [
      "WARNING:apache_beam.options.pipeline_options_validator:Setting sdk_container_image to value of legacy flag worker_harness_container_image.\n"
     ]
    },
    {
     "name": "stdout",
     "output_type": "stream",
     "text": [
      "Using flags: ['--job_name', 'unknown-region-nrt-ingest-viirs375-1tiles-20230420-185504', '--temp_location', 'gs://viirs375_data/tmp', '--staging_location', 'gs://viirs375_data/staging', '--machine_type', 'n2-highmem-4', '--disk_size_gb', '100', '--project', 'cloudtostreet', '--region', 'us-central1', '--runner', 'DataflowRunner', '--experiment', 'use_runner_v2', '--setup_file', '/home/nick/C2S-Python-API/setup.py', '--worker_harness_container_image', 'gcr.io/cloudtostreet/data-download:latest', '--max_num_workers', '1', '--number_of_worker_harness_threads', '1', '--label', 'git-useremail=nick-at-cloudtostreet-dot-info', '--label', 'git-username=nick_leach', '--label', 'hostname=edf429c6f781', '--label', 'tag=latest', '--save_main_session']\n",
      "2023-04-20 18:55:06,633 c2s.external.batch.download.preprocess.deploy_data_processing deploy_data_processing.py:264 INFO: sensor: viirs375 \n",
      " tiles: [{'tile_id': 'VNP02.A2021207.1124.002', 'urls': {'idata': 'https://ladsweb.modaps.eosdis.nasa.gov/archive/allData/5200/VNP02IMG/2021/207/VNP02IMG.A2021207.1124.002.2022266150536.nc', 'igeo': 'https://ladsweb.modaps.eosdis.nasa.gov/archive/allData/5200/VNP03IMG/2021/207/VNP03IMG.A2021207.1124.002.2021207185411.nc', 'mdata': 'https://ladsweb.modaps.eosdis.nasa.gov/archive/allData/5200/VNP02MOD/2021/207/VNP02MOD.A2021207.1124.002.2022266150536.nc', 'mgeo': 'https://ladsweb.modaps.eosdis.nasa.gov/archive/allData/5200/VNP03MOD/2021/207/VNP03MOD.A2021207.1124.002.2021207185411.nc', 'cmdata': 'https://ladsweb.modaps.eosdis.nasa.gov/archive/allData/5110/CLDMSK_L2_VIIRS_SNPP/2021/207/CLDMSK_L2_VIIRS_SNPP.A2021207.1124.001.2021207194400.nc'}}]\n",
      "2023-04-20 18:55:06,633 c2s.external.batch.download.preprocess.deploy_data_processing deploy_data_processing.py:264 INFO: sensor: viirs375 \n",
      " tiles: [{'tile_id': 'VNP02.A2021207.1124.002', 'urls': {'idata': 'https://ladsweb.modaps.eosdis.nasa.gov/archive/allData/5200/VNP02IMG/2021/207/VNP02IMG.A2021207.1124.002.2022266150536.nc', 'igeo': 'https://ladsweb.modaps.eosdis.nasa.gov/archive/allData/5200/VNP03IMG/2021/207/VNP03IMG.A2021207.1124.002.2021207185411.nc', 'mdata': 'https://ladsweb.modaps.eosdis.nasa.gov/archive/allData/5200/VNP02MOD/2021/207/VNP02MOD.A2021207.1124.002.2022266150536.nc', 'mgeo': 'https://ladsweb.modaps.eosdis.nasa.gov/archive/allData/5200/VNP03MOD/2021/207/VNP03MOD.A2021207.1124.002.2021207185411.nc', 'cmdata': 'https://ladsweb.modaps.eosdis.nasa.gov/archive/allData/5110/CLDMSK_L2_VIIRS_SNPP/2021/207/CLDMSK_L2_VIIRS_SNPP.A2021207.1124.001.2021207194400.nc'}}]\n"
     ]
    },
    {
     "name": "stderr",
     "output_type": "stream",
     "text": [
      "INFO:c2s.external.batch.download.preprocess.deploy_data_processing:sensor: viirs375 \n",
      " tiles: [{'tile_id': 'VNP02.A2021207.1124.002', 'urls': {'idata': 'https://ladsweb.modaps.eosdis.nasa.gov/archive/allData/5200/VNP02IMG/2021/207/VNP02IMG.A2021207.1124.002.2022266150536.nc', 'igeo': 'https://ladsweb.modaps.eosdis.nasa.gov/archive/allData/5200/VNP03IMG/2021/207/VNP03IMG.A2021207.1124.002.2021207185411.nc', 'mdata': 'https://ladsweb.modaps.eosdis.nasa.gov/archive/allData/5200/VNP02MOD/2021/207/VNP02MOD.A2021207.1124.002.2022266150536.nc', 'mgeo': 'https://ladsweb.modaps.eosdis.nasa.gov/archive/allData/5200/VNP03MOD/2021/207/VNP03MOD.A2021207.1124.002.2021207185411.nc', 'cmdata': 'https://ladsweb.modaps.eosdis.nasa.gov/archive/allData/5110/CLDMSK_L2_VIIRS_SNPP/2021/207/CLDMSK_L2_VIIRS_SNPP.A2021207.1124.001.2021207194400.nc'}}]\n"
     ]
    },
    {
     "name": "stdout",
     "output_type": "stream",
     "text": [
      "2023-04-20 18:55:06,635 c2s.external.batch.download.preprocess.deploy_data_processing deploy_data_processing.py:270 INFO: entered run job\n",
      "2023-04-20 18:55:06,635 c2s.external.batch.download.preprocess.deploy_data_processing deploy_data_processing.py:270 INFO: entered run job\n"
     ]
    },
    {
     "name": "stderr",
     "output_type": "stream",
     "text": [
      "INFO:c2s.external.batch.download.preprocess.deploy_data_processing:entered run job\n",
      "WARNING:apache_beam.runners.interactive.interactive_environment:Dependencies required for Interactive Beam PCollection visualization are not available, please use: `pip install apache-beam[interactive]` to install necessary dependencies to enable all data visualization features.\n"
     ]
    },
    {
     "data": {
      "application/javascript": [
       "\n",
       "        if (typeof window.interactive_beam_jquery == 'undefined') {\n",
       "          var jqueryScript = document.createElement('script');\n",
       "          jqueryScript.src = 'https://code.jquery.com/jquery-3.4.1.slim.min.js';\n",
       "          jqueryScript.type = 'text/javascript';\n",
       "          jqueryScript.onload = function() {\n",
       "            var datatableScript = document.createElement('script');\n",
       "            datatableScript.src = 'https://cdn.datatables.net/1.10.20/js/jquery.dataTables.min.js';\n",
       "            datatableScript.type = 'text/javascript';\n",
       "            datatableScript.onload = function() {\n",
       "              window.interactive_beam_jquery = jQuery.noConflict(true);\n",
       "              window.interactive_beam_jquery(document).ready(function($){\n",
       "                \n",
       "              });\n",
       "            }\n",
       "            document.head.appendChild(datatableScript);\n",
       "          };\n",
       "          document.head.appendChild(jqueryScript);\n",
       "        } else {\n",
       "          window.interactive_beam_jquery(document).ready(function($){\n",
       "            \n",
       "          });\n",
       "        }"
      ]
     },
     "metadata": {},
     "output_type": "display_data"
    },
    {
     "name": "stdout",
     "output_type": "stream",
     "text": [
      "Starting Beam job.\n"
     ]
    },
    {
     "name": "stderr",
     "output_type": "stream",
     "text": [
      "warning: check: missing required meta-data: url\n",
      "\n",
      "warning: check: missing meta-data: either (author and author_email) or (maintainer and maintainer_email) must be supplied\n",
      "\n",
      "\n",
      "[notice] A new release of pip is available: 23.0.1 -> 23.1\n",
      "[notice] To update, run: pip install --upgrade pip\n",
      "\n",
      "[notice] A new release of pip is available: 23.0.1 -> 23.1\n",
      "[notice] To update, run: pip install --upgrade pip\n"
     ]
    },
    {
     "name": "stdout",
     "output_type": "stream",
     "text": [
      "Running.View progress in your browser at:\n",
      "\thttps://console.cloud.google.com/dataflow/jobs/us-central1/2023-04-20_11_55_13-5078118665712502486?project=cloudtostreet\n"
     ]
    },
    {
     "data": {
      "text/plain": [
       "[<DataflowPipelineResult <Job\n",
       "  clientRequestId: '20230420185509247105-3709'\n",
       "  createTime: '2023-04-20T18:55:14.098488Z'\n",
       "  currentStateTime: '1970-01-01T00:00:00Z'\n",
       "  id: '2023-04-20_11_55_13-5078118665712502486'\n",
       "  location: 'us-central1'\n",
       "  name: 'unknown-region-nrt-ingest-viirs375-1tiles-20230420-185504'\n",
       "  projectId: 'cloudtostreet'\n",
       "  stageStates: []\n",
       "  startTime: '2023-04-20T18:55:14.098488Z'\n",
       "  steps: []\n",
       "  tempFiles: []\n",
       "  type: TypeValueValuesEnum(JOB_TYPE_BATCH, 1)> at 0x7ff0cf1b3c40>]"
      ]
     },
     "execution_count": 5,
     "metadata": {},
     "output_type": "execute_result"
    }
   ],
   "source": [
    "os.environ[\"DATAFLOW_IMAGE_TAG\"] = \"latest\"\n",
    "batch = SensorBatch(sensor=\"viirs375\", tile_list=[tile_dict])\n",
    "batch.download(download_again=True)"
   ]
  },
  {
   "cell_type": "markdown",
   "id": "d27892d4-8239-46c1-8d5f-de45c0fcf5fd",
   "metadata": {},
   "source": [
    "## Debugging another failing example\n",
    "`VJ102.A2023001.1124.021`"
   ]
  },
  {
   "cell_type": "code",
   "execution_count": 3,
   "id": "b89ca5a7-6f8c-40ea-8409-7c40c697ff32",
   "metadata": {
    "tags": []
   },
   "outputs": [],
   "source": [
    "# tooling isn't yet setup to search by ID very well so copy from another notebook\n",
    "tile_list = [{'tile_id': 'VJ102.A2023001.1124.021',\n",
    "  'urls': {'idata': 'https://ladsweb.modaps.eosdis.nasa.gov/archive/allData/5201/VJ102IMG/2023/001/VJ102IMG.A2023001.1124.021.2023001171355.nc',\n",
    "   'igeo': 'https://ladsweb.modaps.eosdis.nasa.gov/archive/allData/5201/VJ103IMG/2023/001/VJ103IMG.A2023001.1124.021.2023001164536.nc',\n",
    "   'mdata': 'https://ladsweb.modaps.eosdis.nasa.gov/archive/allData/5201/VJ102MOD/2023/001/VJ102MOD.A2023001.1124.021.2023001171355.nc',\n",
    "   'mgeo': 'https://ladsweb.modaps.eosdis.nasa.gov/archive/allData/5201/VJ103MOD/2023/001/VJ103MOD.A2023001.1124.021.2023001164536.nc',\n",
    "   'cmdata': 'https://ladsweb.modaps.eosdis.nasa.gov/archive/allData/5110/CLDMSK_L2_VIIRS_NOAA20/2023/001/CLDMSK_L2_VIIRS_NOAA20.A2023001.1124.001.2023001234959.nc'}}]\n",
    "tile_dict = tile_list[0]\n"
   ]
  },
  {
   "cell_type": "code",
   "execution_count": 69,
   "id": "95298db9-55a4-45c3-8ac5-1190d8e6739f",
   "metadata": {
    "tags": []
   },
   "outputs": [],
   "source": [
    "viirs = ViirsCMR()\n",
    "viirs.download_image(tile_dict, base_dir=\"/home/nick/C2S-Python-API/notebooks/data\")"
   ]
  },
  {
   "cell_type": "code",
   "execution_count": 4,
   "id": "fba21d45-3ec9-4632-86ad-e271889691e2",
   "metadata": {
    "tags": []
   },
   "outputs": [
    {
     "name": "stdout",
     "output_type": "stream",
     "text": [
      "2023-04-25 23:49:02,022 c2s.external.stac.viirs_375_toa_processor viirs_375_toa_processor.py:67 DEBUG: id: \n",
      "2023-04-25 23:49:02,022 c2s.external.stac.viirs_375_toa_processor viirs_375_toa_processor.py:67 DEBUG: id: \n",
      "2023-04-25 23:49:02,025 c2s.external.stac.viirs_375_toa_processor viirs_375_toa_processor.py:70 DEBUG: save_folder: /home/nick/C2S-Python-API/notebooks/data/VJ102.A2023001.1124.021/\n",
      "2023-04-25 23:49:02,025 c2s.external.stac.viirs_375_toa_processor viirs_375_toa_processor.py:70 DEBUG: save_folder: /home/nick/C2S-Python-API/notebooks/data/VJ102.A2023001.1124.021/\n",
      "2023-04-25 23:49:02,336 c2s.external.stac.viirs_375_toa_processor viirs_375_toa_processor.py:84 DEBUG: Does not cross antimeridian\n",
      "2023-04-25 23:49:02,336 c2s.external.stac.viirs_375_toa_processor viirs_375_toa_processor.py:84 DEBUG: Does not cross antimeridian\n"
     ]
    }
   ],
   "source": [
    "proc = ViirsProcessor375(\n",
    "    \"/home/nick/C2S-Python-API/notebooks/data/VJ102.A2023001.1124.021/\",\n",
    "    \"/home/nick/C2S-Python-API/notebooks/data/VJ102.A2023001.1124.021/\"\n",
    ")"
   ]
  },
  {
   "cell_type": "code",
   "execution_count": 5,
   "id": "c8043a1e-0326-4a11-b553-e86f069f58b9",
   "metadata": {
    "tags": []
   },
   "outputs": [
    {
     "name": "stdout",
     "output_type": "stream",
     "text": [
      "2023-04-25 23:49:07,673 c2s.external.stac.viirs_375_toa_processor viirs_375_toa_processor.py:459 DEBUG: Processing Cloud_Mask to tif.\n",
      "2023-04-25 23:49:07,673 c2s.external.stac.viirs_375_toa_processor viirs_375_toa_processor.py:459 DEBUG: Processing Cloud_Mask to tif.\n",
      "2023-04-25 23:49:07,682 c2s.external.stac.viirs_375_toa_processor viirs_375_toa_processor.py:539 DEBUG: starting warp Cloud_Mask\n",
      "2023-04-25 23:49:07,682 c2s.external.stac.viirs_375_toa_processor viirs_375_toa_processor.py:539 DEBUG: starting warp Cloud_Mask\n",
      "2023-04-25 23:49:11,595 c2s.external.stac.base_processor base_processor.py:88 ERROR: : process_to_stac() failed, aborting Ingestion\n",
      "Traceback (most recent call last):\n",
      "  File \"/home/nick/C2S-Python-API/c2s/external/stac/base_processor.py\", line 73, in process_to_stac\n",
      "    path = self.make_tiff()\n",
      "  File \"/home/nick/C2S-Python-API/c2s/external/stac/viirs_375_toa_processor.py\", line 543, in make_tiff\n",
      "    gdal.Warp(\n",
      "  File \"/usr/local/lib/python3.8/site-packages/osgeo/gdal.py\", line 788, in Warp\n",
      "    return wrapper_GDALWarpDestName(destNameOrDestDS, srcDSTab, opts, callback, callback_data)\n",
      "  File \"/usr/local/lib/python3.8/site-packages/osgeo/gdal.py\", line 4815, in wrapper_GDALWarpDestName\n",
      "    return _gdal.wrapper_GDALWarpDestName(*args)\n",
      "RuntimeError: Computed dimensions are too big : inf x inf\n",
      "2023-04-25 23:49:11,595 c2s.external.stac.base_processor base_processor.py:88 ERROR: : process_to_stac() failed, aborting Ingestion\n",
      "Traceback (most recent call last):\n",
      "  File \"/home/nick/C2S-Python-API/c2s/external/stac/base_processor.py\", line 73, in process_to_stac\n",
      "    path = self.make_tiff()\n",
      "  File \"/home/nick/C2S-Python-API/c2s/external/stac/viirs_375_toa_processor.py\", line 543, in make_tiff\n",
      "    gdal.Warp(\n",
      "  File \"/usr/local/lib/python3.8/site-packages/osgeo/gdal.py\", line 788, in Warp\n",
      "    return wrapper_GDALWarpDestName(destNameOrDestDS, srcDSTab, opts, callback, callback_data)\n",
      "  File \"/usr/local/lib/python3.8/site-packages/osgeo/gdal.py\", line 4815, in wrapper_GDALWarpDestName\n",
      "    return _gdal.wrapper_GDALWarpDestName(*args)\n",
      "RuntimeError: Computed dimensions are too big : inf x inf\n"
     ]
    },
    {
     "data": {
      "text/plain": [
       "(None, None)"
      ]
     },
     "execution_count": 5,
     "metadata": {},
     "output_type": "execute_result"
    }
   ],
   "source": [
    "proc.process_to_stac()"
   ]
  },
  {
   "cell_type": "code",
   "execution_count": 6,
   "id": "957b765a-c04f-499f-9dc3-40c64aed473d",
   "metadata": {
    "tags": []
   },
   "outputs": [
    {
     "data": {
      "text/plain": [
       "{'platform': 'JPSS-1',\n",
       " 'instrument': 'VIIRS',\n",
       " 'production_datetime': '2023-01-01T12:15:07Z',\n",
       " 'acquisition_datetime': '2023-01-01 11:24:00.000',\n",
       " 'west': -180,\n",
       " 'north': -60.924305,\n",
       " 'east': 180,\n",
       " 'south': -90,\n",
       " 'width_375': 6400,\n",
       " 'height_375': 6464,\n",
       " 'width_750': 3200,\n",
       " 'height_750': 3232}"
      ]
     },
     "execution_count": 6,
     "metadata": {},
     "output_type": "execute_result"
    }
   ],
   "source": [
    "proc.metadata"
   ]
  },
  {
   "cell_type": "code",
   "execution_count": 81,
   "id": "8338597e-8598-44ab-a3b4-c1747bf38672",
   "metadata": {
    "tags": []
   },
   "outputs": [],
   "source": [
    "# what information is in the query?\n",
    "import datetime as dt\n",
    "\n",
    "geo = [\n",
    "        [-150, 66],\n",
    "        [150, 66],\n",
    "        [150, -66],\n",
    "        [-150, -66],\n",
    "        [-150, 66],\n",
    "    ]\n",
    "granules = viirs.fetch_granules(\"VJ102IMG\", geo, dt.datetime(2023, 1, 1), dt.datetime(2023, 1,2))"
   ]
  },
  {
   "cell_type": "code",
   "execution_count": 82,
   "id": "e8543207-68f7-4224-9e9f-f20b8675b1c1",
   "metadata": {
    "collapsed": true,
    "jupyter": {
     "outputs_hidden": true
    },
    "tags": []
   },
   "outputs": [
    {
     "data": {
      "text/plain": [
       "[{'producer_granule_id': 'VJ102IMG.A2022365.2354.021.2023001082417.nc',\n",
       "  'time_start': '2022-12-31T23:54:00.000Z',\n",
       "  'updated': '2023-01-01T08:32:45.940Z',\n",
       "  'dataset_id': 'VIIRS/JPSS1 Imagery Resolution 6-Min L1B Swath 375 m',\n",
       "  'data_center': 'LAADS',\n",
       "  'title': 'LAADS:7287698515',\n",
       "  'coordinate_system': 'GEODETIC',\n",
       "  'day_night_flag': 'DAY',\n",
       "  'time_end': '2023-01-01T00:00:00.000Z',\n",
       "  'id': 'G2576151987-LAADS',\n",
       "  'original_format': 'ECHO10',\n",
       "  'granule_size': '258.644842147827',\n",
       "  'browse_flag': False,\n",
       "  'polygons': [['-36.681782 -167.953033 -31.672464 -134.981491 -11.688763 -142.699493 -15.905038 -170.495041 -36.681782 -167.953033']],\n",
       "  'collection_concept_id': 'C2105083900-LAADS',\n",
       "  'online_access_flag': True,\n",
       "  'links': [{'rel': 'http://esipfed.org/ns/fedsearch/1.1/data#',\n",
       "    'type': 'application/x-netcdf',\n",
       "    'hreflang': 'en-US',\n",
       "    'href': 'https://ladsweb.modaps.eosdis.nasa.gov/archive/allData/5201/VJ102IMG/2022/365/VJ102IMG.A2022365.2354.021.2023001082417.nc'},\n",
       "   {'rel': 'http://esipfed.org/ns/fedsearch/1.1/service#',\n",
       "    'type': 'text/html',\n",
       "    'title': 'This file may be accessed using OPeNDAP directly from this link (OPENDAP DATA)',\n",
       "    'hreflang': 'en-US',\n",
       "    'href': 'https://ladsweb.modaps.eosdis.nasa.gov/opendap/RemoteResources/laads/allData/5201/VJ102IMG/2022/365/VJ102IMG.A2022365.2354.021.2023001082417.nc.html'},\n",
       "   {'rel': 'http://esipfed.org/ns/fedsearch/1.1/documentation#',\n",
       "    'type': 'text/html',\n",
       "    'title': 'A link to Data set landing page (Data Set Landing Page)',\n",
       "    'hreflang': 'en-US',\n",
       "    'href': 'http://doi.org/10.5067/VIIRS/VJ102IMG.021'},\n",
       "   {'inherited': True,\n",
       "    'rel': 'http://esipfed.org/ns/fedsearch/1.1/metadata#',\n",
       "    'hreflang': 'en-US',\n",
       "    'href': 'https://doi.org/10.5067/VIIRS/VJ102IMG.021'},\n",
       "   {'inherited': True,\n",
       "    'length': '0.0KB',\n",
       "    'rel': 'http://esipfed.org/ns/fedsearch/1.1/data#',\n",
       "    'hreflang': 'en-US',\n",
       "    'href': 'https://ladsweb.modaps.eosdis.nasa.gov/search/order/2/VJ102IMG--5201'},\n",
       "   {'inherited': True,\n",
       "    'length': '0.0KB',\n",
       "    'rel': 'http://esipfed.org/ns/fedsearch/1.1/data#',\n",
       "    'hreflang': 'en-US',\n",
       "    'href': 'https://ladsweb.modaps.eosdis.nasa.gov/archive/allData/5201/VJ102IMG/'},\n",
       "   {'inherited': True,\n",
       "    'rel': 'http://esipfed.org/ns/fedsearch/1.1/service#',\n",
       "    'type': 'text/html',\n",
       "    'hreflang': 'en-US',\n",
       "    'href': 'https://ladsweb.modaps.eosdis.nasa.gov/opendap/hyrax/allData/5201/VJ102IMG/contents.html'},\n",
       "   {'inherited': True,\n",
       "    'rel': 'http://esipfed.org/ns/fedsearch/1.1/documentation#',\n",
       "    'hreflang': 'en-US',\n",
       "    'href': 'https://ladsweb.modaps.eosdis.nasa.gov/missions-and-measurements/viirs/NASA_VIIRS_L1B_UG_August_2021.pdf'},\n",
       "   {'inherited': True,\n",
       "    'rel': 'http://esipfed.org/ns/fedsearch/1.1/documentation#',\n",
       "    'hreflang': 'en-US',\n",
       "    'href': 'https://ladsweb.modaps.eosdis.nasa.gov/missions-and-measurements/viirs/NASARevisedJPSSVIIRSRadCalATBD2014.pdf'}]},\n",
       " {'producer_granule_id': 'VJ102IMG.A2023001.0000.021.2023001082755.nc',\n",
       "  'time_start': '2023-01-01T00:00:00.000Z',\n",
       "  'updated': '2023-01-01T08:35:43.840Z',\n",
       "  'dataset_id': 'VIIRS/JPSS1 Imagery Resolution 6-Min L1B Swath 375 m',\n",
       "  'data_center': 'LAADS',\n",
       "  'title': 'LAADS:7287703227',\n",
       "  'coordinate_system': 'GEODETIC',\n",
       "  'day_night_flag': 'DAY',\n",
       "  'time_end': '2023-01-01T00:06:00.000Z',\n",
       "  'id': 'G2576152840-LAADS',\n",
       "  'original_format': 'ECHO10',\n",
       "  'granule_size': '246.007426261902',\n",
       "  'browse_flag': False,\n",
       "  'polygons': [['-16.026464 -170.489182 -11.810493 -142.681946 8.854522 -147.696365 4.766665 -174.726074 -16.026464 -170.489182']],\n",
       "  'collection_concept_id': 'C2105083900-LAADS',\n",
       "  'online_access_flag': True,\n",
       "  'links': [{'rel': 'http://esipfed.org/ns/fedsearch/1.1/data#',\n",
       "    'type': 'application/x-netcdf',\n",
       "    'hreflang': 'en-US',\n",
       "    'href': 'https://ladsweb.modaps.eosdis.nasa.gov/archive/allData/5201/VJ102IMG/2023/001/VJ102IMG.A2023001.0000.021.2023001082755.nc'},\n",
       "   {'rel': 'http://esipfed.org/ns/fedsearch/1.1/service#',\n",
       "    'type': 'text/html',\n",
       "    'title': 'This file may be accessed using OPeNDAP directly from this link (OPENDAP DATA)',\n",
       "    'hreflang': 'en-US',\n",
       "    'href': 'https://ladsweb.modaps.eosdis.nasa.gov/opendap/RemoteResources/laads/allData/5201/VJ102IMG/2023/001/VJ102IMG.A2023001.0000.021.2023001082755.nc.html'},\n",
       "   {'rel': 'http://esipfed.org/ns/fedsearch/1.1/documentation#',\n",
       "    'type': 'text/html',\n",
       "    'title': 'A link to Data set landing page (Data Set Landing Page)',\n",
       "    'hreflang': 'en-US',\n",
       "    'href': 'http://doi.org/10.5067/VIIRS/VJ102IMG.021'},\n",
       "   {'inherited': True,\n",
       "    'rel': 'http://esipfed.org/ns/fedsearch/1.1/metadata#',\n",
       "    'hreflang': 'en-US',\n",
       "    'href': 'https://doi.org/10.5067/VIIRS/VJ102IMG.021'},\n",
       "   {'inherited': True,\n",
       "    'length': '0.0KB',\n",
       "    'rel': 'http://esipfed.org/ns/fedsearch/1.1/data#',\n",
       "    'hreflang': 'en-US',\n",
       "    'href': 'https://ladsweb.modaps.eosdis.nasa.gov/search/order/2/VJ102IMG--5201'},\n",
       "   {'inherited': True,\n",
       "    'length': '0.0KB',\n",
       "    'rel': 'http://esipfed.org/ns/fedsearch/1.1/data#',\n",
       "    'hreflang': 'en-US',\n",
       "    'href': 'https://ladsweb.modaps.eosdis.nasa.gov/archive/allData/5201/VJ102IMG/'},\n",
       "   {'inherited': True,\n",
       "    'rel': 'http://esipfed.org/ns/fedsearch/1.1/service#',\n",
       "    'type': 'text/html',\n",
       "    'hreflang': 'en-US',\n",
       "    'href': 'https://ladsweb.modaps.eosdis.nasa.gov/opendap/hyrax/allData/5201/VJ102IMG/contents.html'},\n",
       "   {'inherited': True,\n",
       "    'rel': 'http://esipfed.org/ns/fedsearch/1.1/documentation#',\n",
       "    'hreflang': 'en-US',\n",
       "    'href': 'https://ladsweb.modaps.eosdis.nasa.gov/missions-and-measurements/viirs/NASA_VIIRS_L1B_UG_August_2021.pdf'},\n",
       "   {'inherited': True,\n",
       "    'rel': 'http://esipfed.org/ns/fedsearch/1.1/documentation#',\n",
       "    'hreflang': 'en-US',\n",
       "    'href': 'https://ladsweb.modaps.eosdis.nasa.gov/missions-and-measurements/viirs/NASARevisedJPSSVIIRSRadCalATBD2014.pdf'}]},\n",
       " {'producer_granule_id': 'VJ102IMG.A2023001.0006.021.2023001082742.nc',\n",
       "  'time_start': '2023-01-01T00:06:00.000Z',\n",
       "  'updated': '2023-01-01T08:31:42.220Z',\n",
       "  'dataset_id': 'VIIRS/JPSS1 Imagery Resolution 6-Min L1B Swath 375 m',\n",
       "  'data_center': 'LAADS',\n",
       "  'title': 'LAADS:7287697208',\n",
       "  'coordinate_system': 'GEODETIC',\n",
       "  'day_night_flag': 'DAY',\n",
       "  'time_end': '2023-01-01T00:12:00.000Z',\n",
       "  'id': 'G2576151798-LAADS',\n",
       "  'original_format': 'ECHO10',\n",
       "  'granule_size': '221.202989578247',\n",
       "  'browse_flag': False,\n",
       "  'polygons': [['4.647997 -174.71138 8.732547 -147.689987 29.518919 -150.943024 24.968597 178.857498 4.647997 -174.71138']],\n",
       "  'collection_concept_id': 'C2105083900-LAADS',\n",
       "  'online_access_flag': True,\n",
       "  'links': [{'rel': 'http://esipfed.org/ns/fedsearch/1.1/data#',\n",
       "    'type': 'application/x-netcdf',\n",
       "    'hreflang': 'en-US',\n",
       "    'href': 'https://ladsweb.modaps.eosdis.nasa.gov/archive/allData/5201/VJ102IMG/2023/001/VJ102IMG.A2023001.0006.021.2023001082742.nc'},\n",
       "   {'rel': 'http://esipfed.org/ns/fedsearch/1.1/service#',\n",
       "    'type': 'text/html',\n",
       "    'title': 'This file may be accessed using OPeNDAP directly from this link (OPENDAP DATA)',\n",
       "    'hreflang': 'en-US',\n",
       "    'href': 'https://ladsweb.modaps.eosdis.nasa.gov/opendap/RemoteResources/laads/allData/5201/VJ102IMG/2023/001/VJ102IMG.A2023001.0006.021.2023001082742.nc.html'},\n",
       "   {'rel': 'http://esipfed.org/ns/fedsearch/1.1/documentation#',\n",
       "    'type': 'text/html',\n",
       "    'title': 'A link to Data set landing page (Data Set Landing Page)',\n",
       "    'hreflang': 'en-US',\n",
       "    'href': 'http://doi.org/10.5067/VIIRS/VJ102IMG.021'},\n",
       "   {'inherited': True,\n",
       "    'rel': 'http://esipfed.org/ns/fedsearch/1.1/metadata#',\n",
       "    'hreflang': 'en-US',\n",
       "    'href': 'https://doi.org/10.5067/VIIRS/VJ102IMG.021'},\n",
       "   {'inherited': True,\n",
       "    'length': '0.0KB',\n",
       "    'rel': 'http://esipfed.org/ns/fedsearch/1.1/data#',\n",
       "    'hreflang': 'en-US',\n",
       "    'href': 'https://ladsweb.modaps.eosdis.nasa.gov/search/order/2/VJ102IMG--5201'},\n",
       "   {'inherited': True,\n",
       "    'length': '0.0KB',\n",
       "    'rel': 'http://esipfed.org/ns/fedsearch/1.1/data#',\n",
       "    'hreflang': 'en-US',\n",
       "    'href': 'https://ladsweb.modaps.eosdis.nasa.gov/archive/allData/5201/VJ102IMG/'},\n",
       "   {'inherited': True,\n",
       "    'rel': 'http://esipfed.org/ns/fedsearch/1.1/service#',\n",
       "    'type': 'text/html',\n",
       "    'hreflang': 'en-US',\n",
       "    'href': 'https://ladsweb.modaps.eosdis.nasa.gov/opendap/hyrax/allData/5201/VJ102IMG/contents.html'},\n",
       "   {'inherited': True,\n",
       "    'rel': 'http://esipfed.org/ns/fedsearch/1.1/documentation#',\n",
       "    'hreflang': 'en-US',\n",
       "    'href': 'https://ladsweb.modaps.eosdis.nasa.gov/missions-and-measurements/viirs/NASA_VIIRS_L1B_UG_August_2021.pdf'},\n",
       "   {'inherited': True,\n",
       "    'rel': 'http://esipfed.org/ns/fedsearch/1.1/documentation#',\n",
       "    'hreflang': 'en-US',\n",
       "    'href': 'https://ladsweb.modaps.eosdis.nasa.gov/missions-and-measurements/viirs/NASARevisedJPSSVIIRSRadCalATBD2014.pdf'}]},\n",
       " {'producer_granule_id': 'VJ102IMG.A2023001.0012.021.2023001082528.nc',\n",
       "  'time_start': '2023-01-01T00:12:00.000Z',\n",
       "  'updated': '2023-01-01T08:31:42.220Z',\n",
       "  'dataset_id': 'VIIRS/JPSS1 Imagery Resolution 6-Min L1B Swath 375 m',\n",
       "  'data_center': 'LAADS',\n",
       "  'title': 'LAADS:7287697209',\n",
       "  'coordinate_system': 'GEODETIC',\n",
       "  'day_night_flag': 'DAY',\n",
       "  'time_end': '2023-01-01T00:18:00.000Z',\n",
       "  'id': 'G2576151800-LAADS',\n",
       "  'original_format': 'ECHO10',\n",
       "  'granule_size': '256.578379631042',\n",
       "  'browse_flag': False,\n",
       "  'polygons': [['24.852013 178.886307 29.395952 -150.947861 50.288647 -152.241455 44.314781 167.976883 24.852013 178.886307']],\n",
       "  'collection_concept_id': 'C2105083900-LAADS',\n",
       "  'online_access_flag': True,\n",
       "  'links': [{'rel': 'http://esipfed.org/ns/fedsearch/1.1/data#',\n",
       "    'type': 'application/x-netcdf',\n",
       "    'hreflang': 'en-US',\n",
       "    'href': 'https://ladsweb.modaps.eosdis.nasa.gov/archive/allData/5201/VJ102IMG/2023/001/VJ102IMG.A2023001.0012.021.2023001082528.nc'},\n",
       "   {'rel': 'http://esipfed.org/ns/fedsearch/1.1/service#',\n",
       "    'type': 'text/html',\n",
       "    'title': 'This file may be accessed using OPeNDAP directly from this link (OPENDAP DATA)',\n",
       "    'hreflang': 'en-US',\n",
       "    'href': 'https://ladsweb.modaps.eosdis.nasa.gov/opendap/RemoteResources/laads/allData/5201/VJ102IMG/2023/001/VJ102IMG.A2023001.0012.021.2023001082528.nc.html'},\n",
       "   {'rel': 'http://esipfed.org/ns/fedsearch/1.1/documentation#',\n",
       "    'type': 'text/html',\n",
       "    'title': 'A link to Data set landing page (Data Set Landing Page)',\n",
       "    'hreflang': 'en-US',\n",
       "    'href': 'http://doi.org/10.5067/VIIRS/VJ102IMG.021'},\n",
       "   {'inherited': True,\n",
       "    'rel': 'http://esipfed.org/ns/fedsearch/1.1/metadata#',\n",
       "    'hreflang': 'en-US',\n",
       "    'href': 'https://doi.org/10.5067/VIIRS/VJ102IMG.021'},\n",
       "   {'inherited': True,\n",
       "    'length': '0.0KB',\n",
       "    'rel': 'http://esipfed.org/ns/fedsearch/1.1/data#',\n",
       "    'hreflang': 'en-US',\n",
       "    'href': 'https://ladsweb.modaps.eosdis.nasa.gov/search/order/2/VJ102IMG--5201'},\n",
       "   {'inherited': True,\n",
       "    'length': '0.0KB',\n",
       "    'rel': 'http://esipfed.org/ns/fedsearch/1.1/data#',\n",
       "    'hreflang': 'en-US',\n",
       "    'href': 'https://ladsweb.modaps.eosdis.nasa.gov/archive/allData/5201/VJ102IMG/'},\n",
       "   {'inherited': True,\n",
       "    'rel': 'http://esipfed.org/ns/fedsearch/1.1/service#',\n",
       "    'type': 'text/html',\n",
       "    'hreflang': 'en-US',\n",
       "    'href': 'https://ladsweb.modaps.eosdis.nasa.gov/opendap/hyrax/allData/5201/VJ102IMG/contents.html'},\n",
       "   {'inherited': True,\n",
       "    'rel': 'http://esipfed.org/ns/fedsearch/1.1/documentation#',\n",
       "    'hreflang': 'en-US',\n",
       "    'href': 'https://ladsweb.modaps.eosdis.nasa.gov/missions-and-measurements/viirs/NASA_VIIRS_L1B_UG_August_2021.pdf'},\n",
       "   {'inherited': True,\n",
       "    'rel': 'http://esipfed.org/ns/fedsearch/1.1/documentation#',\n",
       "    'hreflang': 'en-US',\n",
       "    'href': 'https://ladsweb.modaps.eosdis.nasa.gov/missions-and-measurements/viirs/NASARevisedJPSSVIIRSRadCalATBD2014.pdf'}]},\n",
       " {'producer_granule_id': 'VJ102IMG.A2023001.0018.021.2023001085329.nc',\n",
       "  'time_start': '2023-01-01T00:18:00.000Z',\n",
       "  'updated': '2023-01-01T08:57:43.550Z',\n",
       "  'dataset_id': 'VIIRS/JPSS1 Imagery Resolution 6-Min L1B Swath 375 m',\n",
       "  'data_center': 'LAADS',\n",
       "  'title': 'LAADS:7287740699',\n",
       "  'coordinate_system': 'GEODETIC',\n",
       "  'day_night_flag': 'DAY',\n",
       "  'time_end': '2023-01-01T00:24:00.000Z',\n",
       "  'id': 'G2576158108-LAADS',\n",
       "  'original_format': 'ECHO10',\n",
       "  'granule_size': '223.632449150085',\n",
       "  'browse_flag': False,\n",
       "  'polygons': [['44.205227 168.04451 50.165039 -152.262512 70.687027 -147.755569 60.793285 145.590088 44.205227 168.04451']],\n",
       "  'collection_concept_id': 'C2105083900-LAADS',\n",
       "  'online_access_flag': True,\n",
       "  'links': [{'rel': 'http://esipfed.org/ns/fedsearch/1.1/data#',\n",
       "    'type': 'application/x-netcdf',\n",
       "    'hreflang': 'en-US',\n",
       "    'href': 'https://ladsweb.modaps.eosdis.nasa.gov/archive/allData/5201/VJ102IMG/2023/001/VJ102IMG.A2023001.0018.021.2023001085329.nc'},\n",
       "   {'rel': 'http://esipfed.org/ns/fedsearch/1.1/service#',\n",
       "    'type': 'text/html',\n",
       "    'title': 'This file may be accessed using OPeNDAP directly from this link (OPENDAP DATA)',\n",
       "    'hreflang': 'en-US',\n",
       "    'href': 'https://ladsweb.modaps.eosdis.nasa.gov/opendap/RemoteResources/laads/allData/5201/VJ102IMG/2023/001/VJ102IMG.A2023001.0018.021.2023001085329.nc.html'},\n",
       "   {'rel': 'http://esipfed.org/ns/fedsearch/1.1/documentation#',\n",
       "    'type': 'text/html',\n",
       "    'title': 'A link to Data set landing page (Data Set Landing Page)',\n",
       "    'hreflang': 'en-US',\n",
       "    'href': 'http://doi.org/10.5067/VIIRS/VJ102IMG.021'},\n",
       "   {'inherited': True,\n",
       "    'rel': 'http://esipfed.org/ns/fedsearch/1.1/metadata#',\n",
       "    'hreflang': 'en-US',\n",
       "    'href': 'https://doi.org/10.5067/VIIRS/VJ102IMG.021'},\n",
       "   {'inherited': True,\n",
       "    'length': '0.0KB',\n",
       "    'rel': 'http://esipfed.org/ns/fedsearch/1.1/data#',\n",
       "    'hreflang': 'en-US',\n",
       "    'href': 'https://ladsweb.modaps.eosdis.nasa.gov/search/order/2/VJ102IMG--5201'},\n",
       "   {'inherited': True,\n",
       "    'length': '0.0KB',\n",
       "    'rel': 'http://esipfed.org/ns/fedsearch/1.1/data#',\n",
       "    'hreflang': 'en-US',\n",
       "    'href': 'https://ladsweb.modaps.eosdis.nasa.gov/archive/allData/5201/VJ102IMG/'},\n",
       "   {'inherited': True,\n",
       "    'rel': 'http://esipfed.org/ns/fedsearch/1.1/service#',\n",
       "    'type': 'text/html',\n",
       "    'hreflang': 'en-US',\n",
       "    'href': 'https://ladsweb.modaps.eosdis.nasa.gov/opendap/hyrax/allData/5201/VJ102IMG/contents.html'},\n",
       "   {'inherited': True,\n",
       "    'rel': 'http://esipfed.org/ns/fedsearch/1.1/documentation#',\n",
       "    'hreflang': 'en-US',\n",
       "    'href': 'https://ladsweb.modaps.eosdis.nasa.gov/missions-and-measurements/viirs/NASA_VIIRS_L1B_UG_August_2021.pdf'},\n",
       "   {'inherited': True,\n",
       "    'rel': 'http://esipfed.org/ns/fedsearch/1.1/documentation#',\n",
       "    'hreflang': 'en-US',\n",
       "    'href': 'https://ladsweb.modaps.eosdis.nasa.gov/missions-and-measurements/viirs/NASARevisedJPSSVIIRSRadCalATBD2014.pdf'}]},\n",
       " {'producer_granule_id': 'VJ102IMG.A2023001.0124.021.2023001091442.nc',\n",
       "  'time_start': '2023-01-01T01:24:00.000Z',\n",
       "  'updated': '2023-01-01T09:23:19.030Z',\n",
       "  'dataset_id': 'VIIRS/JPSS1 Imagery Resolution 6-Min L1B Swath 375 m',\n",
       "  'data_center': 'LAADS',\n",
       "  'title': 'LAADS:7287787994',\n",
       "  'coordinate_system': 'GEODETIC',\n",
       "  'day_night_flag': 'DAY',\n",
       "  'time_end': '2023-01-01T01:30:00.000Z',\n",
       "  'id': 'G2576163352-LAADS',\n",
       "  'original_format': 'ECHO10',\n",
       "  'granule_size': '269.592391967773',\n",
       "  'browse_flag': False,\n",
       "  'polygons': [['-75.721672 157.426331 -63.520821 -120.306076 -48.611977 -148.27771 -55.435925 166.875031 -75.721672 157.426331']],\n",
       "  'collection_concept_id': 'C2105083900-LAADS',\n",
       "  'online_access_flag': True,\n",
       "  'links': [{'rel': 'http://esipfed.org/ns/fedsearch/1.1/data#',\n",
       "    'type': 'application/x-netcdf',\n",
       "    'hreflang': 'en-US',\n",
       "    'href': 'https://ladsweb.modaps.eosdis.nasa.gov/archive/allData/5201/VJ102IMG/2023/001/VJ102IMG.A2023001.0124.021.2023001091442.nc'},\n",
       "   {'rel': 'http://esipfed.org/ns/fedsearch/1.1/service#',\n",
       "    'type': 'text/html',\n",
       "    'title': 'This file may be accessed using OPeNDAP directly from this link (OPENDAP DATA)',\n",
       "    'hreflang': 'en-US',\n",
       "    'href': 'https://ladsweb.modaps.eosdis.nasa.gov/opendap/RemoteResources/laads/allData/5201/VJ102IMG/2023/001/VJ102IMG.A2023001.0124.021.2023001091442.nc.html'},\n",
       "   {'rel': 'http://esipfed.org/ns/fedsearch/1.1/documentation#',\n",
       "    'type': 'text/html',\n",
       "    'title': 'A link to Data set landing page (Data Set Landing Page)',\n",
       "    'hreflang': 'en-US',\n",
       "    'href': 'http://doi.org/10.5067/VIIRS/VJ102IMG.021'},\n",
       "   {'inherited': True,\n",
       "    'rel': 'http://esipfed.org/ns/fedsearch/1.1/metadata#',\n",
       "    'hreflang': 'en-US',\n",
       "    'href': 'https://doi.org/10.5067/VIIRS/VJ102IMG.021'},\n",
       "   {'inherited': True,\n",
       "    'length': '0.0KB',\n",
       "    'rel': 'http://esipfed.org/ns/fedsearch/1.1/data#',\n",
       "    'hreflang': 'en-US',\n",
       "    'href': 'https://ladsweb.modaps.eosdis.nasa.gov/search/order/2/VJ102IMG--5201'},\n",
       "   {'inherited': True,\n",
       "    'length': '0.0KB',\n",
       "    'rel': 'http://esipfed.org/ns/fedsearch/1.1/data#',\n",
       "    'hreflang': 'en-US',\n",
       "    'href': 'https://ladsweb.modaps.eosdis.nasa.gov/archive/allData/5201/VJ102IMG/'},\n",
       "   {'inherited': True,\n",
       "    'rel': 'http://esipfed.org/ns/fedsearch/1.1/service#',\n",
       "    'type': 'text/html',\n",
       "    'hreflang': 'en-US',\n",
       "    'href': 'https://ladsweb.modaps.eosdis.nasa.gov/opendap/hyrax/allData/5201/VJ102IMG/contents.html'},\n",
       "   {'inherited': True,\n",
       "    'rel': 'http://esipfed.org/ns/fedsearch/1.1/documentation#',\n",
       "    'hreflang': 'en-US',\n",
       "    'href': 'https://ladsweb.modaps.eosdis.nasa.gov/missions-and-measurements/viirs/NASA_VIIRS_L1B_UG_August_2021.pdf'},\n",
       "   {'inherited': True,\n",
       "    'rel': 'http://esipfed.org/ns/fedsearch/1.1/documentation#',\n",
       "    'hreflang': 'en-US',\n",
       "    'href': 'https://ladsweb.modaps.eosdis.nasa.gov/missions-and-measurements/viirs/NASARevisedJPSSVIIRSRadCalATBD2014.pdf'}]},\n",
       " {'producer_granule_id': 'VJ102IMG.A2023001.0130.021.2023001085007.nc',\n",
       "  'time_start': '2023-01-01T01:30:00.000Z',\n",
       "  'updated': '2023-01-01T08:58:14.240Z',\n",
       "  'dataset_id': 'VIIRS/JPSS1 Imagery Resolution 6-Min L1B Swath 375 m',\n",
       "  'data_center': 'LAADS',\n",
       "  'title': 'LAADS:7287741617',\n",
       "  'coordinate_system': 'GEODETIC',\n",
       "  'day_night_flag': 'DAY',\n",
       "  'time_end': '2023-01-01T01:36:00.000Z',\n",
       "  'id': 'G2576158206-LAADS',\n",
       "  'original_format': 'ECHO10',\n",
       "  'granule_size': '272.154979705811',\n",
       "  'browse_flag': False,\n",
       "  'polygons': [['-55.56255 166.841949 -48.726616 -148.193481 -29.972055 -161.173721 -34.879505 166.538193 -55.56255 166.841949']],\n",
       "  'collection_concept_id': 'C2105083900-LAADS',\n",
       "  'online_access_flag': True,\n",
       "  'links': [{'rel': 'http://esipfed.org/ns/fedsearch/1.1/data#',\n",
       "    'type': 'application/x-netcdf',\n",
       "    'hreflang': 'en-US',\n",
       "    'href': 'https://ladsweb.modaps.eosdis.nasa.gov/archive/allData/5201/VJ102IMG/2023/001/VJ102IMG.A2023001.0130.021.2023001085007.nc'},\n",
       "   {'rel': 'http://esipfed.org/ns/fedsearch/1.1/service#',\n",
       "    'type': 'text/html',\n",
       "    'title': 'This file may be accessed using OPeNDAP directly from this link (OPENDAP DATA)',\n",
       "    'hreflang': 'en-US',\n",
       "    'href': 'https://ladsweb.modaps.eosdis.nasa.gov/opendap/RemoteResources/laads/allData/5201/VJ102IMG/2023/001/VJ102IMG.A2023001.0130.021.2023001085007.nc.html'},\n",
       "   {'rel': 'http://esipfed.org/ns/fedsearch/1.1/documentation#',\n",
       "    'type': 'text/html',\n",
       "    'title': 'A link to Data set landing page (Data Set Landing Page)',\n",
       "    'hreflang': 'en-US',\n",
       "    'href': 'http://doi.org/10.5067/VIIRS/VJ102IMG.021'},\n",
       "   {'inherited': True,\n",
       "    'rel': 'http://esipfed.org/ns/fedsearch/1.1/metadata#',\n",
       "    'hreflang': 'en-US',\n",
       "    'href': 'https://doi.org/10.5067/VIIRS/VJ102IMG.021'},\n",
       "   {'inherited': True,\n",
       "    'length': '0.0KB',\n",
       "    'rel': 'http://esipfed.org/ns/fedsearch/1.1/data#',\n",
       "    'hreflang': 'en-US',\n",
       "    'href': 'https://ladsweb.modaps.eosdis.nasa.gov/search/order/2/VJ102IMG--5201'},\n",
       "   {'inherited': True,\n",
       "    'length': '0.0KB',\n",
       "    'rel': 'http://esipfed.org/ns/fedsearch/1.1/data#',\n",
       "    'hreflang': 'en-US',\n",
       "    'href': 'https://ladsweb.modaps.eosdis.nasa.gov/archive/allData/5201/VJ102IMG/'},\n",
       "   {'inherited': True,\n",
       "    'rel': 'http://esipfed.org/ns/fedsearch/1.1/service#',\n",
       "    'type': 'text/html',\n",
       "    'hreflang': 'en-US',\n",
       "    'href': 'https://ladsweb.modaps.eosdis.nasa.gov/opendap/hyrax/allData/5201/VJ102IMG/contents.html'},\n",
       "   {'inherited': True,\n",
       "    'rel': 'http://esipfed.org/ns/fedsearch/1.1/documentation#',\n",
       "    'hreflang': 'en-US',\n",
       "    'href': 'https://ladsweb.modaps.eosdis.nasa.gov/missions-and-measurements/viirs/NASA_VIIRS_L1B_UG_August_2021.pdf'},\n",
       "   {'inherited': True,\n",
       "    'rel': 'http://esipfed.org/ns/fedsearch/1.1/documentation#',\n",
       "    'hreflang': 'en-US',\n",
       "    'href': 'https://ladsweb.modaps.eosdis.nasa.gov/missions-and-measurements/viirs/NASARevisedJPSSVIIRSRadCalATBD2014.pdf'}]},\n",
       " {'producer_granule_id': 'VJ102IMG.A2023001.0136.021.2023001082537.nc',\n",
       "  'time_start': '2023-01-01T01:36:00.000Z',\n",
       "  'updated': '2023-01-01T08:32:45.940Z',\n",
       "  'dataset_id': 'VIIRS/JPSS1 Imagery Resolution 6-Min L1B Swath 375 m',\n",
       "  'data_center': 'LAADS',\n",
       "  'title': 'LAADS:7287698516',\n",
       "  'coordinate_system': 'GEODETIC',\n",
       "  'day_night_flag': 'DAY',\n",
       "  'time_end': '2023-01-01T01:42:00.000Z',\n",
       "  'id': 'G2576151992-LAADS',\n",
       "  'original_format': 'ECHO10',\n",
       "  'granule_size': '266.88808631897',\n",
       "  'browse_flag': False,\n",
       "  'polygons': [['-35.00375 166.535858 -30.092379 -161.136276 -9.940808 -168.587234 -14.123702 163.833786 -35.00375 166.535858']],\n",
       "  'collection_concept_id': 'C2105083900-LAADS',\n",
       "  'online_access_flag': True,\n",
       "  'links': [{'rel': 'http://esipfed.org/ns/fedsearch/1.1/data#',\n",
       "    'type': 'application/x-netcdf',\n",
       "    'hreflang': 'en-US',\n",
       "    'href': 'https://ladsweb.modaps.eosdis.nasa.gov/archive/allData/5201/VJ102IMG/2023/001/VJ102IMG.A2023001.0136.021.2023001082537.nc'},\n",
       "   {'rel': 'http://esipfed.org/ns/fedsearch/1.1/service#',\n",
       "    'type': 'text/html',\n",
       "    'title': 'This file may be accessed using OPeNDAP directly from this link (OPENDAP DATA)',\n",
       "    'hreflang': 'en-US',\n",
       "    'href': 'https://ladsweb.modaps.eosdis.nasa.gov/opendap/RemoteResources/laads/allData/5201/VJ102IMG/2023/001/VJ102IMG.A2023001.0136.021.2023001082537.nc.html'},\n",
       "   {'rel': 'http://esipfed.org/ns/fedsearch/1.1/documentation#',\n",
       "    'type': 'text/html',\n",
       "    'title': 'A link to Data set landing page (Data Set Landing Page)',\n",
       "    'hreflang': 'en-US',\n",
       "    'href': 'http://doi.org/10.5067/VIIRS/VJ102IMG.021'},\n",
       "   {'inherited': True,\n",
       "    'rel': 'http://esipfed.org/ns/fedsearch/1.1/metadata#',\n",
       "    'hreflang': 'en-US',\n",
       "    'href': 'https://doi.org/10.5067/VIIRS/VJ102IMG.021'},\n",
       "   {'inherited': True,\n",
       "    'length': '0.0KB',\n",
       "    'rel': 'http://esipfed.org/ns/fedsearch/1.1/data#',\n",
       "    'hreflang': 'en-US',\n",
       "    'href': 'https://ladsweb.modaps.eosdis.nasa.gov/search/order/2/VJ102IMG--5201'},\n",
       "   {'inherited': True,\n",
       "    'length': '0.0KB',\n",
       "    'rel': 'http://esipfed.org/ns/fedsearch/1.1/data#',\n",
       "    'hreflang': 'en-US',\n",
       "    'href': 'https://ladsweb.modaps.eosdis.nasa.gov/archive/allData/5201/VJ102IMG/'},\n",
       "   {'inherited': True,\n",
       "    'rel': 'http://esipfed.org/ns/fedsearch/1.1/service#',\n",
       "    'type': 'text/html',\n",
       "    'hreflang': 'en-US',\n",
       "    'href': 'https://ladsweb.modaps.eosdis.nasa.gov/opendap/hyrax/allData/5201/VJ102IMG/contents.html'},\n",
       "   {'inherited': True,\n",
       "    'rel': 'http://esipfed.org/ns/fedsearch/1.1/documentation#',\n",
       "    'hreflang': 'en-US',\n",
       "    'href': 'https://ladsweb.modaps.eosdis.nasa.gov/missions-and-measurements/viirs/NASA_VIIRS_L1B_UG_August_2021.pdf'},\n",
       "   {'inherited': True,\n",
       "    'rel': 'http://esipfed.org/ns/fedsearch/1.1/documentation#',\n",
       "    'hreflang': 'en-US',\n",
       "    'href': 'https://ladsweb.modaps.eosdis.nasa.gov/missions-and-measurements/viirs/NASARevisedJPSSVIIRSRadCalATBD2014.pdf'}]},\n",
       " {'producer_granule_id': 'VJ102IMG.A2023001.0142.021.2023001085114.nc',\n",
       "  'time_start': '2023-01-01T01:42:00.000Z',\n",
       "  'updated': '2023-01-01T08:58:44.650Z',\n",
       "  'dataset_id': 'VIIRS/JPSS1 Imagery Resolution 6-Min L1B Swath 375 m',\n",
       "  'data_center': 'LAADS',\n",
       "  'title': 'LAADS:7287742394',\n",
       "  'coordinate_system': 'GEODETIC',\n",
       "  'day_night_flag': 'DAY',\n",
       "  'time_end': '2023-01-01T01:48:00.000Z',\n",
       "  'id': 'G2576158271-LAADS',\n",
       "  'original_format': 'ECHO10',\n",
       "  'granule_size': '244.576187133789',\n",
       "  'browse_flag': False,\n",
       "  'polygons': [['-14.244837 163.840256 -10.06251 -168.570633 10.530508 -173.393921 6.428265 159.475327 -14.244837 163.840256']],\n",
       "  'collection_concept_id': 'C2105083900-LAADS',\n",
       "  'online_access_flag': True,\n",
       "  'links': [{'rel': 'http://esipfed.org/ns/fedsearch/1.1/data#',\n",
       "    'type': 'application/x-netcdf',\n",
       "    'hreflang': 'en-US',\n",
       "    'href': 'https://ladsweb.modaps.eosdis.nasa.gov/archive/allData/5201/VJ102IMG/2023/001/VJ102IMG.A2023001.0142.021.2023001085114.nc'},\n",
       "   {'rel': 'http://esipfed.org/ns/fedsearch/1.1/service#',\n",
       "    'type': 'text/html',\n",
       "    'title': 'This file may be accessed using OPeNDAP directly from this link (OPENDAP DATA)',\n",
       "    'hreflang': 'en-US',\n",
       "    'href': 'https://ladsweb.modaps.eosdis.nasa.gov/opendap/RemoteResources/laads/allData/5201/VJ102IMG/2023/001/VJ102IMG.A2023001.0142.021.2023001085114.nc.html'},\n",
       "   {'rel': 'http://esipfed.org/ns/fedsearch/1.1/documentation#',\n",
       "    'type': 'text/html',\n",
       "    'title': 'A link to Data set landing page (Data Set Landing Page)',\n",
       "    'hreflang': 'en-US',\n",
       "    'href': 'http://doi.org/10.5067/VIIRS/VJ102IMG.021'},\n",
       "   {'inherited': True,\n",
       "    'rel': 'http://esipfed.org/ns/fedsearch/1.1/metadata#',\n",
       "    'hreflang': 'en-US',\n",
       "    'href': 'https://doi.org/10.5067/VIIRS/VJ102IMG.021'},\n",
       "   {'inherited': True,\n",
       "    'length': '0.0KB',\n",
       "    'rel': 'http://esipfed.org/ns/fedsearch/1.1/data#',\n",
       "    'hreflang': 'en-US',\n",
       "    'href': 'https://ladsweb.modaps.eosdis.nasa.gov/search/order/2/VJ102IMG--5201'},\n",
       "   {'inherited': True,\n",
       "    'length': '0.0KB',\n",
       "    'rel': 'http://esipfed.org/ns/fedsearch/1.1/data#',\n",
       "    'hreflang': 'en-US',\n",
       "    'href': 'https://ladsweb.modaps.eosdis.nasa.gov/archive/allData/5201/VJ102IMG/'},\n",
       "   {'inherited': True,\n",
       "    'rel': 'http://esipfed.org/ns/fedsearch/1.1/service#',\n",
       "    'type': 'text/html',\n",
       "    'hreflang': 'en-US',\n",
       "    'href': 'https://ladsweb.modaps.eosdis.nasa.gov/opendap/hyrax/allData/5201/VJ102IMG/contents.html'},\n",
       "   {'inherited': True,\n",
       "    'rel': 'http://esipfed.org/ns/fedsearch/1.1/documentation#',\n",
       "    'hreflang': 'en-US',\n",
       "    'href': 'https://ladsweb.modaps.eosdis.nasa.gov/missions-and-measurements/viirs/NASA_VIIRS_L1B_UG_August_2021.pdf'},\n",
       "   {'inherited': True,\n",
       "    'rel': 'http://esipfed.org/ns/fedsearch/1.1/documentation#',\n",
       "    'hreflang': 'en-US',\n",
       "    'href': 'https://ladsweb.modaps.eosdis.nasa.gov/missions-and-measurements/viirs/NASARevisedJPSSVIIRSRadCalATBD2014.pdf'}]},\n",
       " {'producer_granule_id': 'VJ102IMG.A2023001.0148.021.2023001101400.nc',\n",
       "  'time_start': '2023-01-01T01:48:00.000Z',\n",
       "  'updated': '2023-01-01T10:20:56.300Z',\n",
       "  'dataset_id': 'VIIRS/JPSS1 Imagery Resolution 6-Min L1B Swath 375 m',\n",
       "  'data_center': 'LAADS',\n",
       "  'title': 'LAADS:7287900236',\n",
       "  'coordinate_system': 'GEODETIC',\n",
       "  'day_night_flag': 'DAY',\n",
       "  'time_end': '2023-01-01T01:54:00.000Z',\n",
       "  'id': 'G2576225242-LAADS',\n",
       "  'original_format': 'ECHO10',\n",
       "  'granule_size': '231.665523529053',\n",
       "  'browse_flag': False,\n",
       "  'polygons': [['6.30908 159.489166 10.407967 -173.390671 31.305008 -176.520248 26.679651 152.774536 6.30908 159.489166']],\n",
       "  'collection_concept_id': 'C2105083900-LAADS',\n",
       "  'online_access_flag': True,\n",
       "  'links': [{'rel': 'http://esipfed.org/ns/fedsearch/1.1/data#',\n",
       "    'type': 'application/x-netcdf',\n",
       "    'hreflang': 'en-US',\n",
       "    'href': 'https://ladsweb.modaps.eosdis.nasa.gov/archive/allData/5201/VJ102IMG/2023/001/VJ102IMG.A2023001.0148.021.2023001101400.nc'},\n",
       "   {'rel': 'http://esipfed.org/ns/fedsearch/1.1/service#',\n",
       "    'type': 'text/html',\n",
       "    'title': 'This file may be accessed using OPeNDAP directly from this link (OPENDAP DATA)',\n",
       "    'hreflang': 'en-US',\n",
       "    'href': 'https://ladsweb.modaps.eosdis.nasa.gov/opendap/RemoteResources/laads/allData/5201/VJ102IMG/2023/001/VJ102IMG.A2023001.0148.021.2023001101400.nc.html'},\n",
       "   {'rel': 'http://esipfed.org/ns/fedsearch/1.1/documentation#',\n",
       "    'type': 'text/html',\n",
       "    'title': 'A link to Data set landing page (Data Set Landing Page)',\n",
       "    'hreflang': 'en-US',\n",
       "    'href': 'http://doi.org/10.5067/VIIRS/VJ102IMG.021'},\n",
       "   {'inherited': True,\n",
       "    'rel': 'http://esipfed.org/ns/fedsearch/1.1/metadata#',\n",
       "    'hreflang': 'en-US',\n",
       "    'href': 'https://doi.org/10.5067/VIIRS/VJ102IMG.021'},\n",
       "   {'inherited': True,\n",
       "    'length': '0.0KB',\n",
       "    'rel': 'http://esipfed.org/ns/fedsearch/1.1/data#',\n",
       "    'hreflang': 'en-US',\n",
       "    'href': 'https://ladsweb.modaps.eosdis.nasa.gov/search/order/2/VJ102IMG--5201'},\n",
       "   {'inherited': True,\n",
       "    'length': '0.0KB',\n",
       "    'rel': 'http://esipfed.org/ns/fedsearch/1.1/data#',\n",
       "    'hreflang': 'en-US',\n",
       "    'href': 'https://ladsweb.modaps.eosdis.nasa.gov/archive/allData/5201/VJ102IMG/'},\n",
       "   {'inherited': True,\n",
       "    'rel': 'http://esipfed.org/ns/fedsearch/1.1/service#',\n",
       "    'type': 'text/html',\n",
       "    'hreflang': 'en-US',\n",
       "    'href': 'https://ladsweb.modaps.eosdis.nasa.gov/opendap/hyrax/allData/5201/VJ102IMG/contents.html'},\n",
       "   {'inherited': True,\n",
       "    'rel': 'http://esipfed.org/ns/fedsearch/1.1/documentation#',\n",
       "    'hreflang': 'en-US',\n",
       "    'href': 'https://ladsweb.modaps.eosdis.nasa.gov/missions-and-measurements/viirs/NASA_VIIRS_L1B_UG_August_2021.pdf'},\n",
       "   {'inherited': True,\n",
       "    'rel': 'http://esipfed.org/ns/fedsearch/1.1/documentation#',\n",
       "    'hreflang': 'en-US',\n",
       "    'href': 'https://ladsweb.modaps.eosdis.nasa.gov/missions-and-measurements/viirs/NASARevisedJPSSVIIRSRadCalATBD2014.pdf'}]},\n",
       " {'producer_granule_id': 'VJ102IMG.A2023001.0154.021.2023001104551.nc',\n",
       "  'time_start': '2023-01-01T01:54:00.000Z',\n",
       "  'updated': '2023-01-01T10:51:38.800Z',\n",
       "  'dataset_id': 'VIIRS/JPSS1 Imagery Resolution 6-Min L1B Swath 375 m',\n",
       "  'data_center': 'LAADS',\n",
       "  'title': 'LAADS:7287955792',\n",
       "  'coordinate_system': 'GEODETIC',\n",
       "  'day_night_flag': 'DAY',\n",
       "  'time_end': '2023-01-01T02:00:00.000Z',\n",
       "  'id': 'G2576269642-LAADS',\n",
       "  'original_format': 'ECHO10',\n",
       "  'granule_size': '262.096375465393',\n",
       "  'browse_flag': False,\n",
       "  'polygons': [['26.563482 152.805618 31.181955 -176.525803 51.96307 -177.583893 45.79982 141.371246 26.563482 152.805618']],\n",
       "  'collection_concept_id': 'C2105083900-LAADS',\n",
       "  'online_access_flag': True,\n",
       "  'links': [{'rel': 'http://esipfed.org/ns/fedsearch/1.1/data#',\n",
       "    'type': 'application/x-netcdf',\n",
       "    'hreflang': 'en-US',\n",
       "    'href': 'https://ladsweb.modaps.eosdis.nasa.gov/archive/allData/5201/VJ102IMG/2023/001/VJ102IMG.A2023001.0154.021.2023001104551.nc'},\n",
       "   {'rel': 'http://esipfed.org/ns/fedsearch/1.1/service#',\n",
       "    'type': 'text/html',\n",
       "    'title': 'This file may be accessed using OPeNDAP directly from this link (OPENDAP DATA)',\n",
       "    'hreflang': 'en-US',\n",
       "    'href': 'https://ladsweb.modaps.eosdis.nasa.gov/opendap/RemoteResources/laads/allData/5201/VJ102IMG/2023/001/VJ102IMG.A2023001.0154.021.2023001104551.nc.html'},\n",
       "   {'rel': 'http://esipfed.org/ns/fedsearch/1.1/documentation#',\n",
       "    'type': 'text/html',\n",
       "    'title': 'A link to Data set landing page (Data Set Landing Page)',\n",
       "    'hreflang': 'en-US',\n",
       "    'href': 'http://doi.org/10.5067/VIIRS/VJ102IMG.021'},\n",
       "   {'inherited': True,\n",
       "    'rel': 'http://esipfed.org/ns/fedsearch/1.1/metadata#',\n",
       "    'hreflang': 'en-US',\n",
       "    'href': 'https://doi.org/10.5067/VIIRS/VJ102IMG.021'},\n",
       "   {'inherited': True,\n",
       "    'length': '0.0KB',\n",
       "    'rel': 'http://esipfed.org/ns/fedsearch/1.1/data#',\n",
       "    'hreflang': 'en-US',\n",
       "    'href': 'https://ladsweb.modaps.eosdis.nasa.gov/search/order/2/VJ102IMG--5201'},\n",
       "   {'inherited': True,\n",
       "    'length': '0.0KB',\n",
       "    'rel': 'http://esipfed.org/ns/fedsearch/1.1/data#',\n",
       "    'hreflang': 'en-US',\n",
       "    'href': 'https://ladsweb.modaps.eosdis.nasa.gov/archive/allData/5201/VJ102IMG/'},\n",
       "   {'inherited': True,\n",
       "    'rel': 'http://esipfed.org/ns/fedsearch/1.1/service#',\n",
       "    'type': 'text/html',\n",
       "    'hreflang': 'en-US',\n",
       "    'href': 'https://ladsweb.modaps.eosdis.nasa.gov/opendap/hyrax/allData/5201/VJ102IMG/contents.html'},\n",
       "   {'inherited': True,\n",
       "    'rel': 'http://esipfed.org/ns/fedsearch/1.1/documentation#',\n",
       "    'hreflang': 'en-US',\n",
       "    'href': 'https://ladsweb.modaps.eosdis.nasa.gov/missions-and-measurements/viirs/NASA_VIIRS_L1B_UG_August_2021.pdf'},\n",
       "   {'inherited': True,\n",
       "    'rel': 'http://esipfed.org/ns/fedsearch/1.1/documentation#',\n",
       "    'hreflang': 'en-US',\n",
       "    'href': 'https://ladsweb.modaps.eosdis.nasa.gov/missions-and-measurements/viirs/NASARevisedJPSSVIIRSRadCalATBD2014.pdf'}]},\n",
       " {'producer_granule_id': 'VJ102IMG.A2023001.0200.021.2023001104525.nc',\n",
       "  'time_start': '2023-01-01T02:00:00.000Z',\n",
       "  'updated': '2023-01-01T10:51:38.800Z',\n",
       "  'dataset_id': 'VIIRS/JPSS1 Imagery Resolution 6-Min L1B Swath 375 m',\n",
       "  'data_center': 'LAADS',\n",
       "  'title': 'LAADS:7287955793',\n",
       "  'coordinate_system': 'GEODETIC',\n",
       "  'day_night_flag': 'DAY',\n",
       "  'time_end': '2023-01-01T02:06:00.000Z',\n",
       "  'id': 'G2576269639-LAADS',\n",
       "  'original_format': 'ECHO10',\n",
       "  'granule_size': '213.089412689209',\n",
       "  'browse_flag': False,\n",
       "  'polygons': [['45.692493 141.446152 51.839588 -177.603668 72.406609 -171.888306 61.916073 117.214966 45.692493 141.446152']],\n",
       "  'collection_concept_id': 'C2105083900-LAADS',\n",
       "  'online_access_flag': True,\n",
       "  'links': [{'rel': 'http://esipfed.org/ns/fedsearch/1.1/data#',\n",
       "    'type': 'application/x-netcdf',\n",
       "    'hreflang': 'en-US',\n",
       "    'href': 'https://ladsweb.modaps.eosdis.nasa.gov/archive/allData/5201/VJ102IMG/2023/001/VJ102IMG.A2023001.0200.021.2023001104525.nc'},\n",
       "   {'rel': 'http://esipfed.org/ns/fedsearch/1.1/service#',\n",
       "    'type': 'text/html',\n",
       "    'title': 'This file may be accessed using OPeNDAP directly from this link (OPENDAP DATA)',\n",
       "    'hreflang': 'en-US',\n",
       "    'href': 'https://ladsweb.modaps.eosdis.nasa.gov/opendap/RemoteResources/laads/allData/5201/VJ102IMG/2023/001/VJ102IMG.A2023001.0200.021.2023001104525.nc.html'},\n",
       "   {'rel': 'http://esipfed.org/ns/fedsearch/1.1/documentation#',\n",
       "    'type': 'text/html',\n",
       "    'title': 'A link to Data set landing page (Data Set Landing Page)',\n",
       "    'hreflang': 'en-US',\n",
       "    'href': 'http://doi.org/10.5067/VIIRS/VJ102IMG.021'},\n",
       "   {'inherited': True,\n",
       "    'rel': 'http://esipfed.org/ns/fedsearch/1.1/metadata#',\n",
       "    'hreflang': 'en-US',\n",
       "    'href': 'https://doi.org/10.5067/VIIRS/VJ102IMG.021'},\n",
       "   {'inherited': True,\n",
       "    'length': '0.0KB',\n",
       "    'rel': 'http://esipfed.org/ns/fedsearch/1.1/data#',\n",
       "    'hreflang': 'en-US',\n",
       "    'href': 'https://ladsweb.modaps.eosdis.nasa.gov/search/order/2/VJ102IMG--5201'},\n",
       "   {'inherited': True,\n",
       "    'length': '0.0KB',\n",
       "    'rel': 'http://esipfed.org/ns/fedsearch/1.1/data#',\n",
       "    'hreflang': 'en-US',\n",
       "    'href': 'https://ladsweb.modaps.eosdis.nasa.gov/archive/allData/5201/VJ102IMG/'},\n",
       "   {'inherited': True,\n",
       "    'rel': 'http://esipfed.org/ns/fedsearch/1.1/service#',\n",
       "    'type': 'text/html',\n",
       "    'hreflang': 'en-US',\n",
       "    'href': 'https://ladsweb.modaps.eosdis.nasa.gov/opendap/hyrax/allData/5201/VJ102IMG/contents.html'},\n",
       "   {'inherited': True,\n",
       "    'rel': 'http://esipfed.org/ns/fedsearch/1.1/documentation#',\n",
       "    'hreflang': 'en-US',\n",
       "    'href': 'https://ladsweb.modaps.eosdis.nasa.gov/missions-and-measurements/viirs/NASA_VIIRS_L1B_UG_August_2021.pdf'},\n",
       "   {'inherited': True,\n",
       "    'rel': 'http://esipfed.org/ns/fedsearch/1.1/documentation#',\n",
       "    'hreflang': 'en-US',\n",
       "    'href': 'https://ladsweb.modaps.eosdis.nasa.gov/missions-and-measurements/viirs/NASARevisedJPSSVIIRSRadCalATBD2014.pdf'}]},\n",
       " {'producer_granule_id': 'VJ102IMG.A2023001.0300.021.2023001104552.nc',\n",
       "  'time_start': '2023-01-01T03:00:00.000Z',\n",
       "  'updated': '2023-01-01T10:53:41.160Z',\n",
       "  'dataset_id': 'VIIRS/JPSS1 Imagery Resolution 6-Min L1B Swath 375 m',\n",
       "  'data_center': 'LAADS',\n",
       "  'title': 'LAADS:7287957892',\n",
       "  'coordinate_system': 'GEODETIC',\n",
       "  'day_night_flag': 'DAY',\n",
       "  'time_end': '2023-01-01T03:06:00.000Z',\n",
       "  'id': 'G2576269920-LAADS',\n",
       "  'original_format': 'ECHO10',\n",
       "  'granule_size': '241.453594207764',\n",
       "  'browse_flag': False,\n",
       "  'polygons': [['-82.2714 19.485262 -66.421417 -99.476654 -62.485992 -149.307266 -73.939728 134.399353 -82.2714 19.485262']],\n",
       "  'collection_concept_id': 'C2105083900-LAADS',\n",
       "  'online_access_flag': True,\n",
       "  'links': [{'rel': 'http://esipfed.org/ns/fedsearch/1.1/data#',\n",
       "    'type': 'application/x-netcdf',\n",
       "    'hreflang': 'en-US',\n",
       "    'href': 'https://ladsweb.modaps.eosdis.nasa.gov/archive/allData/5201/VJ102IMG/2023/001/VJ102IMG.A2023001.0300.021.2023001104552.nc'},\n",
       "   {'rel': 'http://esipfed.org/ns/fedsearch/1.1/service#',\n",
       "    'type': 'text/html',\n",
       "    'title': 'This file may be accessed using OPeNDAP directly from this link (OPENDAP DATA)',\n",
       "    'hreflang': 'en-US',\n",
       "    'href': 'https://ladsweb.modaps.eosdis.nasa.gov/opendap/RemoteResources/laads/allData/5201/VJ102IMG/2023/001/VJ102IMG.A2023001.0300.021.2023001104552.nc.html'},\n",
       "   {'rel': 'http://esipfed.org/ns/fedsearch/1.1/documentation#',\n",
       "    'type': 'text/html',\n",
       "    'title': 'A link to Data set landing page (Data Set Landing Page)',\n",
       "    'hreflang': 'en-US',\n",
       "    'href': 'http://doi.org/10.5067/VIIRS/VJ102IMG.021'},\n",
       "   {'inherited': True,\n",
       "    'rel': 'http://esipfed.org/ns/fedsearch/1.1/metadata#',\n",
       "    'hreflang': 'en-US',\n",
       "    'href': 'https://doi.org/10.5067/VIIRS/VJ102IMG.021'},\n",
       "   {'inherited': True,\n",
       "    'length': '0.0KB',\n",
       "    'rel': 'http://esipfed.org/ns/fedsearch/1.1/data#',\n",
       "    'hreflang': 'en-US',\n",
       "    'href': 'https://ladsweb.modaps.eosdis.nasa.gov/search/order/2/VJ102IMG--5201'},\n",
       "   {'inherited': True,\n",
       "    'length': '0.0KB',\n",
       "    'rel': 'http://esipfed.org/ns/fedsearch/1.1/data#',\n",
       "    'hreflang': 'en-US',\n",
       "    'href': 'https://ladsweb.modaps.eosdis.nasa.gov/archive/allData/5201/VJ102IMG/'},\n",
       "   {'inherited': True,\n",
       "    'rel': 'http://esipfed.org/ns/fedsearch/1.1/service#',\n",
       "    'type': 'text/html',\n",
       "    'hreflang': 'en-US',\n",
       "    'href': 'https://ladsweb.modaps.eosdis.nasa.gov/opendap/hyrax/allData/5201/VJ102IMG/contents.html'},\n",
       "   {'inherited': True,\n",
       "    'rel': 'http://esipfed.org/ns/fedsearch/1.1/documentation#',\n",
       "    'hreflang': 'en-US',\n",
       "    'href': 'https://ladsweb.modaps.eosdis.nasa.gov/missions-and-measurements/viirs/NASA_VIIRS_L1B_UG_August_2021.pdf'},\n",
       "   {'inherited': True,\n",
       "    'rel': 'http://esipfed.org/ns/fedsearch/1.1/documentation#',\n",
       "    'hreflang': 'en-US',\n",
       "    'href': 'https://ladsweb.modaps.eosdis.nasa.gov/missions-and-measurements/viirs/NASARevisedJPSSVIIRSRadCalATBD2014.pdf'}]},\n",
       " {'producer_granule_id': 'VJ102IMG.A2023001.0306.021.2023001104530.nc',\n",
       "  'time_start': '2023-01-01T03:06:00.000Z',\n",
       "  'updated': '2023-01-01T10:51:08.220Z',\n",
       "  'dataset_id': 'VIIRS/JPSS1 Imagery Resolution 6-Min L1B Swath 375 m',\n",
       "  'data_center': 'LAADS',\n",
       "  'title': 'LAADS:7287955158',\n",
       "  'coordinate_system': 'GEODETIC',\n",
       "  'day_night_flag': 'DAY',\n",
       "  'time_end': '2023-01-01T03:12:00.000Z',\n",
       "  'id': 'G2576268629-LAADS',\n",
       "  'original_format': 'ECHO10',\n",
       "  'granule_size': '262.91194152832',\n",
       "  'browse_flag': False,\n",
       "  'polygons': [['-74.060745 134.240768 -62.566971 -149.090332 -47.180317 -175.060074 -53.771137 141.625778 -74.060745 134.240768']],\n",
       "  'collection_concept_id': 'C2105083900-LAADS',\n",
       "  'online_access_flag': True,\n",
       "  'links': [{'rel': 'http://esipfed.org/ns/fedsearch/1.1/data#',\n",
       "    'type': 'application/x-netcdf',\n",
       "    'hreflang': 'en-US',\n",
       "    'href': 'https://ladsweb.modaps.eosdis.nasa.gov/archive/allData/5201/VJ102IMG/2023/001/VJ102IMG.A2023001.0306.021.2023001104530.nc'},\n",
       "   {'rel': 'http://esipfed.org/ns/fedsearch/1.1/service#',\n",
       "    'type': 'text/html',\n",
       "    'title': 'This file may be accessed using OPeNDAP directly from this link (OPENDAP DATA)',\n",
       "    'hreflang': 'en-US',\n",
       "    'href': 'https://ladsweb.modaps.eosdis.nasa.gov/opendap/RemoteResources/laads/allData/5201/VJ102IMG/2023/001/VJ102IMG.A2023001.0306.021.2023001104530.nc.html'},\n",
       "   {'rel': 'http://esipfed.org/ns/fedsearch/1.1/documentation#',\n",
       "    'type': 'text/html',\n",
       "    'title': 'A link to Data set landing page (Data Set Landing Page)',\n",
       "    'hreflang': 'en-US',\n",
       "    'href': 'http://doi.org/10.5067/VIIRS/VJ102IMG.021'},\n",
       "   {'inherited': True,\n",
       "    'rel': 'http://esipfed.org/ns/fedsearch/1.1/metadata#',\n",
       "    'hreflang': 'en-US',\n",
       "    'href': 'https://doi.org/10.5067/VIIRS/VJ102IMG.021'},\n",
       "   {'inherited': True,\n",
       "    'length': '0.0KB',\n",
       "    'rel': 'http://esipfed.org/ns/fedsearch/1.1/data#',\n",
       "    'hreflang': 'en-US',\n",
       "    'href': 'https://ladsweb.modaps.eosdis.nasa.gov/search/order/2/VJ102IMG--5201'},\n",
       "   {'inherited': True,\n",
       "    'length': '0.0KB',\n",
       "    'rel': 'http://esipfed.org/ns/fedsearch/1.1/data#',\n",
       "    'hreflang': 'en-US',\n",
       "    'href': 'https://ladsweb.modaps.eosdis.nasa.gov/archive/allData/5201/VJ102IMG/'},\n",
       "   {'inherited': True,\n",
       "    'rel': 'http://esipfed.org/ns/fedsearch/1.1/service#',\n",
       "    'type': 'text/html',\n",
       "    'hreflang': 'en-US',\n",
       "    'href': 'https://ladsweb.modaps.eosdis.nasa.gov/opendap/hyrax/allData/5201/VJ102IMG/contents.html'},\n",
       "   {'inherited': True,\n",
       "    'rel': 'http://esipfed.org/ns/fedsearch/1.1/documentation#',\n",
       "    'hreflang': 'en-US',\n",
       "    'href': 'https://ladsweb.modaps.eosdis.nasa.gov/missions-and-measurements/viirs/NASA_VIIRS_L1B_UG_August_2021.pdf'},\n",
       "   {'inherited': True,\n",
       "    'rel': 'http://esipfed.org/ns/fedsearch/1.1/documentation#',\n",
       "    'hreflang': 'en-US',\n",
       "    'href': 'https://ladsweb.modaps.eosdis.nasa.gov/missions-and-measurements/viirs/NASARevisedJPSSVIIRSRadCalATBD2014.pdf'}]},\n",
       " {'producer_granule_id': 'VJ102IMG.A2023001.0312.021.2023001104559.nc',\n",
       "  'time_start': '2023-01-01T03:12:00.000Z',\n",
       "  'updated': '2023-01-01T10:52:40.210Z',\n",
       "  'dataset_id': 'VIIRS/JPSS1 Imagery Resolution 6-Min L1B Swath 375 m',\n",
       "  'data_center': 'LAADS',\n",
       "  'title': 'LAADS:7287957014',\n",
       "  'coordinate_system': 'GEODETIC',\n",
       "  'day_night_flag': 'DAY',\n",
       "  'time_end': '2023-01-01T03:18:00.000Z',\n",
       "  'id': 'G2576269788-LAADS',\n",
       "  'original_format': 'ECHO10',\n",
       "  'granule_size': '263.922387123108',\n",
       "  'browse_flag': False,\n",
       "  'polygons': [['-53.897736 141.605896 -47.293068 -174.97522 -28.284885 172.662598 -33.096497 141.003296 -53.897736 141.605896']],\n",
       "  'collection_concept_id': 'C2105083900-LAADS',\n",
       "  'online_access_flag': True,\n",
       "  'links': [{'rel': 'http://esipfed.org/ns/fedsearch/1.1/data#',\n",
       "    'type': 'application/x-netcdf',\n",
       "    'hreflang': 'en-US',\n",
       "    'href': 'https://ladsweb.modaps.eosdis.nasa.gov/archive/allData/5201/VJ102IMG/2023/001/VJ102IMG.A2023001.0312.021.2023001104559.nc'},\n",
       "   {'rel': 'http://esipfed.org/ns/fedsearch/1.1/service#',\n",
       "    'type': 'text/html',\n",
       "    'title': 'This file may be accessed using OPeNDAP directly from this link (OPENDAP DATA)',\n",
       "    'hreflang': 'en-US',\n",
       "    'href': 'https://ladsweb.modaps.eosdis.nasa.gov/opendap/RemoteResources/laads/allData/5201/VJ102IMG/2023/001/VJ102IMG.A2023001.0312.021.2023001104559.nc.html'},\n",
       "   {'rel': 'http://esipfed.org/ns/fedsearch/1.1/documentation#',\n",
       "    'type': 'text/html',\n",
       "    'title': 'A link to Data set landing page (Data Set Landing Page)',\n",
       "    'hreflang': 'en-US',\n",
       "    'href': 'http://doi.org/10.5067/VIIRS/VJ102IMG.021'},\n",
       "   {'inherited': True,\n",
       "    'rel': 'http://esipfed.org/ns/fedsearch/1.1/metadata#',\n",
       "    'hreflang': 'en-US',\n",
       "    'href': 'https://doi.org/10.5067/VIIRS/VJ102IMG.021'},\n",
       "   {'inherited': True,\n",
       "    'length': '0.0KB',\n",
       "    'rel': 'http://esipfed.org/ns/fedsearch/1.1/data#',\n",
       "    'hreflang': 'en-US',\n",
       "    'href': 'https://ladsweb.modaps.eosdis.nasa.gov/search/order/2/VJ102IMG--5201'},\n",
       "   {'inherited': True,\n",
       "    'length': '0.0KB',\n",
       "    'rel': 'http://esipfed.org/ns/fedsearch/1.1/data#',\n",
       "    'hreflang': 'en-US',\n",
       "    'href': 'https://ladsweb.modaps.eosdis.nasa.gov/archive/allData/5201/VJ102IMG/'},\n",
       "   {'inherited': True,\n",
       "    'rel': 'http://esipfed.org/ns/fedsearch/1.1/service#',\n",
       "    'type': 'text/html',\n",
       "    'hreflang': 'en-US',\n",
       "    'href': 'https://ladsweb.modaps.eosdis.nasa.gov/opendap/hyrax/allData/5201/VJ102IMG/contents.html'},\n",
       "   {'inherited': True,\n",
       "    'rel': 'http://esipfed.org/ns/fedsearch/1.1/documentation#',\n",
       "    'hreflang': 'en-US',\n",
       "    'href': 'https://ladsweb.modaps.eosdis.nasa.gov/missions-and-measurements/viirs/NASA_VIIRS_L1B_UG_August_2021.pdf'},\n",
       "   {'inherited': True,\n",
       "    'rel': 'http://esipfed.org/ns/fedsearch/1.1/documentation#',\n",
       "    'hreflang': 'en-US',\n",
       "    'href': 'https://ladsweb.modaps.eosdis.nasa.gov/missions-and-measurements/viirs/NASARevisedJPSSVIIRSRadCalATBD2014.pdf'}]},\n",
       " {'producer_granule_id': 'VJ102IMG.A2023001.0318.021.2023001104737.nc',\n",
       "  'time_start': '2023-01-01T03:18:00.000Z',\n",
       "  'updated': '2023-01-01T10:53:41.160Z',\n",
       "  'dataset_id': 'VIIRS/JPSS1 Imagery Resolution 6-Min L1B Swath 375 m',\n",
       "  'data_center': 'LAADS',\n",
       "  'title': 'LAADS:7287957893',\n",
       "  'coordinate_system': 'GEODETIC',\n",
       "  'day_night_flag': 'DAY',\n",
       "  'time_end': '2023-01-01T03:24:00.000Z',\n",
       "  'id': 'G2576269923-LAADS',\n",
       "  'original_format': 'ECHO10',\n",
       "  'granule_size': '272.559952735901',\n",
       "  'browse_flag': False,\n",
       "  'polygons': [['-33.220448 141.002121 -28.405476 172.69751 -8.288093 165.572647 -12.443715 138.167862 -33.220448 141.002121']],\n",
       "  'collection_concept_id': 'C2105083900-LAADS',\n",
       "  'online_access_flag': True,\n",
       "  'links': [{'rel': 'http://esipfed.org/ns/fedsearch/1.1/data#',\n",
       "    'type': 'application/x-netcdf',\n",
       "    'hreflang': 'en-US',\n",
       "    'href': 'https://ladsweb.modaps.eosdis.nasa.gov/archive/allData/5201/VJ102IMG/2023/001/VJ102IMG.A2023001.0318.021.2023001104737.nc'},\n",
       "   {'rel': 'http://esipfed.org/ns/fedsearch/1.1/service#',\n",
       "    'type': 'text/html',\n",
       "    'title': 'This file may be accessed using OPeNDAP directly from this link (OPENDAP DATA)',\n",
       "    'hreflang': 'en-US',\n",
       "    'href': 'https://ladsweb.modaps.eosdis.nasa.gov/opendap/RemoteResources/laads/allData/5201/VJ102IMG/2023/001/VJ102IMG.A2023001.0318.021.2023001104737.nc.html'},\n",
       "   {'rel': 'http://esipfed.org/ns/fedsearch/1.1/documentation#',\n",
       "    'type': 'text/html',\n",
       "    'title': 'A link to Data set landing page (Data Set Landing Page)',\n",
       "    'hreflang': 'en-US',\n",
       "    'href': 'http://doi.org/10.5067/VIIRS/VJ102IMG.021'},\n",
       "   {'inherited': True,\n",
       "    'rel': 'http://esipfed.org/ns/fedsearch/1.1/metadata#',\n",
       "    'hreflang': 'en-US',\n",
       "    'href': 'https://doi.org/10.5067/VIIRS/VJ102IMG.021'},\n",
       "   {'inherited': True,\n",
       "    'length': '0.0KB',\n",
       "    'rel': 'http://esipfed.org/ns/fedsearch/1.1/data#',\n",
       "    'hreflang': 'en-US',\n",
       "    'href': 'https://ladsweb.modaps.eosdis.nasa.gov/search/order/2/VJ102IMG--5201'},\n",
       "   {'inherited': True,\n",
       "    'length': '0.0KB',\n",
       "    'rel': 'http://esipfed.org/ns/fedsearch/1.1/data#',\n",
       "    'hreflang': 'en-US',\n",
       "    'href': 'https://ladsweb.modaps.eosdis.nasa.gov/archive/allData/5201/VJ102IMG/'},\n",
       "   {'inherited': True,\n",
       "    'rel': 'http://esipfed.org/ns/fedsearch/1.1/service#',\n",
       "    'type': 'text/html',\n",
       "    'hreflang': 'en-US',\n",
       "    'href': 'https://ladsweb.modaps.eosdis.nasa.gov/opendap/hyrax/allData/5201/VJ102IMG/contents.html'},\n",
       "   {'inherited': True,\n",
       "    'rel': 'http://esipfed.org/ns/fedsearch/1.1/documentation#',\n",
       "    'hreflang': 'en-US',\n",
       "    'href': 'https://ladsweb.modaps.eosdis.nasa.gov/missions-and-measurements/viirs/NASA_VIIRS_L1B_UG_August_2021.pdf'},\n",
       "   {'inherited': True,\n",
       "    'rel': 'http://esipfed.org/ns/fedsearch/1.1/documentation#',\n",
       "    'hreflang': 'en-US',\n",
       "    'href': 'https://ladsweb.modaps.eosdis.nasa.gov/missions-and-measurements/viirs/NASARevisedJPSSVIIRSRadCalATBD2014.pdf'}]},\n",
       " {'producer_granule_id': 'VJ102IMG.A2023001.0324.021.2023001112050.nc',\n",
       "  'time_start': '2023-01-01T03:24:00.000Z',\n",
       "  'updated': '2023-01-01T11:32:11.690Z',\n",
       "  'dataset_id': 'VIIRS/JPSS1 Imagery Resolution 6-Min L1B Swath 375 m',\n",
       "  'data_center': 'LAADS',\n",
       "  'title': 'LAADS:7288012031',\n",
       "  'coordinate_system': 'GEODETIC',\n",
       "  'day_night_flag': 'DAY',\n",
       "  'time_end': '2023-01-01T03:30:00.000Z',\n",
       "  'id': 'G2576280730-LAADS',\n",
       "  'original_format': 'ECHO10',\n",
       "  'granule_size': '255.455050468445',\n",
       "  'browse_flag': False,\n",
       "  'polygons': [['-12.565203 138.173447 -8.410645 165.585312 12.311494 160.900772 8.18996 133.633804 -12.565203 138.173447']],\n",
       "  'collection_concept_id': 'C2105083900-LAADS',\n",
       "  'online_access_flag': True,\n",
       "  'links': [{'rel': 'http://esipfed.org/ns/fedsearch/1.1/data#',\n",
       "    'type': 'application/x-netcdf',\n",
       "    'hreflang': 'en-US',\n",
       "    'href': 'https://ladsweb.modaps.eosdis.nasa.gov/archive/allData/5201/VJ102IMG/2023/001/VJ102IMG.A2023001.0324.021.2023001112050.nc'},\n",
       "   {'rel': 'http://esipfed.org/ns/fedsearch/1.1/service#',\n",
       "    'type': 'text/html',\n",
       "    'title': 'This file may be accessed using OPeNDAP directly from this link (OPENDAP DATA)',\n",
       "    'hreflang': 'en-US',\n",
       "    'href': 'https://ladsweb.modaps.eosdis.nasa.gov/opendap/RemoteResources/laads/allData/5201/VJ102IMG/2023/001/VJ102IMG.A2023001.0324.021.2023001112050.nc.html'},\n",
       "   {'rel': 'http://esipfed.org/ns/fedsearch/1.1/documentation#',\n",
       "    'type': 'text/html',\n",
       "    'title': 'A link to Data set landing page (Data Set Landing Page)',\n",
       "    'hreflang': 'en-US',\n",
       "    'href': 'http://doi.org/10.5067/VIIRS/VJ102IMG.021'},\n",
       "   {'inherited': True,\n",
       "    'rel': 'http://esipfed.org/ns/fedsearch/1.1/metadata#',\n",
       "    'hreflang': 'en-US',\n",
       "    'href': 'https://doi.org/10.5067/VIIRS/VJ102IMG.021'},\n",
       "   {'inherited': True,\n",
       "    'length': '0.0KB',\n",
       "    'rel': 'http://esipfed.org/ns/fedsearch/1.1/data#',\n",
       "    'hreflang': 'en-US',\n",
       "    'href': 'https://ladsweb.modaps.eosdis.nasa.gov/search/order/2/VJ102IMG--5201'},\n",
       "   {'inherited': True,\n",
       "    'length': '0.0KB',\n",
       "    'rel': 'http://esipfed.org/ns/fedsearch/1.1/data#',\n",
       "    'hreflang': 'en-US',\n",
       "    'href': 'https://ladsweb.modaps.eosdis.nasa.gov/archive/allData/5201/VJ102IMG/'},\n",
       "   {'inherited': True,\n",
       "    'rel': 'http://esipfed.org/ns/fedsearch/1.1/service#',\n",
       "    'type': 'text/html',\n",
       "    'hreflang': 'en-US',\n",
       "    'href': 'https://ladsweb.modaps.eosdis.nasa.gov/opendap/hyrax/allData/5201/VJ102IMG/contents.html'},\n",
       "   {'inherited': True,\n",
       "    'rel': 'http://esipfed.org/ns/fedsearch/1.1/documentation#',\n",
       "    'hreflang': 'en-US',\n",
       "    'href': 'https://ladsweb.modaps.eosdis.nasa.gov/missions-and-measurements/viirs/NASA_VIIRS_L1B_UG_August_2021.pdf'},\n",
       "   {'inherited': True,\n",
       "    'rel': 'http://esipfed.org/ns/fedsearch/1.1/documentation#',\n",
       "    'hreflang': 'en-US',\n",
       "    'href': 'https://ladsweb.modaps.eosdis.nasa.gov/missions-and-measurements/viirs/NASARevisedJPSSVIIRSRadCalATBD2014.pdf'}]},\n",
       " {'producer_granule_id': 'VJ102IMG.A2023001.0330.021.2023001112358.nc',\n",
       "  'time_start': '2023-01-01T03:30:00.000Z',\n",
       "  'updated': '2023-01-01T11:37:36.160Z',\n",
       "  'dataset_id': 'VIIRS/JPSS1 Imagery Resolution 6-Min L1B Swath 375 m',\n",
       "  'data_center': 'LAADS',\n",
       "  'title': 'LAADS:7288019954',\n",
       "  'coordinate_system': 'GEODETIC',\n",
       "  'day_night_flag': 'DAY',\n",
       "  'time_end': '2023-01-01T03:36:00.000Z',\n",
       "  'id': 'G2576281504-LAADS',\n",
       "  'original_format': 'ECHO10',\n",
       "  'granule_size': '252.076194763184',\n",
       "  'browse_flag': False,\n",
       "  'polygons': [['8.071025 133.648926 12.188927 160.903473 32.988777 157.92598 28.286156 126.70047 8.071025 133.648926']],\n",
       "  'collection_concept_id': 'C2105083900-LAADS',\n",
       "  'online_access_flag': True,\n",
       "  'links': [{'rel': 'http://esipfed.org/ns/fedsearch/1.1/data#',\n",
       "    'type': 'application/x-netcdf',\n",
       "    'hreflang': 'en-US',\n",
       "    'href': 'https://ladsweb.modaps.eosdis.nasa.gov/archive/allData/5201/VJ102IMG/2023/001/VJ102IMG.A2023001.0330.021.2023001112358.nc'},\n",
       "   {'rel': 'http://esipfed.org/ns/fedsearch/1.1/service#',\n",
       "    'type': 'text/html',\n",
       "    'title': 'This file may be accessed using OPeNDAP directly from this link (OPENDAP DATA)',\n",
       "    'hreflang': 'en-US',\n",
       "    'href': 'https://ladsweb.modaps.eosdis.nasa.gov/opendap/RemoteResources/laads/allData/5201/VJ102IMG/2023/001/VJ102IMG.A2023001.0330.021.2023001112358.nc.html'},\n",
       "   {'rel': 'http://esipfed.org/ns/fedsearch/1.1/documentation#',\n",
       "    'type': 'text/html',\n",
       "    'title': 'A link to Data set landing page (Data Set Landing Page)',\n",
       "    'hreflang': 'en-US',\n",
       "    'href': 'http://doi.org/10.5067/VIIRS/VJ102IMG.021'},\n",
       "   {'inherited': True,\n",
       "    'rel': 'http://esipfed.org/ns/fedsearch/1.1/metadata#',\n",
       "    'hreflang': 'en-US',\n",
       "    'href': 'https://doi.org/10.5067/VIIRS/VJ102IMG.021'},\n",
       "   {'inherited': True,\n",
       "    'length': '0.0KB',\n",
       "    'rel': 'http://esipfed.org/ns/fedsearch/1.1/data#',\n",
       "    'hreflang': 'en-US',\n",
       "    'href': 'https://ladsweb.modaps.eosdis.nasa.gov/search/order/2/VJ102IMG--5201'},\n",
       "   {'inherited': True,\n",
       "    'length': '0.0KB',\n",
       "    'rel': 'http://esipfed.org/ns/fedsearch/1.1/data#',\n",
       "    'hreflang': 'en-US',\n",
       "    'href': 'https://ladsweb.modaps.eosdis.nasa.gov/archive/allData/5201/VJ102IMG/'},\n",
       "   {'inherited': True,\n",
       "    'rel': 'http://esipfed.org/ns/fedsearch/1.1/service#',\n",
       "    'type': 'text/html',\n",
       "    'hreflang': 'en-US',\n",
       "    'href': 'https://ladsweb.modaps.eosdis.nasa.gov/opendap/hyrax/allData/5201/VJ102IMG/contents.html'},\n",
       "   {'inherited': True,\n",
       "    'rel': 'http://esipfed.org/ns/fedsearch/1.1/documentation#',\n",
       "    'hreflang': 'en-US',\n",
       "    'href': 'https://ladsweb.modaps.eosdis.nasa.gov/missions-and-measurements/viirs/NASA_VIIRS_L1B_UG_August_2021.pdf'},\n",
       "   {'inherited': True,\n",
       "    'rel': 'http://esipfed.org/ns/fedsearch/1.1/documentation#',\n",
       "    'hreflang': 'en-US',\n",
       "    'href': 'https://ladsweb.modaps.eosdis.nasa.gov/missions-and-measurements/viirs/NASARevisedJPSSVIIRSRadCalATBD2014.pdf'}]},\n",
       " {'producer_granule_id': 'VJ102IMG.A2023001.0336.021.2023001112307.nc',\n",
       "  'time_start': '2023-01-01T03:36:00.000Z',\n",
       "  'updated': '2023-01-01T11:40:28.480Z',\n",
       "  'dataset_id': 'VIIRS/JPSS1 Imagery Resolution 6-Min L1B Swath 375 m',\n",
       "  'data_center': 'LAADS',\n",
       "  'title': 'LAADS:7288024093',\n",
       "  'coordinate_system': 'GEODETIC',\n",
       "  'day_night_flag': 'DAY',\n",
       "  'time_end': '2023-01-01T03:42:00.000Z',\n",
       "  'id': 'G2576281824-LAADS',\n",
       "  'original_format': 'ECHO10',\n",
       "  'granule_size': '256.647883415222',\n",
       "  'browse_flag': False,\n",
       "  'polygons': [['28.171139 126.735023 32.865967 157.921906 53.74025 157.081573 47.367439 114.633209 28.171139 126.735023']],\n",
       "  'collection_concept_id': 'C2105083900-LAADS',\n",
       "  'online_access_flag': True,\n",
       "  'links': [{'rel': 'http://esipfed.org/ns/fedsearch/1.1/data#',\n",
       "    'type': 'application/x-netcdf',\n",
       "    'hreflang': 'en-US',\n",
       "    'href': 'https://ladsweb.modaps.eosdis.nasa.gov/archive/allData/5201/VJ102IMG/2023/001/VJ102IMG.A2023001.0336.021.2023001112307.nc'},\n",
       "   {'rel': 'http://esipfed.org/ns/fedsearch/1.1/service#',\n",
       "    'type': 'text/html',\n",
       "    'title': 'This file may be accessed using OPeNDAP directly from this link (OPENDAP DATA)',\n",
       "    'hreflang': 'en-US',\n",
       "    'href': 'https://ladsweb.modaps.eosdis.nasa.gov/opendap/RemoteResources/laads/allData/5201/VJ102IMG/2023/001/VJ102IMG.A2023001.0336.021.2023001112307.nc.html'},\n",
       "   {'rel': 'http://esipfed.org/ns/fedsearch/1.1/documentation#',\n",
       "    'type': 'text/html',\n",
       "    'title': 'A link to Data set landing page (Data Set Landing Page)',\n",
       "    'hreflang': 'en-US',\n",
       "    'href': 'http://doi.org/10.5067/VIIRS/VJ102IMG.021'},\n",
       "   {'inherited': True,\n",
       "    'rel': 'http://esipfed.org/ns/fedsearch/1.1/metadata#',\n",
       "    'hreflang': 'en-US',\n",
       "    'href': 'https://doi.org/10.5067/VIIRS/VJ102IMG.021'},\n",
       "   {'inherited': True,\n",
       "    'length': '0.0KB',\n",
       "    'rel': 'http://esipfed.org/ns/fedsearch/1.1/data#',\n",
       "    'hreflang': 'en-US',\n",
       "    'href': 'https://ladsweb.modaps.eosdis.nasa.gov/search/order/2/VJ102IMG--5201'},\n",
       "   {'inherited': True,\n",
       "    'length': '0.0KB',\n",
       "    'rel': 'http://esipfed.org/ns/fedsearch/1.1/data#',\n",
       "    'hreflang': 'en-US',\n",
       "    'href': 'https://ladsweb.modaps.eosdis.nasa.gov/archive/allData/5201/VJ102IMG/'},\n",
       "   {'inherited': True,\n",
       "    'rel': 'http://esipfed.org/ns/fedsearch/1.1/service#',\n",
       "    'type': 'text/html',\n",
       "    'hreflang': 'en-US',\n",
       "    'href': 'https://ladsweb.modaps.eosdis.nasa.gov/opendap/hyrax/allData/5201/VJ102IMG/contents.html'},\n",
       "   {'inherited': True,\n",
       "    'rel': 'http://esipfed.org/ns/fedsearch/1.1/documentation#',\n",
       "    'hreflang': 'en-US',\n",
       "    'href': 'https://ladsweb.modaps.eosdis.nasa.gov/missions-and-measurements/viirs/NASA_VIIRS_L1B_UG_August_2021.pdf'},\n",
       "   {'inherited': True,\n",
       "    'rel': 'http://esipfed.org/ns/fedsearch/1.1/documentation#',\n",
       "    'hreflang': 'en-US',\n",
       "    'href': 'https://ladsweb.modaps.eosdis.nasa.gov/missions-and-measurements/viirs/NASARevisedJPSSVIIRSRadCalATBD2014.pdf'}]},\n",
       " {'producer_granule_id': 'VJ102IMG.A2023001.0342.021.2023001112203.nc',\n",
       "  'time_start': '2023-01-01T03:42:00.000Z',\n",
       "  'updated': '2023-01-01T11:32:11.690Z',\n",
       "  'dataset_id': 'VIIRS/JPSS1 Imagery Resolution 6-Min L1B Swath 375 m',\n",
       "  'data_center': 'LAADS',\n",
       "  'title': 'LAADS:7288012032',\n",
       "  'coordinate_system': 'GEODETIC',\n",
       "  'day_night_flag': 'DAY',\n",
       "  'time_end': '2023-01-01T03:48:00.000Z',\n",
       "  'id': 'G2576280732-LAADS',\n",
       "  'original_format': 'ECHO10',\n",
       "  'granule_size': '193.880324363708',\n",
       "  'browse_flag': False,\n",
       "  'polygons': [['47.262283 114.715691 53.617359 157.052841 74.012657 164.224594 62.915127 88.815811 47.262283 114.715691']],\n",
       "  'collection_concept_id': 'C2105083900-LAADS',\n",
       "  'online_access_flag': True,\n",
       "  'links': [{'rel': 'http://esipfed.org/ns/fedsearch/1.1/data#',\n",
       "    'type': 'application/x-netcdf',\n",
       "    'hreflang': 'en-US',\n",
       "    'href': 'https://ladsweb.modaps.eosdis.nasa.gov/archive/allData/5201/VJ102IMG/2023/001/VJ102IMG.A2023001.0342.021.2023001112203.nc'},\n",
       "   {'rel': 'http://esipfed.org/ns/fedsearch/1.1/service#',\n",
       "    'type': 'text/html',\n",
       "    'title': 'This file may be accessed using OPeNDAP directly from this link (OPENDAP DATA)',\n",
       "    'hreflang': 'en-US',\n",
       "    'href': 'https://ladsweb.modaps.eosdis.nasa.gov/opendap/RemoteResources/laads/allData/5201/VJ102IMG/2023/001/VJ102IMG.A2023001.0342.021.2023001112203.nc.html'},\n",
       "   {'rel': 'http://esipfed.org/ns/fedsearch/1.1/documentation#',\n",
       "    'type': 'text/html',\n",
       "    'title': 'A link to Data set landing page (Data Set Landing Page)',\n",
       "    'hreflang': 'en-US',\n",
       "    'href': 'http://doi.org/10.5067/VIIRS/VJ102IMG.021'},\n",
       "   {'inherited': True,\n",
       "    'rel': 'http://esipfed.org/ns/fedsearch/1.1/metadata#',\n",
       "    'hreflang': 'en-US',\n",
       "    'href': 'https://doi.org/10.5067/VIIRS/VJ102IMG.021'},\n",
       "   {'inherited': True,\n",
       "    'length': '0.0KB',\n",
       "    'rel': 'http://esipfed.org/ns/fedsearch/1.1/data#',\n",
       "    'hreflang': 'en-US',\n",
       "    'href': 'https://ladsweb.modaps.eosdis.nasa.gov/search/order/2/VJ102IMG--5201'},\n",
       "   {'inherited': True,\n",
       "    'length': '0.0KB',\n",
       "    'rel': 'http://esipfed.org/ns/fedsearch/1.1/data#',\n",
       "    'hreflang': 'en-US',\n",
       "    'href': 'https://ladsweb.modaps.eosdis.nasa.gov/archive/allData/5201/VJ102IMG/'},\n",
       "   {'inherited': True,\n",
       "    'rel': 'http://esipfed.org/ns/fedsearch/1.1/service#',\n",
       "    'type': 'text/html',\n",
       "    'hreflang': 'en-US',\n",
       "    'href': 'https://ladsweb.modaps.eosdis.nasa.gov/opendap/hyrax/allData/5201/VJ102IMG/contents.html'},\n",
       "   {'inherited': True,\n",
       "    'rel': 'http://esipfed.org/ns/fedsearch/1.1/documentation#',\n",
       "    'hreflang': 'en-US',\n",
       "    'href': 'https://ladsweb.modaps.eosdis.nasa.gov/missions-and-measurements/viirs/NASA_VIIRS_L1B_UG_August_2021.pdf'},\n",
       "   {'inherited': True,\n",
       "    'rel': 'http://esipfed.org/ns/fedsearch/1.1/documentation#',\n",
       "    'hreflang': 'en-US',\n",
       "    'href': 'https://ladsweb.modaps.eosdis.nasa.gov/missions-and-measurements/viirs/NASARevisedJPSSVIIRSRadCalATBD2014.pdf'}]},\n",
       " {'producer_granule_id': 'VJ102IMG.A2023001.0442.021.2023001115737.nc',\n",
       "  'time_start': '2023-01-01T04:42:00.000Z',\n",
       "  'updated': '2023-01-01T12:04:54.710Z',\n",
       "  'dataset_id': 'VIIRS/JPSS1 Imagery Resolution 6-Min L1B Swath 375 m',\n",
       "  'data_center': 'LAADS',\n",
       "  'title': 'LAADS:7288071461',\n",
       "  'coordinate_system': 'GEODETIC',\n",
       "  'day_night_flag': 'DAY',\n",
       "  'time_end': '2023-01-01T04:48:00.000Z',\n",
       "  'id': 'G2576286550-LAADS',\n",
       "  'original_format': 'ECHO10',\n",
       "  'granule_size': '233.223492622375',\n",
       "  'browse_flag': False,\n",
       "  'polygons': [['-83.462799 4.528305 -66.795563 -129.326904 -61.505909 -177.670425 -72.341042 110.513878 -83.462799 4.528305']],\n",
       "  'collection_concept_id': 'C2105083900-LAADS',\n",
       "  'online_access_flag': True,\n",
       "  'links': [{'rel': 'http://esipfed.org/ns/fedsearch/1.1/data#',\n",
       "    'type': 'application/x-netcdf',\n",
       "    'hreflang': 'en-US',\n",
       "    'href': 'https://ladsweb.modaps.eosdis.nasa.gov/archive/allData/5201/VJ102IMG/2023/001/VJ102IMG.A2023001.0442.021.2023001115737.nc'},\n",
       "   {'rel': 'http://esipfed.org/ns/fedsearch/1.1/service#',\n",
       "    'type': 'text/html',\n",
       "    'title': 'This file may be accessed using OPeNDAP directly from this link (OPENDAP DATA)',\n",
       "    'hreflang': 'en-US',\n",
       "    'href': 'https://ladsweb.modaps.eosdis.nasa.gov/opendap/RemoteResources/laads/allData/5201/VJ102IMG/2023/001/VJ102IMG.A2023001.0442.021.2023001115737.nc.html'},\n",
       "   {'rel': 'http://esipfed.org/ns/fedsearch/1.1/documentation#',\n",
       "    'type': 'text/html',\n",
       "    'title': 'A link to Data set landing page (Data Set Landing Page)',\n",
       "    'hreflang': 'en-US',\n",
       "    'href': 'http://doi.org/10.5067/VIIRS/VJ102IMG.021'},\n",
       "   {'inherited': True,\n",
       "    'rel': 'http://esipfed.org/ns/fedsearch/1.1/metadata#',\n",
       "    'hreflang': 'en-US',\n",
       "    'href': 'https://doi.org/10.5067/VIIRS/VJ102IMG.021'},\n",
       "   {'inherited': True,\n",
       "    'length': '0.0KB',\n",
       "    'rel': 'http://esipfed.org/ns/fedsearch/1.1/data#',\n",
       "    'hreflang': 'en-US',\n",
       "    'href': 'https://ladsweb.modaps.eosdis.nasa.gov/search/order/2/VJ102IMG--5201'},\n",
       "   {'inherited': True,\n",
       "    'length': '0.0KB',\n",
       "    'rel': 'http://esipfed.org/ns/fedsearch/1.1/data#',\n",
       "    'hreflang': 'en-US',\n",
       "    'href': 'https://ladsweb.modaps.eosdis.nasa.gov/archive/allData/5201/VJ102IMG/'},\n",
       "   {'inherited': True,\n",
       "    'rel': 'http://esipfed.org/ns/fedsearch/1.1/service#',\n",
       "    'type': 'text/html',\n",
       "    'hreflang': 'en-US',\n",
       "    'href': 'https://ladsweb.modaps.eosdis.nasa.gov/opendap/hyrax/allData/5201/VJ102IMG/contents.html'},\n",
       "   {'inherited': True,\n",
       "    'rel': 'http://esipfed.org/ns/fedsearch/1.1/documentation#',\n",
       "    'hreflang': 'en-US',\n",
       "    'href': 'https://ladsweb.modaps.eosdis.nasa.gov/missions-and-measurements/viirs/NASA_VIIRS_L1B_UG_August_2021.pdf'},\n",
       "   {'inherited': True,\n",
       "    'rel': 'http://esipfed.org/ns/fedsearch/1.1/documentation#',\n",
       "    'hreflang': 'en-US',\n",
       "    'href': 'https://ladsweb.modaps.eosdis.nasa.gov/missions-and-measurements/viirs/NASARevisedJPSSVIIRSRadCalATBD2014.pdf'}]},\n",
       " {'producer_granule_id': 'VJ102IMG.A2023001.0448.021.2023001115844.nc',\n",
       "  'time_start': '2023-01-01T04:48:00.000Z',\n",
       "  'updated': '2023-01-01T12:06:58.440Z',\n",
       "  'dataset_id': 'VIIRS/JPSS1 Imagery Resolution 6-Min L1B Swath 375 m',\n",
       "  'data_center': 'LAADS',\n",
       "  'title': 'LAADS:7288075863',\n",
       "  'coordinate_system': 'GEODETIC',\n",
       "  'day_night_flag': 'DAY',\n",
       "  'time_end': '2023-01-01T04:54:00.000Z',\n",
       "  'id': 'G2576287130-LAADS',\n",
       "  'original_format': 'ECHO10',\n",
       "  'granule_size': '250.570514678955',\n",
       "  'browse_flag': False,\n",
       "  'polygons': [['-72.463486 110.388428 -61.590118 -177.46727 -45.638035 158.166641 -52.002064 116.33815 -72.463486 110.388428']],\n",
       "  'collection_concept_id': 'C2105083900-LAADS',\n",
       "  'online_access_flag': True,\n",
       "  'links': [{'rel': 'http://esipfed.org/ns/fedsearch/1.1/data#',\n",
       "    'type': 'application/x-netcdf',\n",
       "    'hreflang': 'en-US',\n",
       "    'href': 'https://ladsweb.modaps.eosdis.nasa.gov/archive/allData/5201/VJ102IMG/2023/001/VJ102IMG.A2023001.0448.021.2023001115844.nc'},\n",
       "   {'rel': 'http://esipfed.org/ns/fedsearch/1.1/service#',\n",
       "    'type': 'text/html',\n",
       "    'title': 'This file may be accessed using OPeNDAP directly from this link (OPENDAP DATA)',\n",
       "    'hreflang': 'en-US',\n",
       "    'href': 'https://ladsweb.modaps.eosdis.nasa.gov/opendap/RemoteResources/laads/allData/5201/VJ102IMG/2023/001/VJ102IMG.A2023001.0448.021.2023001115844.nc.html'},\n",
       "   {'rel': 'http://esipfed.org/ns/fedsearch/1.1/documentation#',\n",
       "    'type': 'text/html',\n",
       "    'title': 'A link to Data set landing page (Data Set Landing Page)',\n",
       "    'hreflang': 'en-US',\n",
       "    'href': 'http://doi.org/10.5067/VIIRS/VJ102IMG.021'},\n",
       "   {'inherited': True,\n",
       "    'rel': 'http://esipfed.org/ns/fedsearch/1.1/metadata#',\n",
       "    'hreflang': 'en-US',\n",
       "    'href': 'https://doi.org/10.5067/VIIRS/VJ102IMG.021'},\n",
       "   {'inherited': True,\n",
       "    'length': '0.0KB',\n",
       "    'rel': 'http://esipfed.org/ns/fedsearch/1.1/data#',\n",
       "    'hreflang': 'en-US',\n",
       "    'href': 'https://ladsweb.modaps.eosdis.nasa.gov/search/order/2/VJ102IMG--5201'},\n",
       "   {'inherited': True,\n",
       "    'length': '0.0KB',\n",
       "    'rel': 'http://esipfed.org/ns/fedsearch/1.1/data#',\n",
       "    'hreflang': 'en-US',\n",
       "    'href': 'https://ladsweb.modaps.eosdis.nasa.gov/archive/allData/5201/VJ102IMG/'},\n",
       "   {'inherited': True,\n",
       "    'rel': 'http://esipfed.org/ns/fedsearch/1.1/service#',\n",
       "    'type': 'text/html',\n",
       "    'hreflang': 'en-US',\n",
       "    'href': 'https://ladsweb.modaps.eosdis.nasa.gov/opendap/hyrax/allData/5201/VJ102IMG/contents.html'},\n",
       "   {'inherited': True,\n",
       "    'rel': 'http://esipfed.org/ns/fedsearch/1.1/documentation#',\n",
       "    'hreflang': 'en-US',\n",
       "    'href': 'https://ladsweb.modaps.eosdis.nasa.gov/missions-and-measurements/viirs/NASA_VIIRS_L1B_UG_August_2021.pdf'},\n",
       "   {'inherited': True,\n",
       "    'rel': 'http://esipfed.org/ns/fedsearch/1.1/documentation#',\n",
       "    'hreflang': 'en-US',\n",
       "    'href': 'https://ladsweb.modaps.eosdis.nasa.gov/missions-and-measurements/viirs/NASARevisedJPSSVIIRSRadCalATBD2014.pdf'}]},\n",
       " {'producer_granule_id': 'VJ102IMG.A2023001.0454.021.2023001115703.nc',\n",
       "  'time_start': '2023-01-01T04:54:00.000Z',\n",
       "  'updated': '2023-01-01T12:02:57.040Z',\n",
       "  'dataset_id': 'VIIRS/JPSS1 Imagery Resolution 6-Min L1B Swath 375 m',\n",
       "  'data_center': 'LAADS',\n",
       "  'title': 'LAADS:7288067721',\n",
       "  'coordinate_system': 'GEODETIC',\n",
       "  'day_night_flag': 'DAY',\n",
       "  'time_end': '2023-01-01T05:00:00.000Z',\n",
       "  'id': 'G2576286250-LAADS',\n",
       "  'original_format': 'ECHO10',\n",
       "  'granule_size': '268.530751228333',\n",
       "  'browse_flag': False,\n",
       "  'polygons': [['-52.128319 116.314949 -45.753773 158.240341 -26.689798 146.573288 -31.416613 115.455414 -52.128319 116.314949']],\n",
       "  'collection_concept_id': 'C2105083900-LAADS',\n",
       "  'online_access_flag': True,\n",
       "  'links': [{'rel': 'http://esipfed.org/ns/fedsearch/1.1/data#',\n",
       "    'type': 'application/x-netcdf',\n",
       "    'hreflang': 'en-US',\n",
       "    'href': 'https://ladsweb.modaps.eosdis.nasa.gov/archive/allData/5201/VJ102IMG/2023/001/VJ102IMG.A2023001.0454.021.2023001115703.nc'},\n",
       "   {'rel': 'http://esipfed.org/ns/fedsearch/1.1/service#',\n",
       "    'type': 'text/html',\n",
       "    'title': 'This file may be accessed using OPeNDAP directly from this link (OPENDAP DATA)',\n",
       "    'hreflang': 'en-US',\n",
       "    'href': 'https://ladsweb.modaps.eosdis.nasa.gov/opendap/RemoteResources/laads/allData/5201/VJ102IMG/2023/001/VJ102IMG.A2023001.0454.021.2023001115703.nc.html'},\n",
       "   {'rel': 'http://esipfed.org/ns/fedsearch/1.1/documentation#',\n",
       "    'type': 'text/html',\n",
       "    'title': 'A link to Data set landing page (Data Set Landing Page)',\n",
       "    'hreflang': 'en-US',\n",
       "    'href': 'http://doi.org/10.5067/VIIRS/VJ102IMG.021'},\n",
       "   {'inherited': True,\n",
       "    'rel': 'http://esipfed.org/ns/fedsearch/1.1/metadata#',\n",
       "    'hreflang': 'en-US',\n",
       "    'href': 'https://doi.org/10.5067/VIIRS/VJ102IMG.021'},\n",
       "   {'inherited': True,\n",
       "    'length': '0.0KB',\n",
       "    'rel': 'http://esipfed.org/ns/fedsearch/1.1/data#',\n",
       "    'hreflang': 'en-US',\n",
       "    'href': 'https://ladsweb.modaps.eosdis.nasa.gov/search/order/2/VJ102IMG--5201'},\n",
       "   {'inherited': True,\n",
       "    'length': '0.0KB',\n",
       "    'rel': 'http://esipfed.org/ns/fedsearch/1.1/data#',\n",
       "    'hreflang': 'en-US',\n",
       "    'href': 'https://ladsweb.modaps.eosdis.nasa.gov/archive/allData/5201/VJ102IMG/'},\n",
       "   {'inherited': True,\n",
       "    'rel': 'http://esipfed.org/ns/fedsearch/1.1/service#',\n",
       "    'type': 'text/html',\n",
       "    'hreflang': 'en-US',\n",
       "    'href': 'https://ladsweb.modaps.eosdis.nasa.gov/opendap/hyrax/allData/5201/VJ102IMG/contents.html'},\n",
       "   {'inherited': True,\n",
       "    'rel': 'http://esipfed.org/ns/fedsearch/1.1/documentation#',\n",
       "    'hreflang': 'en-US',\n",
       "    'href': 'https://ladsweb.modaps.eosdis.nasa.gov/missions-and-measurements/viirs/NASA_VIIRS_L1B_UG_August_2021.pdf'},\n",
       "   {'inherited': True,\n",
       "    'rel': 'http://esipfed.org/ns/fedsearch/1.1/documentation#',\n",
       "    'hreflang': 'en-US',\n",
       "    'href': 'https://ladsweb.modaps.eosdis.nasa.gov/missions-and-measurements/viirs/NASARevisedJPSSVIIRSRadCalATBD2014.pdf'}]},\n",
       " {'producer_granule_id': 'VJ102IMG.A2023001.0618.021.2023001134815.nc',\n",
       "  'time_start': '2023-01-01T06:18:00.000Z',\n",
       "  'updated': '2023-01-01T13:55:05.790Z',\n",
       "  'dataset_id': 'VIIRS/JPSS1 Imagery Resolution 6-Min L1B Swath 375 m',\n",
       "  'data_center': 'LAADS',\n",
       "  'title': 'LAADS:7288295895',\n",
       "  'coordinate_system': 'GEODETIC',\n",
       "  'day_night_flag': 'DAY',\n",
       "  'time_end': '2023-01-01T06:24:00.000Z',\n",
       "  'id': 'G2576309528-LAADS',\n",
       "  'original_format': 'ECHO10',\n",
       "  'granule_size': '217.81587600708',\n",
       "  'browse_flag': False,\n",
       "  'polygons': [['-66.545135 -58.210876 -57.469185 -117.531563 -67.037277 -159.340988 -84.342606 -6.234918 -66.545135 -58.210876']],\n",
       "  'collection_concept_id': 'C2105083900-LAADS',\n",
       "  'online_access_flag': True,\n",
       "  'links': [{'rel': 'http://esipfed.org/ns/fedsearch/1.1/data#',\n",
       "    'type': 'application/x-netcdf',\n",
       "    'hreflang': 'en-US',\n",
       "    'href': 'https://ladsweb.modaps.eosdis.nasa.gov/archive/allData/5201/VJ102IMG/2023/001/VJ102IMG.A2023001.0618.021.2023001134815.nc'},\n",
       "   {'rel': 'http://esipfed.org/ns/fedsearch/1.1/service#',\n",
       "    'type': 'text/html',\n",
       "    'title': 'This file may be accessed using OPeNDAP directly from this link (OPENDAP DATA)',\n",
       "    'hreflang': 'en-US',\n",
       "    'href': 'https://ladsweb.modaps.eosdis.nasa.gov/opendap/RemoteResources/laads/allData/5201/VJ102IMG/2023/001/VJ102IMG.A2023001.0618.021.2023001134815.nc.html'},\n",
       "   {'rel': 'http://esipfed.org/ns/fedsearch/1.1/documentation#',\n",
       "    'type': 'text/html',\n",
       "    'title': 'A link to Data set landing page (Data Set Landing Page)',\n",
       "    'hreflang': 'en-US',\n",
       "    'href': 'http://doi.org/10.5067/VIIRS/VJ102IMG.021'},\n",
       "   {'inherited': True,\n",
       "    'rel': 'http://esipfed.org/ns/fedsearch/1.1/metadata#',\n",
       "    'hreflang': 'en-US',\n",
       "    'href': 'https://doi.org/10.5067/VIIRS/VJ102IMG.021'},\n",
       "   {'inherited': True,\n",
       "    'length': '0.0KB',\n",
       "    'rel': 'http://esipfed.org/ns/fedsearch/1.1/data#',\n",
       "    'hreflang': 'en-US',\n",
       "    'href': 'https://ladsweb.modaps.eosdis.nasa.gov/search/order/2/VJ102IMG--5201'},\n",
       "   {'inherited': True,\n",
       "    'length': '0.0KB',\n",
       "    'rel': 'http://esipfed.org/ns/fedsearch/1.1/data#',\n",
       "    'hreflang': 'en-US',\n",
       "    'href': 'https://ladsweb.modaps.eosdis.nasa.gov/archive/allData/5201/VJ102IMG/'},\n",
       "   {'inherited': True,\n",
       "    'rel': 'http://esipfed.org/ns/fedsearch/1.1/service#',\n",
       "    'type': 'text/html',\n",
       "    'hreflang': 'en-US',\n",
       "    'href': 'https://ladsweb.modaps.eosdis.nasa.gov/opendap/hyrax/allData/5201/VJ102IMG/contents.html'},\n",
       "   {'inherited': True,\n",
       "    'rel': 'http://esipfed.org/ns/fedsearch/1.1/documentation#',\n",
       "    'hreflang': 'en-US',\n",
       "    'href': 'https://ladsweb.modaps.eosdis.nasa.gov/missions-and-measurements/viirs/NASA_VIIRS_L1B_UG_August_2021.pdf'},\n",
       "   {'inherited': True,\n",
       "    'rel': 'http://esipfed.org/ns/fedsearch/1.1/documentation#',\n",
       "    'hreflang': 'en-US',\n",
       "    'href': 'https://ladsweb.modaps.eosdis.nasa.gov/missions-and-measurements/viirs/NASARevisedJPSSVIIRSRadCalATBD2014.pdf'}]},\n",
       " {'producer_granule_id': 'VJ102IMG.A2023001.0624.021.2023001134953.nc',\n",
       "  'time_start': '2023-01-01T06:24:00.000Z',\n",
       "  'updated': '2023-01-01T13:55:05.790Z',\n",
       "  'dataset_id': 'VIIRS/JPSS1 Imagery Resolution 6-Min L1B Swath 375 m',\n",
       "  'data_center': 'LAADS',\n",
       "  'title': 'LAADS:7288295896',\n",
       "  'coordinate_system': 'GEODETIC',\n",
       "  'day_night_flag': 'DAY',\n",
       "  'time_end': '2023-01-01T06:30:00.000Z',\n",
       "  'id': 'G2576309530-LAADS',\n",
       "  'original_format': 'ECHO10',\n",
       "  'granule_size': '222.00656414032',\n",
       "  'browse_flag': False,\n",
       "  'polygons': [['-84.294006 -7.441249 -67.025101 -159.013123 -60.401207 153.997635 -70.633904 86.395538 -84.294006 -7.441249']],\n",
       "  'collection_concept_id': 'C2105083900-LAADS',\n",
       "  'online_access_flag': True,\n",
       "  'links': [{'rel': 'http://esipfed.org/ns/fedsearch/1.1/data#',\n",
       "    'type': 'application/x-netcdf',\n",
       "    'hreflang': 'en-US',\n",
       "    'href': 'https://ladsweb.modaps.eosdis.nasa.gov/archive/allData/5201/VJ102IMG/2023/001/VJ102IMG.A2023001.0624.021.2023001134953.nc'},\n",
       "   {'rel': 'http://esipfed.org/ns/fedsearch/1.1/service#',\n",
       "    'type': 'text/html',\n",
       "    'title': 'This file may be accessed using OPeNDAP directly from this link (OPENDAP DATA)',\n",
       "    'hreflang': 'en-US',\n",
       "    'href': 'https://ladsweb.modaps.eosdis.nasa.gov/opendap/RemoteResources/laads/allData/5201/VJ102IMG/2023/001/VJ102IMG.A2023001.0624.021.2023001134953.nc.html'},\n",
       "   {'rel': 'http://esipfed.org/ns/fedsearch/1.1/documentation#',\n",
       "    'type': 'text/html',\n",
       "    'title': 'A link to Data set landing page (Data Set Landing Page)',\n",
       "    'hreflang': 'en-US',\n",
       "    'href': 'http://doi.org/10.5067/VIIRS/VJ102IMG.021'},\n",
       "   {'inherited': True,\n",
       "    'rel': 'http://esipfed.org/ns/fedsearch/1.1/metadata#',\n",
       "    'hreflang': 'en-US',\n",
       "    'href': 'https://doi.org/10.5067/VIIRS/VJ102IMG.021'},\n",
       "   {'inherited': True,\n",
       "    'length': '0.0KB',\n",
       "    'rel': 'http://esipfed.org/ns/fedsearch/1.1/data#',\n",
       "    'hreflang': 'en-US',\n",
       "    'href': 'https://ladsweb.modaps.eosdis.nasa.gov/search/order/2/VJ102IMG--5201'},\n",
       "   {'inherited': True,\n",
       "    'length': '0.0KB',\n",
       "    'rel': 'http://esipfed.org/ns/fedsearch/1.1/data#',\n",
       "    'hreflang': 'en-US',\n",
       "    'href': 'https://ladsweb.modaps.eosdis.nasa.gov/archive/allData/5201/VJ102IMG/'},\n",
       "   {'inherited': True,\n",
       "    'rel': 'http://esipfed.org/ns/fedsearch/1.1/service#',\n",
       "    'type': 'text/html',\n",
       "    'hreflang': 'en-US',\n",
       "    'href': 'https://ladsweb.modaps.eosdis.nasa.gov/opendap/hyrax/allData/5201/VJ102IMG/contents.html'},\n",
       "   {'inherited': True,\n",
       "    'rel': 'http://esipfed.org/ns/fedsearch/1.1/documentation#',\n",
       "    'hreflang': 'en-US',\n",
       "    'href': 'https://ladsweb.modaps.eosdis.nasa.gov/missions-and-measurements/viirs/NASA_VIIRS_L1B_UG_August_2021.pdf'},\n",
       "   {'inherited': True,\n",
       "    'rel': 'http://esipfed.org/ns/fedsearch/1.1/documentation#',\n",
       "    'hreflang': 'en-US',\n",
       "    'href': 'https://ladsweb.modaps.eosdis.nasa.gov/missions-and-measurements/viirs/NASARevisedJPSSVIIRSRadCalATBD2014.pdf'}]},\n",
       " {'producer_granule_id': 'VJ102IMG.A2023001.0630.021.2023001134856.nc',\n",
       "  'time_start': '2023-01-01T06:30:00.000Z',\n",
       "  'updated': '2023-01-01T13:58:00.020Z',\n",
       "  'dataset_id': 'VIIRS/JPSS1 Imagery Resolution 6-Min L1B Swath 375 m',\n",
       "  'data_center': 'LAADS',\n",
       "  'title': 'LAADS:7288299233',\n",
       "  'coordinate_system': 'GEODETIC',\n",
       "  'day_night_flag': 'DAY',\n",
       "  'time_end': '2023-01-01T06:36:00.000Z',\n",
       "  'id': 'G2576310123-LAADS',\n",
       "  'original_format': 'ECHO10',\n",
       "  'granule_size': '250.851105690002',\n",
       "  'browse_flag': False,\n",
       "  'polygons': [['-70.758331 86.304352 -60.487259 154.189728 -44.17046 131.552521 -50.337593 91.014999 -70.758331 86.304352']],\n",
       "  'collection_concept_id': 'C2105083900-LAADS',\n",
       "  'online_access_flag': True,\n",
       "  'links': [{'rel': 'http://esipfed.org/ns/fedsearch/1.1/data#',\n",
       "    'type': 'application/x-netcdf',\n",
       "    'hreflang': 'en-US',\n",
       "    'href': 'https://ladsweb.modaps.eosdis.nasa.gov/archive/allData/5201/VJ102IMG/2023/001/VJ102IMG.A2023001.0630.021.2023001134856.nc'},\n",
       "   {'rel': 'http://esipfed.org/ns/fedsearch/1.1/service#',\n",
       "    'type': 'text/html',\n",
       "    'title': 'This file may be accessed using OPeNDAP directly from this link (OPENDAP DATA)',\n",
       "    'hreflang': 'en-US',\n",
       "    'href': 'https://ladsweb.modaps.eosdis.nasa.gov/opendap/RemoteResources/laads/allData/5201/VJ102IMG/2023/001/VJ102IMG.A2023001.0630.021.2023001134856.nc.html'},\n",
       "   {'rel': 'http://esipfed.org/ns/fedsearch/1.1/documentation#',\n",
       "    'type': 'text/html',\n",
       "    'title': 'A link to Data set landing page (Data Set Landing Page)',\n",
       "    'hreflang': 'en-US',\n",
       "    'href': 'http://doi.org/10.5067/VIIRS/VJ102IMG.021'},\n",
       "   {'inherited': True,\n",
       "    'rel': 'http://esipfed.org/ns/fedsearch/1.1/metadata#',\n",
       "    'hreflang': 'en-US',\n",
       "    'href': 'https://doi.org/10.5067/VIIRS/VJ102IMG.021'},\n",
       "   {'inherited': True,\n",
       "    'length': '0.0KB',\n",
       "    'rel': 'http://esipfed.org/ns/fedsearch/1.1/data#',\n",
       "    'hreflang': 'en-US',\n",
       "    'href': 'https://ladsweb.modaps.eosdis.nasa.gov/search/order/2/VJ102IMG--5201'},\n",
       "   {'inherited': True,\n",
       "    'length': '0.0KB',\n",
       "    'rel': 'http://esipfed.org/ns/fedsearch/1.1/data#',\n",
       "    'hreflang': 'en-US',\n",
       "    'href': 'https://ladsweb.modaps.eosdis.nasa.gov/archive/allData/5201/VJ102IMG/'},\n",
       "   {'inherited': True,\n",
       "    'rel': 'http://esipfed.org/ns/fedsearch/1.1/service#',\n",
       "    'type': 'text/html',\n",
       "    'hreflang': 'en-US',\n",
       "    'href': 'https://ladsweb.modaps.eosdis.nasa.gov/opendap/hyrax/allData/5201/VJ102IMG/contents.html'},\n",
       "   {'inherited': True,\n",
       "    'rel': 'http://esipfed.org/ns/fedsearch/1.1/documentation#',\n",
       "    'hreflang': 'en-US',\n",
       "    'href': 'https://ladsweb.modaps.eosdis.nasa.gov/missions-and-measurements/viirs/NASA_VIIRS_L1B_UG_August_2021.pdf'},\n",
       "   {'inherited': True,\n",
       "    'rel': 'http://esipfed.org/ns/fedsearch/1.1/documentation#',\n",
       "    'hreflang': 'en-US',\n",
       "    'href': 'https://ladsweb.modaps.eosdis.nasa.gov/missions-and-measurements/viirs/NASARevisedJPSSVIIRSRadCalATBD2014.pdf'}]},\n",
       " {'producer_granule_id': 'VJ102IMG.A2023001.0800.021.2023001161720.nc',\n",
       "  'time_start': '2023-01-01T08:00:00.000Z',\n",
       "  'updated': '2023-01-01T16:23:15.210Z',\n",
       "  'dataset_id': 'VIIRS/JPSS1 Imagery Resolution 6-Min L1B Swath 375 m',\n",
       "  'data_center': 'LAADS',\n",
       "  'title': 'LAADS:7288583688',\n",
       "  'coordinate_system': 'GEODETIC',\n",
       "  'day_night_flag': 'DAY',\n",
       "  'time_end': '2023-01-01T08:06:00.000Z',\n",
       "  'id': 'G2576336507-LAADS',\n",
       "  'original_format': 'ECHO10',\n",
       "  'granule_size': '226.414295196533',\n",
       "  'browse_flag': False,\n",
       "  'polygons': [['-68.168655 -82.862152 -58.649883 -145.223328 -67.137589 170.65567 -84.731071 -13.682461 -68.168655 -82.862152']],\n",
       "  'collection_concept_id': 'C2105083900-LAADS',\n",
       "  'online_access_flag': True,\n",
       "  'links': [{'rel': 'http://esipfed.org/ns/fedsearch/1.1/data#',\n",
       "    'type': 'application/x-netcdf',\n",
       "    'hreflang': 'en-US',\n",
       "    'href': 'https://ladsweb.modaps.eosdis.nasa.gov/archive/allData/5201/VJ102IMG/2023/001/VJ102IMG.A2023001.0800.021.2023001161720.nc'},\n",
       "   {'rel': 'http://esipfed.org/ns/fedsearch/1.1/service#',\n",
       "    'type': 'text/html',\n",
       "    'title': 'This file may be accessed using OPeNDAP directly from this link (OPENDAP DATA)',\n",
       "    'hreflang': 'en-US',\n",
       "    'href': 'https://ladsweb.modaps.eosdis.nasa.gov/opendap/RemoteResources/laads/allData/5201/VJ102IMG/2023/001/VJ102IMG.A2023001.0800.021.2023001161720.nc.html'},\n",
       "   {'rel': 'http://esipfed.org/ns/fedsearch/1.1/documentation#',\n",
       "    'type': 'text/html',\n",
       "    'title': 'A link to Data set landing page (Data Set Landing Page)',\n",
       "    'hreflang': 'en-US',\n",
       "    'href': 'http://doi.org/10.5067/VIIRS/VJ102IMG.021'},\n",
       "   {'inherited': True,\n",
       "    'rel': 'http://esipfed.org/ns/fedsearch/1.1/metadata#',\n",
       "    'hreflang': 'en-US',\n",
       "    'href': 'https://doi.org/10.5067/VIIRS/VJ102IMG.021'},\n",
       "   {'inherited': True,\n",
       "    'length': '0.0KB',\n",
       "    'rel': 'http://esipfed.org/ns/fedsearch/1.1/data#',\n",
       "    'hreflang': 'en-US',\n",
       "    'href': 'https://ladsweb.modaps.eosdis.nasa.gov/search/order/2/VJ102IMG--5201'},\n",
       "   {'inherited': True,\n",
       "    'length': '0.0KB',\n",
       "    'rel': 'http://esipfed.org/ns/fedsearch/1.1/data#',\n",
       "    'hreflang': 'en-US',\n",
       "    'href': 'https://ladsweb.modaps.eosdis.nasa.gov/archive/allData/5201/VJ102IMG/'},\n",
       "   {'inherited': True,\n",
       "    'rel': 'http://esipfed.org/ns/fedsearch/1.1/service#',\n",
       "    'type': 'text/html',\n",
       "    'hreflang': 'en-US',\n",
       "    'href': 'https://ladsweb.modaps.eosdis.nasa.gov/opendap/hyrax/allData/5201/VJ102IMG/contents.html'},\n",
       "   {'inherited': True,\n",
       "    'rel': 'http://esipfed.org/ns/fedsearch/1.1/documentation#',\n",
       "    'hreflang': 'en-US',\n",
       "    'href': 'https://ladsweb.modaps.eosdis.nasa.gov/missions-and-measurements/viirs/NASA_VIIRS_L1B_UG_August_2021.pdf'},\n",
       "   {'inherited': True,\n",
       "    'rel': 'http://esipfed.org/ns/fedsearch/1.1/documentation#',\n",
       "    'hreflang': 'en-US',\n",
       "    'href': 'https://ladsweb.modaps.eosdis.nasa.gov/missions-and-measurements/viirs/NASARevisedJPSSVIIRSRadCalATBD2014.pdf'}]},\n",
       " {'producer_granule_id': 'VJ102IMG.A2023001.0806.021.2023001161721.nc',\n",
       "  'time_start': '2023-01-01T08:06:00.000Z',\n",
       "  'updated': '2023-01-01T16:24:48.710Z',\n",
       "  'dataset_id': 'VIIRS/JPSS1 Imagery Resolution 6-Min L1B Swath 375 m',\n",
       "  'data_center': 'LAADS',\n",
       "  'title': 'LAADS:7288586349',\n",
       "  'coordinate_system': 'GEODETIC',\n",
       "  'day_night_flag': 'DAY',\n",
       "  'time_end': '2023-01-01T08:12:00.000Z',\n",
       "  'id': 'G2576336704-LAADS',\n",
       "  'original_format': 'ECHO10',\n",
       "  'granule_size': '214.110527038574',\n",
       "  'browse_flag': False,\n",
       "  'polygons': [['-84.722046 -15.081846 -67.13578 170.986389 -59.298977 126.041031 -69.017593 61.949093 -84.722046 -15.081846']],\n",
       "  'collection_concept_id': 'C2105083900-LAADS',\n",
       "  'online_access_flag': True,\n",
       "  'links': [{'rel': 'http://esipfed.org/ns/fedsearch/1.1/data#',\n",
       "    'type': 'application/x-netcdf',\n",
       "    'hreflang': 'en-US',\n",
       "    'href': 'https://ladsweb.modaps.eosdis.nasa.gov/archive/allData/5201/VJ102IMG/2023/001/VJ102IMG.A2023001.0806.021.2023001161721.nc'},\n",
       "   {'rel': 'http://esipfed.org/ns/fedsearch/1.1/service#',\n",
       "    'type': 'text/html',\n",
       "    'title': 'This file may be accessed using OPeNDAP directly from this link (OPENDAP DATA)',\n",
       "    'hreflang': 'en-US',\n",
       "    'href': 'https://ladsweb.modaps.eosdis.nasa.gov/opendap/RemoteResources/laads/allData/5201/VJ102IMG/2023/001/VJ102IMG.A2023001.0806.021.2023001161721.nc.html'},\n",
       "   {'rel': 'http://esipfed.org/ns/fedsearch/1.1/documentation#',\n",
       "    'type': 'text/html',\n",
       "    'title': 'A link to Data set landing page (Data Set Landing Page)',\n",
       "    'hreflang': 'en-US',\n",
       "    'href': 'http://doi.org/10.5067/VIIRS/VJ102IMG.021'},\n",
       "   {'inherited': True,\n",
       "    'rel': 'http://esipfed.org/ns/fedsearch/1.1/metadata#',\n",
       "    'hreflang': 'en-US',\n",
       "    'href': 'https://doi.org/10.5067/VIIRS/VJ102IMG.021'},\n",
       "   {'inherited': True,\n",
       "    'length': '0.0KB',\n",
       "    'rel': 'http://esipfed.org/ns/fedsearch/1.1/data#',\n",
       "    'hreflang': 'en-US',\n",
       "    'href': 'https://ladsweb.modaps.eosdis.nasa.gov/search/order/2/VJ102IMG--5201'},\n",
       "   {'inherited': True,\n",
       "    'length': '0.0KB',\n",
       "    'rel': 'http://esipfed.org/ns/fedsearch/1.1/data#',\n",
       "    'hreflang': 'en-US',\n",
       "    'href': 'https://ladsweb.modaps.eosdis.nasa.gov/archive/allData/5201/VJ102IMG/'},\n",
       "   {'inherited': True,\n",
       "    'rel': 'http://esipfed.org/ns/fedsearch/1.1/service#',\n",
       "    'type': 'text/html',\n",
       "    'hreflang': 'en-US',\n",
       "    'href': 'https://ladsweb.modaps.eosdis.nasa.gov/opendap/hyrax/allData/5201/VJ102IMG/contents.html'},\n",
       "   {'inherited': True,\n",
       "    'rel': 'http://esipfed.org/ns/fedsearch/1.1/documentation#',\n",
       "    'hreflang': 'en-US',\n",
       "    'href': 'https://ladsweb.modaps.eosdis.nasa.gov/missions-and-measurements/viirs/NASA_VIIRS_L1B_UG_August_2021.pdf'},\n",
       "   {'inherited': True,\n",
       "    'rel': 'http://esipfed.org/ns/fedsearch/1.1/documentation#',\n",
       "    'hreflang': 'en-US',\n",
       "    'href': 'https://ladsweb.modaps.eosdis.nasa.gov/missions-and-measurements/viirs/NASARevisedJPSSVIIRSRadCalATBD2014.pdf'}]},\n",
       " {'producer_granule_id': 'VJ102IMG.A2023001.0942.021.2023001161724.nc',\n",
       "  'time_start': '2023-01-01T09:42:00.000Z',\n",
       "  'updated': '2023-01-01T16:25:40.710Z',\n",
       "  'dataset_id': 'VIIRS/JPSS1 Imagery Resolution 6-Min L1B Swath 375 m',\n",
       "  'data_center': 'LAADS',\n",
       "  'title': 'LAADS:7288588240',\n",
       "  'coordinate_system': 'GEODETIC',\n",
       "  'day_night_flag': 'DAY',\n",
       "  'time_end': '2023-01-01T09:48:00.000Z',\n",
       "  'id': 'G2576336900-LAADS',\n",
       "  'original_format': 'ECHO10',\n",
       "  'granule_size': '223.803153038025',\n",
       "  'browse_flag': False,\n",
       "  'polygons': [['-69.884476 -107.297798 -59.848145 -173.242798 -67.124641 140.904327 -84.567558 -21.46113 -69.884476 -107.297798']],\n",
       "  'collection_concept_id': 'C2105083900-LAADS',\n",
       "  'online_access_flag': True,\n",
       "  'links': [{'rel': 'http://esipfed.org/ns/fedsearch/1.1/data#',\n",
       "    'type': 'application/x-netcdf',\n",
       "    'hreflang': 'en-US',\n",
       "    'href': 'https://ladsweb.modaps.eosdis.nasa.gov/archive/allData/5201/VJ102IMG/2023/001/VJ102IMG.A2023001.0942.021.2023001161724.nc'},\n",
       "   {'rel': 'http://esipfed.org/ns/fedsearch/1.1/service#',\n",
       "    'type': 'text/html',\n",
       "    'title': 'This file may be accessed using OPeNDAP directly from this link (OPENDAP DATA)',\n",
       "    'hreflang': 'en-US',\n",
       "    'href': 'https://ladsweb.modaps.eosdis.nasa.gov/opendap/RemoteResources/laads/allData/5201/VJ102IMG/2023/001/VJ102IMG.A2023001.0942.021.2023001161724.nc.html'},\n",
       "   {'rel': 'http://esipfed.org/ns/fedsearch/1.1/documentation#',\n",
       "    'type': 'text/html',\n",
       "    'title': 'A link to Data set landing page (Data Set Landing Page)',\n",
       "    'hreflang': 'en-US',\n",
       "    'href': 'http://doi.org/10.5067/VIIRS/VJ102IMG.021'},\n",
       "   {'inherited': True,\n",
       "    'rel': 'http://esipfed.org/ns/fedsearch/1.1/metadata#',\n",
       "    'hreflang': 'en-US',\n",
       "    'href': 'https://doi.org/10.5067/VIIRS/VJ102IMG.021'},\n",
       "   {'inherited': True,\n",
       "    'length': '0.0KB',\n",
       "    'rel': 'http://esipfed.org/ns/fedsearch/1.1/data#',\n",
       "    'hreflang': 'en-US',\n",
       "    'href': 'https://ladsweb.modaps.eosdis.nasa.gov/search/order/2/VJ102IMG--5201'},\n",
       "   {'inherited': True,\n",
       "    'length': '0.0KB',\n",
       "    'rel': 'http://esipfed.org/ns/fedsearch/1.1/data#',\n",
       "    'hreflang': 'en-US',\n",
       "    'href': 'https://ladsweb.modaps.eosdis.nasa.gov/archive/allData/5201/VJ102IMG/'},\n",
       "   {'inherited': True,\n",
       "    'rel': 'http://esipfed.org/ns/fedsearch/1.1/service#',\n",
       "    'type': 'text/html',\n",
       "    'hreflang': 'en-US',\n",
       "    'href': 'https://ladsweb.modaps.eosdis.nasa.gov/opendap/hyrax/allData/5201/VJ102IMG/contents.html'},\n",
       "   {'inherited': True,\n",
       "    'rel': 'http://esipfed.org/ns/fedsearch/1.1/documentation#',\n",
       "    'hreflang': 'en-US',\n",
       "    'href': 'https://ladsweb.modaps.eosdis.nasa.gov/missions-and-measurements/viirs/NASA_VIIRS_L1B_UG_August_2021.pdf'},\n",
       "   {'inherited': True,\n",
       "    'rel': 'http://esipfed.org/ns/fedsearch/1.1/documentation#',\n",
       "    'hreflang': 'en-US',\n",
       "    'href': 'https://ladsweb.modaps.eosdis.nasa.gov/missions-and-measurements/viirs/NASARevisedJPSSVIIRSRadCalATBD2014.pdf'}]},\n",
       " {'producer_granule_id': 'VJ102IMG.A2023001.1124.021.2023001171355.nc',\n",
       "  'time_start': '2023-01-01T11:24:00.000Z',\n",
       "  'updated': '2023-01-01T17:23:41.920Z',\n",
       "  'dataset_id': 'VIIRS/JPSS1 Imagery Resolution 6-Min L1B Swath 375 m',\n",
       "  'data_center': 'LAADS',\n",
       "  'title': 'LAADS:7288725167',\n",
       "  'coordinate_system': 'GEODETIC',\n",
       "  'day_night_flag': 'DAY',\n",
       "  'time_end': '2023-01-01T11:30:00.000Z',\n",
       "  'id': 'G2576347117-LAADS',\n",
       "  'original_format': 'ECHO10',\n",
       "  'granule_size': '218.147507667542',\n",
       "  'browse_flag': False,\n",
       "  'polygons': [['-71.495255 -131.568802 -60.924305 158.700653 -66.933449 110.915794 -83.870193 -30.837112 -71.495255 -131.568802']],\n",
       "  'collection_concept_id': 'C2105083900-LAADS',\n",
       "  'online_access_flag': True,\n",
       "  'links': [{'rel': 'http://esipfed.org/ns/fedsearch/1.1/data#',\n",
       "    'type': 'application/x-netcdf',\n",
       "    'hreflang': 'en-US',\n",
       "    'href': 'https://ladsweb.modaps.eosdis.nasa.gov/archive/allData/5201/VJ102IMG/2023/001/VJ102IMG.A2023001.1124.021.2023001171355.nc'},\n",
       "   {'rel': 'http://esipfed.org/ns/fedsearch/1.1/service#',\n",
       "    'type': 'text/html',\n",
       "    'title': 'This file may be accessed using OPeNDAP directly from this link (OPENDAP DATA)',\n",
       "    'hreflang': 'en-US',\n",
       "    'href': 'https://ladsweb.modaps.eosdis.nasa.gov/opendap/RemoteResources/laads/allData/5201/VJ102IMG/2023/001/VJ102IMG.A2023001.1124.021.2023001171355.nc.html'},\n",
       "   {'rel': 'http://esipfed.org/ns/fedsearch/1.1/documentation#',\n",
       "    'type': 'text/html',\n",
       "    'title': 'A link to Data set landing page (Data Set Landing Page)',\n",
       "    'hreflang': 'en-US',\n",
       "    'href': 'http://doi.org/10.5067/VIIRS/VJ102IMG.021'},\n",
       "   {'inherited': True,\n",
       "    'rel': 'http://esipfed.org/ns/fedsearch/1.1/metadata#',\n",
       "    'hreflang': 'en-US',\n",
       "    'href': 'https://doi.org/10.5067/VIIRS/VJ102IMG.021'},\n",
       "   {'inherited': True,\n",
       "    'length': '0.0KB',\n",
       "    'rel': 'http://esipfed.org/ns/fedsearch/1.1/data#',\n",
       "    'hreflang': 'en-US',\n",
       "    'href': 'https://ladsweb.modaps.eosdis.nasa.gov/search/order/2/VJ102IMG--5201'},\n",
       "   {'inherited': True,\n",
       "    'length': '0.0KB',\n",
       "    'rel': 'http://esipfed.org/ns/fedsearch/1.1/data#',\n",
       "    'hreflang': 'en-US',\n",
       "    'href': 'https://ladsweb.modaps.eosdis.nasa.gov/archive/allData/5201/VJ102IMG/'},\n",
       "   {'inherited': True,\n",
       "    'rel': 'http://esipfed.org/ns/fedsearch/1.1/service#',\n",
       "    'type': 'text/html',\n",
       "    'hreflang': 'en-US',\n",
       "    'href': 'https://ladsweb.modaps.eosdis.nasa.gov/opendap/hyrax/allData/5201/VJ102IMG/contents.html'},\n",
       "   {'inherited': True,\n",
       "    'rel': 'http://esipfed.org/ns/fedsearch/1.1/documentation#',\n",
       "    'hreflang': 'en-US',\n",
       "    'href': 'https://ladsweb.modaps.eosdis.nasa.gov/missions-and-measurements/viirs/NASA_VIIRS_L1B_UG_August_2021.pdf'},\n",
       "   {'inherited': True,\n",
       "    'rel': 'http://esipfed.org/ns/fedsearch/1.1/documentation#',\n",
       "    'hreflang': 'en-US',\n",
       "    'href': 'https://ladsweb.modaps.eosdis.nasa.gov/missions-and-measurements/viirs/NASARevisedJPSSVIIRSRadCalATBD2014.pdf'}]},\n",
       " {'producer_granule_id': 'VJ102IMG.A2023001.2036.021.2023002034427.nc',\n",
       "  'time_start': '2023-01-01T20:36:00.000Z',\n",
       "  'updated': '2023-01-02T03:50:03.450Z',\n",
       "  'dataset_id': 'VIIRS/JPSS1 Imagery Resolution 6-Min L1B Swath 375 m',\n",
       "  'data_center': 'LAADS',\n",
       "  'title': 'LAADS:7290036631',\n",
       "  'coordinate_system': 'GEODETIC',\n",
       "  'day_night_flag': 'DAY',\n",
       "  'time_end': '2023-01-01T20:42:00.000Z',\n",
       "  'id': 'G2576482388-LAADS',\n",
       "  'original_format': 'ECHO10',\n",
       "  'granule_size': '216.390860557556',\n",
       "  'browse_flag': False,\n",
       "  'polygons': [['44.192863 -136.438995 50.150188 -96.755768 70.771019 -92.183411 60.847466 -159.052872 44.192863 -136.438995']],\n",
       "  'collection_concept_id': 'C2105083900-LAADS',\n",
       "  'online_access_flag': True,\n",
       "  'links': [{'rel': 'http://esipfed.org/ns/fedsearch/1.1/data#',\n",
       "    'type': 'application/x-netcdf',\n",
       "    'hreflang': 'en-US',\n",
       "    'href': 'https://ladsweb.modaps.eosdis.nasa.gov/archive/allData/5201/VJ102IMG/2023/001/VJ102IMG.A2023001.2036.021.2023002034427.nc'},\n",
       "   {'rel': 'http://esipfed.org/ns/fedsearch/1.1/service#',\n",
       "    'type': 'text/html',\n",
       "    'title': 'This file may be accessed using OPeNDAP directly from this link (OPENDAP DATA)',\n",
       "    'hreflang': 'en-US',\n",
       "    'href': 'https://ladsweb.modaps.eosdis.nasa.gov/opendap/RemoteResources/laads/allData/5201/VJ102IMG/2023/001/VJ102IMG.A2023001.2036.021.2023002034427.nc.html'},\n",
       "   {'rel': 'http://esipfed.org/ns/fedsearch/1.1/documentation#',\n",
       "    'type': 'text/html',\n",
       "    'title': 'A link to Data set landing page (Data Set Landing Page)',\n",
       "    'hreflang': 'en-US',\n",
       "    'href': 'http://doi.org/10.5067/VIIRS/VJ102IMG.021'},\n",
       "   {'inherited': True,\n",
       "    'rel': 'http://esipfed.org/ns/fedsearch/1.1/metadata#',\n",
       "    'hreflang': 'en-US',\n",
       "    'href': 'https://doi.org/10.5067/VIIRS/VJ102IMG.021'},\n",
       "   {'inherited': True,\n",
       "    'length': '0.0KB',\n",
       "    'rel': 'http://esipfed.org/ns/fedsearch/1.1/data#',\n",
       "    'hreflang': 'en-US',\n",
       "    'href': 'https://ladsweb.modaps.eosdis.nasa.gov/search/order/2/VJ102IMG--5201'},\n",
       "   {'inherited': True,\n",
       "    'length': '0.0KB',\n",
       "    'rel': 'http://esipfed.org/ns/fedsearch/1.1/data#',\n",
       "    'hreflang': 'en-US',\n",
       "    'href': 'https://ladsweb.modaps.eosdis.nasa.gov/archive/allData/5201/VJ102IMG/'},\n",
       "   {'inherited': True,\n",
       "    'rel': 'http://esipfed.org/ns/fedsearch/1.1/service#',\n",
       "    'type': 'text/html',\n",
       "    'hreflang': 'en-US',\n",
       "    'href': 'https://ladsweb.modaps.eosdis.nasa.gov/opendap/hyrax/allData/5201/VJ102IMG/contents.html'},\n",
       "   {'inherited': True,\n",
       "    'rel': 'http://esipfed.org/ns/fedsearch/1.1/documentation#',\n",
       "    'hreflang': 'en-US',\n",
       "    'href': 'https://ladsweb.modaps.eosdis.nasa.gov/missions-and-measurements/viirs/NASA_VIIRS_L1B_UG_August_2021.pdf'},\n",
       "   {'inherited': True,\n",
       "    'rel': 'http://esipfed.org/ns/fedsearch/1.1/documentation#',\n",
       "    'hreflang': 'en-US',\n",
       "    'href': 'https://ladsweb.modaps.eosdis.nasa.gov/missions-and-measurements/viirs/NASARevisedJPSSVIIRSRadCalATBD2014.pdf'}]},\n",
       " {'producer_granule_id': 'VJ102IMG.A2023001.2206.021.2023002065826.nc',\n",
       "  'time_start': '2023-01-01T22:06:00.000Z',\n",
       "  'updated': '2023-01-02T07:04:00.440Z',\n",
       "  'dataset_id': 'VIIRS/JPSS1 Imagery Resolution 6-Min L1B Swath 375 m',\n",
       "  'data_center': 'LAADS',\n",
       "  'title': 'LAADS:7290343900',\n",
       "  'coordinate_system': 'GEODETIC',\n",
       "  'day_night_flag': 'DAY',\n",
       "  'time_end': '2023-01-01T22:12:00.000Z',\n",
       "  'id': 'G2576519311-LAADS',\n",
       "  'original_format': 'ECHO10',\n",
       "  'granule_size': '233.255669593811',\n",
       "  'browse_flag': False,\n",
       "  'polygons': [['6.392336 -145.028107 10.491482 -117.897797 31.285555 -121.007103 26.662416 -151.709579 6.392336 -145.028107']],\n",
       "  'collection_concept_id': 'C2105083900-LAADS',\n",
       "  'online_access_flag': True,\n",
       "  'links': [{'rel': 'http://esipfed.org/ns/fedsearch/1.1/data#',\n",
       "    'type': 'application/x-netcdf',\n",
       "    'hreflang': 'en-US',\n",
       "    'href': 'https://ladsweb.modaps.eosdis.nasa.gov/archive/allData/5201/VJ102IMG/2023/001/VJ102IMG.A2023001.2206.021.2023002065826.nc'},\n",
       "   {'rel': 'http://esipfed.org/ns/fedsearch/1.1/service#',\n",
       "    'type': 'text/html',\n",
       "    'title': 'This file may be accessed using OPeNDAP directly from this link (OPENDAP DATA)',\n",
       "    'hreflang': 'en-US',\n",
       "    'href': 'https://ladsweb.modaps.eosdis.nasa.gov/opendap/RemoteResources/laads/allData/5201/VJ102IMG/2023/001/VJ102IMG.A2023001.2206.021.2023002065826.nc.html'},\n",
       "   {'rel': 'http://esipfed.org/ns/fedsearch/1.1/documentation#',\n",
       "    'type': 'text/html',\n",
       "    'title': 'A link to Data set landing page (Data Set Landing Page)',\n",
       "    'hreflang': 'en-US',\n",
       "    'href': 'http://doi.org/10.5067/VIIRS/VJ102IMG.021'},\n",
       "   {'inherited': True,\n",
       "    'rel': 'http://esipfed.org/ns/fedsearch/1.1/metadata#',\n",
       "    'hreflang': 'en-US',\n",
       "    'href': 'https://doi.org/10.5067/VIIRS/VJ102IMG.021'},\n",
       "   {'inherited': True,\n",
       "    'length': '0.0KB',\n",
       "    'rel': 'http://esipfed.org/ns/fedsearch/1.1/data#',\n",
       "    'hreflang': 'en-US',\n",
       "    'href': 'https://ladsweb.modaps.eosdis.nasa.gov/search/order/2/VJ102IMG--5201'},\n",
       "   {'inherited': True,\n",
       "    'length': '0.0KB',\n",
       "    'rel': 'http://esipfed.org/ns/fedsearch/1.1/data#',\n",
       "    'hreflang': 'en-US',\n",
       "    'href': 'https://ladsweb.modaps.eosdis.nasa.gov/archive/allData/5201/VJ102IMG/'},\n",
       "   {'inherited': True,\n",
       "    'rel': 'http://esipfed.org/ns/fedsearch/1.1/service#',\n",
       "    'type': 'text/html',\n",
       "    'hreflang': 'en-US',\n",
       "    'href': 'https://ladsweb.modaps.eosdis.nasa.gov/opendap/hyrax/allData/5201/VJ102IMG/contents.html'},\n",
       "   {'inherited': True,\n",
       "    'rel': 'http://esipfed.org/ns/fedsearch/1.1/documentation#',\n",
       "    'hreflang': 'en-US',\n",
       "    'href': 'https://ladsweb.modaps.eosdis.nasa.gov/missions-and-measurements/viirs/NASA_VIIRS_L1B_UG_August_2021.pdf'},\n",
       "   {'inherited': True,\n",
       "    'rel': 'http://esipfed.org/ns/fedsearch/1.1/documentation#',\n",
       "    'hreflang': 'en-US',\n",
       "    'href': 'https://ladsweb.modaps.eosdis.nasa.gov/missions-and-measurements/viirs/NASARevisedJPSSVIIRSRadCalATBD2014.pdf'}]},\n",
       " {'producer_granule_id': 'VJ102IMG.A2023001.2212.021.2023002065621.nc',\n",
       "  'time_start': '2023-01-01T22:12:00.000Z',\n",
       "  'updated': '2023-01-02T07:04:00.440Z',\n",
       "  'dataset_id': 'VIIRS/JPSS1 Imagery Resolution 6-Min L1B Swath 375 m',\n",
       "  'data_center': 'LAADS',\n",
       "  'title': 'LAADS:7290343214',\n",
       "  'coordinate_system': 'GEODETIC',\n",
       "  'day_night_flag': 'DAY',\n",
       "  'time_end': '2023-01-01T22:18:00.000Z',\n",
       "  'id': 'G2576519292-LAADS',\n",
       "  'original_format': 'ECHO10',\n",
       "  'granule_size': '247.362100601196',\n",
       "  'browse_flag': False,\n",
       "  'polygons': [['26.546196 -151.678741 31.162479 -121.012794 52.046993 -122.101929 45.876022 -163.180206 26.546196 -151.678741']],\n",
       "  'collection_concept_id': 'C2105083900-LAADS',\n",
       "  'online_access_flag': True,\n",
       "  'links': [{'rel': 'http://esipfed.org/ns/fedsearch/1.1/data#',\n",
       "    'type': 'application/x-netcdf',\n",
       "    'hreflang': 'en-US',\n",
       "    'href': 'https://ladsweb.modaps.eosdis.nasa.gov/archive/allData/5201/VJ102IMG/2023/001/VJ102IMG.A2023001.2212.021.2023002065621.nc'},\n",
       "   {'rel': 'http://esipfed.org/ns/fedsearch/1.1/service#',\n",
       "    'type': 'text/html',\n",
       "    'title': 'This file may be accessed using OPeNDAP directly from this link (OPENDAP DATA)',\n",
       "    'hreflang': 'en-US',\n",
       "    'href': 'https://ladsweb.modaps.eosdis.nasa.gov/opendap/RemoteResources/laads/allData/5201/VJ102IMG/2023/001/VJ102IMG.A2023001.2212.021.2023002065621.nc.html'},\n",
       "   {'rel': 'http://esipfed.org/ns/fedsearch/1.1/documentation#',\n",
       "    'type': 'text/html',\n",
       "    'title': 'A link to Data set landing page (Data Set Landing Page)',\n",
       "    'hreflang': 'en-US',\n",
       "    'href': 'http://doi.org/10.5067/VIIRS/VJ102IMG.021'},\n",
       "   {'inherited': True,\n",
       "    'rel': 'http://esipfed.org/ns/fedsearch/1.1/metadata#',\n",
       "    'hreflang': 'en-US',\n",
       "    'href': 'https://doi.org/10.5067/VIIRS/VJ102IMG.021'},\n",
       "   {'inherited': True,\n",
       "    'length': '0.0KB',\n",
       "    'rel': 'http://esipfed.org/ns/fedsearch/1.1/data#',\n",
       "    'hreflang': 'en-US',\n",
       "    'href': 'https://ladsweb.modaps.eosdis.nasa.gov/search/order/2/VJ102IMG--5201'},\n",
       "   {'inherited': True,\n",
       "    'length': '0.0KB',\n",
       "    'rel': 'http://esipfed.org/ns/fedsearch/1.1/data#',\n",
       "    'hreflang': 'en-US',\n",
       "    'href': 'https://ladsweb.modaps.eosdis.nasa.gov/archive/allData/5201/VJ102IMG/'},\n",
       "   {'inherited': True,\n",
       "    'rel': 'http://esipfed.org/ns/fedsearch/1.1/service#',\n",
       "    'type': 'text/html',\n",
       "    'hreflang': 'en-US',\n",
       "    'href': 'https://ladsweb.modaps.eosdis.nasa.gov/opendap/hyrax/allData/5201/VJ102IMG/contents.html'},\n",
       "   {'inherited': True,\n",
       "    'rel': 'http://esipfed.org/ns/fedsearch/1.1/documentation#',\n",
       "    'hreflang': 'en-US',\n",
       "    'href': 'https://ladsweb.modaps.eosdis.nasa.gov/missions-and-measurements/viirs/NASA_VIIRS_L1B_UG_August_2021.pdf'},\n",
       "   {'inherited': True,\n",
       "    'rel': 'http://esipfed.org/ns/fedsearch/1.1/documentation#',\n",
       "    'hreflang': 'en-US',\n",
       "    'href': 'https://ladsweb.modaps.eosdis.nasa.gov/missions-and-measurements/viirs/NASARevisedJPSSVIIRSRadCalATBD2014.pdf'}]},\n",
       " {'producer_granule_id': 'VJ102IMG.A2023001.2218.021.2023002065620.nc',\n",
       "  'time_start': '2023-01-01T22:18:00.000Z',\n",
       "  'updated': '2023-01-02T07:00:54.050Z',\n",
       "  'dataset_id': 'VIIRS/JPSS1 Imagery Resolution 6-Min L1B Swath 375 m',\n",
       "  'data_center': 'LAADS',\n",
       "  'title': 'LAADS:7290339153',\n",
       "  'coordinate_system': 'GEODETIC',\n",
       "  'day_night_flag': 'DAY',\n",
       "  'time_end': '2023-01-01T22:24:00.000Z',\n",
       "  'id': 'G2576518773-LAADS',\n",
       "  'original_format': 'ECHO10',\n",
       "  'granule_size': '207.625325202942',\n",
       "  'browse_flag': False,\n",
       "  'polygons': [['45.767601 -163.106949 51.923878 -122.129578 72.388306 -116.398209 61.91296 172.768219 45.767601 -163.106949']],\n",
       "  'collection_concept_id': 'C2105083900-LAADS',\n",
       "  'online_access_flag': True,\n",
       "  'links': [{'rel': 'http://esipfed.org/ns/fedsearch/1.1/data#',\n",
       "    'type': 'application/x-netcdf',\n",
       "    'hreflang': 'en-US',\n",
       "    'href': 'https://ladsweb.modaps.eosdis.nasa.gov/archive/allData/5201/VJ102IMG/2023/001/VJ102IMG.A2023001.2218.021.2023002065620.nc'},\n",
       "   {'rel': 'http://esipfed.org/ns/fedsearch/1.1/service#',\n",
       "    'type': 'text/html',\n",
       "    'title': 'This file may be accessed using OPeNDAP directly from this link (OPENDAP DATA)',\n",
       "    'hreflang': 'en-US',\n",
       "    'href': 'https://ladsweb.modaps.eosdis.nasa.gov/opendap/RemoteResources/laads/allData/5201/VJ102IMG/2023/001/VJ102IMG.A2023001.2218.021.2023002065620.nc.html'},\n",
       "   {'rel': 'http://esipfed.org/ns/fedsearch/1.1/documentation#',\n",
       "    'type': 'text/html',\n",
       "    'title': 'A link to Data set landing page (Data Set Landing Page)',\n",
       "    'hreflang': 'en-US',\n",
       "    'href': 'http://doi.org/10.5067/VIIRS/VJ102IMG.021'},\n",
       "   {'inherited': True,\n",
       "    'rel': 'http://esipfed.org/ns/fedsearch/1.1/metadata#',\n",
       "    'hreflang': 'en-US',\n",
       "    'href': 'https://doi.org/10.5067/VIIRS/VJ102IMG.021'},\n",
       "   {'inherited': True,\n",
       "    'length': '0.0KB',\n",
       "    'rel': 'http://esipfed.org/ns/fedsearch/1.1/data#',\n",
       "    'hreflang': 'en-US',\n",
       "    'href': 'https://ladsweb.modaps.eosdis.nasa.gov/search/order/2/VJ102IMG--5201'},\n",
       "   {'inherited': True,\n",
       "    'length': '0.0KB',\n",
       "    'rel': 'http://esipfed.org/ns/fedsearch/1.1/data#',\n",
       "    'hreflang': 'en-US',\n",
       "    'href': 'https://ladsweb.modaps.eosdis.nasa.gov/archive/allData/5201/VJ102IMG/'},\n",
       "   {'inherited': True,\n",
       "    'rel': 'http://esipfed.org/ns/fedsearch/1.1/service#',\n",
       "    'type': 'text/html',\n",
       "    'hreflang': 'en-US',\n",
       "    'href': 'https://ladsweb.modaps.eosdis.nasa.gov/opendap/hyrax/allData/5201/VJ102IMG/contents.html'},\n",
       "   {'inherited': True,\n",
       "    'rel': 'http://esipfed.org/ns/fedsearch/1.1/documentation#',\n",
       "    'hreflang': 'en-US',\n",
       "    'href': 'https://ladsweb.modaps.eosdis.nasa.gov/missions-and-measurements/viirs/NASA_VIIRS_L1B_UG_August_2021.pdf'},\n",
       "   {'inherited': True,\n",
       "    'rel': 'http://esipfed.org/ns/fedsearch/1.1/documentation#',\n",
       "    'hreflang': 'en-US',\n",
       "    'href': 'https://ladsweb.modaps.eosdis.nasa.gov/missions-and-measurements/viirs/NASARevisedJPSSVIIRSRadCalATBD2014.pdf'}]},\n",
       " {'producer_granule_id': 'VJ102IMG.A2023001.2324.021.2023002061314.nc',\n",
       "  'time_start': '2023-01-01T23:24:00.000Z',\n",
       "  'updated': '2023-01-02T06:18:44.280Z',\n",
       "  'dataset_id': 'VIIRS/JPSS1 Imagery Resolution 6-Min L1B Swath 375 m',\n",
       "  'data_center': 'LAADS',\n",
       "  'title': 'LAADS:7290274641',\n",
       "  'coordinate_system': 'GEODETIC',\n",
       "  'day_night_flag': 'DAY',\n",
       "  'time_end': '2023-01-01T23:30:00.000Z',\n",
       "  'id': 'G2576509576-LAADS',\n",
       "  'original_format': 'ECHO10',\n",
       "  'granule_size': '268.118823051453',\n",
       "  'browse_flag': False,\n",
       "  'polygons': [['-74.05954 -170.536865 -62.577881 -93.540443 -47.111794 -119.619019 -53.691101 -162.868607 -74.05954 -170.536865']],\n",
       "  'collection_concept_id': 'C2105083900-LAADS',\n",
       "  'online_access_flag': True,\n",
       "  'links': [{'rel': 'http://esipfed.org/ns/fedsearch/1.1/data#',\n",
       "    'type': 'application/x-netcdf',\n",
       "    'hreflang': 'en-US',\n",
       "    'href': 'https://ladsweb.modaps.eosdis.nasa.gov/archive/allData/5201/VJ102IMG/2023/001/VJ102IMG.A2023001.2324.021.2023002061314.nc'},\n",
       "   {'rel': 'http://esipfed.org/ns/fedsearch/1.1/service#',\n",
       "    'type': 'text/html',\n",
       "    'title': 'This file may be accessed using OPeNDAP directly from this link (OPENDAP DATA)',\n",
       "    'hreflang': 'en-US',\n",
       "    'href': 'https://ladsweb.modaps.eosdis.nasa.gov/opendap/RemoteResources/laads/allData/5201/VJ102IMG/2023/001/VJ102IMG.A2023001.2324.021.2023002061314.nc.html'},\n",
       "   {'rel': 'http://esipfed.org/ns/fedsearch/1.1/documentation#',\n",
       "    'type': 'text/html',\n",
       "    'title': 'A link to Data set landing page (Data Set Landing Page)',\n",
       "    'hreflang': 'en-US',\n",
       "    'href': 'http://doi.org/10.5067/VIIRS/VJ102IMG.021'},\n",
       "   {'inherited': True,\n",
       "    'rel': 'http://esipfed.org/ns/fedsearch/1.1/metadata#',\n",
       "    'hreflang': 'en-US',\n",
       "    'href': 'https://doi.org/10.5067/VIIRS/VJ102IMG.021'},\n",
       "   {'inherited': True,\n",
       "    'length': '0.0KB',\n",
       "    'rel': 'http://esipfed.org/ns/fedsearch/1.1/data#',\n",
       "    'hreflang': 'en-US',\n",
       "    'href': 'https://ladsweb.modaps.eosdis.nasa.gov/search/order/2/VJ102IMG--5201'},\n",
       "   {'inherited': True,\n",
       "    'length': '0.0KB',\n",
       "    'rel': 'http://esipfed.org/ns/fedsearch/1.1/data#',\n",
       "    'hreflang': 'en-US',\n",
       "    'href': 'https://ladsweb.modaps.eosdis.nasa.gov/archive/allData/5201/VJ102IMG/'},\n",
       "   {'inherited': True,\n",
       "    'rel': 'http://esipfed.org/ns/fedsearch/1.1/service#',\n",
       "    'type': 'text/html',\n",
       "    'hreflang': 'en-US',\n",
       "    'href': 'https://ladsweb.modaps.eosdis.nasa.gov/opendap/hyrax/allData/5201/VJ102IMG/contents.html'},\n",
       "   {'inherited': True,\n",
       "    'rel': 'http://esipfed.org/ns/fedsearch/1.1/documentation#',\n",
       "    'hreflang': 'en-US',\n",
       "    'href': 'https://ladsweb.modaps.eosdis.nasa.gov/missions-and-measurements/viirs/NASA_VIIRS_L1B_UG_August_2021.pdf'},\n",
       "   {'inherited': True,\n",
       "    'rel': 'http://esipfed.org/ns/fedsearch/1.1/documentation#',\n",
       "    'hreflang': 'en-US',\n",
       "    'href': 'https://ladsweb.modaps.eosdis.nasa.gov/missions-and-measurements/viirs/NASARevisedJPSSVIIRSRadCalATBD2014.pdf'}]},\n",
       " {'producer_granule_id': 'VJ102IMG.A2023001.2330.021.2023002060813.nc',\n",
       "  'time_start': '2023-01-01T23:30:00.000Z',\n",
       "  'updated': '2023-01-02T06:16:42.110Z',\n",
       "  'dataset_id': 'VIIRS/JPSS1 Imagery Resolution 6-Min L1B Swath 375 m',\n",
       "  'data_center': 'LAADS',\n",
       "  'title': 'LAADS:7290271998',\n",
       "  'coordinate_system': 'GEODETIC',\n",
       "  'day_night_flag': 'DAY',\n",
       "  'time_end': '2023-01-01T23:36:00.000Z',\n",
       "  'id': 'G2576509318-LAADS',\n",
       "  'original_format': 'ECHO10',\n",
       "  'granule_size': '267.310523986816',\n",
       "  'browse_flag': False,\n",
       "  'polygons': [['-53.818016 -162.891373 -47.22588 -119.537041 -28.209087 -131.865036 -33.016258 -163.502411 -53.818016 -162.891373']],\n",
       "  'collection_concept_id': 'C2105083900-LAADS',\n",
       "  'online_access_flag': True,\n",
       "  'links': [{'rel': 'http://esipfed.org/ns/fedsearch/1.1/data#',\n",
       "    'type': 'application/x-netcdf',\n",
       "    'hreflang': 'en-US',\n",
       "    'href': 'https://ladsweb.modaps.eosdis.nasa.gov/archive/allData/5201/VJ102IMG/2023/001/VJ102IMG.A2023001.2330.021.2023002060813.nc'},\n",
       "   {'rel': 'http://esipfed.org/ns/fedsearch/1.1/service#',\n",
       "    'type': 'text/html',\n",
       "    'title': 'This file may be accessed using OPeNDAP directly from this link (OPENDAP DATA)',\n",
       "    'hreflang': 'en-US',\n",
       "    'href': 'https://ladsweb.modaps.eosdis.nasa.gov/opendap/RemoteResources/laads/allData/5201/VJ102IMG/2023/001/VJ102IMG.A2023001.2330.021.2023002060813.nc.html'},\n",
       "   {'rel': 'http://esipfed.org/ns/fedsearch/1.1/documentation#',\n",
       "    'type': 'text/html',\n",
       "    'title': 'A link to Data set landing page (Data Set Landing Page)',\n",
       "    'hreflang': 'en-US',\n",
       "    'href': 'http://doi.org/10.5067/VIIRS/VJ102IMG.021'},\n",
       "   {'inherited': True,\n",
       "    'rel': 'http://esipfed.org/ns/fedsearch/1.1/metadata#',\n",
       "    'hreflang': 'en-US',\n",
       "    'href': 'https://doi.org/10.5067/VIIRS/VJ102IMG.021'},\n",
       "   {'inherited': True,\n",
       "    'length': '0.0KB',\n",
       "    'rel': 'http://esipfed.org/ns/fedsearch/1.1/data#',\n",
       "    'hreflang': 'en-US',\n",
       "    'href': 'https://ladsweb.modaps.eosdis.nasa.gov/search/order/2/VJ102IMG--5201'},\n",
       "   {'inherited': True,\n",
       "    'length': '0.0KB',\n",
       "    'rel': 'http://esipfed.org/ns/fedsearch/1.1/data#',\n",
       "    'hreflang': 'en-US',\n",
       "    'href': 'https://ladsweb.modaps.eosdis.nasa.gov/archive/allData/5201/VJ102IMG/'},\n",
       "   {'inherited': True,\n",
       "    'rel': 'http://esipfed.org/ns/fedsearch/1.1/service#',\n",
       "    'type': 'text/html',\n",
       "    'hreflang': 'en-US',\n",
       "    'href': 'https://ladsweb.modaps.eosdis.nasa.gov/opendap/hyrax/allData/5201/VJ102IMG/contents.html'},\n",
       "   {'inherited': True,\n",
       "    'rel': 'http://esipfed.org/ns/fedsearch/1.1/documentation#',\n",
       "    'hreflang': 'en-US',\n",
       "    'href': 'https://ladsweb.modaps.eosdis.nasa.gov/missions-and-measurements/viirs/NASA_VIIRS_L1B_UG_August_2021.pdf'},\n",
       "   {'inherited': True,\n",
       "    'rel': 'http://esipfed.org/ns/fedsearch/1.1/documentation#',\n",
       "    'hreflang': 'en-US',\n",
       "    'href': 'https://ladsweb.modaps.eosdis.nasa.gov/missions-and-measurements/viirs/NASARevisedJPSSVIIRSRadCalATBD2014.pdf'}]},\n",
       " {'producer_granule_id': 'VJ102IMG.A2023001.2336.021.2023002061054.nc',\n",
       "  'time_start': '2023-01-01T23:36:00.000Z',\n",
       "  'updated': '2023-01-02T06:24:13.720Z',\n",
       "  'dataset_id': 'VIIRS/JPSS1 Imagery Resolution 6-Min L1B Swath 375 m',\n",
       "  'data_center': 'LAADS',\n",
       "  'title': 'LAADS:7290284695',\n",
       "  'coordinate_system': 'GEODETIC',\n",
       "  'day_night_flag': 'DAY',\n",
       "  'time_end': '2023-01-01T23:42:00.000Z',\n",
       "  'id': 'G2576510455-LAADS',\n",
       "  'original_format': 'ECHO10',\n",
       "  'granule_size': '251.273694992065',\n",
       "  'browse_flag': False,\n",
       "  'polygons': [['-33.140713 -163.505798 -28.330694 -131.832733 -8.210355 -138.945343 -12.364208 -166.343704 -33.140713 -163.505798']],\n",
       "  'collection_concept_id': 'C2105083900-LAADS',\n",
       "  'online_access_flag': True,\n",
       "  'links': [{'rel': 'http://esipfed.org/ns/fedsearch/1.1/data#',\n",
       "    'type': 'application/x-netcdf',\n",
       "    'hreflang': 'en-US',\n",
       "    'href': 'https://ladsweb.modaps.eosdis.nasa.gov/archive/allData/5201/VJ102IMG/2023/001/VJ102IMG.A2023001.2336.021.2023002061054.nc'},\n",
       "   {'rel': 'http://esipfed.org/ns/fedsearch/1.1/service#',\n",
       "    'type': 'text/html',\n",
       "    'title': 'This file may be accessed using OPeNDAP directly from this link (OPENDAP DATA)',\n",
       "    'hreflang': 'en-US',\n",
       "    'href': 'https://ladsweb.modaps.eosdis.nasa.gov/opendap/RemoteResources/laads/allData/5201/VJ102IMG/2023/001/VJ102IMG.A2023001.2336.021.2023002061054.nc.html'},\n",
       "   {'rel': 'http://esipfed.org/ns/fedsearch/1.1/documentation#',\n",
       "    'type': 'text/html',\n",
       "    'title': 'A link to Data set landing page (Data Set Landing Page)',\n",
       "    'hreflang': 'en-US',\n",
       "    'href': 'http://doi.org/10.5067/VIIRS/VJ102IMG.021'},\n",
       "   {'inherited': True,\n",
       "    'rel': 'http://esipfed.org/ns/fedsearch/1.1/metadata#',\n",
       "    'hreflang': 'en-US',\n",
       "    'href': 'https://doi.org/10.5067/VIIRS/VJ102IMG.021'},\n",
       "   {'inherited': True,\n",
       "    'length': '0.0KB',\n",
       "    'rel': 'http://esipfed.org/ns/fedsearch/1.1/data#',\n",
       "    'hreflang': 'en-US',\n",
       "    'href': 'https://ladsweb.modaps.eosdis.nasa.gov/search/order/2/VJ102IMG--5201'},\n",
       "   {'inherited': True,\n",
       "    'length': '0.0KB',\n",
       "    'rel': 'http://esipfed.org/ns/fedsearch/1.1/data#',\n",
       "    'hreflang': 'en-US',\n",
       "    'href': 'https://ladsweb.modaps.eosdis.nasa.gov/archive/allData/5201/VJ102IMG/'},\n",
       "   {'inherited': True,\n",
       "    'rel': 'http://esipfed.org/ns/fedsearch/1.1/service#',\n",
       "    'type': 'text/html',\n",
       "    'hreflang': 'en-US',\n",
       "    'href': 'https://ladsweb.modaps.eosdis.nasa.gov/opendap/hyrax/allData/5201/VJ102IMG/contents.html'},\n",
       "   {'inherited': True,\n",
       "    'rel': 'http://esipfed.org/ns/fedsearch/1.1/documentation#',\n",
       "    'hreflang': 'en-US',\n",
       "    'href': 'https://ladsweb.modaps.eosdis.nasa.gov/missions-and-measurements/viirs/NASA_VIIRS_L1B_UG_August_2021.pdf'},\n",
       "   {'inherited': True,\n",
       "    'rel': 'http://esipfed.org/ns/fedsearch/1.1/documentation#',\n",
       "    'hreflang': 'en-US',\n",
       "    'href': 'https://ladsweb.modaps.eosdis.nasa.gov/missions-and-measurements/viirs/NASARevisedJPSSVIIRSRadCalATBD2014.pdf'}]},\n",
       " {'producer_granule_id': 'VJ102IMG.A2023001.2342.021.2023002065553.nc',\n",
       "  'time_start': '2023-01-01T23:42:00.000Z',\n",
       "  'updated': '2023-01-02T07:00:54.050Z',\n",
       "  'dataset_id': 'VIIRS/JPSS1 Imagery Resolution 6-Min L1B Swath 375 m',\n",
       "  'data_center': 'LAADS',\n",
       "  'title': 'LAADS:7290339154',\n",
       "  'coordinate_system': 'GEODETIC',\n",
       "  'day_night_flag': 'DAY',\n",
       "  'time_end': '2023-01-01T23:48:00.000Z',\n",
       "  'id': 'G2576518775-LAADS',\n",
       "  'original_format': 'ECHO10',\n",
       "  'granule_size': '243.072417259216',\n",
       "  'browse_flag': False,\n",
       "  'polygons': [['-12.485125 -166.336258 -8.332114 -138.930191 12.390815 -143.610855 8.268696 -170.883621 -12.485125 -166.336258']],\n",
       "  'collection_concept_id': 'C2105083900-LAADS',\n",
       "  'online_access_flag': True,\n",
       "  'links': [{'rel': 'http://esipfed.org/ns/fedsearch/1.1/data#',\n",
       "    'type': 'application/x-netcdf',\n",
       "    'hreflang': 'en-US',\n",
       "    'href': 'https://ladsweb.modaps.eosdis.nasa.gov/archive/allData/5201/VJ102IMG/2023/001/VJ102IMG.A2023001.2342.021.2023002065553.nc'},\n",
       "   {'rel': 'http://esipfed.org/ns/fedsearch/1.1/service#',\n",
       "    'type': 'text/html',\n",
       "    'title': 'This file may be accessed using OPeNDAP directly from this link (OPENDAP DATA)',\n",
       "    'hreflang': 'en-US',\n",
       "    'href': 'https://ladsweb.modaps.eosdis.nasa.gov/opendap/RemoteResources/laads/allData/5201/VJ102IMG/2023/001/VJ102IMG.A2023001.2342.021.2023002065553.nc.html'},\n",
       "   {'rel': 'http://esipfed.org/ns/fedsearch/1.1/documentation#',\n",
       "    'type': 'text/html',\n",
       "    'title': 'A link to Data set landing page (Data Set Landing Page)',\n",
       "    'hreflang': 'en-US',\n",
       "    'href': 'http://doi.org/10.5067/VIIRS/VJ102IMG.021'},\n",
       "   {'inherited': True,\n",
       "    'rel': 'http://esipfed.org/ns/fedsearch/1.1/metadata#',\n",
       "    'hreflang': 'en-US',\n",
       "    'href': 'https://doi.org/10.5067/VIIRS/VJ102IMG.021'},\n",
       "   {'inherited': True,\n",
       "    'length': '0.0KB',\n",
       "    'rel': 'http://esipfed.org/ns/fedsearch/1.1/data#',\n",
       "    'hreflang': 'en-US',\n",
       "    'href': 'https://ladsweb.modaps.eosdis.nasa.gov/search/order/2/VJ102IMG--5201'},\n",
       "   {'inherited': True,\n",
       "    'length': '0.0KB',\n",
       "    'rel': 'http://esipfed.org/ns/fedsearch/1.1/data#',\n",
       "    'hreflang': 'en-US',\n",
       "    'href': 'https://ladsweb.modaps.eosdis.nasa.gov/archive/allData/5201/VJ102IMG/'},\n",
       "   {'inherited': True,\n",
       "    'rel': 'http://esipfed.org/ns/fedsearch/1.1/service#',\n",
       "    'type': 'text/html',\n",
       "    'hreflang': 'en-US',\n",
       "    'href': 'https://ladsweb.modaps.eosdis.nasa.gov/opendap/hyrax/allData/5201/VJ102IMG/contents.html'},\n",
       "   {'inherited': True,\n",
       "    'rel': 'http://esipfed.org/ns/fedsearch/1.1/documentation#',\n",
       "    'hreflang': 'en-US',\n",
       "    'href': 'https://ladsweb.modaps.eosdis.nasa.gov/missions-and-measurements/viirs/NASA_VIIRS_L1B_UG_August_2021.pdf'},\n",
       "   {'inherited': True,\n",
       "    'rel': 'http://esipfed.org/ns/fedsearch/1.1/documentation#',\n",
       "    'hreflang': 'en-US',\n",
       "    'href': 'https://ladsweb.modaps.eosdis.nasa.gov/missions-and-measurements/viirs/NASARevisedJPSSVIIRSRadCalATBD2014.pdf'}]},\n",
       " {'producer_granule_id': 'VJ102IMG.A2023001.2348.021.2023002073252.nc',\n",
       "  'time_start': '2023-01-01T23:48:00.000Z',\n",
       "  'updated': '2023-01-02T07:39:10.800Z',\n",
       "  'dataset_id': 'VIIRS/JPSS1 Imagery Resolution 6-Min L1B Swath 375 m',\n",
       "  'data_center': 'LAADS',\n",
       "  'title': 'LAADS:7290393302',\n",
       "  'coordinate_system': 'GEODETIC',\n",
       "  'day_night_flag': 'DAY',\n",
       "  'time_end': '2023-01-01T23:54:00.000Z',\n",
       "  'id': 'G2576526132-LAADS',\n",
       "  'original_format': 'ECHO10',\n",
       "  'granule_size': '216.456351280212',\n",
       "  'browse_flag': False,\n",
       "  'polygons': [['8.150477 -170.866852 12.268805 -143.605865 33.069462 -146.572708 28.364641 -177.822968 8.150477 -170.866852']],\n",
       "  'collection_concept_id': 'C2105083900-LAADS',\n",
       "  'online_access_flag': True,\n",
       "  'links': [{'rel': 'http://esipfed.org/ns/fedsearch/1.1/data#',\n",
       "    'type': 'application/x-netcdf',\n",
       "    'hreflang': 'en-US',\n",
       "    'href': 'https://ladsweb.modaps.eosdis.nasa.gov/archive/allData/5201/VJ102IMG/2023/001/VJ102IMG.A2023001.2348.021.2023002073252.nc'},\n",
       "   {'rel': 'http://esipfed.org/ns/fedsearch/1.1/service#',\n",
       "    'type': 'text/html',\n",
       "    'title': 'This file may be accessed using OPeNDAP directly from this link (OPENDAP DATA)',\n",
       "    'hreflang': 'en-US',\n",
       "    'href': 'https://ladsweb.modaps.eosdis.nasa.gov/opendap/RemoteResources/laads/allData/5201/VJ102IMG/2023/001/VJ102IMG.A2023001.2348.021.2023002073252.nc.html'},\n",
       "   {'rel': 'http://esipfed.org/ns/fedsearch/1.1/documentation#',\n",
       "    'type': 'text/html',\n",
       "    'title': 'A link to Data set landing page (Data Set Landing Page)',\n",
       "    'hreflang': 'en-US',\n",
       "    'href': 'http://doi.org/10.5067/VIIRS/VJ102IMG.021'},\n",
       "   {'inherited': True,\n",
       "    'rel': 'http://esipfed.org/ns/fedsearch/1.1/metadata#',\n",
       "    'hreflang': 'en-US',\n",
       "    'href': 'https://doi.org/10.5067/VIIRS/VJ102IMG.021'},\n",
       "   {'inherited': True,\n",
       "    'length': '0.0KB',\n",
       "    'rel': 'http://esipfed.org/ns/fedsearch/1.1/data#',\n",
       "    'hreflang': 'en-US',\n",
       "    'href': 'https://ladsweb.modaps.eosdis.nasa.gov/search/order/2/VJ102IMG--5201'},\n",
       "   {'inherited': True,\n",
       "    'length': '0.0KB',\n",
       "    'rel': 'http://esipfed.org/ns/fedsearch/1.1/data#',\n",
       "    'hreflang': 'en-US',\n",
       "    'href': 'https://ladsweb.modaps.eosdis.nasa.gov/archive/allData/5201/VJ102IMG/'},\n",
       "   {'inherited': True,\n",
       "    'rel': 'http://esipfed.org/ns/fedsearch/1.1/service#',\n",
       "    'type': 'text/html',\n",
       "    'hreflang': 'en-US',\n",
       "    'href': 'https://ladsweb.modaps.eosdis.nasa.gov/opendap/hyrax/allData/5201/VJ102IMG/contents.html'},\n",
       "   {'inherited': True,\n",
       "    'rel': 'http://esipfed.org/ns/fedsearch/1.1/documentation#',\n",
       "    'hreflang': 'en-US',\n",
       "    'href': 'https://ladsweb.modaps.eosdis.nasa.gov/missions-and-measurements/viirs/NASA_VIIRS_L1B_UG_August_2021.pdf'},\n",
       "   {'inherited': True,\n",
       "    'rel': 'http://esipfed.org/ns/fedsearch/1.1/documentation#',\n",
       "    'hreflang': 'en-US',\n",
       "    'href': 'https://ladsweb.modaps.eosdis.nasa.gov/missions-and-measurements/viirs/NASARevisedJPSSVIIRSRadCalATBD2014.pdf'}]},\n",
       " {'producer_granule_id': 'VJ102IMG.A2023001.2354.021.2023005145333.nc',\n",
       "  'time_start': '2023-01-01T23:54:00.000Z',\n",
       "  'updated': '2023-01-05T15:01:47.260Z',\n",
       "  'dataset_id': 'VIIRS/JPSS1 Imagery Resolution 6-Min L1B Swath 375 m',\n",
       "  'data_center': 'LAADS',\n",
       "  'title': 'LAADS:7300192477',\n",
       "  'coordinate_system': 'GEODETIC',\n",
       "  'day_night_flag': 'DAY',\n",
       "  'time_end': '2023-01-02T00:00:00.000Z',\n",
       "  'id': 'G2578002598-LAADS',\n",
       "  'original_format': 'ECHO10',\n",
       "  'granule_size': '250.27991771698',\n",
       "  'browse_flag': False,\n",
       "  'polygons': [['28.247715 -177.793671 32.946239 -146.583633 53.819447 -147.369385 47.431026 170.055283 28.247715 -177.793671']],\n",
       "  'collection_concept_id': 'C2105083900-LAADS',\n",
       "  'online_access_flag': True,\n",
       "  'links': [{'rel': 'http://esipfed.org/ns/fedsearch/1.1/data#',\n",
       "    'type': 'application/x-netcdf',\n",
       "    'hreflang': 'en-US',\n",
       "    'href': 'https://ladsweb.modaps.eosdis.nasa.gov/archive/allData/5201/VJ102IMG/2023/001/VJ102IMG.A2023001.2354.021.2023005145333.nc'},\n",
       "   {'rel': 'http://esipfed.org/ns/fedsearch/1.1/service#',\n",
       "    'type': 'text/html',\n",
       "    'title': 'This file may be accessed using OPeNDAP directly from this link (OPENDAP DATA)',\n",
       "    'hreflang': 'en-US',\n",
       "    'href': 'https://ladsweb.modaps.eosdis.nasa.gov/opendap/RemoteResources/laads/allData/5201/VJ102IMG/2023/001/VJ102IMG.A2023001.2354.021.2023005145333.nc.html'},\n",
       "   {'rel': 'http://esipfed.org/ns/fedsearch/1.1/documentation#',\n",
       "    'type': 'text/html',\n",
       "    'title': 'A link to Data set landing page (Data Set Landing Page)',\n",
       "    'hreflang': 'en-US',\n",
       "    'href': 'http://doi.org/10.5067/VIIRS/VJ102IMG.021'},\n",
       "   {'inherited': True,\n",
       "    'rel': 'http://esipfed.org/ns/fedsearch/1.1/metadata#',\n",
       "    'hreflang': 'en-US',\n",
       "    'href': 'https://doi.org/10.5067/VIIRS/VJ102IMG.021'},\n",
       "   {'inherited': True,\n",
       "    'length': '0.0KB',\n",
       "    'rel': 'http://esipfed.org/ns/fedsearch/1.1/data#',\n",
       "    'hreflang': 'en-US',\n",
       "    'href': 'https://ladsweb.modaps.eosdis.nasa.gov/search/order/2/VJ102IMG--5201'},\n",
       "   {'inherited': True,\n",
       "    'length': '0.0KB',\n",
       "    'rel': 'http://esipfed.org/ns/fedsearch/1.1/data#',\n",
       "    'hreflang': 'en-US',\n",
       "    'href': 'https://ladsweb.modaps.eosdis.nasa.gov/archive/allData/5201/VJ102IMG/'},\n",
       "   {'inherited': True,\n",
       "    'rel': 'http://esipfed.org/ns/fedsearch/1.1/service#',\n",
       "    'type': 'text/html',\n",
       "    'hreflang': 'en-US',\n",
       "    'href': 'https://ladsweb.modaps.eosdis.nasa.gov/opendap/hyrax/allData/5201/VJ102IMG/contents.html'},\n",
       "   {'inherited': True,\n",
       "    'rel': 'http://esipfed.org/ns/fedsearch/1.1/documentation#',\n",
       "    'hreflang': 'en-US',\n",
       "    'href': 'https://ladsweb.modaps.eosdis.nasa.gov/missions-and-measurements/viirs/NASA_VIIRS_L1B_UG_August_2021.pdf'},\n",
       "   {'inherited': True,\n",
       "    'rel': 'http://esipfed.org/ns/fedsearch/1.1/documentation#',\n",
       "    'hreflang': 'en-US',\n",
       "    'href': 'https://ladsweb.modaps.eosdis.nasa.gov/missions-and-measurements/viirs/NASARevisedJPSSVIIRSRadCalATBD2014.pdf'}]},\n",
       " {'producer_granule_id': 'VJ102IMG.A2023002.0000.021.2023005170207.nc',\n",
       "  'time_start': '2023-01-02T00:00:00.000Z',\n",
       "  'updated': '2023-01-05T17:08:50.250Z',\n",
       "  'dataset_id': 'VIIRS/JPSS1 Imagery Resolution 6-Min L1B Swath 375 m',\n",
       "  'data_center': 'LAADS',\n",
       "  'title': 'LAADS:7300662029',\n",
       "  'coordinate_system': 'GEODETIC',\n",
       "  'day_night_flag': 'DAY',\n",
       "  'time_end': '2023-01-02T00:06:00.000Z',\n",
       "  'id': 'G2578139990-LAADS',\n",
       "  'original_format': 'ECHO10',\n",
       "  'granule_size': '203.385195732117',\n",
       "  'browse_flag': False,\n",
       "  'polygons': [['47.322117 170.130188 53.696106 -147.401855 74.089569 -140.184601 62.980614 144.200989 47.322117 170.130188']],\n",
       "  'collection_concept_id': 'C2105083900-LAADS',\n",
       "  'online_access_flag': True,\n",
       "  'links': [{'rel': 'http://esipfed.org/ns/fedsearch/1.1/data#',\n",
       "    'type': 'application/x-netcdf',\n",
       "    'hreflang': 'en-US',\n",
       "    'href': 'https://ladsweb.modaps.eosdis.nasa.gov/archive/allData/5201/VJ102IMG/2023/002/VJ102IMG.A2023002.0000.021.2023005170207.nc'},\n",
       "   {'rel': 'http://esipfed.org/ns/fedsearch/1.1/service#',\n",
       "    'type': 'text/html',\n",
       "    'title': 'This file may be accessed using OPeNDAP directly from this link (OPENDAP DATA)',\n",
       "    'hreflang': 'en-US',\n",
       "    'href': 'https://ladsweb.modaps.eosdis.nasa.gov/opendap/RemoteResources/laads/allData/5201/VJ102IMG/2023/002/VJ102IMG.A2023002.0000.021.2023005170207.nc.html'},\n",
       "   {'rel': 'http://esipfed.org/ns/fedsearch/1.1/documentation#',\n",
       "    'type': 'text/html',\n",
       "    'title': 'A link to Data set landing page (Data Set Landing Page)',\n",
       "    'hreflang': 'en-US',\n",
       "    'href': 'http://doi.org/10.5067/VIIRS/VJ102IMG.021'},\n",
       "   {'inherited': True,\n",
       "    'rel': 'http://esipfed.org/ns/fedsearch/1.1/metadata#',\n",
       "    'hreflang': 'en-US',\n",
       "    'href': 'https://doi.org/10.5067/VIIRS/VJ102IMG.021'},\n",
       "   {'inherited': True,\n",
       "    'length': '0.0KB',\n",
       "    'rel': 'http://esipfed.org/ns/fedsearch/1.1/data#',\n",
       "    'hreflang': 'en-US',\n",
       "    'href': 'https://ladsweb.modaps.eosdis.nasa.gov/search/order/2/VJ102IMG--5201'},\n",
       "   {'inherited': True,\n",
       "    'length': '0.0KB',\n",
       "    'rel': 'http://esipfed.org/ns/fedsearch/1.1/data#',\n",
       "    'hreflang': 'en-US',\n",
       "    'href': 'https://ladsweb.modaps.eosdis.nasa.gov/archive/allData/5201/VJ102IMG/'},\n",
       "   {'inherited': True,\n",
       "    'rel': 'http://esipfed.org/ns/fedsearch/1.1/service#',\n",
       "    'type': 'text/html',\n",
       "    'hreflang': 'en-US',\n",
       "    'href': 'https://ladsweb.modaps.eosdis.nasa.gov/opendap/hyrax/allData/5201/VJ102IMG/contents.html'},\n",
       "   {'inherited': True,\n",
       "    'rel': 'http://esipfed.org/ns/fedsearch/1.1/documentation#',\n",
       "    'hreflang': 'en-US',\n",
       "    'href': 'https://ladsweb.modaps.eosdis.nasa.gov/missions-and-measurements/viirs/NASA_VIIRS_L1B_UG_August_2021.pdf'},\n",
       "   {'inherited': True,\n",
       "    'rel': 'http://esipfed.org/ns/fedsearch/1.1/documentation#',\n",
       "    'hreflang': 'en-US',\n",
       "    'href': 'https://ladsweb.modaps.eosdis.nasa.gov/missions-and-measurements/viirs/NASARevisedJPSSVIIRSRadCalATBD2014.pdf'}]}]"
      ]
     },
     "execution_count": 82,
     "metadata": {},
     "output_type": "execute_result"
    }
   ],
   "source": [
    "granules"
   ]
  },
  {
   "cell_type": "code",
   "execution_count": 83,
   "id": "79f16973-84b4-4cc0-95c7-437d647da3e3",
   "metadata": {
    "tags": []
   },
   "outputs": [
    {
     "name": "stdout",
     "output_type": "stream",
     "text": [
      "41\n"
     ]
    }
   ],
   "source": [
    "print(len(granules))"
   ]
  },
  {
   "cell_type": "code",
   "execution_count": 87,
   "id": "8e756557-5a71-48e0-8bb0-fc89f3527e97",
   "metadata": {
    "tags": []
   },
   "outputs": [
    {
     "data": {
      "text/plain": [
       "[[['-71.495255 -131.568802 -60.924305 158.700653 -66.933449 110.915794 -83.870193 -30.837112 -71.495255 -131.568802']]]"
      ]
     },
     "execution_count": 87,
     "metadata": {},
     "output_type": "execute_result"
    }
   ],
   "source": [
    "[x[\"polygons\"] for x in granules if \"1124\" in x[\"producer_granule_id\"]]"
   ]
  },
  {
   "cell_type": "code",
   "execution_count": 88,
   "id": "76152f4b-ba57-4a0e-aee8-11d16975f642",
   "metadata": {
    "tags": []
   },
   "outputs": [
    {
     "data": {
      "text/plain": [
       "{'producer_granule_id': 'VJ102IMG.A2023001.1124.021.2023001171355.nc',\n",
       " 'time_start': '2023-01-01T11:24:00.000Z',\n",
       " 'updated': '2023-01-01T17:23:41.920Z',\n",
       " 'dataset_id': 'VIIRS/JPSS1 Imagery Resolution 6-Min L1B Swath 375 m',\n",
       " 'data_center': 'LAADS',\n",
       " 'title': 'LAADS:7288725167',\n",
       " 'coordinate_system': 'GEODETIC',\n",
       " 'day_night_flag': 'DAY',\n",
       " 'time_end': '2023-01-01T11:30:00.000Z',\n",
       " 'id': 'G2576347117-LAADS',\n",
       " 'original_format': 'ECHO10',\n",
       " 'granule_size': '218.147507667542',\n",
       " 'browse_flag': False,\n",
       " 'polygons': [['-71.495255 -131.568802 -60.924305 158.700653 -66.933449 110.915794 -83.870193 -30.837112 -71.495255 -131.568802']],\n",
       " 'collection_concept_id': 'C2105083900-LAADS',\n",
       " 'online_access_flag': True,\n",
       " 'links': [{'rel': 'http://esipfed.org/ns/fedsearch/1.1/data#',\n",
       "   'type': 'application/x-netcdf',\n",
       "   'hreflang': 'en-US',\n",
       "   'href': 'https://ladsweb.modaps.eosdis.nasa.gov/archive/allData/5201/VJ102IMG/2023/001/VJ102IMG.A2023001.1124.021.2023001171355.nc'},\n",
       "  {'rel': 'http://esipfed.org/ns/fedsearch/1.1/service#',\n",
       "   'type': 'text/html',\n",
       "   'title': 'This file may be accessed using OPeNDAP directly from this link (OPENDAP DATA)',\n",
       "   'hreflang': 'en-US',\n",
       "   'href': 'https://ladsweb.modaps.eosdis.nasa.gov/opendap/RemoteResources/laads/allData/5201/VJ102IMG/2023/001/VJ102IMG.A2023001.1124.021.2023001171355.nc.html'},\n",
       "  {'rel': 'http://esipfed.org/ns/fedsearch/1.1/documentation#',\n",
       "   'type': 'text/html',\n",
       "   'title': 'A link to Data set landing page (Data Set Landing Page)',\n",
       "   'hreflang': 'en-US',\n",
       "   'href': 'http://doi.org/10.5067/VIIRS/VJ102IMG.021'},\n",
       "  {'inherited': True,\n",
       "   'rel': 'http://esipfed.org/ns/fedsearch/1.1/metadata#',\n",
       "   'hreflang': 'en-US',\n",
       "   'href': 'https://doi.org/10.5067/VIIRS/VJ102IMG.021'},\n",
       "  {'inherited': True,\n",
       "   'length': '0.0KB',\n",
       "   'rel': 'http://esipfed.org/ns/fedsearch/1.1/data#',\n",
       "   'hreflang': 'en-US',\n",
       "   'href': 'https://ladsweb.modaps.eosdis.nasa.gov/search/order/2/VJ102IMG--5201'},\n",
       "  {'inherited': True,\n",
       "   'length': '0.0KB',\n",
       "   'rel': 'http://esipfed.org/ns/fedsearch/1.1/data#',\n",
       "   'hreflang': 'en-US',\n",
       "   'href': 'https://ladsweb.modaps.eosdis.nasa.gov/archive/allData/5201/VJ102IMG/'},\n",
       "  {'inherited': True,\n",
       "   'rel': 'http://esipfed.org/ns/fedsearch/1.1/service#',\n",
       "   'type': 'text/html',\n",
       "   'hreflang': 'en-US',\n",
       "   'href': 'https://ladsweb.modaps.eosdis.nasa.gov/opendap/hyrax/allData/5201/VJ102IMG/contents.html'},\n",
       "  {'inherited': True,\n",
       "   'rel': 'http://esipfed.org/ns/fedsearch/1.1/documentation#',\n",
       "   'hreflang': 'en-US',\n",
       "   'href': 'https://ladsweb.modaps.eosdis.nasa.gov/missions-and-measurements/viirs/NASA_VIIRS_L1B_UG_August_2021.pdf'},\n",
       "  {'inherited': True,\n",
       "   'rel': 'http://esipfed.org/ns/fedsearch/1.1/documentation#',\n",
       "   'hreflang': 'en-US',\n",
       "   'href': 'https://ladsweb.modaps.eosdis.nasa.gov/missions-and-measurements/viirs/NASARevisedJPSSVIIRSRadCalATBD2014.pdf'}]}"
      ]
     },
     "execution_count": 88,
     "metadata": {},
     "output_type": "execute_result"
    }
   ],
   "source": [
    "# so from this polygon, how can we tell that it's going to create issues for the processor??\n",
    "granule = [x for x in granules if \"1124\" in x[\"producer_granule_id\"]][0]\n",
    "granule"
   ]
  },
  {
   "cell_type": "code",
   "execution_count": 96,
   "id": "d946680e-b806-48dd-a629-e9457fbbe3f1",
   "metadata": {
    "tags": []
   },
   "outputs": [
    {
     "data": {
      "text/plain": [
       "'-71.495255 -131.568802 -60.924305 158.700653 -66.933449 110.915794 -83.870193 -30.837112 -71.495255 -131.568802'"
      ]
     },
     "execution_count": 96,
     "metadata": {},
     "output_type": "execute_result"
    }
   ],
   "source": [
    "polygon_string = granule[\"polygons\"][0][0]\n",
    "polygon_string"
   ]
  },
  {
   "cell_type": "code",
   "execution_count": 100,
   "id": "bb67f21d-d07e-48bb-b554-629bf84fe2d0",
   "metadata": {
    "tags": []
   },
   "outputs": [
    {
     "data": {
      "text/plain": [
       "[-71.495255,\n",
       " -131.568802,\n",
       " -60.924305,\n",
       " 158.700653,\n",
       " -66.933449,\n",
       " 110.915794,\n",
       " -83.870193,\n",
       " -30.837112,\n",
       " -71.495255,\n",
       " -131.568802]"
      ]
     },
     "execution_count": 100,
     "metadata": {},
     "output_type": "execute_result"
    }
   ],
   "source": [
    "coord_list = [float(x) for x in polygon_string.split(\" \")]\n",
    "coord_list"
   ]
  },
  {
   "cell_type": "code",
   "execution_count": 101,
   "id": "c41662b2-65b3-480a-ac6c-4663d5fece2b",
   "metadata": {
    "tags": []
   },
   "outputs": [
    {
     "data": {
      "text/plain": [
       "[-71.495255, -60.924305, -66.933449, -83.870193, -71.495255]"
      ]
     },
     "execution_count": 101,
     "metadata": {},
     "output_type": "execute_result"
    }
   ],
   "source": [
    "coord_list[::2]"
   ]
  },
  {
   "cell_type": "code",
   "execution_count": 102,
   "id": "57a8d3a3-5007-48be-b3e1-0743156c5a10",
   "metadata": {
    "tags": []
   },
   "outputs": [
    {
     "data": {
      "text/plain": [
       "-83.870193"
      ]
     },
     "execution_count": 102,
     "metadata": {},
     "output_type": "execute_result"
    }
   ],
   "source": [
    "min(coord_list[::2])"
   ]
  },
  {
   "cell_type": "code",
   "execution_count": 103,
   "id": "481ab5c8-d1f7-4e8a-9c09-67ab0ae68b77",
   "metadata": {
    "tags": []
   },
   "outputs": [
    {
     "data": {
      "text/plain": [
       "2"
      ]
     },
     "execution_count": 103,
     "metadata": {},
     "output_type": "execute_result"
    }
   ],
   "source": [
    "sum([True, True, False])"
   ]
  },
  {
   "cell_type": "markdown",
   "id": "4e29734d-3143-4d5c-a76f-6ff101bf5258",
   "metadata": {},
   "source": [
    "## Testing new fail case from global experiment "
   ]
  },
  {
   "cell_type": "code",
   "execution_count": 104,
   "id": "2e21c70e-48f3-4103-ae53-2255352f7693",
   "metadata": {
    "tags": []
   },
   "outputs": [],
   "source": [
    "tile_dict = {'tile_id': 'VNP02.A2023001.1942.002', 'urls': {'idata': 'https://ladsweb.modaps.eosdis.nasa.gov/archive/allData/5200/VNP02IMG/2023/001/VNP02IMG.A2023001.1942.002.2023002034321.nc', 'igeo': 'https://ladsweb.modaps.eosdis.nasa.gov/archive/allData/5200/VNP03IMG/2023/001/VNP03IMG.A2023001.1942.002.2023002031648.nc', 'mdata': 'https://ladsweb.modaps.eosdis.nasa.gov/archive/allData/5200/VNP02MOD/2023/001/VNP02MOD.A2023001.1942.002.2023002034321.nc', 'mgeo': 'https://ladsweb.modaps.eosdis.nasa.gov/archive/allData/5200/VNP03MOD/2023/001/VNP03MOD.A2023001.1942.002.2023002031648.nc', 'cmdata': 'https://ladsweb.modaps.eosdis.nasa.gov/archive/allData/5110/CLDMSK_L2_VIIRS_SNPP/2023/001/CLDMSK_L2_VIIRS_SNPP.A2023001.1942.001.2023002080015.nc'}}"
   ]
  },
  {
   "cell_type": "code",
   "execution_count": 105,
   "id": "44b4ee7a-fb3a-4ac4-b797-3d2d03f1ce14",
   "metadata": {
    "tags": []
   },
   "outputs": [
    {
     "name": "stdout",
     "output_type": "stream",
     "text": [
      "2023-04-24 21:09:36,974 c2s.external.stac.viirs_class viirs_class.py:522 DEBUG: https://ladsweb.modaps.eosdis.nasa.gov/archive/allData/5200/VNP02IMG/2023/001/VNP02IMG.A2023001.1942.002.2023002034321.nc\n",
      "2023-04-24 21:09:36,974 c2s.external.stac.viirs_class viirs_class.py:522 DEBUG: https://ladsweb.modaps.eosdis.nasa.gov/archive/allData/5200/VNP02IMG/2023/001/VNP02IMG.A2023001.1942.002.2023002034321.nc\n"
     ]
    },
    {
     "name": "stderr",
     "output_type": "stream",
     "text": [
      "DEBUG:c2s.external.stac.viirs_class:https://ladsweb.modaps.eosdis.nasa.gov/archive/allData/5200/VNP02IMG/2023/001/VNP02IMG.A2023001.1942.002.2023002034321.nc\n"
     ]
    },
    {
     "name": "stdout",
     "output_type": "stream",
     "text": [
      "2023-04-24 21:09:36,976 c2s.external.stac.viirs_class viirs_class.py:42 DEBUG: Search/Download url: https://ladsweb.modaps.eosdis.nasa.gov/archive/allData/5200/VNP02IMG/2023/001/VNP02IMG.A2023001.1942.002.2023002034321.nc\n",
      "2023-04-24 21:09:36,976 c2s.external.stac.viirs_class viirs_class.py:42 DEBUG: Search/Download url: https://ladsweb.modaps.eosdis.nasa.gov/archive/allData/5200/VNP02IMG/2023/001/VNP02IMG.A2023001.1942.002.2023002034321.nc\n"
     ]
    },
    {
     "name": "stderr",
     "output_type": "stream",
     "text": [
      "DEBUG:c2s.external.stac.viirs_class:Search/Download url: https://ladsweb.modaps.eosdis.nasa.gov/archive/allData/5200/VNP02IMG/2023/001/VNP02IMG.A2023001.1942.002.2023002034321.nc\n"
     ]
    },
    {
     "name": "stdout",
     "output_type": "stream",
     "text": [
      "2023-04-24 21:10:15,417 c2s.external.stac.viirs_class viirs_class.py:49 DEBUG: Successful searching/downloading for url https://ladsweb.modaps.eosdis.nasa.gov/archive/allData/5200/VNP02IMG/2023/001/VNP02IMG.A2023001.1942.002.2023002034321.nc\n",
      "2023-04-24 21:10:15,417 c2s.external.stac.viirs_class viirs_class.py:49 DEBUG: Successful searching/downloading for url https://ladsweb.modaps.eosdis.nasa.gov/archive/allData/5200/VNP02IMG/2023/001/VNP02IMG.A2023001.1942.002.2023002034321.nc\n"
     ]
    },
    {
     "name": "stderr",
     "output_type": "stream",
     "text": [
      "DEBUG:c2s.external.stac.viirs_class:Successful searching/downloading for url https://ladsweb.modaps.eosdis.nasa.gov/archive/allData/5200/VNP02IMG/2023/001/VNP02IMG.A2023001.1942.002.2023002034321.nc\n"
     ]
    },
    {
     "name": "stdout",
     "output_type": "stream",
     "text": [
      "2023-04-24 21:10:15,712 c2s.external.stac.viirs_class viirs_class.py:536 DEBUG: VNP02.A2023001.1942.002: Successful download for idata to /home/nick/C2S-Python-API/notebooks/data/VNP02.A2023001.1942.002/VNP02IMG.A2023001.1942.002.2023002034321.nc\n",
      "2023-04-24 21:10:15,712 c2s.external.stac.viirs_class viirs_class.py:536 DEBUG: VNP02.A2023001.1942.002: Successful download for idata to /home/nick/C2S-Python-API/notebooks/data/VNP02.A2023001.1942.002/VNP02IMG.A2023001.1942.002.2023002034321.nc\n"
     ]
    },
    {
     "name": "stderr",
     "output_type": "stream",
     "text": [
      "DEBUG:c2s.external.stac.viirs_class:VNP02.A2023001.1942.002: Successful download for idata to /home/nick/C2S-Python-API/notebooks/data/VNP02.A2023001.1942.002/VNP02IMG.A2023001.1942.002.2023002034321.nc\n"
     ]
    },
    {
     "name": "stdout",
     "output_type": "stream",
     "text": [
      "2023-04-24 21:10:15,713 c2s.external.stac.viirs_class viirs_class.py:522 DEBUG: https://ladsweb.modaps.eosdis.nasa.gov/archive/allData/5200/VNP03IMG/2023/001/VNP03IMG.A2023001.1942.002.2023002031648.nc\n",
      "2023-04-24 21:10:15,713 c2s.external.stac.viirs_class viirs_class.py:522 DEBUG: https://ladsweb.modaps.eosdis.nasa.gov/archive/allData/5200/VNP03IMG/2023/001/VNP03IMG.A2023001.1942.002.2023002031648.nc\n"
     ]
    },
    {
     "name": "stderr",
     "output_type": "stream",
     "text": [
      "DEBUG:c2s.external.stac.viirs_class:https://ladsweb.modaps.eosdis.nasa.gov/archive/allData/5200/VNP03IMG/2023/001/VNP03IMG.A2023001.1942.002.2023002031648.nc\n"
     ]
    },
    {
     "name": "stdout",
     "output_type": "stream",
     "text": [
      "2023-04-24 21:10:15,714 c2s.external.stac.viirs_class viirs_class.py:42 DEBUG: Search/Download url: https://ladsweb.modaps.eosdis.nasa.gov/archive/allData/5200/VNP03IMG/2023/001/VNP03IMG.A2023001.1942.002.2023002031648.nc\n",
      "2023-04-24 21:10:15,714 c2s.external.stac.viirs_class viirs_class.py:42 DEBUG: Search/Download url: https://ladsweb.modaps.eosdis.nasa.gov/archive/allData/5200/VNP03IMG/2023/001/VNP03IMG.A2023001.1942.002.2023002031648.nc\n"
     ]
    },
    {
     "name": "stderr",
     "output_type": "stream",
     "text": [
      "DEBUG:c2s.external.stac.viirs_class:Search/Download url: https://ladsweb.modaps.eosdis.nasa.gov/archive/allData/5200/VNP03IMG/2023/001/VNP03IMG.A2023001.1942.002.2023002031648.nc\n"
     ]
    },
    {
     "name": "stdout",
     "output_type": "stream",
     "text": [
      "2023-04-24 21:10:22,073 c2s.external.stac.viirs_class viirs_class.py:49 DEBUG: Successful searching/downloading for url https://ladsweb.modaps.eosdis.nasa.gov/archive/allData/5200/VNP03IMG/2023/001/VNP03IMG.A2023001.1942.002.2023002031648.nc\n",
      "2023-04-24 21:10:22,073 c2s.external.stac.viirs_class viirs_class.py:49 DEBUG: Successful searching/downloading for url https://ladsweb.modaps.eosdis.nasa.gov/archive/allData/5200/VNP03IMG/2023/001/VNP03IMG.A2023001.1942.002.2023002031648.nc\n"
     ]
    },
    {
     "name": "stderr",
     "output_type": "stream",
     "text": [
      "DEBUG:c2s.external.stac.viirs_class:Successful searching/downloading for url https://ladsweb.modaps.eosdis.nasa.gov/archive/allData/5200/VNP03IMG/2023/001/VNP03IMG.A2023001.1942.002.2023002031648.nc\n"
     ]
    },
    {
     "name": "stdout",
     "output_type": "stream",
     "text": [
      "2023-04-24 21:10:22,294 c2s.external.stac.viirs_class viirs_class.py:536 DEBUG: VNP02.A2023001.1942.002: Successful download for igeo to /home/nick/C2S-Python-API/notebooks/data/VNP02.A2023001.1942.002/VNP03IMG.A2023001.1942.002.2023002031648.nc\n",
      "2023-04-24 21:10:22,294 c2s.external.stac.viirs_class viirs_class.py:536 DEBUG: VNP02.A2023001.1942.002: Successful download for igeo to /home/nick/C2S-Python-API/notebooks/data/VNP02.A2023001.1942.002/VNP03IMG.A2023001.1942.002.2023002031648.nc\n"
     ]
    },
    {
     "name": "stderr",
     "output_type": "stream",
     "text": [
      "DEBUG:c2s.external.stac.viirs_class:VNP02.A2023001.1942.002: Successful download for igeo to /home/nick/C2S-Python-API/notebooks/data/VNP02.A2023001.1942.002/VNP03IMG.A2023001.1942.002.2023002031648.nc\n"
     ]
    },
    {
     "name": "stdout",
     "output_type": "stream",
     "text": [
      "2023-04-24 21:10:22,296 c2s.external.stac.viirs_class viirs_class.py:522 DEBUG: https://ladsweb.modaps.eosdis.nasa.gov/archive/allData/5200/VNP02MOD/2023/001/VNP02MOD.A2023001.1942.002.2023002034321.nc\n",
      "2023-04-24 21:10:22,296 c2s.external.stac.viirs_class viirs_class.py:522 DEBUG: https://ladsweb.modaps.eosdis.nasa.gov/archive/allData/5200/VNP02MOD/2023/001/VNP02MOD.A2023001.1942.002.2023002034321.nc\n"
     ]
    },
    {
     "name": "stderr",
     "output_type": "stream",
     "text": [
      "DEBUG:c2s.external.stac.viirs_class:https://ladsweb.modaps.eosdis.nasa.gov/archive/allData/5200/VNP02MOD/2023/001/VNP02MOD.A2023001.1942.002.2023002034321.nc\n"
     ]
    },
    {
     "name": "stdout",
     "output_type": "stream",
     "text": [
      "2023-04-24 21:10:22,297 c2s.external.stac.viirs_class viirs_class.py:42 DEBUG: Search/Download url: https://ladsweb.modaps.eosdis.nasa.gov/archive/allData/5200/VNP02MOD/2023/001/VNP02MOD.A2023001.1942.002.2023002034321.nc\n",
      "2023-04-24 21:10:22,297 c2s.external.stac.viirs_class viirs_class.py:42 DEBUG: Search/Download url: https://ladsweb.modaps.eosdis.nasa.gov/archive/allData/5200/VNP02MOD/2023/001/VNP02MOD.A2023001.1942.002.2023002034321.nc\n"
     ]
    },
    {
     "name": "stderr",
     "output_type": "stream",
     "text": [
      "DEBUG:c2s.external.stac.viirs_class:Search/Download url: https://ladsweb.modaps.eosdis.nasa.gov/archive/allData/5200/VNP02MOD/2023/001/VNP02MOD.A2023001.1942.002.2023002034321.nc\n"
     ]
    },
    {
     "name": "stdout",
     "output_type": "stream",
     "text": [
      "2023-04-24 21:10:28,220 c2s.external.stac.viirs_class viirs_class.py:49 DEBUG: Successful searching/downloading for url https://ladsweb.modaps.eosdis.nasa.gov/archive/allData/5200/VNP02MOD/2023/001/VNP02MOD.A2023001.1942.002.2023002034321.nc\n",
      "2023-04-24 21:10:28,220 c2s.external.stac.viirs_class viirs_class.py:49 DEBUG: Successful searching/downloading for url https://ladsweb.modaps.eosdis.nasa.gov/archive/allData/5200/VNP02MOD/2023/001/VNP02MOD.A2023001.1942.002.2023002034321.nc\n"
     ]
    },
    {
     "name": "stderr",
     "output_type": "stream",
     "text": [
      "DEBUG:c2s.external.stac.viirs_class:Successful searching/downloading for url https://ladsweb.modaps.eosdis.nasa.gov/archive/allData/5200/VNP02MOD/2023/001/VNP02MOD.A2023001.1942.002.2023002034321.nc\n"
     ]
    },
    {
     "name": "stdout",
     "output_type": "stream",
     "text": [
      "2023-04-24 21:10:28,474 c2s.external.stac.viirs_class viirs_class.py:536 DEBUG: VNP02.A2023001.1942.002: Successful download for mdata to /home/nick/C2S-Python-API/notebooks/data/VNP02.A2023001.1942.002/VNP02MOD.A2023001.1942.002.2023002034321.nc\n",
      "2023-04-24 21:10:28,474 c2s.external.stac.viirs_class viirs_class.py:536 DEBUG: VNP02.A2023001.1942.002: Successful download for mdata to /home/nick/C2S-Python-API/notebooks/data/VNP02.A2023001.1942.002/VNP02MOD.A2023001.1942.002.2023002034321.nc\n"
     ]
    },
    {
     "name": "stderr",
     "output_type": "stream",
     "text": [
      "DEBUG:c2s.external.stac.viirs_class:VNP02.A2023001.1942.002: Successful download for mdata to /home/nick/C2S-Python-API/notebooks/data/VNP02.A2023001.1942.002/VNP02MOD.A2023001.1942.002.2023002034321.nc\n"
     ]
    },
    {
     "name": "stdout",
     "output_type": "stream",
     "text": [
      "2023-04-24 21:10:28,475 c2s.external.stac.viirs_class viirs_class.py:522 DEBUG: https://ladsweb.modaps.eosdis.nasa.gov/archive/allData/5200/VNP03MOD/2023/001/VNP03MOD.A2023001.1942.002.2023002031648.nc\n",
      "2023-04-24 21:10:28,475 c2s.external.stac.viirs_class viirs_class.py:522 DEBUG: https://ladsweb.modaps.eosdis.nasa.gov/archive/allData/5200/VNP03MOD/2023/001/VNP03MOD.A2023001.1942.002.2023002031648.nc\n"
     ]
    },
    {
     "name": "stderr",
     "output_type": "stream",
     "text": [
      "DEBUG:c2s.external.stac.viirs_class:https://ladsweb.modaps.eosdis.nasa.gov/archive/allData/5200/VNP03MOD/2023/001/VNP03MOD.A2023001.1942.002.2023002031648.nc\n"
     ]
    },
    {
     "name": "stdout",
     "output_type": "stream",
     "text": [
      "2023-04-24 21:10:28,476 c2s.external.stac.viirs_class viirs_class.py:42 DEBUG: Search/Download url: https://ladsweb.modaps.eosdis.nasa.gov/archive/allData/5200/VNP03MOD/2023/001/VNP03MOD.A2023001.1942.002.2023002031648.nc\n",
      "2023-04-24 21:10:28,476 c2s.external.stac.viirs_class viirs_class.py:42 DEBUG: Search/Download url: https://ladsweb.modaps.eosdis.nasa.gov/archive/allData/5200/VNP03MOD/2023/001/VNP03MOD.A2023001.1942.002.2023002031648.nc\n"
     ]
    },
    {
     "name": "stderr",
     "output_type": "stream",
     "text": [
      "DEBUG:c2s.external.stac.viirs_class:Search/Download url: https://ladsweb.modaps.eosdis.nasa.gov/archive/allData/5200/VNP03MOD/2023/001/VNP03MOD.A2023001.1942.002.2023002031648.nc\n"
     ]
    },
    {
     "name": "stdout",
     "output_type": "stream",
     "text": [
      "2023-04-24 21:10:30,419 c2s.external.stac.viirs_class viirs_class.py:49 DEBUG: Successful searching/downloading for url https://ladsweb.modaps.eosdis.nasa.gov/archive/allData/5200/VNP03MOD/2023/001/VNP03MOD.A2023001.1942.002.2023002031648.nc\n",
      "2023-04-24 21:10:30,419 c2s.external.stac.viirs_class viirs_class.py:49 DEBUG: Successful searching/downloading for url https://ladsweb.modaps.eosdis.nasa.gov/archive/allData/5200/VNP03MOD/2023/001/VNP03MOD.A2023001.1942.002.2023002031648.nc\n"
     ]
    },
    {
     "name": "stderr",
     "output_type": "stream",
     "text": [
      "DEBUG:c2s.external.stac.viirs_class:Successful searching/downloading for url https://ladsweb.modaps.eosdis.nasa.gov/archive/allData/5200/VNP03MOD/2023/001/VNP03MOD.A2023001.1942.002.2023002031648.nc\n"
     ]
    },
    {
     "name": "stdout",
     "output_type": "stream",
     "text": [
      "2023-04-24 21:10:30,492 c2s.external.stac.viirs_class viirs_class.py:536 DEBUG: VNP02.A2023001.1942.002: Successful download for mgeo to /home/nick/C2S-Python-API/notebooks/data/VNP02.A2023001.1942.002/VNP03MOD.A2023001.1942.002.2023002031648.nc\n",
      "2023-04-24 21:10:30,492 c2s.external.stac.viirs_class viirs_class.py:536 DEBUG: VNP02.A2023001.1942.002: Successful download for mgeo to /home/nick/C2S-Python-API/notebooks/data/VNP02.A2023001.1942.002/VNP03MOD.A2023001.1942.002.2023002031648.nc\n"
     ]
    },
    {
     "name": "stderr",
     "output_type": "stream",
     "text": [
      "DEBUG:c2s.external.stac.viirs_class:VNP02.A2023001.1942.002: Successful download for mgeo to /home/nick/C2S-Python-API/notebooks/data/VNP02.A2023001.1942.002/VNP03MOD.A2023001.1942.002.2023002031648.nc\n"
     ]
    },
    {
     "name": "stdout",
     "output_type": "stream",
     "text": [
      "2023-04-24 21:10:30,493 c2s.external.stac.viirs_class viirs_class.py:522 DEBUG: https://ladsweb.modaps.eosdis.nasa.gov/archive/allData/5110/CLDMSK_L2_VIIRS_SNPP/2023/001/CLDMSK_L2_VIIRS_SNPP.A2023001.1942.001.2023002080015.nc\n",
      "2023-04-24 21:10:30,493 c2s.external.stac.viirs_class viirs_class.py:522 DEBUG: https://ladsweb.modaps.eosdis.nasa.gov/archive/allData/5110/CLDMSK_L2_VIIRS_SNPP/2023/001/CLDMSK_L2_VIIRS_SNPP.A2023001.1942.001.2023002080015.nc\n"
     ]
    },
    {
     "name": "stderr",
     "output_type": "stream",
     "text": [
      "DEBUG:c2s.external.stac.viirs_class:https://ladsweb.modaps.eosdis.nasa.gov/archive/allData/5110/CLDMSK_L2_VIIRS_SNPP/2023/001/CLDMSK_L2_VIIRS_SNPP.A2023001.1942.001.2023002080015.nc\n"
     ]
    },
    {
     "name": "stdout",
     "output_type": "stream",
     "text": [
      "2023-04-24 21:10:30,494 c2s.external.stac.viirs_class viirs_class.py:42 DEBUG: Search/Download url: https://ladsweb.modaps.eosdis.nasa.gov/archive/allData/5110/CLDMSK_L2_VIIRS_SNPP/2023/001/CLDMSK_L2_VIIRS_SNPP.A2023001.1942.001.2023002080015.nc\n",
      "2023-04-24 21:10:30,494 c2s.external.stac.viirs_class viirs_class.py:42 DEBUG: Search/Download url: https://ladsweb.modaps.eosdis.nasa.gov/archive/allData/5110/CLDMSK_L2_VIIRS_SNPP/2023/001/CLDMSK_L2_VIIRS_SNPP.A2023001.1942.001.2023002080015.nc\n"
     ]
    },
    {
     "name": "stderr",
     "output_type": "stream",
     "text": [
      "DEBUG:c2s.external.stac.viirs_class:Search/Download url: https://ladsweb.modaps.eosdis.nasa.gov/archive/allData/5110/CLDMSK_L2_VIIRS_SNPP/2023/001/CLDMSK_L2_VIIRS_SNPP.A2023001.1942.001.2023002080015.nc\n"
     ]
    },
    {
     "name": "stdout",
     "output_type": "stream",
     "text": [
      "2023-04-24 21:10:32,966 c2s.external.stac.viirs_class viirs_class.py:49 DEBUG: Successful searching/downloading for url https://ladsweb.modaps.eosdis.nasa.gov/archive/allData/5110/CLDMSK_L2_VIIRS_SNPP/2023/001/CLDMSK_L2_VIIRS_SNPP.A2023001.1942.001.2023002080015.nc\n",
      "2023-04-24 21:10:32,966 c2s.external.stac.viirs_class viirs_class.py:49 DEBUG: Successful searching/downloading for url https://ladsweb.modaps.eosdis.nasa.gov/archive/allData/5110/CLDMSK_L2_VIIRS_SNPP/2023/001/CLDMSK_L2_VIIRS_SNPP.A2023001.1942.001.2023002080015.nc\n"
     ]
    },
    {
     "name": "stderr",
     "output_type": "stream",
     "text": [
      "DEBUG:c2s.external.stac.viirs_class:Successful searching/downloading for url https://ladsweb.modaps.eosdis.nasa.gov/archive/allData/5110/CLDMSK_L2_VIIRS_SNPP/2023/001/CLDMSK_L2_VIIRS_SNPP.A2023001.1942.001.2023002080015.nc\n"
     ]
    },
    {
     "name": "stdout",
     "output_type": "stream",
     "text": [
      "2023-04-24 21:10:33,028 c2s.external.stac.viirs_class viirs_class.py:536 DEBUG: VNP02.A2023001.1942.002: Successful download for cmdata to /home/nick/C2S-Python-API/notebooks/data/VNP02.A2023001.1942.002/CLDMSK_L2_VIIRS_SNPP.A2023001.1942.001.2023002080015.nc\n",
      "2023-04-24 21:10:33,028 c2s.external.stac.viirs_class viirs_class.py:536 DEBUG: VNP02.A2023001.1942.002: Successful download for cmdata to /home/nick/C2S-Python-API/notebooks/data/VNP02.A2023001.1942.002/CLDMSK_L2_VIIRS_SNPP.A2023001.1942.001.2023002080015.nc\n"
     ]
    },
    {
     "name": "stderr",
     "output_type": "stream",
     "text": [
      "DEBUG:c2s.external.stac.viirs_class:VNP02.A2023001.1942.002: Successful download for cmdata to /home/nick/C2S-Python-API/notebooks/data/VNP02.A2023001.1942.002/CLDMSK_L2_VIIRS_SNPP.A2023001.1942.001.2023002080015.nc\n"
     ]
    },
    {
     "data": {
      "text/plain": [
       "'/home/nick/C2S-Python-API/notebooks/data/VNP02.A2023001.1942.002'"
      ]
     },
     "execution_count": 105,
     "metadata": {},
     "output_type": "execute_result"
    }
   ],
   "source": [
    "viirs.download_image(tile_dict, base_dir=\"/home/nick/C2S-Python-API/notebooks/data\")"
   ]
  },
  {
   "cell_type": "code",
   "execution_count": 124,
   "id": "bd76f3e0-9e0d-4c1d-aa8a-a312cd67739f",
   "metadata": {
    "tags": []
   },
   "outputs": [
    {
     "name": "stdout",
     "output_type": "stream",
     "text": [
      "2023-04-24 23:24:58,500 c2s.external.stac.viirs_375_toa_processor viirs_375_toa_processor.py:69 DEBUG: id: \n",
      "2023-04-24 23:24:58,500 c2s.external.stac.viirs_375_toa_processor viirs_375_toa_processor.py:69 DEBUG: id: \n"
     ]
    },
    {
     "name": "stderr",
     "output_type": "stream",
     "text": [
      "DEBUG:c2s.external.stac.viirs_375_toa_processor:id: \n"
     ]
    },
    {
     "name": "stdout",
     "output_type": "stream",
     "text": [
      "2023-04-24 23:24:58,503 c2s.external.stac.viirs_375_toa_processor viirs_375_toa_processor.py:72 DEBUG: save_folder: /home/nick/C2S-Python-API/notebooks/data/VNP02.A2023001.1942.002/\n",
      "2023-04-24 23:24:58,503 c2s.external.stac.viirs_375_toa_processor viirs_375_toa_processor.py:72 DEBUG: save_folder: /home/nick/C2S-Python-API/notebooks/data/VNP02.A2023001.1942.002/\n"
     ]
    },
    {
     "name": "stderr",
     "output_type": "stream",
     "text": [
      "DEBUG:c2s.external.stac.viirs_375_toa_processor:save_folder: /home/nick/C2S-Python-API/notebooks/data/VNP02.A2023001.1942.002/\n",
      "WARNING:rasterio._env:CPLE_AppDefined in dimension #1 (number_of_pixels) is not a Longitude/X dimension.\n",
      "WARNING:rasterio._env:CPLE_AppDefined in dimension #0 (number_of_lines) is not a Latitude/Y dimension.\n",
      "WARNING:rasterio._env:CPLE_AppDefined in dimension #1 (number_of_pixels) is not a Longitude/X dimension.\n",
      "WARNING:rasterio._env:CPLE_AppDefined in dimension #0 (number_of_lines) is not a Latitude/Y dimension.\n",
      "WARNING:rasterio._env:CPLE_AppDefined in dimension #1 (number_of_pixels) is not a Longitude/X dimension.\n",
      "WARNING:rasterio._env:CPLE_AppDefined in dimension #0 (number_of_lines) is not a Latitude/Y dimension.\n",
      "WARNING:rasterio._env:CPLE_AppDefined in dimension #1 (number_of_pixels) is not a Longitude/X dimension.\n",
      "WARNING:rasterio._env:CPLE_AppDefined in dimension #0 (number_of_lines) is not a Latitude/Y dimension.\n",
      "WARNING:rasterio._env:CPLE_AppDefined in dimension #1 (number_of_pixels) is not a Longitude/X dimension.\n",
      "WARNING:rasterio._env:CPLE_AppDefined in dimension #0 (number_of_lines) is not a Latitude/Y dimension.\n",
      "WARNING:rasterio._env:CPLE_AppDefined in dimension #1 (number_of_pixels) is not a Longitude/X dimension.\n",
      "WARNING:rasterio._env:CPLE_AppDefined in dimension #0 (number_of_lines) is not a Latitude/Y dimension.\n",
      "WARNING:rasterio._env:CPLE_AppDefined in dimension #1 (number_of_pixels) is not a Longitude/X dimension.\n",
      "WARNING:rasterio._env:CPLE_AppDefined in dimension #0 (number_of_lines) is not a Latitude/Y dimension.\n",
      "WARNING:rasterio._env:CPLE_AppDefined in dimension #1 (number_of_pixels) is not a Longitude/X dimension.\n",
      "WARNING:rasterio._env:CPLE_AppDefined in dimension #0 (number_of_lines) is not a Latitude/Y dimension.\n",
      "WARNING:rasterio._env:CPLE_AppDefined in dimension #1 (number_of_pixels) is not a Longitude/X dimension.\n",
      "WARNING:rasterio._env:CPLE_AppDefined in dimension #0 (number_of_lines) is not a Latitude/Y dimension.\n",
      "WARNING:rasterio._env:CPLE_AppDefined in dimension #1 (number_of_pixels) is not a Longitude/X dimension.\n",
      "WARNING:rasterio._env:CPLE_AppDefined in dimension #0 (number_of_lines) is not a Latitude/Y dimension.\n",
      "WARNING:rasterio._env:CPLE_AppDefined in dimension #1 (number_of_pixels) is not a Longitude/X dimension.\n",
      "WARNING:rasterio._env:CPLE_AppDefined in dimension #0 (number_of_lines) is not a Latitude/Y dimension.\n",
      "WARNING:rasterio._env:CPLE_AppDefined in dimension #1 (number_of_pixels) is not a Longitude/X dimension.\n",
      "WARNING:rasterio._env:CPLE_AppDefined in dimension #0 (number_of_lines) is not a Latitude/Y dimension.\n",
      "WARNING:rasterio._env:CPLE_AppDefined in dimension #1 (number_of_pixels) is not a Longitude/X dimension.\n",
      "WARNING:rasterio._env:CPLE_AppDefined in dimension #0 (number_of_lines) is not a Latitude/Y dimension.\n",
      "WARNING:rasterio._env:CPLE_AppDefined in dimension #1 (number_of_pixels) is not a Longitude/X dimension.\n",
      "WARNING:rasterio._env:CPLE_AppDefined in dimension #0 (number_of_lines) is not a Latitude/Y dimension.\n",
      "WARNING:rasterio._env:CPLE_AppDefined in dimension #1 (number_of_pixels) is not a Longitude/X dimension.\n",
      "WARNING:rasterio._env:CPLE_AppDefined in dimension #0 (number_of_lines) is not a Latitude/Y dimension.\n",
      "WARNING:rasterio._env:CPLE_AppDefined in dimension #1 (number_of_pixels) is not a Longitude/X dimension.\n",
      "WARNING:rasterio._env:CPLE_AppDefined in dimension #0 (number_of_lines) is not a Latitude/Y dimension.\n",
      "WARNING:rasterio._env:CPLE_AppDefined in dimension #1 (number_of_pixels) is not a Longitude/X dimension.\n",
      "WARNING:rasterio._env:CPLE_AppDefined in dimension #0 (number_of_lines) is not a Latitude/Y dimension.\n",
      "WARNING:rasterio._env:CPLE_AppDefined in dimension #1 (number_of_pixels) is not a Longitude/X dimension.\n",
      "WARNING:rasterio._env:CPLE_AppDefined in dimension #0 (number_of_lines) is not a Latitude/Y dimension.\n",
      "WARNING:rasterio._env:CPLE_AppDefined in dimension #1 (number_of_pixels) is not a Longitude/X dimension.\n",
      "WARNING:rasterio._env:CPLE_AppDefined in dimension #0 (number_of_lines) is not a Latitude/Y dimension.\n",
      "WARNING:rasterio._env:CPLE_AppDefined in dimension #1 (number_of_pixels) is not a Longitude/X dimension.\n",
      "WARNING:rasterio._env:CPLE_AppDefined in dimension #0 (number_of_lines) is not a Latitude/Y dimension.\n",
      "WARNING:rasterio._env:CPLE_AppDefined in dimension #1 (number_of_pixels) is not a Longitude/X dimension.\n",
      "WARNING:rasterio._env:CPLE_AppDefined in dimension #0 (number_of_lines) is not a Latitude/Y dimension.\n",
      "WARNING:rasterio._env:CPLE_AppDefined in dimension #1 (number_of_pixels) is not a Longitude/X dimension.\n",
      "WARNING:rasterio._env:CPLE_AppDefined in dimension #0 (number_of_lines) is not a Latitude/Y dimension.\n",
      "WARNING:rasterio._env:CPLE_AppDefined in dimension #1 (number_of_pixels) is not a Longitude/X dimension.\n",
      "WARNING:rasterio._env:CPLE_AppDefined in dimension #0 (number_of_lines) is not a Latitude/Y dimension.\n",
      "WARNING:rasterio._env:CPLE_AppDefined in dimension #1 (number_of_pixels) is not a Longitude/X dimension.\n",
      "WARNING:rasterio._env:CPLE_AppDefined in dimension #0 (number_of_lines) is not a Latitude/Y dimension.\n",
      "WARNING:rasterio._env:CPLE_AppDefined in dimension #1 (number_of_pixels) is not a Longitude/X dimension.\n",
      "WARNING:rasterio._env:CPLE_AppDefined in dimension #0 (number_of_lines) is not a Latitude/Y dimension.\n",
      "WARNING:rasterio._env:CPLE_AppDefined in dimension #1 (number_of_pixels) is not a Longitude/X dimension.\n",
      "WARNING:rasterio._env:CPLE_AppDefined in dimension #0 (number_of_lines) is not a Latitude/Y dimension.\n",
      "WARNING:rasterio._env:CPLE_AppDefined in dimension #1 (number_of_pixels) is not a Longitude/X dimension.\n",
      "WARNING:rasterio._env:CPLE_AppDefined in dimension #0 (number_of_lines) is not a Latitude/Y dimension.\n",
      "WARNING:rasterio._env:CPLE_AppDefined in dimension #1 (number_of_pixels) is not a Longitude/X dimension.\n",
      "WARNING:rasterio._env:CPLE_AppDefined in dimension #0 (number_of_lines) is not a Latitude/Y dimension.\n",
      "WARNING:rasterio._env:CPLE_AppDefined in dimension #1 (number_of_pixels) is not a Longitude/X dimension.\n",
      "WARNING:rasterio._env:CPLE_AppDefined in dimension #0 (number_of_lines) is not a Latitude/Y dimension.\n",
      "WARNING:rasterio._env:CPLE_AppDefined in dimension #1 (number_of_pixels) is not a Longitude/X dimension.\n",
      "WARNING:rasterio._env:CPLE_AppDefined in dimension #0 (number_of_lines) is not a Latitude/Y dimension.\n",
      "WARNING:rasterio._env:CPLE_AppDefined in dimension #1 (number_of_pixels) is not a Longitude/X dimension.\n",
      "WARNING:rasterio._env:CPLE_AppDefined in dimension #0 (number_of_lines) is not a Latitude/Y dimension.\n",
      "WARNING:rasterio._env:CPLE_AppDefined in dimension #1 (number_of_pixels) is not a Longitude/X dimension.\n",
      "WARNING:rasterio._env:CPLE_AppDefined in dimension #0 (number_of_lines) is not a Latitude/Y dimension.\n",
      "WARNING:rasterio._env:CPLE_AppDefined in dimension #1 (number_of_pixels) is not a Longitude/X dimension.\n",
      "WARNING:rasterio._env:CPLE_AppDefined in dimension #0 (number_of_lines) is not a Latitude/Y dimension.\n",
      "WARNING:rasterio._env:CPLE_AppDefined in dimension #1 (number_of_pixels) is not a Longitude/X dimension.\n",
      "WARNING:rasterio._env:CPLE_AppDefined in dimension #0 (number_of_lines) is not a Latitude/Y dimension.\n",
      "WARNING:rasterio._env:CPLE_AppDefined in dimension #1 (number_of_pixels) is not a Longitude/X dimension.\n",
      "WARNING:rasterio._env:CPLE_AppDefined in dimension #0 (number_of_lines) is not a Latitude/Y dimension.\n",
      "WARNING:rasterio._env:CPLE_AppDefined in dimension #1 (number_of_pixels) is not a Longitude/X dimension.\n",
      "WARNING:rasterio._env:CPLE_AppDefined in dimension #0 (number_of_lines) is not a Latitude/Y dimension.\n",
      "WARNING:rasterio._env:CPLE_AppDefined in dimension #1 (number_of_pixels) is not a Longitude/X dimension.\n",
      "WARNING:rasterio._env:CPLE_AppDefined in dimension #0 (number_of_lines) is not a Latitude/Y dimension.\n",
      "WARNING:rasterio._env:CPLE_AppDefined in dimension #1 (number_of_pixels) is not a Longitude/X dimension.\n",
      "WARNING:rasterio._env:CPLE_AppDefined in dimension #0 (number_of_lines) is not a Latitude/Y dimension.\n",
      "WARNING:rasterio._env:CPLE_AppDefined in dimension #1 (number_of_pixels) is not a Longitude/X dimension.\n",
      "WARNING:rasterio._env:CPLE_AppDefined in dimension #0 (number_of_lines) is not a Latitude/Y dimension.\n",
      "WARNING:rasterio._env:CPLE_AppDefined in dimension #1 (number_of_pixels) is not a Longitude/X dimension.\n",
      "WARNING:rasterio._env:CPLE_AppDefined in dimension #0 (number_of_lines) is not a Latitude/Y dimension.\n",
      "WARNING:rasterio._env:CPLE_AppDefined in dimension #1 (number_of_pixels) is not a Longitude/X dimension.\n",
      "WARNING:rasterio._env:CPLE_AppDefined in dimension #0 (number_of_lines) is not a Latitude/Y dimension.\n",
      "WARNING:rasterio._env:CPLE_AppDefined in dimension #1 (number_of_pixels) is not a Longitude/X dimension.\n",
      "WARNING:rasterio._env:CPLE_AppDefined in dimension #0 (number_of_lines) is not a Latitude/Y dimension.\n",
      "WARNING:rasterio._env:CPLE_AppDefined in dimension #1 (number_of_pixels) is not a Longitude/X dimension.\n",
      "WARNING:rasterio._env:CPLE_AppDefined in dimension #0 (number_of_lines) is not a Latitude/Y dimension.\n",
      "WARNING:rasterio._env:CPLE_AppDefined in dimension #1 (number_of_pixels) is not a Longitude/X dimension.\n",
      "WARNING:rasterio._env:CPLE_AppDefined in dimension #0 (number_of_lines) is not a Latitude/Y dimension.\n",
      "WARNING:rasterio._env:CPLE_AppDefined in dimension #1 (number_of_pixels) is not a Longitude/X dimension.\n",
      "WARNING:rasterio._env:CPLE_AppDefined in dimension #0 (number_of_lines) is not a Latitude/Y dimension.\n",
      "WARNING:rasterio._env:CPLE_AppDefined in dimension #1 (number_of_pixels) is not a Longitude/X dimension.\n",
      "WARNING:rasterio._env:CPLE_AppDefined in dimension #0 (number_of_lines) is not a Latitude/Y dimension.\n",
      "WARNING:rasterio._env:CPLE_AppDefined in dimension #1 (number_of_pixels) is not a Longitude/X dimension.\n",
      "WARNING:rasterio._env:CPLE_AppDefined in dimension #0 (number_of_lines) is not a Latitude/Y dimension.\n",
      "WARNING:rasterio._env:CPLE_AppDefined in dimension #1 (number_of_pixels) is not a Longitude/X dimension.\n",
      "WARNING:rasterio._env:CPLE_AppDefined in dimension #0 (number_of_lines) is not a Latitude/Y dimension.\n",
      "WARNING:rasterio._env:CPLE_AppDefined in dimension #1 (number_of_pixels) is not a Longitude/X dimension.\n",
      "WARNING:rasterio._env:CPLE_AppDefined in dimension #0 (number_of_lines) is not a Latitude/Y dimension.\n",
      "WARNING:rasterio._env:CPLE_AppDefined in dimension #1 (number_of_pixels) is not a Longitude/X dimension.\n",
      "WARNING:rasterio._env:CPLE_AppDefined in dimension #0 (number_of_lines) is not a Latitude/Y dimension.\n",
      "WARNING:rasterio._env:CPLE_AppDefined in dimension #1 (number_of_pixels) is not a Longitude/X dimension.\n",
      "WARNING:rasterio._env:CPLE_AppDefined in dimension #0 (number_of_lines) is not a Latitude/Y dimension.\n",
      "WARNING:rasterio._env:CPLE_AppDefined in dimension #1 (number_of_pixels) is not a Longitude/X dimension.\n",
      "WARNING:rasterio._env:CPLE_AppDefined in dimension #0 (number_of_lines) is not a Latitude/Y dimension.\n",
      "WARNING:rasterio._env:CPLE_AppDefined in dimension #1 (number_of_pixels) is not a Longitude/X dimension.\n",
      "WARNING:rasterio._env:CPLE_AppDefined in dimension #0 (number_of_lines) is not a Latitude/Y dimension.\n",
      "WARNING:rasterio._env:CPLE_AppDefined in dimension #1 (number_of_pixels) is not a Longitude/X dimension.\n",
      "WARNING:rasterio._env:CPLE_AppDefined in dimension #0 (number_of_lines) is not a Latitude/Y dimension.\n",
      "WARNING:rasterio._env:CPLE_AppDefined in dimension #1 (number_of_pixels) is not a Longitude/X dimension.\n",
      "WARNING:rasterio._env:CPLE_AppDefined in dimension #0 (number_of_lines) is not a Latitude/Y dimension.\n",
      "WARNING:rasterio._env:CPLE_AppDefined in dimension #1 (number_of_pixels) is not a Longitude/X dimension.\n",
      "WARNING:rasterio._env:CPLE_AppDefined in dimension #0 (number_of_lines) is not a Latitude/Y dimension.\n",
      "WARNING:rasterio._env:CPLE_AppDefined in dimension #1 (number_of_pixels) is not a Longitude/X dimension.\n",
      "WARNING:rasterio._env:CPLE_AppDefined in dimension #0 (number_of_lines) is not a Latitude/Y dimension.\n",
      "WARNING:rasterio._env:CPLE_AppDefined in dimension #1 (number_of_pixels) is not a Longitude/X dimension.\n",
      "WARNING:rasterio._env:CPLE_AppDefined in dimension #0 (number_of_lines) is not a Latitude/Y dimension.\n",
      "WARNING:rasterio._env:CPLE_AppDefined in dimension #1 (number_of_pixels) is not a Longitude/X dimension.\n",
      "WARNING:rasterio._env:CPLE_AppDefined in dimension #0 (number_of_lines) is not a Latitude/Y dimension.\n",
      "WARNING:rasterio._env:CPLE_AppDefined in dimension #1 (number_of_pixels) is not a Longitude/X dimension.\n",
      "WARNING:rasterio._env:CPLE_AppDefined in dimension #0 (number_of_lines) is not a Latitude/Y dimension.\n",
      "WARNING:rasterio._env:CPLE_AppDefined in dimension #1 (number_of_pixels) is not a Longitude/X dimension.\n",
      "WARNING:rasterio._env:CPLE_AppDefined in dimension #0 (number_of_lines) is not a Latitude/Y dimension.\n",
      "WARNING:rasterio._env:CPLE_AppDefined in dimension #1 (number_of_pixels) is not a Longitude/X dimension.\n",
      "WARNING:rasterio._env:CPLE_AppDefined in dimension #0 (number_of_lines) is not a Latitude/Y dimension.\n",
      "WARNING:rasterio._env:CPLE_AppDefined in dimension #1 (number_of_pixels) is not a Longitude/X dimension.\n",
      "WARNING:rasterio._env:CPLE_AppDefined in dimension #0 (number_of_lines) is not a Latitude/Y dimension.\n",
      "WARNING:rasterio._env:CPLE_AppDefined in dimension #1 (number_of_pixels) is not a Longitude/X dimension.\n",
      "WARNING:rasterio._env:CPLE_AppDefined in dimension #0 (number_of_lines) is not a Latitude/Y dimension.\n",
      "WARNING:rasterio._env:CPLE_AppDefined in dimension #1 (number_of_pixels) is not a Longitude/X dimension.\n",
      "WARNING:rasterio._env:CPLE_AppDefined in dimension #0 (number_of_lines) is not a Latitude/Y dimension.\n"
     ]
    },
    {
     "name": "stdout",
     "output_type": "stream",
     "text": [
      "2023-04-24 23:24:58,821 c2s.external.stac.viirs_375_toa_processor viirs_375_toa_processor.py:86 DEBUG: Does not cross antimeridian\n",
      "2023-04-24 23:24:58,821 c2s.external.stac.viirs_375_toa_processor viirs_375_toa_processor.py:86 DEBUG: Does not cross antimeridian\n"
     ]
    },
    {
     "name": "stderr",
     "output_type": "stream",
     "text": [
      "DEBUG:c2s.external.stac.viirs_375_toa_processor:Does not cross antimeridian\n",
      "WARNING:rasterio._env:CPLE_AppDefined in dimension #1 (number_of_pixels) is not a Longitude/X dimension.\n",
      "WARNING:rasterio._env:CPLE_AppDefined in dimension #0 (number_of_lines) is not a Latitude/Y dimension.\n",
      "WARNING:rasterio._env:CPLE_AppDefined in dimension #1 (number_of_pixels) is not a Longitude/X dimension.\n",
      "WARNING:rasterio._env:CPLE_AppDefined in dimension #0 (number_of_lines) is not a Latitude/Y dimension.\n",
      "WARNING:rasterio._env:CPLE_AppDefined in dimension #1 (number_of_pixels) is not a Longitude/X dimension.\n",
      "WARNING:rasterio._env:CPLE_AppDefined in dimension #0 (number_of_lines) is not a Latitude/Y dimension.\n",
      "WARNING:rasterio._env:CPLE_AppDefined in dimension #1 (number_of_pixels) is not a Longitude/X dimension.\n",
      "WARNING:rasterio._env:CPLE_AppDefined in dimension #0 (number_of_lines) is not a Latitude/Y dimension.\n",
      "WARNING:rasterio._env:CPLE_AppDefined in dimension #1 (number_of_pixels) is not a Longitude/X dimension.\n",
      "WARNING:rasterio._env:CPLE_AppDefined in dimension #0 (number_of_lines) is not a Latitude/Y dimension.\n",
      "WARNING:rasterio._env:CPLE_AppDefined in dimension #1 (number_of_pixels) is not a Longitude/X dimension.\n",
      "WARNING:rasterio._env:CPLE_AppDefined in dimension #0 (number_of_lines) is not a Latitude/Y dimension.\n",
      "WARNING:rasterio._env:CPLE_AppDefined in dimension #1 (number_of_pixels) is not a Longitude/X dimension.\n",
      "WARNING:rasterio._env:CPLE_AppDefined in dimension #0 (number_of_lines) is not a Latitude/Y dimension.\n",
      "WARNING:rasterio._env:CPLE_AppDefined in dimension #1 (number_of_pixels) is not a Longitude/X dimension.\n",
      "WARNING:rasterio._env:CPLE_AppDefined in dimension #0 (number_of_lines) is not a Latitude/Y dimension.\n",
      "WARNING:rasterio._env:CPLE_AppDefined in dimension #1 (number_of_pixels) is not a Longitude/X dimension.\n",
      "WARNING:rasterio._env:CPLE_AppDefined in dimension #0 (number_of_lines) is not a Latitude/Y dimension.\n",
      "WARNING:rasterio._env:CPLE_AppDefined in dimension #1 (number_of_pixels) is not a Longitude/X dimension.\n",
      "WARNING:rasterio._env:CPLE_AppDefined in dimension #0 (number_of_lines) is not a Latitude/Y dimension.\n",
      "WARNING:rasterio._env:CPLE_AppDefined in dimension #1 (number_of_pixels) is not a Longitude/X dimension.\n",
      "WARNING:rasterio._env:CPLE_AppDefined in dimension #0 (number_of_lines) is not a Latitude/Y dimension.\n",
      "WARNING:rasterio._env:CPLE_AppDefined in dimension #1 (number_of_pixels) is not a Longitude/X dimension.\n",
      "WARNING:rasterio._env:CPLE_AppDefined in dimension #0 (number_of_lines) is not a Latitude/Y dimension.\n",
      "WARNING:rasterio._env:CPLE_AppDefined in dimension #1 (number_of_pixels) is not a Longitude/X dimension.\n",
      "WARNING:rasterio._env:CPLE_AppDefined in dimension #0 (number_of_lines) is not a Latitude/Y dimension.\n",
      "WARNING:rasterio._env:CPLE_AppDefined in dimension #1 (number_of_pixels) is not a Longitude/X dimension.\n",
      "WARNING:rasterio._env:CPLE_AppDefined in dimension #0 (number_of_lines) is not a Latitude/Y dimension.\n",
      "WARNING:rasterio._env:CPLE_AppDefined in dimension #1 (number_of_pixels) is not a Longitude/X dimension.\n",
      "WARNING:rasterio._env:CPLE_AppDefined in dimension #0 (number_of_lines) is not a Latitude/Y dimension.\n"
     ]
    }
   ],
   "source": [
    "proc = ViirsProcessor375(\n",
    "    \"/home/nick/C2S-Python-API/notebooks/data/VNP02.A2023001.1942.002/\",\n",
    "    \"/home/nick/C2S-Python-API/notebooks/data/VNP02.A2023001.1942.002/\"\n",
    ")"
   ]
  },
  {
   "cell_type": "code",
   "execution_count": 125,
   "id": "cf70c095-0194-4801-948f-6b701222db07",
   "metadata": {
    "collapsed": true,
    "jupyter": {
     "outputs_hidden": true
    },
    "tags": []
   },
   "outputs": [
    {
     "name": "stdout",
     "output_type": "stream",
     "text": [
      "2023-04-24 23:25:04,104 c2s.external.stac.viirs_375_toa_processor viirs_375_toa_processor.py:460 DEBUG: Processing Cloud_Mask to tif.\n",
      "2023-04-24 23:25:04,104 c2s.external.stac.viirs_375_toa_processor viirs_375_toa_processor.py:460 DEBUG: Processing Cloud_Mask to tif.\n"
     ]
    },
    {
     "name": "stderr",
     "output_type": "stream",
     "text": [
      "DEBUG:c2s.external.stac.viirs_375_toa_processor:Processing Cloud_Mask to tif.\n"
     ]
    },
    {
     "name": "stdout",
     "output_type": "stream",
     "text": [
      "2023-04-24 23:25:04,113 c2s.external.stac.viirs_375_toa_processor viirs_375_toa_processor.py:529 DEBUG: meta_dict={'X_DATASET': '/home/nick/C2S-Python-API/notebooks/data/VNP02.A2023001.1942.002//_lon_750.vrt', 'X_BAND': '1', 'Y_DATASET': '/home/nick/C2S-Python-API/notebooks/data/VNP02.A2023001.1942.002//_lat_750.vrt', 'Y_BAND': '1', 'PIXEL_OFFSET': '0', 'LINE_OFFSET': '0', 'PIXEL_STEP': '1', 'LINE_STEP': '1'}\n",
      "2023-04-24 23:25:04,113 c2s.external.stac.viirs_375_toa_processor viirs_375_toa_processor.py:529 DEBUG: meta_dict={'X_DATASET': '/home/nick/C2S-Python-API/notebooks/data/VNP02.A2023001.1942.002//_lon_750.vrt', 'X_BAND': '1', 'Y_DATASET': '/home/nick/C2S-Python-API/notebooks/data/VNP02.A2023001.1942.002//_lat_750.vrt', 'Y_BAND': '1', 'PIXEL_OFFSET': '0', 'LINE_OFFSET': '0', 'PIXEL_STEP': '1', 'LINE_STEP': '1'}\n"
     ]
    },
    {
     "name": "stderr",
     "output_type": "stream",
     "text": [
      "DEBUG:c2s.external.stac.viirs_375_toa_processor:meta_dict={'X_DATASET': '/home/nick/C2S-Python-API/notebooks/data/VNP02.A2023001.1942.002//_lon_750.vrt', 'X_BAND': '1', 'Y_DATASET': '/home/nick/C2S-Python-API/notebooks/data/VNP02.A2023001.1942.002//_lat_750.vrt', 'Y_BAND': '1', 'PIXEL_OFFSET': '0', 'LINE_OFFSET': '0', 'PIXEL_STEP': '1', 'LINE_STEP': '1'}\n"
     ]
    },
    {
     "name": "stdout",
     "output_type": "stream",
     "text": [
      "2023-04-24 23:25:04,117 c2s.external.stac.viirs_375_toa_processor viirs_375_toa_processor.py:543 DEBUG: starting warp Cloud_Mask\n",
      "2023-04-24 23:25:04,117 c2s.external.stac.viirs_375_toa_processor viirs_375_toa_processor.py:543 DEBUG: starting warp Cloud_Mask\n"
     ]
    },
    {
     "name": "stderr",
     "output_type": "stream",
     "text": [
      "DEBUG:c2s.external.stac.viirs_375_toa_processor:starting warp Cloud_Mask\n"
     ]
    },
    {
     "name": "stdout",
     "output_type": "stream",
     "text": [
      "2023-04-24 23:25:26,223 c2s.external.stac.viirs_375_toa_processor viirs_375_toa_processor.py:565 DEBUG: finish warp: Cloud_Mask\n",
      "2023-04-24 23:25:26,223 c2s.external.stac.viirs_375_toa_processor viirs_375_toa_processor.py:565 DEBUG: finish warp: Cloud_Mask\n"
     ]
    },
    {
     "name": "stderr",
     "output_type": "stream",
     "text": [
      "DEBUG:c2s.external.stac.viirs_375_toa_processor:finish warp: Cloud_Mask\n"
     ]
    },
    {
     "name": "stdout",
     "output_type": "stream",
     "text": [
      "2023-04-24 23:25:26,226 c2s.external.stac.viirs_375_toa_processor viirs_375_toa_processor.py:671 DEBUG: finish warp: Cloud_Mask\n",
      "2023-04-24 23:25:26,226 c2s.external.stac.viirs_375_toa_processor viirs_375_toa_processor.py:671 DEBUG: finish warp: Cloud_Mask\n"
     ]
    },
    {
     "name": "stderr",
     "output_type": "stream",
     "text": [
      "DEBUG:c2s.external.stac.viirs_375_toa_processor:finish warp: Cloud_Mask\n"
     ]
    },
    {
     "name": "stdout",
     "output_type": "stream",
     "text": [
      "2023-04-24 23:25:26,232 c2s.external.stac.viirs_375_toa_processor viirs_375_toa_processor.py:460 DEBUG: Processing I01 to tif.\n",
      "2023-04-24 23:25:26,232 c2s.external.stac.viirs_375_toa_processor viirs_375_toa_processor.py:460 DEBUG: Processing I01 to tif.\n"
     ]
    },
    {
     "name": "stderr",
     "output_type": "stream",
     "text": [
      "DEBUG:c2s.external.stac.viirs_375_toa_processor:Processing I01 to tif.\n"
     ]
    },
    {
     "name": "stdout",
     "output_type": "stream",
     "text": [
      "2023-04-24 23:25:26,237 c2s.external.stac.viirs_375_toa_processor viirs_375_toa_processor.py:529 DEBUG: meta_dict={'X_DATASET': '/home/nick/C2S-Python-API/notebooks/data/VNP02.A2023001.1942.002//_lon_375.vrt', 'X_BAND': '1', 'Y_DATASET': '/home/nick/C2S-Python-API/notebooks/data/VNP02.A2023001.1942.002//_lat_375.vrt', 'Y_BAND': '1', 'PIXEL_OFFSET': '0', 'LINE_OFFSET': '0', 'PIXEL_STEP': '1', 'LINE_STEP': '1'}\n",
      "2023-04-24 23:25:26,237 c2s.external.stac.viirs_375_toa_processor viirs_375_toa_processor.py:529 DEBUG: meta_dict={'X_DATASET': '/home/nick/C2S-Python-API/notebooks/data/VNP02.A2023001.1942.002//_lon_375.vrt', 'X_BAND': '1', 'Y_DATASET': '/home/nick/C2S-Python-API/notebooks/data/VNP02.A2023001.1942.002//_lat_375.vrt', 'Y_BAND': '1', 'PIXEL_OFFSET': '0', 'LINE_OFFSET': '0', 'PIXEL_STEP': '1', 'LINE_STEP': '1'}\n"
     ]
    },
    {
     "name": "stderr",
     "output_type": "stream",
     "text": [
      "DEBUG:c2s.external.stac.viirs_375_toa_processor:meta_dict={'X_DATASET': '/home/nick/C2S-Python-API/notebooks/data/VNP02.A2023001.1942.002//_lon_375.vrt', 'X_BAND': '1', 'Y_DATASET': '/home/nick/C2S-Python-API/notebooks/data/VNP02.A2023001.1942.002//_lat_375.vrt', 'Y_BAND': '1', 'PIXEL_OFFSET': '0', 'LINE_OFFSET': '0', 'PIXEL_STEP': '1', 'LINE_STEP': '1'}\n"
     ]
    },
    {
     "name": "stdout",
     "output_type": "stream",
     "text": [
      "2023-04-24 23:25:26,242 c2s.external.stac.viirs_375_toa_processor viirs_375_toa_processor.py:543 DEBUG: starting warp I01\n",
      "2023-04-24 23:25:26,242 c2s.external.stac.viirs_375_toa_processor viirs_375_toa_processor.py:543 DEBUG: starting warp I01\n"
     ]
    },
    {
     "name": "stderr",
     "output_type": "stream",
     "text": [
      "DEBUG:c2s.external.stac.viirs_375_toa_processor:starting warp I01\n"
     ]
    },
    {
     "name": "stdout",
     "output_type": "stream",
     "text": [
      "2023-04-24 23:27:03,731 c2s.external.stac.viirs_375_toa_processor viirs_375_toa_processor.py:565 DEBUG: finish warp: I01\n",
      "2023-04-24 23:27:03,731 c2s.external.stac.viirs_375_toa_processor viirs_375_toa_processor.py:565 DEBUG: finish warp: I01\n"
     ]
    },
    {
     "name": "stderr",
     "output_type": "stream",
     "text": [
      "ERROR 1: Too many points (529 out of 529) failed to transform, unable to compute output bounds.\n",
      "DEBUG:c2s.external.stac.viirs_375_toa_processor:finish warp: I01\n"
     ]
    },
    {
     "name": "stdout",
     "output_type": "stream",
     "text": [
      "2023-04-24 23:27:03,733 c2s.external.stac.viirs_375_toa_processor viirs_375_toa_processor.py:671 DEBUG: finish warp: I01\n",
      "2023-04-24 23:27:03,733 c2s.external.stac.viirs_375_toa_processor viirs_375_toa_processor.py:671 DEBUG: finish warp: I01\n"
     ]
    },
    {
     "name": "stderr",
     "output_type": "stream",
     "text": [
      "DEBUG:c2s.external.stac.viirs_375_toa_processor:finish warp: I01\n"
     ]
    },
    {
     "name": "stdout",
     "output_type": "stream",
     "text": [
      "2023-04-24 23:27:03,736 c2s.external.stac.viirs_375_toa_processor viirs_375_toa_processor.py:460 DEBUG: Processing I02 to tif.\n",
      "2023-04-24 23:27:03,736 c2s.external.stac.viirs_375_toa_processor viirs_375_toa_processor.py:460 DEBUG: Processing I02 to tif.\n"
     ]
    },
    {
     "name": "stderr",
     "output_type": "stream",
     "text": [
      "DEBUG:c2s.external.stac.viirs_375_toa_processor:Processing I02 to tif.\n"
     ]
    },
    {
     "name": "stdout",
     "output_type": "stream",
     "text": [
      "2023-04-24 23:27:03,740 c2s.external.stac.viirs_375_toa_processor viirs_375_toa_processor.py:529 DEBUG: meta_dict={'X_DATASET': '/home/nick/C2S-Python-API/notebooks/data/VNP02.A2023001.1942.002//_lon_375.vrt', 'X_BAND': '1', 'Y_DATASET': '/home/nick/C2S-Python-API/notebooks/data/VNP02.A2023001.1942.002//_lat_375.vrt', 'Y_BAND': '1', 'PIXEL_OFFSET': '0', 'LINE_OFFSET': '0', 'PIXEL_STEP': '1', 'LINE_STEP': '1'}\n",
      "2023-04-24 23:27:03,740 c2s.external.stac.viirs_375_toa_processor viirs_375_toa_processor.py:529 DEBUG: meta_dict={'X_DATASET': '/home/nick/C2S-Python-API/notebooks/data/VNP02.A2023001.1942.002//_lon_375.vrt', 'X_BAND': '1', 'Y_DATASET': '/home/nick/C2S-Python-API/notebooks/data/VNP02.A2023001.1942.002//_lat_375.vrt', 'Y_BAND': '1', 'PIXEL_OFFSET': '0', 'LINE_OFFSET': '0', 'PIXEL_STEP': '1', 'LINE_STEP': '1'}\n"
     ]
    },
    {
     "name": "stderr",
     "output_type": "stream",
     "text": [
      "DEBUG:c2s.external.stac.viirs_375_toa_processor:meta_dict={'X_DATASET': '/home/nick/C2S-Python-API/notebooks/data/VNP02.A2023001.1942.002//_lon_375.vrt', 'X_BAND': '1', 'Y_DATASET': '/home/nick/C2S-Python-API/notebooks/data/VNP02.A2023001.1942.002//_lat_375.vrt', 'Y_BAND': '1', 'PIXEL_OFFSET': '0', 'LINE_OFFSET': '0', 'PIXEL_STEP': '1', 'LINE_STEP': '1'}\n"
     ]
    },
    {
     "name": "stdout",
     "output_type": "stream",
     "text": [
      "2023-04-24 23:27:03,744 c2s.external.stac.viirs_375_toa_processor viirs_375_toa_processor.py:543 DEBUG: starting warp I02\n",
      "2023-04-24 23:27:03,744 c2s.external.stac.viirs_375_toa_processor viirs_375_toa_processor.py:543 DEBUG: starting warp I02\n"
     ]
    },
    {
     "name": "stderr",
     "output_type": "stream",
     "text": [
      "DEBUG:c2s.external.stac.viirs_375_toa_processor:starting warp I02\n"
     ]
    },
    {
     "name": "stdout",
     "output_type": "stream",
     "text": [
      "2023-04-24 23:28:41,461 c2s.external.stac.viirs_375_toa_processor viirs_375_toa_processor.py:565 DEBUG: finish warp: I02\n",
      "2023-04-24 23:28:41,461 c2s.external.stac.viirs_375_toa_processor viirs_375_toa_processor.py:565 DEBUG: finish warp: I02\n"
     ]
    },
    {
     "name": "stderr",
     "output_type": "stream",
     "text": [
      "ERROR 1: Too many points (529 out of 529) failed to transform, unable to compute output bounds.\n",
      "DEBUG:c2s.external.stac.viirs_375_toa_processor:finish warp: I02\n"
     ]
    },
    {
     "name": "stdout",
     "output_type": "stream",
     "text": [
      "2023-04-24 23:28:41,464 c2s.external.stac.viirs_375_toa_processor viirs_375_toa_processor.py:671 DEBUG: finish warp: I02\n",
      "2023-04-24 23:28:41,464 c2s.external.stac.viirs_375_toa_processor viirs_375_toa_processor.py:671 DEBUG: finish warp: I02\n"
     ]
    },
    {
     "name": "stderr",
     "output_type": "stream",
     "text": [
      "DEBUG:c2s.external.stac.viirs_375_toa_processor:finish warp: I02\n"
     ]
    },
    {
     "name": "stdout",
     "output_type": "stream",
     "text": [
      "2023-04-24 23:28:41,467 c2s.external.stac.viirs_375_toa_processor viirs_375_toa_processor.py:460 DEBUG: Processing I03 to tif.\n",
      "2023-04-24 23:28:41,467 c2s.external.stac.viirs_375_toa_processor viirs_375_toa_processor.py:460 DEBUG: Processing I03 to tif.\n"
     ]
    },
    {
     "name": "stderr",
     "output_type": "stream",
     "text": [
      "DEBUG:c2s.external.stac.viirs_375_toa_processor:Processing I03 to tif.\n"
     ]
    },
    {
     "name": "stdout",
     "output_type": "stream",
     "text": [
      "2023-04-24 23:28:41,470 c2s.external.stac.viirs_375_toa_processor viirs_375_toa_processor.py:529 DEBUG: meta_dict={'X_DATASET': '/home/nick/C2S-Python-API/notebooks/data/VNP02.A2023001.1942.002//_lon_375.vrt', 'X_BAND': '1', 'Y_DATASET': '/home/nick/C2S-Python-API/notebooks/data/VNP02.A2023001.1942.002//_lat_375.vrt', 'Y_BAND': '1', 'PIXEL_OFFSET': '0', 'LINE_OFFSET': '0', 'PIXEL_STEP': '1', 'LINE_STEP': '1'}\n",
      "2023-04-24 23:28:41,470 c2s.external.stac.viirs_375_toa_processor viirs_375_toa_processor.py:529 DEBUG: meta_dict={'X_DATASET': '/home/nick/C2S-Python-API/notebooks/data/VNP02.A2023001.1942.002//_lon_375.vrt', 'X_BAND': '1', 'Y_DATASET': '/home/nick/C2S-Python-API/notebooks/data/VNP02.A2023001.1942.002//_lat_375.vrt', 'Y_BAND': '1', 'PIXEL_OFFSET': '0', 'LINE_OFFSET': '0', 'PIXEL_STEP': '1', 'LINE_STEP': '1'}\n"
     ]
    },
    {
     "name": "stderr",
     "output_type": "stream",
     "text": [
      "DEBUG:c2s.external.stac.viirs_375_toa_processor:meta_dict={'X_DATASET': '/home/nick/C2S-Python-API/notebooks/data/VNP02.A2023001.1942.002//_lon_375.vrt', 'X_BAND': '1', 'Y_DATASET': '/home/nick/C2S-Python-API/notebooks/data/VNP02.A2023001.1942.002//_lat_375.vrt', 'Y_BAND': '1', 'PIXEL_OFFSET': '0', 'LINE_OFFSET': '0', 'PIXEL_STEP': '1', 'LINE_STEP': '1'}\n"
     ]
    },
    {
     "name": "stdout",
     "output_type": "stream",
     "text": [
      "2023-04-24 23:28:41,473 c2s.external.stac.viirs_375_toa_processor viirs_375_toa_processor.py:543 DEBUG: starting warp I03\n",
      "2023-04-24 23:28:41,473 c2s.external.stac.viirs_375_toa_processor viirs_375_toa_processor.py:543 DEBUG: starting warp I03\n"
     ]
    },
    {
     "name": "stderr",
     "output_type": "stream",
     "text": [
      "DEBUG:c2s.external.stac.viirs_375_toa_processor:starting warp I03\n"
     ]
    },
    {
     "name": "stdout",
     "output_type": "stream",
     "text": [
      "2023-04-24 23:30:19,116 c2s.external.stac.viirs_375_toa_processor viirs_375_toa_processor.py:565 DEBUG: finish warp: I03\n",
      "2023-04-24 23:30:19,116 c2s.external.stac.viirs_375_toa_processor viirs_375_toa_processor.py:565 DEBUG: finish warp: I03\n"
     ]
    },
    {
     "name": "stderr",
     "output_type": "stream",
     "text": [
      "ERROR 1: Too many points (529 out of 529) failed to transform, unable to compute output bounds.\n",
      "DEBUG:c2s.external.stac.viirs_375_toa_processor:finish warp: I03\n"
     ]
    },
    {
     "name": "stdout",
     "output_type": "stream",
     "text": [
      "2023-04-24 23:30:19,119 c2s.external.stac.viirs_375_toa_processor viirs_375_toa_processor.py:671 DEBUG: finish warp: I03\n",
      "2023-04-24 23:30:19,119 c2s.external.stac.viirs_375_toa_processor viirs_375_toa_processor.py:671 DEBUG: finish warp: I03\n"
     ]
    },
    {
     "name": "stderr",
     "output_type": "stream",
     "text": [
      "DEBUG:c2s.external.stac.viirs_375_toa_processor:finish warp: I03\n"
     ]
    },
    {
     "name": "stdout",
     "output_type": "stream",
     "text": [
      "2023-04-24 23:30:19,122 c2s.external.stac.viirs_375_toa_processor viirs_375_toa_processor.py:460 DEBUG: Processing M03 to tif.\n",
      "2023-04-24 23:30:19,122 c2s.external.stac.viirs_375_toa_processor viirs_375_toa_processor.py:460 DEBUG: Processing M03 to tif.\n"
     ]
    },
    {
     "name": "stderr",
     "output_type": "stream",
     "text": [
      "DEBUG:c2s.external.stac.viirs_375_toa_processor:Processing M03 to tif.\n"
     ]
    },
    {
     "name": "stdout",
     "output_type": "stream",
     "text": [
      "2023-04-24 23:30:19,127 c2s.external.stac.viirs_375_toa_processor viirs_375_toa_processor.py:529 DEBUG: meta_dict={'X_DATASET': '/home/nick/C2S-Python-API/notebooks/data/VNP02.A2023001.1942.002//_lon_750.vrt', 'X_BAND': '1', 'Y_DATASET': '/home/nick/C2S-Python-API/notebooks/data/VNP02.A2023001.1942.002//_lat_750.vrt', 'Y_BAND': '1', 'PIXEL_OFFSET': '0', 'LINE_OFFSET': '0', 'PIXEL_STEP': '1', 'LINE_STEP': '1'}\n",
      "2023-04-24 23:30:19,127 c2s.external.stac.viirs_375_toa_processor viirs_375_toa_processor.py:529 DEBUG: meta_dict={'X_DATASET': '/home/nick/C2S-Python-API/notebooks/data/VNP02.A2023001.1942.002//_lon_750.vrt', 'X_BAND': '1', 'Y_DATASET': '/home/nick/C2S-Python-API/notebooks/data/VNP02.A2023001.1942.002//_lat_750.vrt', 'Y_BAND': '1', 'PIXEL_OFFSET': '0', 'LINE_OFFSET': '0', 'PIXEL_STEP': '1', 'LINE_STEP': '1'}\n"
     ]
    },
    {
     "name": "stderr",
     "output_type": "stream",
     "text": [
      "DEBUG:c2s.external.stac.viirs_375_toa_processor:meta_dict={'X_DATASET': '/home/nick/C2S-Python-API/notebooks/data/VNP02.A2023001.1942.002//_lon_750.vrt', 'X_BAND': '1', 'Y_DATASET': '/home/nick/C2S-Python-API/notebooks/data/VNP02.A2023001.1942.002//_lat_750.vrt', 'Y_BAND': '1', 'PIXEL_OFFSET': '0', 'LINE_OFFSET': '0', 'PIXEL_STEP': '1', 'LINE_STEP': '1'}\n"
     ]
    },
    {
     "name": "stdout",
     "output_type": "stream",
     "text": [
      "2023-04-24 23:30:19,131 c2s.external.stac.viirs_375_toa_processor viirs_375_toa_processor.py:543 DEBUG: starting warp M03\n",
      "2023-04-24 23:30:19,131 c2s.external.stac.viirs_375_toa_processor viirs_375_toa_processor.py:543 DEBUG: starting warp M03\n"
     ]
    },
    {
     "name": "stderr",
     "output_type": "stream",
     "text": [
      "DEBUG:c2s.external.stac.viirs_375_toa_processor:starting warp M03\n"
     ]
    },
    {
     "name": "stdout",
     "output_type": "stream",
     "text": [
      "2023-04-24 23:30:35,314 c2s.external.stac.viirs_375_toa_processor viirs_375_toa_processor.py:565 DEBUG: finish warp: M03\n",
      "2023-04-24 23:30:35,314 c2s.external.stac.viirs_375_toa_processor viirs_375_toa_processor.py:565 DEBUG: finish warp: M03\n"
     ]
    },
    {
     "name": "stderr",
     "output_type": "stream",
     "text": [
      "DEBUG:c2s.external.stac.viirs_375_toa_processor:finish warp: M03\n"
     ]
    },
    {
     "name": "stdout",
     "output_type": "stream",
     "text": [
      "2023-04-24 23:30:35,317 c2s.external.stac.viirs_375_toa_processor viirs_375_toa_processor.py:671 DEBUG: finish warp: M03\n",
      "2023-04-24 23:30:35,317 c2s.external.stac.viirs_375_toa_processor viirs_375_toa_processor.py:671 DEBUG: finish warp: M03\n"
     ]
    },
    {
     "name": "stderr",
     "output_type": "stream",
     "text": [
      "DEBUG:c2s.external.stac.viirs_375_toa_processor:finish warp: M03\n"
     ]
    },
    {
     "name": "stdout",
     "output_type": "stream",
     "text": [
      "2023-04-24 23:30:35,320 c2s.external.stac.viirs_375_toa_processor viirs_375_toa_processor.py:460 DEBUG: Processing M04 to tif.\n",
      "2023-04-24 23:30:35,320 c2s.external.stac.viirs_375_toa_processor viirs_375_toa_processor.py:460 DEBUG: Processing M04 to tif.\n"
     ]
    },
    {
     "name": "stderr",
     "output_type": "stream",
     "text": [
      "DEBUG:c2s.external.stac.viirs_375_toa_processor:Processing M04 to tif.\n"
     ]
    },
    {
     "name": "stdout",
     "output_type": "stream",
     "text": [
      "2023-04-24 23:30:35,325 c2s.external.stac.viirs_375_toa_processor viirs_375_toa_processor.py:529 DEBUG: meta_dict={'X_DATASET': '/home/nick/C2S-Python-API/notebooks/data/VNP02.A2023001.1942.002//_lon_750.vrt', 'X_BAND': '1', 'Y_DATASET': '/home/nick/C2S-Python-API/notebooks/data/VNP02.A2023001.1942.002//_lat_750.vrt', 'Y_BAND': '1', 'PIXEL_OFFSET': '0', 'LINE_OFFSET': '0', 'PIXEL_STEP': '1', 'LINE_STEP': '1'}\n",
      "2023-04-24 23:30:35,325 c2s.external.stac.viirs_375_toa_processor viirs_375_toa_processor.py:529 DEBUG: meta_dict={'X_DATASET': '/home/nick/C2S-Python-API/notebooks/data/VNP02.A2023001.1942.002//_lon_750.vrt', 'X_BAND': '1', 'Y_DATASET': '/home/nick/C2S-Python-API/notebooks/data/VNP02.A2023001.1942.002//_lat_750.vrt', 'Y_BAND': '1', 'PIXEL_OFFSET': '0', 'LINE_OFFSET': '0', 'PIXEL_STEP': '1', 'LINE_STEP': '1'}\n"
     ]
    },
    {
     "name": "stderr",
     "output_type": "stream",
     "text": [
      "DEBUG:c2s.external.stac.viirs_375_toa_processor:meta_dict={'X_DATASET': '/home/nick/C2S-Python-API/notebooks/data/VNP02.A2023001.1942.002//_lon_750.vrt', 'X_BAND': '1', 'Y_DATASET': '/home/nick/C2S-Python-API/notebooks/data/VNP02.A2023001.1942.002//_lat_750.vrt', 'Y_BAND': '1', 'PIXEL_OFFSET': '0', 'LINE_OFFSET': '0', 'PIXEL_STEP': '1', 'LINE_STEP': '1'}\n"
     ]
    },
    {
     "name": "stdout",
     "output_type": "stream",
     "text": [
      "2023-04-24 23:30:35,328 c2s.external.stac.viirs_375_toa_processor viirs_375_toa_processor.py:543 DEBUG: starting warp M04\n",
      "2023-04-24 23:30:35,328 c2s.external.stac.viirs_375_toa_processor viirs_375_toa_processor.py:543 DEBUG: starting warp M04\n"
     ]
    },
    {
     "name": "stderr",
     "output_type": "stream",
     "text": [
      "DEBUG:c2s.external.stac.viirs_375_toa_processor:starting warp M04\n"
     ]
    },
    {
     "name": "stdout",
     "output_type": "stream",
     "text": [
      "2023-04-24 23:30:51,529 c2s.external.stac.viirs_375_toa_processor viirs_375_toa_processor.py:565 DEBUG: finish warp: M04\n",
      "2023-04-24 23:30:51,529 c2s.external.stac.viirs_375_toa_processor viirs_375_toa_processor.py:565 DEBUG: finish warp: M04\n"
     ]
    },
    {
     "name": "stderr",
     "output_type": "stream",
     "text": [
      "DEBUG:c2s.external.stac.viirs_375_toa_processor:finish warp: M04\n"
     ]
    },
    {
     "name": "stdout",
     "output_type": "stream",
     "text": [
      "2023-04-24 23:30:51,531 c2s.external.stac.viirs_375_toa_processor viirs_375_toa_processor.py:671 DEBUG: finish warp: M04\n",
      "2023-04-24 23:30:51,531 c2s.external.stac.viirs_375_toa_processor viirs_375_toa_processor.py:671 DEBUG: finish warp: M04\n"
     ]
    },
    {
     "name": "stderr",
     "output_type": "stream",
     "text": [
      "DEBUG:c2s.external.stac.viirs_375_toa_processor:finish warp: M04\n"
     ]
    },
    {
     "name": "stdout",
     "output_type": "stream",
     "text": [
      "2023-04-24 23:30:51,533 c2s.external.stac.viirs_375_toa_processor viirs_375_toa_processor.py:460 DEBUG: Processing M08 to tif.\n",
      "2023-04-24 23:30:51,533 c2s.external.stac.viirs_375_toa_processor viirs_375_toa_processor.py:460 DEBUG: Processing M08 to tif.\n"
     ]
    },
    {
     "name": "stderr",
     "output_type": "stream",
     "text": [
      "DEBUG:c2s.external.stac.viirs_375_toa_processor:Processing M08 to tif.\n"
     ]
    },
    {
     "name": "stdout",
     "output_type": "stream",
     "text": [
      "2023-04-24 23:30:51,536 c2s.external.stac.viirs_375_toa_processor viirs_375_toa_processor.py:529 DEBUG: meta_dict={'X_DATASET': '/home/nick/C2S-Python-API/notebooks/data/VNP02.A2023001.1942.002//_lon_750.vrt', 'X_BAND': '1', 'Y_DATASET': '/home/nick/C2S-Python-API/notebooks/data/VNP02.A2023001.1942.002//_lat_750.vrt', 'Y_BAND': '1', 'PIXEL_OFFSET': '0', 'LINE_OFFSET': '0', 'PIXEL_STEP': '1', 'LINE_STEP': '1'}\n",
      "2023-04-24 23:30:51,536 c2s.external.stac.viirs_375_toa_processor viirs_375_toa_processor.py:529 DEBUG: meta_dict={'X_DATASET': '/home/nick/C2S-Python-API/notebooks/data/VNP02.A2023001.1942.002//_lon_750.vrt', 'X_BAND': '1', 'Y_DATASET': '/home/nick/C2S-Python-API/notebooks/data/VNP02.A2023001.1942.002//_lat_750.vrt', 'Y_BAND': '1', 'PIXEL_OFFSET': '0', 'LINE_OFFSET': '0', 'PIXEL_STEP': '1', 'LINE_STEP': '1'}\n"
     ]
    },
    {
     "name": "stderr",
     "output_type": "stream",
     "text": [
      "DEBUG:c2s.external.stac.viirs_375_toa_processor:meta_dict={'X_DATASET': '/home/nick/C2S-Python-API/notebooks/data/VNP02.A2023001.1942.002//_lon_750.vrt', 'X_BAND': '1', 'Y_DATASET': '/home/nick/C2S-Python-API/notebooks/data/VNP02.A2023001.1942.002//_lat_750.vrt', 'Y_BAND': '1', 'PIXEL_OFFSET': '0', 'LINE_OFFSET': '0', 'PIXEL_STEP': '1', 'LINE_STEP': '1'}\n"
     ]
    },
    {
     "name": "stdout",
     "output_type": "stream",
     "text": [
      "2023-04-24 23:30:51,538 c2s.external.stac.viirs_375_toa_processor viirs_375_toa_processor.py:543 DEBUG: starting warp M08\n",
      "2023-04-24 23:30:51,538 c2s.external.stac.viirs_375_toa_processor viirs_375_toa_processor.py:543 DEBUG: starting warp M08\n"
     ]
    },
    {
     "name": "stderr",
     "output_type": "stream",
     "text": [
      "DEBUG:c2s.external.stac.viirs_375_toa_processor:starting warp M08\n"
     ]
    },
    {
     "name": "stdout",
     "output_type": "stream",
     "text": [
      "2023-04-24 23:31:07,740 c2s.external.stac.viirs_375_toa_processor viirs_375_toa_processor.py:565 DEBUG: finish warp: M08\n",
      "2023-04-24 23:31:07,740 c2s.external.stac.viirs_375_toa_processor viirs_375_toa_processor.py:565 DEBUG: finish warp: M08\n"
     ]
    },
    {
     "name": "stderr",
     "output_type": "stream",
     "text": [
      "DEBUG:c2s.external.stac.viirs_375_toa_processor:finish warp: M08\n"
     ]
    },
    {
     "name": "stdout",
     "output_type": "stream",
     "text": [
      "2023-04-24 23:31:07,743 c2s.external.stac.viirs_375_toa_processor viirs_375_toa_processor.py:671 DEBUG: finish warp: M08\n",
      "2023-04-24 23:31:07,743 c2s.external.stac.viirs_375_toa_processor viirs_375_toa_processor.py:671 DEBUG: finish warp: M08\n"
     ]
    },
    {
     "name": "stderr",
     "output_type": "stream",
     "text": [
      "DEBUG:c2s.external.stac.viirs_375_toa_processor:finish warp: M08\n"
     ]
    },
    {
     "name": "stdout",
     "output_type": "stream",
     "text": [
      "2023-04-24 23:31:07,746 c2s.external.stac.viirs_375_toa_processor viirs_375_toa_processor.py:460 DEBUG: Processing M11 to tif.\n",
      "2023-04-24 23:31:07,746 c2s.external.stac.viirs_375_toa_processor viirs_375_toa_processor.py:460 DEBUG: Processing M11 to tif.\n"
     ]
    },
    {
     "name": "stderr",
     "output_type": "stream",
     "text": [
      "DEBUG:c2s.external.stac.viirs_375_toa_processor:Processing M11 to tif.\n"
     ]
    },
    {
     "name": "stdout",
     "output_type": "stream",
     "text": [
      "2023-04-24 23:31:07,751 c2s.external.stac.viirs_375_toa_processor viirs_375_toa_processor.py:529 DEBUG: meta_dict={'X_DATASET': '/home/nick/C2S-Python-API/notebooks/data/VNP02.A2023001.1942.002//_lon_750.vrt', 'X_BAND': '1', 'Y_DATASET': '/home/nick/C2S-Python-API/notebooks/data/VNP02.A2023001.1942.002//_lat_750.vrt', 'Y_BAND': '1', 'PIXEL_OFFSET': '0', 'LINE_OFFSET': '0', 'PIXEL_STEP': '1', 'LINE_STEP': '1'}\n",
      "2023-04-24 23:31:07,751 c2s.external.stac.viirs_375_toa_processor viirs_375_toa_processor.py:529 DEBUG: meta_dict={'X_DATASET': '/home/nick/C2S-Python-API/notebooks/data/VNP02.A2023001.1942.002//_lon_750.vrt', 'X_BAND': '1', 'Y_DATASET': '/home/nick/C2S-Python-API/notebooks/data/VNP02.A2023001.1942.002//_lat_750.vrt', 'Y_BAND': '1', 'PIXEL_OFFSET': '0', 'LINE_OFFSET': '0', 'PIXEL_STEP': '1', 'LINE_STEP': '1'}\n"
     ]
    },
    {
     "name": "stderr",
     "output_type": "stream",
     "text": [
      "DEBUG:c2s.external.stac.viirs_375_toa_processor:meta_dict={'X_DATASET': '/home/nick/C2S-Python-API/notebooks/data/VNP02.A2023001.1942.002//_lon_750.vrt', 'X_BAND': '1', 'Y_DATASET': '/home/nick/C2S-Python-API/notebooks/data/VNP02.A2023001.1942.002//_lat_750.vrt', 'Y_BAND': '1', 'PIXEL_OFFSET': '0', 'LINE_OFFSET': '0', 'PIXEL_STEP': '1', 'LINE_STEP': '1'}\n"
     ]
    },
    {
     "name": "stdout",
     "output_type": "stream",
     "text": [
      "2023-04-24 23:31:07,754 c2s.external.stac.viirs_375_toa_processor viirs_375_toa_processor.py:543 DEBUG: starting warp M11\n",
      "2023-04-24 23:31:07,754 c2s.external.stac.viirs_375_toa_processor viirs_375_toa_processor.py:543 DEBUG: starting warp M11\n"
     ]
    },
    {
     "name": "stderr",
     "output_type": "stream",
     "text": [
      "DEBUG:c2s.external.stac.viirs_375_toa_processor:starting warp M11\n"
     ]
    },
    {
     "name": "stdout",
     "output_type": "stream",
     "text": [
      "2023-04-24 23:31:23,926 c2s.external.stac.viirs_375_toa_processor viirs_375_toa_processor.py:565 DEBUG: finish warp: M11\n",
      "2023-04-24 23:31:23,926 c2s.external.stac.viirs_375_toa_processor viirs_375_toa_processor.py:565 DEBUG: finish warp: M11\n"
     ]
    },
    {
     "name": "stderr",
     "output_type": "stream",
     "text": [
      "DEBUG:c2s.external.stac.viirs_375_toa_processor:finish warp: M11\n"
     ]
    },
    {
     "name": "stdout",
     "output_type": "stream",
     "text": [
      "2023-04-24 23:31:23,928 c2s.external.stac.viirs_375_toa_processor viirs_375_toa_processor.py:671 DEBUG: finish warp: M11\n",
      "2023-04-24 23:31:23,928 c2s.external.stac.viirs_375_toa_processor viirs_375_toa_processor.py:671 DEBUG: finish warp: M11\n"
     ]
    },
    {
     "name": "stderr",
     "output_type": "stream",
     "text": [
      "DEBUG:c2s.external.stac.viirs_375_toa_processor:finish warp: M11\n"
     ]
    },
    {
     "name": "stdout",
     "output_type": "stream",
     "text": [
      "2023-04-24 23:31:23,932 c2s.external.stac.viirs_375_toa_processor viirs_375_toa_processor.py:674 INFO: resampling 750-m bands to 375-m\n",
      "2023-04-24 23:31:23,932 c2s.external.stac.viirs_375_toa_processor viirs_375_toa_processor.py:674 INFO: resampling 750-m bands to 375-m\n"
     ]
    },
    {
     "name": "stderr",
     "output_type": "stream",
     "text": [
      "INFO:c2s.external.stac.viirs_375_toa_processor:resampling 750-m bands to 375-m\n"
     ]
    },
    {
     "name": "stdout",
     "output_type": "stream",
     "text": [
      "2023-04-24 23:31:45,415 c2s.external.stac.viirs_375_toa_processor viirs_375_toa_processor.py:676 DEBUG: : regridding all bands\n",
      "2023-04-24 23:31:45,415 c2s.external.stac.viirs_375_toa_processor viirs_375_toa_processor.py:676 DEBUG: : regridding all bands\n"
     ]
    },
    {
     "name": "stderr",
     "output_type": "stream",
     "text": [
      "DEBUG:c2s.external.stac.viirs_375_toa_processor:: regridding all bands\n"
     ]
    },
    {
     "data": {
      "text/plain": [
       "'/home/nick/C2S-Python-API/notebooks/data/VNP02.A2023001.1942.002/'"
      ]
     },
     "execution_count": 125,
     "metadata": {},
     "output_type": "execute_result"
    }
   ],
   "source": [
    "proc.make_tiff()"
   ]
  },
  {
   "cell_type": "markdown",
   "id": "d4ea78ad-0a7d-492f-ba08-4dd0b3d68bb6",
   "metadata": {},
   "source": [
    "# Experimenting with regridding"
   ]
  },
  {
   "cell_type": "markdown",
   "id": "119b2f03-3af9-4fd9-86bb-c3999f86bbe5",
   "metadata": {},
   "source": [
    "## Option 1: reproject so that transform % 375 == 0"
   ]
  },
  {
   "cell_type": "code",
   "execution_count": 22,
   "id": "387d981d-8ea7-4926-ab44-a77f5ad288bc",
   "metadata": {
    "tags": []
   },
   "outputs": [
    {
     "data": {
      "text/plain": [
       "Affine(375.0, 0.0, -9065223.970771236,\n",
       "       0.0, -375.0, 1296630.3415117934)"
      ]
     },
     "execution_count": 22,
     "metadata": {},
     "output_type": "execute_result"
    }
   ],
   "source": [
    "test_path = \"/home/nick/C2S-Python-API/notebooks/data/VNP02.A2023001.1748.002/VNP02.A2023001.1748.002/I01.tif\"\n",
    "\n",
    "with rasterio.open(test_path, \"r\") as src:\n",
    "    src_transform = src.transform\n",
    "    src_profile = src.profile\n",
    "    \n",
    "src_transform"
   ]
  },
  {
   "cell_type": "code",
   "execution_count": 29,
   "id": "338c3a9b-9977-4d68-b117-3c1b03e282ed",
   "metadata": {
    "tags": []
   },
   "outputs": [
    {
     "name": "stdout",
     "output_type": "stream",
     "text": [
      "-9065250.0 1296375.0\n"
     ]
    }
   ],
   "source": [
    "west = src_transform[2] - (src_transform[2] % 375)\n",
    "north = src_transform[5] - (src_transform[5] % 375)\n",
    "print(west, north)"
   ]
  },
  {
   "cell_type": "code",
   "execution_count": 40,
   "id": "d0cb2e76-3d52-4356-8d0d-4c3b7f1d8368",
   "metadata": {
    "tags": []
   },
   "outputs": [],
   "source": [
    "dst_transform = affine.Affine(375., 0, west, 0, -375., north)"
   ]
  },
  {
   "cell_type": "code",
   "execution_count": 41,
   "id": "e05cc50b-6f22-473f-9abf-c9f1fdd67fb3",
   "metadata": {
    "tags": []
   },
   "outputs": [
    {
     "data": {
      "text/plain": [
       "Affine(375.0, 0.0, -9065250.0,\n",
       "       0.0, -375.0, 1296375.0)"
      ]
     },
     "execution_count": 41,
     "metadata": {},
     "output_type": "execute_result"
    }
   ],
   "source": [
    "dst_transform"
   ]
  },
  {
   "cell_type": "code",
   "execution_count": 59,
   "id": "94d6f2f6-4380-4994-8abf-c6be5a5eb1e9",
   "metadata": {
    "tags": []
   },
   "outputs": [
    {
     "name": "stdout",
     "output_type": "stream",
     "text": [
      "{'driver': 'VRT', 'dtype': 'uint16', 'nodata': 65535.0, 'width': 9562, 'height': 7329, 'count': 1, 'crs': CRS.from_wkt('PROJCS[\"MODIS Sinusoidal\",GEOGCS[\"WGS 84\",DATUM[\"WGS_1984\",SPHEROID[\"WGS 84\",6378137,298.257223563,AUTHORITY[\"EPSG\",\"7030\"]],AUTHORITY[\"EPSG\",\"6326\"]],PRIMEM[\"Greenwich\",0],UNIT[\"degree\",0.0174532925199433,AUTHORITY[\"EPSG\",\"9122\"]],AUTHORITY[\"EPSG\",\"4326\"]],PROJECTION[\"Sinusoidal\"],PARAMETER[\"longitude_of_center\",0],PARAMETER[\"false_easting\",0],PARAMETER[\"false_northing\",0],UNIT[\"metre\",1,AUTHORITY[\"EPSG\",\"9001\"]],AXIS[\"Easting\",EAST],AXIS[\"Northing\",NORTH]]'), 'transform': Affine(375.0, 0.0, -9065250.0,\n",
      "       0.0, -375.0, 1296375.0), 'blockxsize': 512, 'blockysize': 128, 'tiled': True}\n"
     ]
    }
   ],
   "source": [
    "# use WarpedVRT to transform?\n",
    "from rasterio.vrt import WarpedVRT\n",
    "from rasterio.enums import Resampling\n",
    "\n",
    "with rasterio.open(test_path, \"r\") as src:\n",
    "    with WarpedVRT(\n",
    "        src, \n",
    "        transform=dst_transform, \n",
    "        resampling=Resampling.bilinear,\n",
    "        width=src.width,\n",
    "        height=src.height,\n",
    "    ) as vrt:\n",
    "        data = vrt.read()\n",
    "        out_profile = vrt.profile\n",
    "        out_profile[\"driver\"] = \"GTiff\"\n",
    "        out_profile[\"compress\"] = \"deflate\"\n",
    "        with rasterio.open(test_path.replace(\".tif\", \"_grid_transform.tif\"), \"w\", **out_profile) as dst:\n",
    "            dst.write(data)\n",
    "            dst.scales = src.scales\n",
    "        print(vrt.profile)"
   ]
  },
  {
   "cell_type": "code",
   "execution_count": 58,
   "id": "232720ba-0b6b-4d2b-9efe-9ace20d0c8f3",
   "metadata": {
    "tags": []
   },
   "outputs": [
    {
     "name": "stdout",
     "output_type": "stream",
     "text": [
      "{'driver': 'GTiff', 'dtype': 'uint16', 'nodata': 65535.0, 'width': 9562, 'height': 7329, 'count': 1, 'crs': CRS.from_wkt('PROJCS[\"MODIS Sinusoidal\",GEOGCS[\"WGS 84\",DATUM[\"WGS_1984\",SPHEROID[\"WGS 84\",6378137,298.257223563,AUTHORITY[\"EPSG\",\"7030\"]],AUTHORITY[\"EPSG\",\"6326\"]],PRIMEM[\"Greenwich\",0],UNIT[\"degree\",0.0174532925199433,AUTHORITY[\"EPSG\",\"9122\"]],AUTHORITY[\"EPSG\",\"4326\"]],PROJECTION[\"Sinusoidal\"],PARAMETER[\"longitude_of_center\",0],PARAMETER[\"false_easting\",0],PARAMETER[\"false_northing\",0],UNIT[\"metre\",1,AUTHORITY[\"EPSG\",\"9001\"]],AXIS[\"Easting\",EAST],AXIS[\"Northing\",NORTH]]'), 'transform': Affine(375.0, 0.0, -9065223.970771236,\n",
      "       0.0, -375.0, 1296630.3415117934), 'blockxsize': 256, 'blockysize': 256, 'tiled': True, 'compress': 'deflate', 'interleave': 'band'}\n"
     ]
    }
   ],
   "source": [
    "with rasterio.open(test_path, \"r\") as src:\n",
    "    tags = src.scales\n",
    "    print(src.profile)"
   ]
  },
  {
   "cell_type": "code",
   "execution_count": null,
   "id": "7b9e16f4-c72a-4d23-8d90-a60bc5bb74b2",
   "metadata": {},
   "outputs": [],
   "source": []
  }
 ],
 "metadata": {
  "kernelspec": {
   "display_name": "Python 3 (ipykernel)",
   "language": "python",
   "name": "python3"
  },
  "language_info": {
   "codemirror_mode": {
    "name": "ipython",
    "version": 3
   },
   "file_extension": ".py",
   "mimetype": "text/x-python",
   "name": "python",
   "nbconvert_exporter": "python",
   "pygments_lexer": "ipython3",
   "version": "3.8.16"
  }
 },
 "nbformat": 4,
 "nbformat_minor": 5
}
