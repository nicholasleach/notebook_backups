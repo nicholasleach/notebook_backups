{
 "cells": [
  {
   "cell_type": "markdown",
   "id": "c76cdf3a-6fe5-4366-a224-b910dace6acf",
   "metadata": {},
   "source": [
    "# Goal\n",
    "1. Test the streamflow classes that I created and make sure they are working.\n",
    "2. Create a clean demo notebook to commit."
   ]
  },
  {
   "cell_type": "code",
   "execution_count": null,
   "id": "6d6713b3-e47f-4acb-bedb-037dc72e94e3",
   "metadata": {},
   "outputs": [],
   "source": [
    "%load_ext autoreload\n",
    "%autoreload 2"
   ]
  },
  {
   "cell_type": "code",
   "execution_count": null,
   "id": "84547723-278e-424a-83fa-4fa03435cfef",
   "metadata": {},
   "outputs": [],
   "source": [
    "import sys\n",
    "sys.path.append(\"/home/nick/C2S-Python-API/\")\n",
    "import os\n",
    "import matplotlib.pyplot as plt\n",
    "import pandas as pd\n",
    "import numpy as np\n",
    "import shapely\n",
    "import rasterio\n",
    "import dataretrieval.nwis as nwis # If missing install with !pip install dataretrieval\n",
    "import time"
   ]
  },
  {
   "cell_type": "code",
   "execution_count": null,
   "id": "d2a14571-72c2-4a25-b912-9da256795444",
   "metadata": {},
   "outputs": [],
   "source": [
    "from c2s.hydrology.stream_gauges import StreamGaugeRasterizer"
   ]
  },
  {
   "cell_type": "markdown",
   "id": "1d722771-6ae3-4f32-83be-1bbc10c5d0b4",
   "metadata": {},
   "source": [
    "# Setup"
   ]
  },
  {
   "cell_type": "code",
   "execution_count": null,
   "id": "45ac47aa-22fd-4276-8eb4-4d762f747912",
   "metadata": {},
   "outputs": [],
   "source": [
    "# test geometry to collect stream gauges for\n",
    "bbox = (-96.29352194405351, 34.209756945451005, -95.065592721268, 35.15411842539479)\n",
    "\n",
    "# find the stream gauges for this bbox\n",
    "daily_or_subdaily_values = \"dv\" \n",
    "discharge_or_height = \"00060\" # \"00060\": discharge, \"00065\": height\n",
    "\n",
    "df_nwis, meta_nwis = nwis.what_sites(\n",
    "    bBox=np.round(bbox, 6).tolist(), # truncate to avoid 400 error!\n",
    "    outputDataTypeCd=daily_or_subdaily_values,\n",
    "    parameterCd=discharge_or_height # discharge parameter\n",
    "    )\n",
    "df_nwis[\"years_of_history\"] = df_nwis[['begin_date', 'end_date']].apply(lambda x: (pd.to_datetime(x['end_date']) - pd.to_datetime(x['begin_date'])).days / 365, axis=1)"
   ]
  },
  {
   "cell_type": "code",
   "execution_count": null,
   "id": "e817aea2-8459-47e2-a51f-642523361097",
   "metadata": {},
   "outputs": [],
   "source": [
    "# get the DV values for a particular day\n",
    "site_ids = df_nwis[\"site_no\"].tolist()\n",
    "dv_gdf, _ = nwis.get_dv(sites=site_ids, parameterCd=\"00060\", start=\"2023-05-01\", end=\"2023-05-01\")\n",
    "dv_gdf"
   ]
  },
  {
   "cell_type": "code",
   "execution_count": null,
   "id": "58ea9fc7-3f65-4eeb-9fcb-3b1ce34f16e1",
   "metadata": {},
   "outputs": [],
   "source": [
    "# need to add the coordinates for these stations\n",
    "dv_gdf = dv_gdf.reset_index().merge(df_nwis[[\"site_no\", \"dec_lat_va\", \"dec_long_va\"]], on=\"site_no\", how=\"left\")\n",
    "dv_gdf"
   ]
  },
  {
   "cell_type": "code",
   "execution_count": null,
   "id": "70cf1117-26a1-4b70-98d0-0817a42a7d78",
   "metadata": {},
   "outputs": [],
   "source": [
    "# rasterization properties; in practice, these may be derived from an actual raster\n",
    "# here, we are just coding them for convenience\n",
    "width = 350  # measured in pixels\n",
    "height = 350\n",
    "transform = rasterio.transform.from_bounds(*bbox, width, height)"
   ]
  },
  {
   "cell_type": "markdown",
   "id": "e7b6b5e3-9dc2-42ac-9e64-bd870c2b38ca",
   "metadata": {},
   "source": [
    "# Rasterization examples"
   ]
  },
  {
   "cell_type": "code",
   "execution_count": null,
   "id": "99f2e9a9-573a-4f27-b476-9a21010bdb0e",
   "metadata": {},
   "outputs": [],
   "source": [
    "# initialize rasterizer\n",
    "rasterizer = StreamGaugeRasterizer(\n",
    "    dv_gdf,\n",
    "    \"00060_Mean\",\n",
    "    transform,\n",
    "    350,\n",
    "    350,\n",
    "    lat_col=\"dec_lat_va\",\n",
    "    lon_col=\"dec_long_va\",\n",
    ")"
   ]
  },
  {
   "cell_type": "markdown",
   "id": "e4fa34e5-77ff-44ad-b353-497dc21b2fff",
   "metadata": {},
   "source": [
    "## No interpolation"
   ]
  },
  {
   "cell_type": "code",
   "execution_count": null,
   "id": "20fa6af9-219b-4b77-81d6-8c3c96147b4d",
   "metadata": {},
   "outputs": [],
   "source": [
    "# create a raster with no interpolation\n",
    "start = time.time()\n",
    "no_interp = rasterizer.points_to_raster_no_interpolation()\n",
    "print(f\"Elapsed time: {time.time() - start:0.4f} sec\")\n",
    "\n",
    "plt.imshow(no_interp)\n",
    "plt.title(\"Stream gauges, no interpolation\")\n",
    "plt.show()"
   ]
  },
  {
   "cell_type": "code",
   "execution_count": null,
   "id": "43eb8ee2-af6f-4d4e-9718-41c9897e0054",
   "metadata": {},
   "outputs": [],
   "source": [
    "# doesn't look like much, but we can show that it adds up to the same value as the original table\n",
    "print(np.sum(dv_gdf.drop_duplicates()[\"00060_Mean\"]))\n",
    "print(np.sum(no_interp))"
   ]
  },
  {
   "cell_type": "markdown",
   "id": "3b72f203-50ac-44dd-a334-3735619786a7",
   "metadata": {},
   "source": [
    "## Rasterize points with a buffer\n",
    "This makes much better physical sense if the data is in a projected CRS so that the buffer distance is in meters instead of degrees, but it works either way"
   ]
  },
  {
   "cell_type": "code",
   "execution_count": null,
   "id": "2e35d579-6040-4b51-95ed-034ade10f06e",
   "metadata": {},
   "outputs": [],
   "source": [
    "# create a raster with no interpolation\n",
    "start = time.time()\n",
    "no_interp = rasterizer.buffered_points_to_raster(buffer_dist=0.01)\n",
    "print(f\"Elapsed time: {time.time() - start:0.4f} sec\")\n",
    "\n",
    "plt.imshow(no_interp)\n",
    "plt.title(\"Stream gauges, buffered\")\n",
    "plt.show()"
   ]
  },
  {
   "cell_type": "markdown",
   "id": "3593b9d7-1729-4298-8ba6-066f25ae12c7",
   "metadata": {},
   "source": [
    "## Simple interpolation\n",
    "Just interpolate between all of the stream gauge values. Supported methods are `nearest`, `linear`, and `cubic`."
   ]
  },
  {
   "cell_type": "code",
   "execution_count": null,
   "id": "f3918209-892d-4815-aa40-8ff5f2daad5b",
   "metadata": {},
   "outputs": [],
   "source": [
    "start = time.time()\n",
    "nearest_interp = rasterizer.naive_interpolation(interp_method=\"nearest\")\n",
    "print(f\"Elapsed time: {time.time() - start:0.4f} sec\")\n",
    "\n",
    "plt.imshow(nearest_interp)\n",
    "plt.title(\"Stream gauges, nearest interpolation\")\n",
    "plt.show()"
   ]
  },
  {
   "cell_type": "code",
   "execution_count": null,
   "id": "f58c8b8c-84df-457d-bea3-02cb87a94fdd",
   "metadata": {},
   "outputs": [],
   "source": [
    "# this method cannot interpolate outside of the minimum envelope of the gauges; see wall-to-wall method below\n",
    "start = time.time()\n",
    "linear_interp = rasterizer.naive_interpolation(interp_method=\"linear\")\n",
    "print(f\"Elapsed time: {time.time() - start:0.4f} sec\")\n",
    "\n",
    "plt.imshow(linear_interp)\n",
    "plt.title(\"Stream gauges, linear interpolation\")\n",
    "plt.show()"
   ]
  },
  {
   "cell_type": "code",
   "execution_count": null,
   "id": "a28d3954-08d0-4a98-8950-bd6b1458cde5",
   "metadata": {},
   "outputs": [],
   "source": [
    "# this method cannot interpolate outside of the minimum envelope of the gauges; see wall-to-wall method below\n",
    "start = time.time()\n",
    "cubic_interp = rasterizer.naive_interpolation(interp_method=\"cubic\")\n",
    "print(f\"Elapsed time: {time.time() - start:0.4f} sec\")\n",
    "\n",
    "plt.imshow(cubic_interp)\n",
    "plt.title(\"Stream gauges, cubic interpolation\")\n",
    "plt.show()"
   ]
  },
  {
   "cell_type": "markdown",
   "id": "ddb47ebd-5250-4b0a-b60d-e5df4e69eeb0",
   "metadata": {},
   "source": [
    "## Wall-to-wall interpolation\n",
    "This is a simple approach to creating a wall-to-wall interpolation. First, the nearest interpolation is performed. The corner values are extracted from this interpolation. These corners are then included along with the original stream gauge values when doing a linear or cubic interpolation."
   ]
  },
  {
   "cell_type": "code",
   "execution_count": null,
   "id": "f4c276ff-f850-4337-b1c6-d81ca4ca5532",
   "metadata": {},
   "outputs": [],
   "source": [
    "start = time.time()\n",
    "full_interp = rasterizer.naive_interpolation_wall_to_wall(interp_method=\"cubic\")\n",
    "print(f\"Elapsed time: {time.time() - start:0.4f} sec\")\n",
    "\n",
    "plt.imshow(full_interp)\n",
    "plt.title(\"Stream gauges, wall-to-wall interpolation\")\n",
    "plt.show()"
   ]
  },
  {
   "cell_type": "markdown",
   "id": "3a1cc98e-5575-4734-99ab-0629fd6ed5a3",
   "metadata": {},
   "source": [
    "Soon, we will probably want to create a more logical/sophisticated version of this which uses stream gauges from outside the AOI in order to create a smoother raster without edge artifacts."
   ]
  },
  {
   "cell_type": "markdown",
   "id": "f40415e2-ab58-4502-ba18-7ab69c5996a9",
   "metadata": {},
   "source": [
    "## Inverse distanced weighted interpolation\n",
    "This method builds off the wall-to-wall interpolation. After creating that interpolation, a second array is create internally which is simply the number of pixels from any location to the nearest gauge. The inverse of those distances are used to weight the interpolated array."
   ]
  },
  {
   "cell_type": "code",
   "execution_count": null,
   "id": "639e7b97-73e9-47a6-a3af-e1381dd35007",
   "metadata": {},
   "outputs": [],
   "source": [
    "start = time.time()\n",
    "idw_interp = rasterizer.inverse_distance_weighted_interpolation(interp_method=\"cubic\", distance_exp=1)\n",
    "print(f\"Elapsed time: {time.time() - start:0.4f} sec\")\n",
    "\n",
    "plt.imshow(idw_interp)\n",
    "plt.title(\"Stream gauges, wall-to-wall interpolation\")\n",
    "plt.show()"
   ]
  },
  {
   "cell_type": "markdown",
   "id": "d02f9827-6abc-4b4c-a9ed-499e42222c2e",
   "metadata": {},
   "source": [
    "The inverse distance array can cause the values to drop off too quickly; raising this array to an exponent on (0, 1) will make it drop off more slowly as the distance from gauges increases. This drop-off is applied by default (exponent of 0.20)."
   ]
  },
  {
   "cell_type": "code",
   "execution_count": null,
   "id": "11cd71a4-1946-457d-9658-5296c9b5d24e",
   "metadata": {},
   "outputs": [],
   "source": [
    "start = time.time()\n",
    "idw_interp = rasterizer.inverse_distance_weighted_interpolation(interp_method=\"cubic\")\n",
    "print(f\"Elapsed time: {time.time() - start:0.4f} sec\")\n",
    "\n",
    "plt.imshow(idw_interp)\n",
    "plt.title(\"Stream gauges, wall-to-wall interpolation\")\n",
    "plt.show()"
   ]
  },
  {
   "cell_type": "markdown",
   "id": "525ebf7a-36f5-49e5-933b-32cdfd14f354",
   "metadata": {},
   "source": [
    "## HAND weighted"
   ]
  },
  {
   "cell_type": "code",
   "execution_count": null,
   "id": "cde15851-cf3b-4d74-bf60-2bda8a4cbe6a",
   "metadata": {},
   "outputs": [],
   "source": [
    "# initialize rasterizer\n",
    "rasterizer = StreamGaugeRasterizer(\n",
    "    dv_gdf,\n",
    "    \"00060_Mean\",\n",
    "    transform,\n",
    "    350,\n",
    "    350,\n",
    "    lat_col=\"dec_lat_va\",\n",
    "    lon_col=\"dec_long_va\",\n",
    ")"
   ]
  },
  {
   "cell_type": "code",
   "execution_count": null,
   "id": "e943966a-2dd7-48f8-bf24-33c515dbdb40",
   "metadata": {
    "scrolled": true
   },
   "outputs": [],
   "source": [
    "start = time.time()\n",
    "hand_weighted = rasterizer.hand_weighted_interpolation(\n",
    "    bbox, \n",
    "    \"/data/static/hand/mosaic_250m_avg_EPSG4269.tif\",\n",
    "    wbt_path=\"/home/nick\"\n",
    ")\n",
    "print(f\"Elapsed time: {time.time() - start:0.4f} sec\")"
   ]
  },
  {
   "cell_type": "code",
   "execution_count": null,
   "id": "e04fa3a3-120a-4e6d-a099-9cec1e75eb8c",
   "metadata": {},
   "outputs": [],
   "source": [
    "plt.imshow(np.ma.masked_less(hand_weighted, 0))\n",
    "plt.title(\"HAND-weighted interpolation\")\n",
    "plt.show()"
   ]
  },
  {
   "cell_type": "code",
   "execution_count": null,
   "id": "22df6c1c-f269-4acd-9a7f-4ad0d184a9da",
   "metadata": {},
   "outputs": [],
   "source": []
  }
 ],
 "metadata": {
  "kernelspec": {
   "display_name": "Python 3 (ipykernel)",
   "language": "python",
   "name": "python3"
  },
  "language_info": {
   "codemirror_mode": {
    "name": "ipython",
    "version": 3
   },
   "file_extension": ".py",
   "mimetype": "text/x-python",
   "name": "python",
   "nbconvert_exporter": "python",
   "pygments_lexer": "ipython3",
   "version": "3.8.16"
  }
 },
 "nbformat": 4,
 "nbformat_minor": 5
}
