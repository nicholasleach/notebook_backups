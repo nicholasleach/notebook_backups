{
 "cells": [
  {
   "cell_type": "markdown",
   "id": "f7ba64c3-4bcd-447c-8871-11b4eb5f0ac5",
   "metadata": {},
   "source": [
    "# Goal\n",
    "Create a 250m resolution HAND for all of CONUS"
   ]
  },
  {
   "cell_type": "code",
   "execution_count": 2,
   "id": "2d512a91-21da-4b6d-a21f-1489019ad2aa",
   "metadata": {},
   "outputs": [],
   "source": [
    "%load_ext autoreload\n",
    "%autoreload 2"
   ]
  },
  {
   "cell_type": "code",
   "execution_count": 3,
   "id": "23efb520-341b-42a0-872d-c9a8b017bd9d",
   "metadata": {},
   "outputs": [],
   "source": [
    "import sys\n",
    "sys.path.append(\"/home/nick/C2S-Python-API/\")"
   ]
  },
  {
   "cell_type": "code",
   "execution_count": 52,
   "id": "70f293ad-b941-42ab-bbaa-0c74cd76b1d2",
   "metadata": {},
   "outputs": [],
   "source": [
    "import logging\n",
    "import os\n",
    "from pathlib import Path\n",
    "from typing import List, Union\n",
    "import requests\n",
    "from tqdm import tqdm\n",
    "from concurrent.futures import ThreadPoolExecutor, ProcessPoolExecutor\n",
    "\n",
    "import numpy as np\n",
    "import geopandas as gpd\n",
    "import pandas as pd\n",
    "import rasterio as rio\n",
    "import shapely\n",
    "import shapely.ops\n",
    "from rasterio.warp import Resampling, calculate_default_transform, reproject\n",
    "from pyproj import Transformer, Proj\n",
    "from rasterio.merge import merge\n",
    "\n",
    "logger = logging.getLogger('notebook')\n",
    "\n",
    "HAND_ENDPOINT = \"https://web.corral.tacc.utexas.edu/nfiedata/HAND\"\n",
    "HAND_HUCLIST_PATH = \"/home/nick/base/poly/pf_ml/src/dl/data/hand_hucs.txt\"\n",
    "DEFAULT_HAND_DIR = Path(\"/data/static/hand/10m\")"
   ]
  },
  {
   "cell_type": "code",
   "execution_count": 5,
   "id": "cde22023-8abf-4560-ae1a-4275fde652e4",
   "metadata": {},
   "outputs": [
    {
     "name": "stdout",
     "output_type": "stream",
     "text": [
      "2023-08-18 20:29:03,074 c2s.configuration configuration.py:45 WARNING: Can't find project ID neither as GCP_PROJECT or in the meatadata API. Using 'cloudtostreet'\n",
      "2023-08-18 20:29:04,096 c2s.configuration configuration.py:59 WARNING: Error getting object floodbase-nrt-config-cloudtostreet/config_vars.json, using default values for settings.\n",
      "2023-08-18 20:29:04,097 c2s.constants constants.py:78 DEBUG: Using the following vars/settings:\n",
      "2023-08-18 20:29:04,097 c2s.constants constants.py:79 DEBUG: GCP_PROJECT: cloudtostreet\n",
      "2023-08-18 20:29:04,098 c2s.constants constants.py:80 DEBUG: STAC_API_URL: https://stac.cloudtostreet.info\n",
      "2023-08-18 20:29:04,098 c2s.constants constants.py:81 DEBUG: WEB_BACKEND_API_URL: https://api.cloudtostreet.info\n",
      "2023-08-18 20:29:04,099 c2s.constants constants.py:82 DEBUG: AUTH0_TENANT_URL: cloudtostreet.us.auth0.com\n",
      "2023-08-18 20:29:04,099 c2s.constants constants.py:83 DEBUG: AUTH_CLIENT_ID: dawtpAdcKj3y2veLgXMNMkTrbZs5YRmu\n",
      "2023-08-18 20:29:04,099 c2s.constants constants.py:84 DEBUG: GCP_REGION: us-central1\n",
      "2023-08-18 20:29:04,100 c2s.constants constants.py:85 DEBUG: RANDOM_SUFFIX: None\n",
      "2023-08-18 20:29:04,100 c2s.constants constants.py:86 DEBUG: DATAFLOW_SERVICE_ACCOUNT: None\n",
      "2023-08-18 20:29:04,100 c2s.constants constants.py:87 DEBUG: DOCKER_DATA_DOWNLOAD_IMAGE: gcr.io/cloudtostreet/data-download\n",
      "2023-08-18 20:29:04,101 c2s.constants constants.py:88 DEBUG: DOCKER_INFERENCE_IMAGE: gcr.io/cloudtostreet/dataflow-gpu-pytorch\n",
      "2023-08-18 20:29:04,101 c2s.constants constants.py:89 DEBUG: DATAFLOW_TEMP_BUCKET: c2s-dataflow-temporary-bucket\n",
      "2023-08-18 20:29:04,103 c2s.constants constants.py:90 DEBUG: CONFIG_BUCKET: None\n"
     ]
    }
   ],
   "source": [
    "from c2s.external.stac.warp_to import warp_to"
   ]
  },
  {
   "cell_type": "markdown",
   "id": "bb74406c-6cd1-4725-ab52-6a70c7a6585a",
   "metadata": {},
   "source": [
    "## Import and modify functions from `pf_ml`\n",
    "Let's warp into the CRS that we plan to use for Gridded V2. Makes a lot more sense since it is equal area so we can actually define the resolution in meters"
   ]
  },
  {
   "cell_type": "code",
   "execution_count": 6,
   "id": "39c617a1-97a9-4d02-bf5a-126146fa1731",
   "metadata": {},
   "outputs": [],
   "source": [
    "dst_wkt = 'PROJCS[\"Lambert_Conformal_Conic\",GEOGCS[\"GCS_Sphere\",DATUM[\"D_Sphere\",SPHEROID[\"Sphere\",6370000.0,0.0]],PRIMEM[\"Greenwich\",0.0],UNIT[\"Degree\",0.0174532925199433]],PROJECTION[\"Lambert_Conformal_Conic_2SP\"],PARAMETER[\"false_easting\",0.0],PARAMETER[\"false_northing\",0.0],PARAMETER[\"central_meridian\",-97.0],PARAMETER[\"standard_parallel_1\",30.0],PARAMETER[\"standard_parallel_2\",60.0],PARAMETER[\"latitude_of_origin\",40.0],UNIT[\"Meter\",1.0]];-35691800 -29075200 10000;-100000 10000;-100000 10000;0.001;0.001;0.001;IsHighPrecision'"
   ]
  },
  {
   "cell_type": "code",
   "execution_count": 7,
   "id": "3f3be3d3-b371-4aab-aef3-e5c640e980f0",
   "metadata": {},
   "outputs": [],
   "source": [
    "def urlretrieve(url: str, output_file: str):\n",
    "    \"\"\"Large file retrieval with progressbar\n",
    "    From: https://github.com/psf/requests/issues/1632#issuecomment-25299162\n",
    "\n",
    "    Args:\n",
    "        url (str): endpoint you're downloading from\n",
    "        output_file (str): where the endpoint will be downloaded to\n",
    "    \"\"\"\n",
    "    r = requests.get(url, stream=True)\n",
    "    r.raise_for_status()  # Replace this with better error handling.\n",
    "    total_size_in_bytes = int(r.headers.get(\"content-length\", 0))\n",
    "    block_size = 1024  # 1 Kibibyte\n",
    "    # progress_bar = tqdm(total=total_size_in_bytes, unit=\"iB\", unit_scale=True)\n",
    "\n",
    "    with open(output_file, \"wb\") as f:\n",
    "        for chunk in r.iter_content(block_size):\n",
    "            # progress_bar.update(len(chunk))\n",
    "            f.write(chunk)\n",
    "    # progress_bar.close()\n",
    "    # if total_size_in_bytes != 0 and progress_bar.n != total_size_in_bytes:\n",
    "    #     logger.error(f\"something went wrong when grabbing {url}\")"
   ]
  },
  {
   "cell_type": "code",
   "execution_count": 20,
   "id": "68c62cc6-bd91-47da-b0e1-d3462315b084",
   "metadata": {},
   "outputs": [],
   "source": [
    "def reproject_polygon(source_poly, in_crs, out_crs):\n",
    "    \"\"\"This method reproject a give bounding box in a specific EPSG code to another EPSG code.\n",
    "    Args:\n",
    "        source_poly (Polygon): Polygon from source dataset.\n",
    "        in_crs (str): The EPSG code for the input CRS.\n",
    "        out_crs (str): The EPSG code for the desired CRS.\n",
    "    Returns:\n",
    "        Polygon: Reprojected Polygon into new CRS.\n",
    "    \"\"\"\n",
    "    in_proj = Proj(in_crs)\n",
    "    out_proj = Proj(out_crs)\n",
    "    project = Transformer.from_proj(in_proj, out_proj, always_xy=True)\n",
    "    poly_dest = shapely.ops.transform(project.transform, source_poly)\n",
    "\n",
    "    return poly_dest"
   ]
  },
  {
   "cell_type": "code",
   "execution_count": 31,
   "id": "cbcad5c0-f73b-4a30-a752-70df6771b1f3",
   "metadata": {},
   "outputs": [],
   "source": [
    "def resample_one_hand(tif_path: str, resampling_str: str = \"average\"):\n",
    "    \"\"\"Resamples a HAND image.\n",
    "\n",
    "    Args:\n",
    "        tif_path (str): HAND image path to resample\n",
    "        resampling (str): string representation of resampling method, e.g. `average`, `nearest`, `bilinear`. Defaults to \"average\".\n",
    "    \"\"\"\n",
    "    # hard code to make it easy to run with e.map\n",
    "    res = 250\n",
    "    dst_crs = dst_wkt\n",
    "    \n",
    "    tif_path = Path(tif_path)\n",
    "    output_dir = tif_path.parent.parent / f\"{int(res)}m_{resampling_str}\"\n",
    "    output_fname = output_dir / tif_path.name\n",
    "    with rio.open(tif_path) as src:\n",
    "        src_bounds = src.bounds\n",
    "        profile = src.profile\n",
    "        nodata = src.nodata\n",
    "        src_crs = src.crs\n",
    "    # reproject dst_bounds to target crs\n",
    "    dst_bounds = reproject_polygon(shapely.geometry.box(*src_bounds), src_crs, dst_crs).bounds\n",
    "    \n",
    "    warped_tif = warp_to(\n",
    "        tif_list=[tif_path],\n",
    "        dst_bounds=dst_bounds,\n",
    "        dst_crs=dst_crs,\n",
    "        src_nodata=nodata,\n",
    "        dst_nodata=nodata,\n",
    "        profile=profile,\n",
    "        res=res,\n",
    "        resampling=Resampling.__members__[resampling_str],\n",
    "        output_dir=output_dir,\n",
    "    )\n",
    "    Path(warped_tif).rename(output_fname)"
   ]
  },
  {
   "cell_type": "code",
   "execution_count": 29,
   "id": "4e63e40d-f4d3-469b-a6c8-d357ba85b052",
   "metadata": {},
   "outputs": [],
   "source": [
    "def download_field_for_huc(huc: str, extension: str, output_dir=DEFAULT_HAND_DIR):\n",
    "    \"\"\"\n",
    "    see https://web.corral.tacc.utexas.edu/nfiedata/ for appropriate extension\n",
    "    \"\"\"\n",
    "    output_dir = Path(output_dir)\n",
    "    field_url = f\"{HAND_ENDPOINT}/{huc}/{huc}{extension}\"\n",
    "    local_file = output_dir / f\"{huc}{extension}\"\n",
    "    logger.info(f\"Downloading {field_url} to {local_file}\")\n",
    "    urlretrieve(field_url, local_file)\n",
    "\n",
    "\n",
    "def download_hand_for_huc(huc: str):\n",
    "    download_field_for_huc(huc, extension=\"hand.tif\", output_dir=DEFAULT_HAND_DIR)\n",
    "\n",
    "\n",
    "def prep_hand_for_one_example(\n",
    "    reference_tif: str,\n",
    "    mosaic_hand_tif: str,\n",
    "    resampling_str: str = \"average\",\n",
    "    clip_to_us: bool = True,\n",
    "    debug: bool = False,\n",
    "):\n",
    "    \"\"\"Create a HAND tif matching the reference_tif (same grid, bounds, res, etc.)\n",
    "\n",
    "    Args:\n",
    "        reference_tif (str): chip for which to create a matching HAND chip\n",
    "        mosaic_hand_tif (str): HAND mosiac path\n",
    "        resampling (str, optional): string representation of resampling method, one of `average`, `nearest`, `bilinear`. Defaults to \"average\".\n",
    "        clip_to_us (bool, optional): clip the HAND chip to the US border, using the same US bounds as in the flood map prep\n",
    "            i.e. Section 2 here: https://github.com/cloudtostreet/pf_ml/blob/main/notebooks/dailyflood_v2/05__2022-07-11-tn-training-data-qc.ipynb\n",
    "        debug (bool, optional): enable extra logging; files are still saved. Defaults to False.\n",
    "\n",
    "    Returns:\n",
    "        Path: file path of new HAND chip\n",
    "    \"\"\"\n",
    "    reference_tif = Path(reference_tif)\n",
    "    output_dir = reference_tif.parent\n",
    "\n",
    "    output_fname = output_dir / f\"hand_{resampling_str}.tif\"\n",
    "    if debug:\n",
    "        logger.info(output_fname)\n",
    "\n",
    "    with rio.open(reference_tif) as src:\n",
    "        dst_bounds = src.bounds\n",
    "    with rio.open(mosaic_hand_tif) as src:\n",
    "        nodata = src.nodata\n",
    "        profile = src.profile\n",
    "\n",
    "    res = 2000 / 111000\n",
    "    dst_crs = 4269\n",
    "    warped_tif = warp_to(\n",
    "        tif_list=[mosaic_hand_tif],\n",
    "        dst_bounds=dst_bounds,\n",
    "        dst_crs=dst_crs,\n",
    "        src_nodata=nodata,\n",
    "        dst_nodata=nodata,\n",
    "        profile=profile,\n",
    "        res=res,\n",
    "        resampling=Resampling.__members__[resampling_str],\n",
    "        output_dir=output_dir,\n",
    "    )\n",
    "    Path(warped_tif).rename(output_fname)\n",
    "\n",
    "    if clip_to_us:\n",
    "        # load US border geometry and buffer slightly\n",
    "        df_us = gpd.read_file(\n",
    "            \"/data/static/Longitude_Graticules_and_World_Countries_Boundaries-shp/99bfd9e7-bb42-4728-87b5-07f8c8ac631c2020328-1-1vef4ev.lu5nk.shp\"\n",
    "        )\n",
    "        df_us = df_us[df_us.CNTRY_NAME == \"United States\"]\n",
    "        df_us.geometry = df_us.geometry.buffer(0.05)\n",
    "\n",
    "        output_fname = clip_us_coastline(output_fname, df_us.geometry)\n",
    "\n",
    "    return output_fname"
   ]
  },
  {
   "cell_type": "markdown",
   "id": "d225166a-077e-4fac-9ac6-643a72931435",
   "metadata": {},
   "source": [
    "## Download all HAND files to devbox"
   ]
  },
  {
   "cell_type": "code",
   "execution_count": 10,
   "id": "a8dbd15a-b225-4905-81c5-257813937fcd",
   "metadata": {
    "scrolled": true
   },
   "outputs": [],
   "source": [
    "HUCLIST = np.loadtxt(HAND_HUCLIST_PATH, dtype=str)\n",
    "with ThreadPoolExecutor(50) as e:\n",
    "    result = e.map(download_hand_for_huc, list(HUCLIST))"
   ]
  },
  {
   "cell_type": "code",
   "execution_count": 11,
   "id": "fa03f3e3-6c34-4498-a849-e9f54ae54d8c",
   "metadata": {},
   "outputs": [],
   "source": [
    "out = list(result)"
   ]
  },
  {
   "cell_type": "markdown",
   "id": "2e031ef2-896e-46cf-ac6c-23d0c5a0b532",
   "metadata": {},
   "source": [
    "## Resample to a coarser resolution\n",
    "Simultaneously, reproject into equal area projection"
   ]
  },
  {
   "cell_type": "code",
   "execution_count": 15,
   "id": "373bea80-0db6-4a90-bd25-3960f334646c",
   "metadata": {},
   "outputs": [],
   "source": [
    "hand_paths = list(DEFAULT_HAND_DIR.glob('*hand.tif'))"
   ]
  },
  {
   "cell_type": "code",
   "execution_count": 32,
   "id": "2e504c01-7c95-4aec-8b2f-9f8767ce8270",
   "metadata": {},
   "outputs": [],
   "source": [
    "# test with one\n",
    "resample_one_hand(hand_paths[0])"
   ]
  },
  {
   "cell_type": "code",
   "execution_count": 34,
   "id": "ef9b55ad-2659-4df6-9af2-6a77fba93ec7",
   "metadata": {},
   "outputs": [
    {
     "data": {
      "text/plain": [
       "{'driver': 'GTiff', 'dtype': 'float32', 'nodata': -3.4028234663852886e+38, 'width': 1072, 'height': 1067, 'count': 1, 'crs': CRS.from_wkt('PROJCS[\"Lambert_Conformal_Conic\",GEOGCS[\"Unknown datum based upon the Authalic Sphere\",DATUM[\"Not_specified_based_on_Authalic_Sphere\",SPHEROID[\"Sphere\",6370000,0,AUTHORITY[\"EPSG\",\"7035\"]],AUTHORITY[\"EPSG\",\"6035\"]],PRIMEM[\"Greenwich\",0],UNIT[\"degree\",0.0174532925199433,AUTHORITY[\"EPSG\",\"9122\"]]],PROJECTION[\"Lambert_Conformal_Conic_2SP\"],PARAMETER[\"latitude_of_origin\",40],PARAMETER[\"central_meridian\",-97],PARAMETER[\"standard_parallel_1\",30],PARAMETER[\"standard_parallel_2\",60],PARAMETER[\"false_easting\",0],PARAMETER[\"false_northing\",0],UNIT[\"metre\",1,AUTHORITY[\"EPSG\",\"9001\"]],AXIS[\"Easting\",EAST],AXIS[\"Northing\",NORTH]]'), 'transform': Affine(250.0, 0.0, 718603.3135442643,\n",
       "       0.0, -250.0, -245250.9735104042), 'blockxsize': 512, 'blockysize': 128, 'tiled': True, 'interleave': 'band'}"
      ]
     },
     "execution_count": 34,
     "metadata": {},
     "output_type": "execute_result"
    }
   ],
   "source": [
    "p = \"/data/static/hand/250m_average/060400hand.tif\"\n",
    "\n",
    "with rio.open(p, \"r\") as src:\n",
    "    arr = src.read(1)\n",
    "    profile = src.profile\n",
    "\n",
    "profile"
   ]
  },
  {
   "cell_type": "code",
   "execution_count": 37,
   "id": "91d87dc7-0785-4552-8dc6-02de596e2c91",
   "metadata": {},
   "outputs": [
    {
     "data": {
      "text/plain": [
       "<matplotlib.image.AxesImage at 0x7ff830817c70>"
      ]
     },
     "execution_count": 37,
     "metadata": {},
     "output_type": "execute_result"
    },
    {
     "data": {
      "image/png": "[encoded data removed]",
      "text/plain": [
       "<Figure size 432x288 with 1 Axes>"
      ]
     },
     "metadata": {
      "needs_background": "light"
     },
     "output_type": "display_data"
    }
   ],
   "source": [
    "import matplotlib.pyplot as plt\n",
    "plt.imshow(np.ma.masked_less(arr, 0))"
   ]
  },
  {
   "cell_type": "code",
   "execution_count": 44,
   "id": "f078d6f8-9c07-49b6-a008-9af214ce7252",
   "metadata": {},
   "outputs": [],
   "source": [
    "# do em all\n",
    "with ProcessPoolExecutor(20) as e:\n",
    "    result = e.map(resample_one_hand, hand_paths)"
   ]
  },
  {
   "cell_type": "markdown",
   "id": "8190db85-6647-4262-927d-e834904009c7",
   "metadata": {},
   "source": [
    "## Mosaic 250m files"
   ]
  },
  {
   "cell_type": "code",
   "execution_count": 45,
   "id": "be34796e-942f-4668-b315-a821442329e3",
   "metadata": {},
   "outputs": [],
   "source": [
    "hand_paths_250m = list(Path('/data/static/hand/250m_average/').glob('*hand.tif'))"
   ]
  },
  {
   "cell_type": "code",
   "execution_count": 48,
   "id": "3dcbda89-ad89-4638-879e-603e17d4e9cf",
   "metadata": {},
   "outputs": [],
   "source": [
    "mosaic, out_tx = merge(hand_paths_250m)"
   ]
  },
  {
   "cell_type": "code",
   "execution_count": 49,
   "id": "bfdae118-afe1-4874-91e8-ab479b7bd71c",
   "metadata": {},
   "outputs": [],
   "source": [
    "profile = rio.open(hand_paths_250m[0]).profile\n",
    "\n",
    "profile['transform'] = out_tx\n",
    "profile['height'] = mosaic[0].shape[0]\n",
    "profile['width'] = mosaic[0].shape[1]"
   ]
  },
  {
   "cell_type": "code",
   "execution_count": 50,
   "id": "b0c3e36e-4354-412c-9faa-77f508c50665",
   "metadata": {},
   "outputs": [
    {
     "data": {
      "text/plain": [
       "{'driver': 'GTiff', 'dtype': 'float32', 'nodata': -3.4028234663852886e+38, 'width': 18572, 'height': 11990, 'count': 1, 'crs': CRS.from_wkt('PROJCS[\"Lambert_Conformal_Conic\",GEOGCS[\"Unknown datum based upon the Authalic Sphere\",DATUM[\"Not_specified_based_on_Authalic_Sphere\",SPHEROID[\"Sphere\",6370000,0,AUTHORITY[\"EPSG\",\"7035\"]],AUTHORITY[\"EPSG\",\"6035\"]],PRIMEM[\"Greenwich\",0],UNIT[\"degree\",0.0174532925199433,AUTHORITY[\"EPSG\",\"9122\"]]],PROJECTION[\"Lambert_Conformal_Conic_2SP\"],PARAMETER[\"latitude_of_origin\",40],PARAMETER[\"central_meridian\",-97],PARAMETER[\"standard_parallel_1\",30],PARAMETER[\"standard_parallel_2\",60],PARAMETER[\"false_easting\",0],PARAMETER[\"false_northing\",0],UNIT[\"metre\",1,AUTHORITY[\"EPSG\",\"9001\"]],AXIS[\"Easting\",EAST],AXIS[\"Northing\",NORTH]]'), 'transform': Affine(250.0, 0.0, -2294366.221425583,\n",
       "       0.0, -250.0, 1391078.1769092027), 'blockxsize': 512, 'blockysize': 128, 'tiled': True, 'interleave': 'band'}"
      ]
     },
     "execution_count": 50,
     "metadata": {},
     "output_type": "execute_result"
    }
   ],
   "source": [
    "profile"
   ]
  },
  {
   "cell_type": "code",
   "execution_count": 51,
   "id": "f1ecaa33-2e6d-4890-9299-13b8f0cf8410",
   "metadata": {},
   "outputs": [],
   "source": [
    "with rio.open('/data/static/hand/mosaic_250m_avg.tif', 'w', **profile) as dst:\n",
    "    dst.write(mosaic)"
   ]
  },
  {
   "cell_type": "markdown",
   "id": "d5d9d55d-bb45-4848-ad39-bcb1b23954f0",
   "metadata": {},
   "source": [
    "Ended up with some NaN holes in the mosaic, but it's mostly good. Might have to come back and fix those later."
   ]
  },
  {
   "cell_type": "markdown",
   "id": "db969499-915f-42cf-ae88-952a1b488527",
   "metadata": {},
   "source": [
    "## Create a lat/lon version\n",
    "Useful for testing and evaluating some stream gauge rasterization"
   ]
  },
  {
   "cell_type": "code",
   "execution_count": 53,
   "id": "e0de110d-841e-40ab-bafb-b86dffaa6493",
   "metadata": {},
   "outputs": [],
   "source": [
    "dst_crs = \"EPSG:4269\""
   ]
  },
  {
   "cell_type": "code",
   "execution_count": 59,
   "id": "50540f4c-2503-47a5-8cbd-82080713d2a0",
   "metadata": {},
   "outputs": [],
   "source": [
    "with rio.open('/data/static/hand/mosaic_250m_avg.tif', 'r') as src:\n",
    "    transform, width, height = calculate_default_transform(\n",
    "        src.crs, \n",
    "        dst_crs,\n",
    "        src.width,\n",
    "        src.height,\n",
    "        *src.bounds\n",
    "    )\n",
    "    kwargs = src.meta.copy()\n",
    "    kwargs.update({\n",
    "        \"crs\": dst_crs,\n",
    "        \"transform\": transform,\n",
    "        \"width\": width,\n",
    "        \"height\": height,\n",
    "        \"compress\": \"deflate\"\n",
    "    })\n",
    "\n",
    "    with rio.open('/data/static/hand/mosaic_250m_avg_EPSG4269.tif', 'w', **kwargs) as dst:\n",
    "        for i in range(1, src.count + 1):\n",
    "            reproject(\n",
    "                source=rio.band(src, i),\n",
    "                destination=rio.band(dst, i),\n",
    "                src_transform=src.transform,\n",
    "                src_crs=src.crs,\n",
    "                dst_transform=transform,\n",
    "                dst_crs=dst_crs,\n",
    "                resampling=Resampling.bilinear)"
   ]
  },
  {
   "cell_type": "code",
   "execution_count": null,
   "id": "cfb2378c-210d-496c-8d78-4173a199a727",
   "metadata": {},
   "outputs": [],
   "source": []
  }
 ],
 "metadata": {
  "kernelspec": {
   "display_name": "Python 3 (ipykernel)",
   "language": "python",
   "name": "python3"
  },
  "language_info": {
   "codemirror_mode": {
    "name": "ipython",
    "version": 3
   },
   "file_extension": ".py",
   "mimetype": "text/x-python",
   "name": "python",
   "nbconvert_exporter": "python",
   "pygments_lexer": "ipython3",
   "version": "3.8.16"
  }
 },
 "nbformat": 4,
 "nbformat_minor": 5
}
